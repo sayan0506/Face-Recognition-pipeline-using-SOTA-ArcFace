{
  "nbformat": 4,
  "nbformat_minor": 0,
  "metadata": {
    "colab": {
      "name": "Docker-run-hello-world-nocpuset.ipynb",
      "provenance": [],
      "collapsed_sections": [],
      "include_colab_link": true
    },
    "kernelspec": {
      "name": "python3",
      "display_name": "Python 3"
    }
  },
  "cells": [
    {
      "cell_type": "markdown",
      "metadata": {
        "id": "view-in-github",
        "colab_type": "text"
      },
      "source": [
        "<a href=\"https://colab.research.google.com/github/sayan0506/Face-Recognition-pipeline-using-SOTA-ArcFace/blob/main/Docker_run_hello_world_nocpuset.ipynb\" target=\"_parent\"><img src=\"https://colab.research.google.com/assets/colab-badge.svg\" alt=\"Open In Colab\"/></a>"
      ]
    },
    {
      "cell_type": "code",
      "metadata": {
        "id": "ZfTLGAKKR9nc",
        "outputId": "a86035ad-856b-46cc-c086-828157ac31a7",
        "colab": {
          "base_uri": "https://localhost:8080/"
        }
      },
      "source": [
        "!apt-get update"
      ],
      "execution_count": 6,
      "outputs": [
        {
          "output_type": "stream",
          "text": [
            "\r0% [Working]\r            \rGet:1 https://cloud.r-project.org/bin/linux/ubuntu bionic-cran40/ InRelease [3,626 B]\n",
            "\r0% [Connecting to archive.ubuntu.com (91.189.88.142)] [Waiting for headers] [1 \r0% [Connecting to archive.ubuntu.com (91.189.88.142)] [Waiting for headers] [Co\r0% [1 InRelease gpgv 3,626 B] [Connecting to archive.ubuntu.com (91.189.88.142)\r                                                                               \rIgn:2 https://developer.download.nvidia.com/compute/cuda/repos/ubuntu1804/x86_64  InRelease\n",
            "\r0% [1 InRelease gpgv 3,626 B] [Connecting to archive.ubuntu.com (91.189.88.142)\r                                                                               \rGet:3 http://security.ubuntu.com/ubuntu bionic-security InRelease [88.7 kB]\n",
            "\r0% [1 InRelease gpgv 3,626 B] [Connecting to archive.ubuntu.com (91.189.88.142)\r                                                                               \rIgn:4 https://developer.download.nvidia.com/compute/machine-learning/repos/ubuntu1804/x86_64  InRelease\n",
            "\r0% [1 InRelease gpgv 3,626 B] [Connecting to archive.ubuntu.com (91.189.88.142)\r                                                                               \rGet:5 https://developer.download.nvidia.com/compute/cuda/repos/ubuntu1804/x86_64  Release [697 B]\n",
            "\r0% [1 InRelease gpgv 3,626 B] [Connecting to archive.ubuntu.com (91.189.88.142)\r0% [1 InRelease gpgv 3,626 B] [Connecting to archive.ubuntu.com (91.189.88.142)\r                                                                               \rHit:6 https://developer.download.nvidia.com/compute/machine-learning/repos/ubuntu1804/x86_64  Release\n",
            "\r0% [1 InRelease gpgv 3,626 B] [Connecting to archive.ubuntu.com (91.189.88.142)\r                                                                               \rGet:7 https://developer.download.nvidia.com/compute/cuda/repos/ubuntu1804/x86_64  Release.gpg [836 B]\n",
            "Get:8 http://ppa.launchpad.net/c2d4u.team/c2d4u4.0+/ubuntu bionic InRelease [15.9 kB]\n",
            "Hit:9 http://archive.ubuntu.com/ubuntu bionic InRelease\n",
            "Get:10 https://cloud.r-project.org/bin/linux/ubuntu bionic-cran40/ Packages [60.9 kB]\n",
            "Get:11 http://archive.ubuntu.com/ubuntu bionic-updates InRelease [88.7 kB]\n",
            "Hit:13 http://ppa.launchpad.net/cran/libgit2/ubuntu bionic InRelease\n",
            "Ign:14 https://developer.download.nvidia.com/compute/cuda/repos/ubuntu1804/x86_64  Packages\n",
            "Get:14 https://developer.download.nvidia.com/compute/cuda/repos/ubuntu1804/x86_64  Packages [798 kB]\n",
            "Hit:15 http://ppa.launchpad.net/deadsnakes/ppa/ubuntu bionic InRelease\n",
            "Get:16 http://archive.ubuntu.com/ubuntu bionic-backports InRelease [74.6 kB]\n",
            "Get:17 http://security.ubuntu.com/ubuntu bionic-security/main amd64 Packages [2,152 kB]\n",
            "Get:18 http://ppa.launchpad.net/graphics-drivers/ppa/ubuntu bionic InRelease [21.3 kB]\n",
            "Get:19 http://security.ubuntu.com/ubuntu bionic-security/universe amd64 Packages [1,413 kB]\n",
            "Get:20 http://security.ubuntu.com/ubuntu bionic-security/restricted amd64 Packages [423 kB]\n",
            "Get:21 http://ppa.launchpad.net/c2d4u.team/c2d4u4.0+/ubuntu bionic/main Sources [1,770 kB]\n",
            "Get:22 http://archive.ubuntu.com/ubuntu bionic-updates/restricted amd64 Packages [452 kB]\n",
            "Get:23 http://archive.ubuntu.com/ubuntu bionic-updates/universe amd64 Packages [2,184 kB]\n",
            "Get:24 http://archive.ubuntu.com/ubuntu bionic-updates/main amd64 Packages [2,584 kB]\n",
            "Get:25 http://ppa.launchpad.net/c2d4u.team/c2d4u4.0+/ubuntu bionic/main amd64 Packages [906 kB]\n",
            "Get:26 http://ppa.launchpad.net/graphics-drivers/ppa/ubuntu bionic/main amd64 Packages [41.5 kB]\n",
            "Fetched 13.1 MB in 4s (3,013 kB/s)\n",
            "Reading package lists... Done\n"
          ],
          "name": "stdout"
        }
      ]
    },
    {
      "cell_type": "code",
      "metadata": {
        "id": "UF0v_C5-TxKu",
        "colab": {
          "base_uri": "https://localhost:8080/"
        },
        "outputId": "1be97dbc-3ae6-4c41-f959-443fb52401e8"
      },
      "source": [
        "# Install Docker.\n",
        "!apt-get -qq install docker.io"
      ],
      "execution_count": 7,
      "outputs": [
        {
          "output_type": "stream",
          "text": [
            "Preconfiguring packages ...\n",
            "Selecting previously unselected package libnfnetlink0:amd64.\n",
            "(Reading database ... 160706 files and directories currently installed.)\n",
            "Preparing to unpack .../00-libnfnetlink0_1.0.1-3_amd64.deb ...\n",
            "Unpacking libnfnetlink0:amd64 (1.0.1-3) ...\n",
            "Selecting previously unselected package pigz.\n",
            "Preparing to unpack .../01-pigz_2.4-1_amd64.deb ...\n",
            "Unpacking pigz (2.4-1) ...\n",
            "Selecting previously unselected package libmnl0:amd64.\n",
            "Preparing to unpack .../02-libmnl0_1.0.4-2_amd64.deb ...\n",
            "Unpacking libmnl0:amd64 (1.0.4-2) ...\n",
            "Selecting previously unselected package iproute2.\n",
            "Preparing to unpack .../03-iproute2_4.15.0-2ubuntu1.3_amd64.deb ...\n",
            "Unpacking iproute2 (4.15.0-2ubuntu1.3) ...\n",
            "Selecting previously unselected package libatm1:amd64.\n",
            "Preparing to unpack .../04-libatm1_1%3a2.5.1-2build1_amd64.deb ...\n",
            "Unpacking libatm1:amd64 (1:2.5.1-2build1) ...\n",
            "Selecting previously unselected package libxtables12:amd64.\n",
            "Preparing to unpack .../05-libxtables12_1.6.1-2ubuntu2_amd64.deb ...\n",
            "Unpacking libxtables12:amd64 (1.6.1-2ubuntu2) ...\n",
            "Selecting previously unselected package apparmor.\n",
            "Preparing to unpack .../06-apparmor_2.12-4ubuntu5.1_amd64.deb ...\n",
            "Unpacking apparmor (2.12-4ubuntu5.1) ...\n",
            "Selecting previously unselected package libip6tc0:amd64.\n",
            "Preparing to unpack .../07-libip6tc0_1.6.1-2ubuntu2_amd64.deb ...\n",
            "Unpacking libip6tc0:amd64 (1.6.1-2ubuntu2) ...\n",
            "Selecting previously unselected package libiptc0:amd64.\n",
            "Preparing to unpack .../08-libiptc0_1.6.1-2ubuntu2_amd64.deb ...\n",
            "Unpacking libiptc0:amd64 (1.6.1-2ubuntu2) ...\n",
            "Selecting previously unselected package libnetfilter-conntrack3:amd64.\n",
            "Preparing to unpack .../09-libnetfilter-conntrack3_1.0.6-2_amd64.deb ...\n",
            "Unpacking libnetfilter-conntrack3:amd64 (1.0.6-2) ...\n",
            "Selecting previously unselected package iptables.\n",
            "Preparing to unpack .../10-iptables_1.6.1-2ubuntu2_amd64.deb ...\n",
            "Unpacking iptables (1.6.1-2ubuntu2) ...\n",
            "Selecting previously unselected package bridge-utils.\n",
            "Preparing to unpack .../11-bridge-utils_1.5-15ubuntu1_amd64.deb ...\n",
            "Unpacking bridge-utils (1.5-15ubuntu1) ...\n",
            "Selecting previously unselected package runc.\n",
            "Preparing to unpack .../12-runc_1.0.0~rc93-0ubuntu1~18.04.2_amd64.deb ...\n",
            "Unpacking runc (1.0.0~rc93-0ubuntu1~18.04.2) ...\n",
            "Selecting previously unselected package containerd.\n",
            "Preparing to unpack .../13-containerd_1.3.3-0ubuntu1~18.04.4_amd64.deb ...\n",
            "Unpacking containerd (1.3.3-0ubuntu1~18.04.4) ...\n",
            "Selecting previously unselected package dns-root-data.\n",
            "Preparing to unpack .../14-dns-root-data_2018013001_all.deb ...\n",
            "Unpacking dns-root-data (2018013001) ...\n",
            "Selecting previously unselected package dnsmasq-base.\n",
            "Preparing to unpack .../15-dnsmasq-base_2.79-1ubuntu0.3_amd64.deb ...\n",
            "Unpacking dnsmasq-base (2.79-1ubuntu0.3) ...\n",
            "Selecting previously unselected package docker.io.\n",
            "Preparing to unpack .../16-docker.io_20.10.2-0ubuntu1~18.04.2_amd64.deb ...\n",
            "Unpacking docker.io (20.10.2-0ubuntu1~18.04.2) ...\n",
            "Selecting previously unselected package netcat-traditional.\n",
            "Preparing to unpack .../17-netcat-traditional_1.10-41.1_amd64.deb ...\n",
            "Unpacking netcat-traditional (1.10-41.1) ...\n",
            "Selecting previously unselected package netcat.\n",
            "Preparing to unpack .../18-netcat_1.10-41.1_all.deb ...\n",
            "Unpacking netcat (1.10-41.1) ...\n",
            "Selecting previously unselected package ubuntu-fan.\n",
            "Preparing to unpack .../19-ubuntu-fan_0.12.10_all.deb ...\n",
            "Unpacking ubuntu-fan (0.12.10) ...\n",
            "Setting up runc (1.0.0~rc93-0ubuntu1~18.04.2) ...\n",
            "Setting up dns-root-data (2018013001) ...\n",
            "Setting up netcat-traditional (1.10-41.1) ...\n",
            "update-alternatives: using /bin/nc.traditional to provide /bin/nc (nc) in auto mode\n",
            "Setting up libiptc0:amd64 (1.6.1-2ubuntu2) ...\n",
            "Setting up apparmor (2.12-4ubuntu5.1) ...\n",
            "Created symlink /etc/systemd/system/sysinit.target.wants/apparmor.service → /lib/systemd/system/apparmor.service.\n",
            "Setting up containerd (1.3.3-0ubuntu1~18.04.4) ...\n",
            "Created symlink /etc/systemd/system/multi-user.target.wants/containerd.service → /lib/systemd/system/containerd.service.\n",
            "Setting up bridge-utils (1.5-15ubuntu1) ...\n",
            "Setting up libatm1:amd64 (1:2.5.1-2build1) ...\n",
            "Setting up libxtables12:amd64 (1.6.1-2ubuntu2) ...\n",
            "Setting up netcat (1.10-41.1) ...\n",
            "Setting up libnfnetlink0:amd64 (1.0.1-3) ...\n",
            "Setting up libmnl0:amd64 (1.0.4-2) ...\n",
            "Setting up pigz (2.4-1) ...\n",
            "Setting up libip6tc0:amd64 (1.6.1-2ubuntu2) ...\n",
            "Setting up libnetfilter-conntrack3:amd64 (1.0.6-2) ...\n",
            "Setting up iproute2 (4.15.0-2ubuntu1.3) ...\n",
            "Setting up iptables (1.6.1-2ubuntu2) ...\n",
            "Setting up dnsmasq-base (2.79-1ubuntu0.3) ...\n",
            "Setting up docker.io (20.10.2-0ubuntu1~18.04.2) ...\n",
            "Adding group `docker' (GID 109) ...\n",
            "Done.\n",
            "Created symlink /etc/systemd/system/multi-user.target.wants/docker.service → /lib/systemd/system/docker.service.\n",
            "Created symlink /etc/systemd/system/sockets.target.wants/docker.socket → /lib/systemd/system/docker.socket.\n",
            "invoke-rc.d: unknown initscript, /etc/init.d/docker not found.\n",
            "invoke-rc.d: could not determine current runlevel\n",
            "Setting up ubuntu-fan (0.12.10) ...\n",
            "Created symlink /etc/systemd/system/multi-user.target.wants/ubuntu-fan.service → /lib/systemd/system/ubuntu-fan.service.\n",
            "invoke-rc.d: could not determine current runlevel\n",
            "invoke-rc.d: policy-rc.d denied execution of start.\n",
            "Processing triggers for man-db (2.8.3-2ubuntu0.1) ...\n",
            "Processing triggers for dbus (1.12.2-1ubuntu1.2) ...\n",
            "Processing triggers for libc-bin (2.27-3ubuntu1.2) ...\n",
            "/sbin/ldconfig.real: /usr/local/lib/python3.7/dist-packages/ideep4py/lib/libmkldnn.so.0 is not a symbolic link\n",
            "\n",
            "Processing triggers for systemd (237-3ubuntu10.47) ...\n"
          ],
          "name": "stdout"
        }
      ]
    },
    {
      "cell_type": "code",
      "metadata": {
        "id": "k0lFhZ3XUOfE",
        "colab": {
          "base_uri": "https://localhost:8080/"
        },
        "outputId": "b0a60239-0931-4876-e84f-8cc59b0980e3"
      },
      "source": [
        "# Check version.\n",
        "!docker --version"
      ],
      "execution_count": 8,
      "outputs": [
        {
          "output_type": "stream",
          "text": [
            "Docker version 20.10.2, build 20.10.2-0ubuntu1~18.04.2\n"
          ],
          "name": "stdout"
        }
      ]
    },
    {
      "cell_type": "code",
      "metadata": {
        "id": "jpQMYsy8dZz6",
        "colab": {
          "base_uri": "https://localhost:8080/"
        },
        "outputId": "23a1ce41-7464-4eb5-88e6-272271e86d61"
      },
      "source": [
        "# Disables cpuset to avoid error.\n",
        "!umount -vl /sys/fs/cgroup/cpuset"
      ],
      "execution_count": 3,
      "outputs": [
        {
          "output_type": "stream",
          "text": [
            "umount: /sys/fs/cgroup/cpuset (cgroup) unmounted\n"
          ],
          "name": "stdout"
        }
      ]
    },
    {
      "cell_type": "code",
      "metadata": {
        "id": "IbsNh434HeJE",
        "colab": {
          "base_uri": "https://localhost:8080/",
          "height": 408
        },
        "outputId": "306e3e25-1c75-415e-ab84-b61ecd85b2e3"
      },
      "source": [
        "%%shell\n",
        "mount -vt sysfs sysfs /sys -o rw,remount\n",
        "mount -vt tmpfs tmpfs /sys/fs/cgroup -o rw,remount\n",
        "mount -vt cgroup cgroup /sys/fs/cgroup/cpuset -o rw,remount,cpuset"
      ],
      "execution_count": 9,
      "outputs": [
        {
          "output_type": "stream",
          "text": [
            "mount: sysfs mounted on /sys.\n",
            "mount: tmpfs mounted on /sys/fs/cgroup.\n",
            "mount: /sys/fs/cgroup/cpuset: mount point not mounted or bad option.\n"
          ],
          "name": "stdout"
        },
        {
          "output_type": "error",
          "ename": "CalledProcessError",
          "evalue": "ignored",
          "traceback": [
            "\u001b[0;31m---------------------------------------------------------------------------\u001b[0m",
            "\u001b[0;31mCalledProcessError\u001b[0m                        Traceback (most recent call last)",
            "\u001b[0;32m<ipython-input-9-3d587e768f50>\u001b[0m in \u001b[0;36m<module>\u001b[0;34m()\u001b[0m\n\u001b[0;32m----> 1\u001b[0;31m \u001b[0mget_ipython\u001b[0m\u001b[0;34m(\u001b[0m\u001b[0;34m)\u001b[0m\u001b[0;34m.\u001b[0m\u001b[0mrun_cell_magic\u001b[0m\u001b[0;34m(\u001b[0m\u001b[0;34m'shell'\u001b[0m\u001b[0;34m,\u001b[0m \u001b[0;34m''\u001b[0m\u001b[0;34m,\u001b[0m \u001b[0;34m'mount -vt sysfs sysfs /sys -o rw,remount\\nmount -vt tmpfs tmpfs /sys/fs/cgroup -o rw,remount\\nmount -vt cgroup cgroup /sys/fs/cgroup/cpuset -o rw,remount,cpuset'\u001b[0m\u001b[0;34m)\u001b[0m\u001b[0;34m\u001b[0m\u001b[0;34m\u001b[0m\u001b[0m\n\u001b[0m",
            "\u001b[0;32m/usr/local/lib/python3.7/dist-packages/IPython/core/interactiveshell.py\u001b[0m in \u001b[0;36mrun_cell_magic\u001b[0;34m(self, magic_name, line, cell)\u001b[0m\n\u001b[1;32m   2115\u001b[0m             \u001b[0mmagic_arg_s\u001b[0m \u001b[0;34m=\u001b[0m \u001b[0mself\u001b[0m\u001b[0;34m.\u001b[0m\u001b[0mvar_expand\u001b[0m\u001b[0;34m(\u001b[0m\u001b[0mline\u001b[0m\u001b[0;34m,\u001b[0m \u001b[0mstack_depth\u001b[0m\u001b[0;34m)\u001b[0m\u001b[0;34m\u001b[0m\u001b[0;34m\u001b[0m\u001b[0m\n\u001b[1;32m   2116\u001b[0m             \u001b[0;32mwith\u001b[0m \u001b[0mself\u001b[0m\u001b[0;34m.\u001b[0m\u001b[0mbuiltin_trap\u001b[0m\u001b[0;34m:\u001b[0m\u001b[0;34m\u001b[0m\u001b[0;34m\u001b[0m\u001b[0m\n\u001b[0;32m-> 2117\u001b[0;31m                 \u001b[0mresult\u001b[0m \u001b[0;34m=\u001b[0m \u001b[0mfn\u001b[0m\u001b[0;34m(\u001b[0m\u001b[0mmagic_arg_s\u001b[0m\u001b[0;34m,\u001b[0m \u001b[0mcell\u001b[0m\u001b[0;34m)\u001b[0m\u001b[0;34m\u001b[0m\u001b[0;34m\u001b[0m\u001b[0m\n\u001b[0m\u001b[1;32m   2118\u001b[0m             \u001b[0;32mreturn\u001b[0m \u001b[0mresult\u001b[0m\u001b[0;34m\u001b[0m\u001b[0;34m\u001b[0m\u001b[0m\n\u001b[1;32m   2119\u001b[0m \u001b[0;34m\u001b[0m\u001b[0m\n",
            "\u001b[0;32m/usr/local/lib/python3.7/dist-packages/google/colab/_system_commands.py\u001b[0m in \u001b[0;36m_shell_cell_magic\u001b[0;34m(args, cmd)\u001b[0m\n\u001b[1;32m    111\u001b[0m   \u001b[0mresult\u001b[0m \u001b[0;34m=\u001b[0m \u001b[0m_run_command\u001b[0m\u001b[0;34m(\u001b[0m\u001b[0mcmd\u001b[0m\u001b[0;34m,\u001b[0m \u001b[0mclear_streamed_output\u001b[0m\u001b[0;34m=\u001b[0m\u001b[0;32mFalse\u001b[0m\u001b[0;34m)\u001b[0m\u001b[0;34m\u001b[0m\u001b[0;34m\u001b[0m\u001b[0m\n\u001b[1;32m    112\u001b[0m   \u001b[0;32mif\u001b[0m \u001b[0;32mnot\u001b[0m \u001b[0mparsed_args\u001b[0m\u001b[0;34m.\u001b[0m\u001b[0mignore_errors\u001b[0m\u001b[0;34m:\u001b[0m\u001b[0;34m\u001b[0m\u001b[0;34m\u001b[0m\u001b[0m\n\u001b[0;32m--> 113\u001b[0;31m     \u001b[0mresult\u001b[0m\u001b[0;34m.\u001b[0m\u001b[0mcheck_returncode\u001b[0m\u001b[0;34m(\u001b[0m\u001b[0;34m)\u001b[0m\u001b[0;34m\u001b[0m\u001b[0;34m\u001b[0m\u001b[0m\n\u001b[0m\u001b[1;32m    114\u001b[0m   \u001b[0;32mreturn\u001b[0m \u001b[0mresult\u001b[0m\u001b[0;34m\u001b[0m\u001b[0;34m\u001b[0m\u001b[0m\n\u001b[1;32m    115\u001b[0m \u001b[0;34m\u001b[0m\u001b[0m\n",
            "\u001b[0;32m/usr/local/lib/python3.7/dist-packages/google/colab/_system_commands.py\u001b[0m in \u001b[0;36mcheck_returncode\u001b[0;34m(self)\u001b[0m\n\u001b[1;32m    137\u001b[0m     \u001b[0;32mif\u001b[0m \u001b[0mself\u001b[0m\u001b[0;34m.\u001b[0m\u001b[0mreturncode\u001b[0m\u001b[0;34m:\u001b[0m\u001b[0;34m\u001b[0m\u001b[0;34m\u001b[0m\u001b[0m\n\u001b[1;32m    138\u001b[0m       raise subprocess.CalledProcessError(\n\u001b[0;32m--> 139\u001b[0;31m           returncode=self.returncode, cmd=self.args, output=self.output)\n\u001b[0m\u001b[1;32m    140\u001b[0m \u001b[0;34m\u001b[0m\u001b[0m\n\u001b[1;32m    141\u001b[0m   \u001b[0;32mdef\u001b[0m \u001b[0m_repr_pretty_\u001b[0m\u001b[0;34m(\u001b[0m\u001b[0mself\u001b[0m\u001b[0;34m,\u001b[0m \u001b[0mp\u001b[0m\u001b[0;34m,\u001b[0m \u001b[0mcycle\u001b[0m\u001b[0;34m)\u001b[0m\u001b[0;34m:\u001b[0m  \u001b[0;31m# pylint:disable=unused-argument\u001b[0m\u001b[0;34m\u001b[0m\u001b[0;34m\u001b[0m\u001b[0m\n",
            "\u001b[0;31mCalledProcessError\u001b[0m: Command 'mount -vt sysfs sysfs /sys -o rw,remount\nmount -vt tmpfs tmpfs /sys/fs/cgroup -o rw,remount\nmount -vt cgroup cgroup /sys/fs/cgroup/cpuset -o rw,remount,cpuset' returned non-zero exit status 32."
          ]
        }
      ]
    },
    {
      "cell_type": "code",
      "metadata": {
        "id": "Y2uBoT8zWM1l",
        "colab": {
          "base_uri": "https://localhost:8080/"
        },
        "outputId": "fcf1074f-11ce-4553-b244-b1f3c54aaee7"
      },
      "source": [
        "%%shell\n",
        "set -x\n",
        "dockerd -b none --iptables=0 -l warn &\n",
        "for i in $(seq 5); do [ ! -S \"/var/run/docker.sock\" ] && sleep 2 || break; done\n",
        "docker info\n",
        "docker network ls\n",
        "docker pull hello-world\n",
        "docker images\n",
        "docker run hello-world\n",
        "kill $(jobs -p)"
      ],
      "execution_count": 10,
      "outputs": [
        {
          "output_type": "stream",
          "text": [
            "++ seq 5\n",
            "+ dockerd -b none --iptables=0 -l warn\n",
            "+ for i in $(seq 5)\n",
            "+ '[' '!' -S /var/run/docker.sock ']'\n",
            "+ sleep 2\n",
            "\u001b[33mWARN\u001b[0m[2021-05-30T21:58:04.437893206Z] failed to load plugin io.containerd.snapshotter.v1.devmapper  \u001b[33merror\u001b[0m=\"devmapper not configured\"\n",
            "\u001b[33mWARN\u001b[0m[2021-05-30T21:58:04.451012047Z] could not use snapshotter devmapper in metadata plugin  \u001b[33merror\u001b[0m=\"devmapper not configured\"\n",
            "\u001b[31mERRO\u001b[0m[2021-05-30T21:58:04.501694731Z] failed to mount overlay: invalid argument     \u001b[31mstorage-driver\u001b[0m=overlay2\n",
            "\u001b[31mERRO\u001b[0m[2021-05-30T21:58:04.502147969Z] exec: \"fuse-overlayfs\": executable file not found in $PATH  \u001b[31mstorage-driver\u001b[0m=fuse-overlayfs\n",
            "\u001b[31mERRO\u001b[0m[2021-05-30T21:58:04.505859695Z] AUFS was not found in /proc/filesystems       \u001b[31mstorage-driver\u001b[0m=aufs\n",
            "\u001b[31mERRO\u001b[0m[2021-05-30T21:58:04.519449121Z] failed to mount overlay: invalid argument     \u001b[31mstorage-driver\u001b[0m=overlay\n",
            "\u001b[33mWARN\u001b[0m[2021-05-30T21:58:04.561141294Z] Your kernel does not support cgroup blkio weight \n",
            "\u001b[33mWARN\u001b[0m[2021-05-30T21:58:04.561174971Z] Your kernel does not support cgroup blkio weight_device \n",
            "\u001b[33mWARN\u001b[0m[2021-05-30T21:58:04.561182755Z] Unable to find cpuset cgroup in mounts       \n",
            "+ for i in $(seq 5)\n",
            "+ '[' '!' -S /var/run/docker.sock ']'\n",
            "+ break\n",
            "+ docker info\n",
            "Client:\n",
            " Context:    default\n",
            " Debug Mode: false\n",
            "\n",
            "Server:\n",
            " Containers: 0\n",
            "  Running: 0\n",
            "  Paused: 0\n",
            "  Stopped: 0\n",
            " Images: 0\n",
            " Server Version: 20.10.2\n",
            " Storage Driver: vfs\n",
            " Logging Driver: json-file\n",
            " Cgroup Driver: cgroupfs\n",
            " Cgroup Version: 1\n",
            " Plugins:\n",
            "  Volume: local\n",
            "  Network: bridge host ipvlan macvlan null overlay\n",
            "  Log: awslogs fluentd gcplogs gelf journald json-file local logentries splunk syslog\n",
            " Swarm: inactive\n",
            " Runtimes: io.containerd.runc.v2 io.containerd.runtime.v1.linux runc\n",
            " Default Runtime: runc\n",
            " Init Binary: docker-init\n",
            " containerd version: \n",
            " runc version: \n",
            " init version: \n",
            " Security Options:\n",
            "  seccomp\n",
            "   Profile: default\n",
            " Kernel Version: 5.4.109+\n",
            " Operating System: Ubuntu 18.04.5 LTS (containerized)\n",
            " OSType: linux\n",
            " Architecture: x86_64\n",
            " CPUs: 2\n",
            " Total Memory: 12.69GiB\n",
            " Name: 85711ef44c34\n",
            " ID: Q4GQ:H25I:RMRL:PGTW:YFXE:TYXZ:ZHTS:6KDV:6ZCS:VVLI:VHJ4:TUP4\n",
            " Docker Root Dir: /var/lib/docker\n",
            " Debug Mode: false\n",
            " Registry: https://index.docker.io/v1/\n",
            " Labels:\n",
            " Experimental: false\n",
            " Insecure Registries:\n",
            "  127.0.0.0/8\n",
            " Live Restore Enabled: false\n",
            "\n",
            "WARNING: No cpuset support\n",
            "WARNING: No blkio weight support\n",
            "WARNING: No blkio weight_device support\n",
            "+ docker network ls\n",
            "NETWORK ID     NAME      DRIVER    SCOPE\n",
            "4779833e7db4   host      host      local\n",
            "868dbb05fbbf   none      null      local\n",
            "+ docker pull hello-world\n",
            "Using default tag: latest\n",
            "latest: Pulling from library/hello-world\n",
            "\n",
            "\u001b[1BDigest: sha256:5122f6204b6a3596e048758cabba3c46b1c937a46b5be6225b835d091b90e46c\n",
            "Status: Downloaded newer image for hello-world:latest\n",
            "docker.io/library/hello-world:latest\n",
            "+ docker images\n",
            "REPOSITORY    TAG       IMAGE ID       CREATED        SIZE\n",
            "hello-world   latest    d1165f221234   2 months ago   13.3kB\n",
            "+ docker run hello-world\n",
            "time=\"2021-05-30T21:58:08.887035808Z\" level=info msg=\"starting signal loop\" namespace=moby path=/run/docker/containerd/daemon/io.containerd.runtime.v2.task/moby/2632eb1862f3bea9d0f7953cb841e7201d4d1125ff85b8eebabac5c27d33fb50 pid=3248\n",
            "\u001b[31mERRO\u001b[0m[2021-05-30T21:58:08.957128543Z] stream copy error: reading from a closed fifo \n",
            "\u001b[31mERRO\u001b[0m[2021-05-30T21:58:08.957226144Z] stream copy error: reading from a closed fifo \n",
            "\u001b[31mERRO\u001b[0m[2021-05-30T21:58:08.974826646Z] 2632eb1862f3bea9d0f7953cb841e7201d4d1125ff85b8eebabac5c27d33fb50 cleanup: failed to delete container from containerd: no such container \n",
            "\u001b[31mERRO\u001b[0m[2021-05-30T21:58:08.974921541Z] Handler for POST /v1.41/containers/2632eb1862f3bea9d0f7953cb841e7201d4d1125ff85b8eebabac5c27d33fb50/start returned error: OCI runtime create failed: container_linux.go:367: starting container process caused: process_linux.go:340: applying cgroup configuration for process caused: mkdir /sys/fs/cgroup/devices/docker: read-only file system: unknown \n",
            "docker: Error response from daemon: OCI runtime create failed: container_linux.go:367: starting container process caused: process_linux.go:340: applying cgroup configuration for process caused: mkdir /sys/fs/cgroup/devices/docker: read-only file system: unknown.\n",
            "\u001b[31mERRO\u001b[0m[0000] error waiting for container: context canceled \n",
            "++ jobs -p\n",
            "+ kill 3128\n"
          ],
          "name": "stdout"
        },
        {
          "output_type": "execute_result",
          "data": {
            "text/plain": [
              ""
            ]
          },
          "metadata": {
            "tags": []
          },
          "execution_count": 10
        }
      ]
    },
    {
      "cell_type": "code",
      "metadata": {
        "id": "1SEte_MNSY73",
        "outputId": "fca90f1d-e213-4b34-852a-e5400b229f0d",
        "colab": {
          "base_uri": "https://localhost:8080/"
        }
      },
      "source": [
        "!dockerd"
      ],
      "execution_count": 12,
      "outputs": [
        {
          "output_type": "stream",
          "text": [
            "\u001b[36mINFO\u001b[0m[2021-05-30T21:59:55.215790632Z] Starting up                                  \n",
            "\u001b[36mINFO\u001b[0m[2021-05-30T21:59:55.217193744Z] libcontainerd: started new containerd process  \u001b[36mpid\u001b[0m=3306\n",
            "\u001b[36mINFO\u001b[0m[2021-05-30T21:59:55.217268244Z] parsed scheme: \"unix\"                         \u001b[36mmodule\u001b[0m=grpc\n",
            "\u001b[36mINFO\u001b[0m[2021-05-30T21:59:55.217285681Z] scheme \"unix\" not registered, fallback to default scheme  \u001b[36mmodule\u001b[0m=grpc\n",
            "\u001b[36mINFO\u001b[0m[2021-05-30T21:59:55.217315721Z] ccResolverWrapper: sending update to cc: {[{unix:///var/run/docker/containerd/containerd.sock  <nil> 0 <nil>}] <nil> <nil>}  \u001b[36mmodule\u001b[0m=grpc\n",
            "\u001b[36mINFO\u001b[0m[2021-05-30T21:59:55.217332718Z] ClientConn switching balancer to \"pick_first\"  \u001b[36mmodule\u001b[0m=grpc\n",
            "\u001b[36mINFO\u001b[0m[2021-05-30T21:59:55.247023812Z] starting containerd                           \u001b[36mrevision\u001b[0m= \u001b[36mversion\u001b[0m=\"1.3.3-0ubuntu1~18.04.4\"\n",
            "\u001b[36mINFO\u001b[0m[2021-05-30T21:59:55.278569728Z] loading plugin \"io.containerd.content.v1.content\"...  \u001b[36mtype\u001b[0m=io.containerd.content.v1\n",
            "\u001b[36mINFO\u001b[0m[2021-05-30T21:59:55.278692420Z] loading plugin \"io.containerd.snapshotter.v1.btrfs\"...  \u001b[36mtype\u001b[0m=io.containerd.snapshotter.v1\n",
            "\u001b[36mINFO\u001b[0m[2021-05-30T21:59:55.279040136Z] skip loading plugin \"io.containerd.snapshotter.v1.btrfs\"...  \u001b[36merror\u001b[0m=\"path /var/lib/docker/containerd/daemon/io.containerd.snapshotter.v1.btrfs (overlay) must be a btrfs filesystem to be used with the btrfs snapshotter: skip plugin\" \u001b[36mtype\u001b[0m=io.containerd.snapshotter.v1\n",
            "\u001b[36mINFO\u001b[0m[2021-05-30T21:59:55.279095932Z] loading plugin \"io.containerd.snapshotter.v1.devmapper\"...  \u001b[36mtype\u001b[0m=io.containerd.snapshotter.v1\n",
            "\u001b[33mWARN\u001b[0m[2021-05-30T21:59:55.279124850Z] failed to load plugin io.containerd.snapshotter.v1.devmapper  \u001b[33merror\u001b[0m=\"devmapper not configured\"\n",
            "\u001b[36mINFO\u001b[0m[2021-05-30T21:59:55.279144349Z] loading plugin \"io.containerd.snapshotter.v1.aufs\"...  \u001b[36mtype\u001b[0m=io.containerd.snapshotter.v1\n",
            "\u001b[36mINFO\u001b[0m[2021-05-30T21:59:55.282234017Z] skip loading plugin \"io.containerd.snapshotter.v1.aufs\"...  \u001b[36merror\u001b[0m=\"modprobe aufs failed: \\\"modprobe: FATAL: Module aufs not found in directory /lib/modules/5.4.109+\\\\n\\\": exit status 1: skip plugin\" \u001b[36mtype\u001b[0m=io.containerd.snapshotter.v1\n",
            "\u001b[36mINFO\u001b[0m[2021-05-30T21:59:55.282281990Z] loading plugin \"io.containerd.snapshotter.v1.native\"...  \u001b[36mtype\u001b[0m=io.containerd.snapshotter.v1\n",
            "\u001b[36mINFO\u001b[0m[2021-05-30T21:59:55.282322317Z] loading plugin \"io.containerd.snapshotter.v1.overlayfs\"...  \u001b[36mtype\u001b[0m=io.containerd.snapshotter.v1\n",
            "\u001b[36mINFO\u001b[0m[2021-05-30T21:59:55.282405220Z] loading plugin \"io.containerd.snapshotter.v1.zfs\"...  \u001b[36mtype\u001b[0m=io.containerd.snapshotter.v1\n",
            "\u001b[36mINFO\u001b[0m[2021-05-30T21:59:55.282644001Z] skip loading plugin \"io.containerd.snapshotter.v1.zfs\"...  \u001b[36merror\u001b[0m=\"path /var/lib/docker/containerd/daemon/io.containerd.snapshotter.v1.zfs must be a zfs filesystem to be used with the zfs snapshotter: skip plugin\" \u001b[36mtype\u001b[0m=io.containerd.snapshotter.v1\n",
            "\u001b[36mINFO\u001b[0m[2021-05-30T21:59:55.282666811Z] loading plugin \"io.containerd.metadata.v1.bolt\"...  \u001b[36mtype\u001b[0m=io.containerd.metadata.v1\n",
            "\u001b[33mWARN\u001b[0m[2021-05-30T21:59:55.282685788Z] could not use snapshotter devmapper in metadata plugin  \u001b[33merror\u001b[0m=\"devmapper not configured\"\n",
            "\u001b[36mINFO\u001b[0m[2021-05-30T21:59:55.282697940Z] metadata content store policy set             \u001b[36mpolicy\u001b[0m=shared\n",
            "\u001b[36mINFO\u001b[0m[2021-05-30T21:59:55.282791748Z] loading plugin \"io.containerd.differ.v1.walking\"...  \u001b[36mtype\u001b[0m=io.containerd.differ.v1\n",
            "\u001b[36mINFO\u001b[0m[2021-05-30T21:59:55.282810829Z] loading plugin \"io.containerd.gc.v1.scheduler\"...  \u001b[36mtype\u001b[0m=io.containerd.gc.v1\n",
            "\u001b[36mINFO\u001b[0m[2021-05-30T21:59:55.282849360Z] loading plugin \"io.containerd.service.v1.containers-service\"...  \u001b[36mtype\u001b[0m=io.containerd.service.v1\n",
            "\u001b[36mINFO\u001b[0m[2021-05-30T21:59:55.282872711Z] loading plugin \"io.containerd.service.v1.content-service\"...  \u001b[36mtype\u001b[0m=io.containerd.service.v1\n",
            "\u001b[36mINFO\u001b[0m[2021-05-30T21:59:55.282893618Z] loading plugin \"io.containerd.service.v1.diff-service\"...  \u001b[36mtype\u001b[0m=io.containerd.service.v1\n",
            "\u001b[36mINFO\u001b[0m[2021-05-30T21:59:55.282909710Z] loading plugin \"io.containerd.service.v1.images-service\"...  \u001b[36mtype\u001b[0m=io.containerd.service.v1\n",
            "\u001b[36mINFO\u001b[0m[2021-05-30T21:59:55.282924516Z] loading plugin \"io.containerd.service.v1.leases-service\"...  \u001b[36mtype\u001b[0m=io.containerd.service.v1\n",
            "\u001b[36mINFO\u001b[0m[2021-05-30T21:59:55.282949339Z] loading plugin \"io.containerd.service.v1.namespaces-service\"...  \u001b[36mtype\u001b[0m=io.containerd.service.v1\n",
            "\u001b[36mINFO\u001b[0m[2021-05-30T21:59:55.282969876Z] loading plugin \"io.containerd.service.v1.snapshots-service\"...  \u001b[36mtype\u001b[0m=io.containerd.service.v1\n",
            "\u001b[36mINFO\u001b[0m[2021-05-30T21:59:55.283000910Z] loading plugin \"io.containerd.runtime.v1.linux\"...  \u001b[36mtype\u001b[0m=io.containerd.runtime.v1\n",
            "\u001b[36mINFO\u001b[0m[2021-05-30T21:59:55.283137969Z] loading plugin \"io.containerd.runtime.v2.task\"...  \u001b[36mtype\u001b[0m=io.containerd.runtime.v2\n",
            "\u001b[36mINFO\u001b[0m[2021-05-30T21:59:55.283273795Z] loading plugin \"io.containerd.monitor.v1.cgroups\"...  \u001b[36mtype\u001b[0m=io.containerd.monitor.v1\n",
            "\u001b[36mINFO\u001b[0m[2021-05-30T21:59:55.283621202Z] loading plugin \"io.containerd.service.v1.tasks-service\"...  \u001b[36mtype\u001b[0m=io.containerd.service.v1\n",
            "\u001b[36mINFO\u001b[0m[2021-05-30T21:59:55.283658340Z] loading plugin \"io.containerd.internal.v1.restart\"...  \u001b[36mtype\u001b[0m=io.containerd.internal.v1\n",
            "\u001b[36mINFO\u001b[0m[2021-05-30T21:59:55.283715562Z] loading plugin \"io.containerd.grpc.v1.containers\"...  \u001b[36mtype\u001b[0m=io.containerd.grpc.v1\n",
            "\u001b[36mINFO\u001b[0m[2021-05-30T21:59:55.283738224Z] loading plugin \"io.containerd.grpc.v1.content\"...  \u001b[36mtype\u001b[0m=io.containerd.grpc.v1\n",
            "\u001b[36mINFO\u001b[0m[2021-05-30T21:59:55.283760322Z] loading plugin \"io.containerd.grpc.v1.diff\"...  \u001b[36mtype\u001b[0m=io.containerd.grpc.v1\n",
            "\u001b[36mINFO\u001b[0m[2021-05-30T21:59:55.283779969Z] loading plugin \"io.containerd.grpc.v1.events\"...  \u001b[36mtype\u001b[0m=io.containerd.grpc.v1\n",
            "\u001b[36mINFO\u001b[0m[2021-05-30T21:59:55.283800405Z] loading plugin \"io.containerd.grpc.v1.healthcheck\"...  \u001b[36mtype\u001b[0m=io.containerd.grpc.v1\n",
            "\u001b[36mINFO\u001b[0m[2021-05-30T21:59:55.283821472Z] loading plugin \"io.containerd.grpc.v1.images\"...  \u001b[36mtype\u001b[0m=io.containerd.grpc.v1\n",
            "\u001b[36mINFO\u001b[0m[2021-05-30T21:59:55.283848348Z] loading plugin \"io.containerd.grpc.v1.leases\"...  \u001b[36mtype\u001b[0m=io.containerd.grpc.v1\n",
            "\u001b[36mINFO\u001b[0m[2021-05-30T21:59:55.283872397Z] loading plugin \"io.containerd.grpc.v1.namespaces\"...  \u001b[36mtype\u001b[0m=io.containerd.grpc.v1\n",
            "\u001b[36mINFO\u001b[0m[2021-05-30T21:59:55.283895978Z] loading plugin \"io.containerd.internal.v1.opt\"...  \u001b[36mtype\u001b[0m=io.containerd.internal.v1\n",
            "\u001b[36mINFO\u001b[0m[2021-05-30T21:59:55.283952353Z] loading plugin \"io.containerd.grpc.v1.snapshots\"...  \u001b[36mtype\u001b[0m=io.containerd.grpc.v1\n",
            "\u001b[36mINFO\u001b[0m[2021-05-30T21:59:55.284003140Z] loading plugin \"io.containerd.grpc.v1.tasks\"...  \u001b[36mtype\u001b[0m=io.containerd.grpc.v1\n",
            "\u001b[36mINFO\u001b[0m[2021-05-30T21:59:55.284030110Z] loading plugin \"io.containerd.grpc.v1.version\"...  \u001b[36mtype\u001b[0m=io.containerd.grpc.v1\n",
            "\u001b[36mINFO\u001b[0m[2021-05-30T21:59:55.284049774Z] loading plugin \"io.containerd.grpc.v1.introspection\"...  \u001b[36mtype\u001b[0m=io.containerd.grpc.v1\n",
            "\u001b[36mINFO\u001b[0m[2021-05-30T21:59:55.284279610Z] serving...                                    \u001b[36maddress\u001b[0m=/var/run/docker/containerd/containerd-debug.sock\n",
            "\u001b[36mINFO\u001b[0m[2021-05-30T21:59:55.284366542Z] serving...                                    \u001b[36maddress\u001b[0m=/var/run/docker/containerd/containerd.sock.ttrpc\n",
            "\u001b[36mINFO\u001b[0m[2021-05-30T21:59:55.284431897Z] serving...                                    \u001b[36maddress\u001b[0m=/var/run/docker/containerd/containerd.sock\n",
            "\u001b[36mINFO\u001b[0m[2021-05-30T21:59:55.284449216Z] containerd successfully booted in 0.038177s  \n",
            "\u001b[36mINFO\u001b[0m[2021-05-30T21:59:55.292836689Z] parsed scheme: \"unix\"                         \u001b[36mmodule\u001b[0m=grpc\n",
            "\u001b[36mINFO\u001b[0m[2021-05-30T21:59:55.292880788Z] scheme \"unix\" not registered, fallback to default scheme  \u001b[36mmodule\u001b[0m=grpc\n",
            "\u001b[36mINFO\u001b[0m[2021-05-30T21:59:55.292906887Z] ccResolverWrapper: sending update to cc: {[{unix:///var/run/docker/containerd/containerd.sock  <nil> 0 <nil>}] <nil> <nil>}  \u001b[36mmodule\u001b[0m=grpc\n",
            "\u001b[36mINFO\u001b[0m[2021-05-30T21:59:55.292919534Z] ClientConn switching balancer to \"pick_first\"  \u001b[36mmodule\u001b[0m=grpc\n",
            "\u001b[36mINFO\u001b[0m[2021-05-30T21:59:55.293847104Z] parsed scheme: \"unix\"                         \u001b[36mmodule\u001b[0m=grpc\n",
            "\u001b[36mINFO\u001b[0m[2021-05-30T21:59:55.293878424Z] scheme \"unix\" not registered, fallback to default scheme  \u001b[36mmodule\u001b[0m=grpc\n",
            "\u001b[36mINFO\u001b[0m[2021-05-30T21:59:55.293903309Z] ccResolverWrapper: sending update to cc: {[{unix:///var/run/docker/containerd/containerd.sock  <nil> 0 <nil>}] <nil> <nil>}  \u001b[36mmodule\u001b[0m=grpc\n",
            "\u001b[36mINFO\u001b[0m[2021-05-30T21:59:55.293928860Z] ClientConn switching balancer to \"pick_first\"  \u001b[36mmodule\u001b[0m=grpc\n",
            "\u001b[31mERRO\u001b[0m[2021-05-30T21:59:55.308257317Z] failed to mount overlay: invalid argument     \u001b[31mstorage-driver\u001b[0m=overlay2\n",
            "\u001b[31mERRO\u001b[0m[2021-05-30T21:59:55.308384160Z] exec: \"fuse-overlayfs\": executable file not found in $PATH  \u001b[31mstorage-driver\u001b[0m=fuse-overlayfs\n",
            "\u001b[31mERRO\u001b[0m[2021-05-30T21:59:55.314719582Z] AUFS was not found in /proc/filesystems       \u001b[31mstorage-driver\u001b[0m=aufs\n",
            "\u001b[31mERRO\u001b[0m[2021-05-30T21:59:55.327535715Z] failed to mount overlay: invalid argument     \u001b[31mstorage-driver\u001b[0m=overlay\n",
            "\u001b[33mWARN\u001b[0m[2021-05-30T21:59:55.338663101Z] Your kernel does not support cgroup blkio weight \n",
            "\u001b[33mWARN\u001b[0m[2021-05-30T21:59:55.338694115Z] Your kernel does not support cgroup blkio weight_device \n",
            "\u001b[33mWARN\u001b[0m[2021-05-30T21:59:55.338701655Z] Unable to find cpuset cgroup in mounts       \n",
            "\u001b[36mINFO\u001b[0m[2021-05-30T21:59:55.338877626Z] Loading containers: start.                   \n",
            "\u001b[33mWARN\u001b[0m[2021-05-30T21:59:55.365019218Z] Running iptables --wait -t nat -L -n failed with message: `iptables v1.6.1: can't initialize iptables table `nat': Permission denied (you must be root)\n",
            "Perhaps iptables or your kernel needs to be upgraded.`, error: exit status 3 \n",
            "\u001b[36mINFO\u001b[0m[2021-05-30T21:59:55.423147975Z] stopping event stream following graceful shutdown  \u001b[36merror\u001b[0m=\"context canceled\" \u001b[36mmodule\u001b[0m=libcontainerd \u001b[36mnamespace\u001b[0m=plugins.moby\n",
            "\u001b[36mINFO\u001b[0m[2021-05-30T21:59:55.423199800Z] stopping healthcheck following graceful shutdown  \u001b[36mmodule\u001b[0m=libcontainerd\n",
            "\u001b[36mINFO\u001b[0m[2021-05-30T21:59:55.423254928Z] stopping event stream following graceful shutdown  \u001b[36merror\u001b[0m=\"context canceled\" \u001b[36mmodule\u001b[0m=libcontainerd \u001b[36mnamespace\u001b[0m=moby\n",
            "failed to start daemon: Error initializing network controller: error obtaining controller instance: failed to create NAT chain DOCKER: iptables failed: iptables -t nat -N DOCKER: iptables v1.6.1: can't initialize iptables table `nat': Permission denied (you must be root)\n",
            "Perhaps iptables or your kernel needs to be upgraded.\n",
            " (exit status 3)\n"
          ],
          "name": "stdout"
        }
      ]
    },
    {
      "cell_type": "code",
      "metadata": {
        "id": "f6OmxY4eSmZo",
        "outputId": "d5bef69e-93a4-4f37-ea8e-d586f303c85f",
        "colab": {
          "base_uri": "https://localhost:8080/"
        }
      },
      "source": [
        "!docker images"
      ],
      "execution_count": 14,
      "outputs": [
        {
          "output_type": "stream",
          "text": [
            "Cannot connect to the Docker daemon at unix:///var/run/docker.sock. Is the docker daemon running?\n"
          ],
          "name": "stdout"
        }
      ]
    },
    {
      "cell_type": "code",
      "metadata": {
        "id": "RLA1UCkZTv6L",
        "outputId": "715f0fdc-2424-4e0f-efca-2628fc7af86e",
        "colab": {
          "base_uri": "https://localhost:8080/",
          "height": 1000
        }
      },
      "source": [
        "%%shell\n",
        "set -x\n",
        "dockerd -b none --iptables=0 -l warn &\n",
        "for i in $(seq 5); do [ ! -S \"/var/run/docker.sock\" ] && sleep 2 || break; done\n",
        "docker info\n",
        "docker network ls\n",
        "docker build -f dockerfile -t tutorial ."
      ],
      "execution_count": 28,
      "outputs": [
        {
          "output_type": "stream",
          "text": [
            "+ dockerd -b none --iptables=0 -l warn\n",
            "++ seq 5\n",
            "+ for i in $(seq 5)\n",
            "+ '[' '!' -S /var/run/docker.sock ']'\n",
            "+ sleep 2\n",
            "\u001b[33mWARN\u001b[0m[2021-05-30T22:30:01.722983718Z] failed to load plugin io.containerd.snapshotter.v1.devmapper  \u001b[33merror\u001b[0m=\"devmapper not configured\"\n",
            "\u001b[33mWARN\u001b[0m[2021-05-30T22:30:01.726660851Z] could not use snapshotter devmapper in metadata plugin  \u001b[33merror\u001b[0m=\"devmapper not configured\"\n",
            "\u001b[31mERRO\u001b[0m[2021-05-30T22:30:01.762468144Z] failed to mount overlay: invalid argument     \u001b[31mstorage-driver\u001b[0m=overlay2\n",
            "\u001b[31mERRO\u001b[0m[2021-05-30T22:30:01.762620616Z] exec: \"fuse-overlayfs\": executable file not found in $PATH  \u001b[31mstorage-driver\u001b[0m=fuse-overlayfs\n",
            "\u001b[31mERRO\u001b[0m[2021-05-30T22:30:01.766737603Z] AUFS was not found in /proc/filesystems       \u001b[31mstorage-driver\u001b[0m=aufs\n",
            "\u001b[31mERRO\u001b[0m[2021-05-30T22:30:01.778977626Z] failed to mount overlay: invalid argument     \u001b[31mstorage-driver\u001b[0m=overlay\n",
            "\u001b[33mWARN\u001b[0m[2021-05-30T22:30:01.793002083Z] Your kernel does not support cgroup blkio weight \n",
            "\u001b[33mWARN\u001b[0m[2021-05-30T22:30:01.793042663Z] Your kernel does not support cgroup blkio weight_device \n",
            "\u001b[33mWARN\u001b[0m[2021-05-30T22:30:01.793050526Z] Unable to find cpuset cgroup in mounts       \n",
            "\u001b[31mERRO\u001b[0m[0000] failed to disable IPv6 forwarding for container's interface all: open /proc/sys/net/ipv6/conf/all/disable_ipv6: read-only file system \n",
            "\u001b[33mWARN\u001b[0m[2021-05-30T22:30:01.990325183Z] Failed to disable IPv6 on all interfaces on network namespace \"/var/run/docker/netns/c2af21952e20\": reexec to set IPv6 failed: exit status 4 \n",
            "\u001b[31mERRO\u001b[0m[2021-05-30T22:30:01.990533634Z] failed to create osl sandbox while trying to restore sandbox c2af219 for cleanup: operation not permitted \n",
            "\u001b[31mERRO\u001b[0m[0000] failed to disable IPv6 forwarding for container's interface all: open /proc/sys/net/ipv6/conf/all/disable_ipv6: read-only file system \n",
            "\u001b[33mWARN\u001b[0m[2021-05-30T22:30:02.126154760Z] Failed to disable IPv6 on all interfaces on network namespace \"/var/run/docker/netns/f1a8352edbf7\": reexec to set IPv6 failed: exit status 4 \n",
            "\u001b[31mERRO\u001b[0m[2021-05-30T22:30:02.126307224Z] failed to create osl sandbox while trying to restore sandbox f1a8352 for cleanup: operation not permitted \n",
            "\u001b[31mERRO\u001b[0m[0000] failed to disable IPv6 forwarding for container's interface all: open /proc/sys/net/ipv6/conf/all/disable_ipv6: read-only file system \n",
            "\u001b[33mWARN\u001b[0m[2021-05-30T22:30:02.255915853Z] Failed to disable IPv6 on all interfaces on network namespace \"/var/run/docker/netns/16f01529ee65\": reexec to set IPv6 failed: exit status 4 \n",
            "\u001b[31mERRO\u001b[0m[2021-05-30T22:30:02.256092640Z] failed to create osl sandbox while trying to restore sandbox 16f0152 for cleanup: operation not permitted \n",
            "\u001b[31mERRO\u001b[0m[0000] failed to disable IPv6 forwarding for container's interface all: open /proc/sys/net/ipv6/conf/all/disable_ipv6: read-only file system \n",
            "\u001b[33mWARN\u001b[0m[2021-05-30T22:30:02.391668220Z] Failed to disable IPv6 on all interfaces on network namespace \"/var/run/docker/netns/2563efc6cee9\": reexec to set IPv6 failed: exit status 4 \n",
            "\u001b[31mERRO\u001b[0m[2021-05-30T22:30:02.391853805Z] failed to create osl sandbox while trying to restore sandbox 2563efc for cleanup: operation not permitted \n",
            "\u001b[31mERRO\u001b[0m[0000] failed to disable IPv6 forwarding for container's interface all: open /proc/sys/net/ipv6/conf/all/disable_ipv6: read-only file system \n",
            "\u001b[33mWARN\u001b[0m[2021-05-30T22:30:02.532885932Z] Failed to disable IPv6 on all interfaces on network namespace \"/var/run/docker/netns/68808248b698\": reexec to set IPv6 failed: exit status 4 \n",
            "\u001b[31mERRO\u001b[0m[2021-05-30T22:30:02.533035189Z] failed to create osl sandbox while trying to restore sandbox 6880824 for cleanup: operation not permitted \n",
            "\u001b[31mERRO\u001b[0m[0000] failed to disable IPv6 forwarding for container's interface all: open /proc/sys/net/ipv6/conf/all/disable_ipv6: read-only file system \n",
            "\u001b[33mWARN\u001b[0m[2021-05-30T22:30:02.680081917Z] Failed to disable IPv6 on all interfaces on network namespace \"/var/run/docker/netns/474e14258a01\": reexec to set IPv6 failed: exit status 4 \n",
            "\u001b[31mERRO\u001b[0m[2021-05-30T22:30:02.680224427Z] failed to create osl sandbox while trying to restore sandbox 474e142 for cleanup: operation not permitted \n",
            "\u001b[31mERRO\u001b[0m[0000] failed to disable IPv6 forwarding for container's interface all: open /proc/sys/net/ipv6/conf/all/disable_ipv6: read-only file system \n",
            "\u001b[33mWARN\u001b[0m[2021-05-30T22:30:02.813210390Z] Failed to disable IPv6 on all interfaces on network namespace \"/var/run/docker/netns/938a8f1e4c11\": reexec to set IPv6 failed: exit status 4 \n",
            "\u001b[31mERRO\u001b[0m[2021-05-30T22:30:02.813368337Z] failed to create osl sandbox while trying to restore sandbox 938a8f1 for cleanup: operation not permitted \n",
            "\u001b[31mERRO\u001b[0m[0000] failed to disable IPv6 forwarding for container's interface all: open /proc/sys/net/ipv6/conf/all/disable_ipv6: read-only file system \n",
            "\u001b[33mWARN\u001b[0m[2021-05-30T22:30:02.942601509Z] Failed to disable IPv6 on all interfaces on network namespace \"/var/run/docker/netns/949a40a3858e\": reexec to set IPv6 failed: exit status 4 \n",
            "\u001b[31mERRO\u001b[0m[2021-05-30T22:30:02.942768168Z] failed to create osl sandbox while trying to restore sandbox 949a40a for cleanup: operation not permitted \n",
            "\u001b[31mERRO\u001b[0m[0000] failed to disable IPv6 forwarding for container's interface all: open /proc/sys/net/ipv6/conf/all/disable_ipv6: read-only file system \n",
            "\u001b[33mWARN\u001b[0m[2021-05-30T22:30:03.072440171Z] Failed to disable IPv6 on all interfaces on network namespace \"/var/run/docker/netns/e32e12469798\": reexec to set IPv6 failed: exit status 4 \n",
            "\u001b[31mERRO\u001b[0m[2021-05-30T22:30:03.072592188Z] failed to create osl sandbox while trying to restore sandbox e32e124 for cleanup: operation not permitted \n",
            "\u001b[31mERRO\u001b[0m[0000] failed to disable IPv6 forwarding for container's interface all: open /proc/sys/net/ipv6/conf/all/disable_ipv6: read-only file system \n",
            "\u001b[33mWARN\u001b[0m[2021-05-30T22:30:03.213094822Z] Failed to disable IPv6 on all interfaces on network namespace \"/var/run/docker/netns/06aa23f94cdd\": reexec to set IPv6 failed: exit status 4 \n",
            "\u001b[31mERRO\u001b[0m[2021-05-30T22:30:03.213257075Z] failed to create osl sandbox while trying to restore sandbox 06aa23f for cleanup: operation not permitted \n",
            "\u001b[31mERRO\u001b[0m[0000] failed to disable IPv6 forwarding for container's interface all: open /proc/sys/net/ipv6/conf/all/disable_ipv6: read-only file system \n",
            "\u001b[33mWARN\u001b[0m[2021-05-30T22:30:03.342667639Z] Failed to disable IPv6 on all interfaces on network namespace \"/var/run/docker/netns/1652947a0dc9\": reexec to set IPv6 failed: exit status 4 \n",
            "\u001b[31mERRO\u001b[0m[2021-05-30T22:30:03.342845392Z] failed to create osl sandbox while trying to restore sandbox 1652947 for cleanup: operation not permitted \n",
            "\u001b[31mERRO\u001b[0m[0000] failed to disable IPv6 forwarding for container's interface all: open /proc/sys/net/ipv6/conf/all/disable_ipv6: read-only file system \n",
            "\u001b[33mWARN\u001b[0m[2021-05-30T22:30:03.485624015Z] Failed to disable IPv6 on all interfaces on network namespace \"/var/run/docker/netns/2252f6573220\": reexec to set IPv6 failed: exit status 4 \n",
            "\u001b[31mERRO\u001b[0m[2021-05-30T22:30:03.485834463Z] failed to create osl sandbox while trying to restore sandbox 2252f65 for cleanup: operation not permitted \n",
            "+ for i in $(seq 5)\n",
            "+ '[' '!' -S /var/run/docker.sock ']'\n",
            "+ break\n",
            "+ docker info\n",
            "Client:\n",
            " Context:    default\n",
            " Debug Mode: false\n",
            "\n",
            "Server:\n",
            " Containers: 12\n",
            "  Running: 0\n",
            "  Paused: 0\n",
            "  Stopped: 12\n",
            " Images: 2\n",
            " Server Version: 20.10.2\n",
            " Storage Driver: vfs\n",
            " Logging Driver: json-file\n",
            " Cgroup Driver: cgroupfs\n",
            " Cgroup Version: 1\n",
            " Plugins:\n",
            "  Volume: local\n",
            "  Network: bridge host ipvlan macvlan null overlay\n",
            "  Log: awslogs fluentd gcplogs gelf journald json-file local logentries splunk syslog\n",
            " Swarm: inactive\n",
            " Runtimes: io.containerd.runc.v2 io.containerd.runtime.v1.linux runc\n",
            " Default Runtime: runc\n",
            " Init Binary: docker-init\n",
            " containerd version: \n",
            " runc version: \n",
            " init version: \n",
            " Security Options:\n",
            "  seccomp\n",
            "   Profile: default\n",
            " Kernel Version: 5.4.109+\n",
            " Operating System: Ubuntu 18.04.5 LTS (containerized)\n",
            " OSType: linux\n",
            " Architecture: x86_64\n",
            " CPUs: 2\n",
            " Total Memory: 12.69GiB\n",
            " Name: 85711ef44c34\n",
            " ID: Q4GQ:H25I:RMRL:PGTW:YFXE:TYXZ:ZHTS:6KDV:6ZCS:VVLI:VHJ4:TUP4\n",
            " Docker Root Dir: /var/lib/docker\n",
            " Debug Mode: false\n",
            " Registry: https://index.docker.io/v1/\n",
            " Labels:\n",
            " Experimental: false\n",
            " Insecure Registries:\n",
            "  127.0.0.0/8\n",
            " Live Restore Enabled: false\n",
            "\n",
            "WARNING: No cpuset support\n",
            "WARNING: No blkio weight support\n",
            "WARNING: No blkio weight_device support\n",
            "+ docker network ls\n",
            "NETWORK ID     NAME      DRIVER    SCOPE\n",
            "4779833e7db4   host      host      local\n",
            "868dbb05fbbf   none      null      local\n",
            "+ docker build -f dockerfile -t tutorial .\n",
            "Sending build context to Docker daemon  56.88MB\n",
            "Step 1/2 : FROM ubuntu:18.04\n",
            " ---> 81bcf752ac3d\n",
            "Step 2/2 : RUN apt update\n",
            " ---> Running in ca2e2e65ea06\n",
            "time=\"2021-05-30T22:30:05.447433579Z\" level=info msg=\"starting signal loop\" namespace=moby path=/run/docker/containerd/daemon/io.containerd.runtime.v2.task/moby/ca2e2e65ea063c5d758cd66e7ea756e3c25b733af593818ee5b99e171b050391 pid=6647\n",
            "\u001b[31mERRO\u001b[0m[2021-05-30T22:30:05.473294225Z] stream copy error: reading from a closed fifo \n",
            "\u001b[31mERRO\u001b[0m[2021-05-30T22:30:05.477277319Z] stream copy error: reading from a closed fifo \n",
            "\u001b[31mERRO\u001b[0m[2021-05-30T22:30:05.495786167Z] ca2e2e65ea063c5d758cd66e7ea756e3c25b733af593818ee5b99e171b050391 cleanup: failed to delete container from containerd: no such container \n",
            "OCI runtime create failed: container_linux.go:367: starting container process caused: process_linux.go:340: applying cgroup configuration for process caused: mkdir /sys/fs/cgroup/devices/docker: read-only file system: unknown\n"
          ],
          "name": "stdout"
        },
        {
          "output_type": "error",
          "ename": "CalledProcessError",
          "evalue": "ignored",
          "traceback": [
            "\u001b[0;31m---------------------------------------------------------------------------\u001b[0m",
            "\u001b[0;31mCalledProcessError\u001b[0m                        Traceback (most recent call last)",
            "\u001b[0;32m<ipython-input-28-6fce8936ca82>\u001b[0m in \u001b[0;36m<module>\u001b[0;34m()\u001b[0m\n\u001b[0;32m----> 1\u001b[0;31m \u001b[0mget_ipython\u001b[0m\u001b[0;34m(\u001b[0m\u001b[0;34m)\u001b[0m\u001b[0;34m.\u001b[0m\u001b[0mrun_cell_magic\u001b[0m\u001b[0;34m(\u001b[0m\u001b[0;34m'shell'\u001b[0m\u001b[0;34m,\u001b[0m \u001b[0;34m''\u001b[0m\u001b[0;34m,\u001b[0m \u001b[0;34m'set -x\\ndockerd -b none --iptables=0 -l warn &\\nfor i in $(seq 5); do [ ! -S \"/var/run/docker.sock\" ] && sleep 2 || break; done\\ndocker info\\ndocker network ls\\ndocker build -f dockerfile -t tutorial .'\u001b[0m\u001b[0;34m)\u001b[0m\u001b[0;34m\u001b[0m\u001b[0;34m\u001b[0m\u001b[0m\n\u001b[0m",
            "\u001b[0;32m/usr/local/lib/python3.7/dist-packages/IPython/core/interactiveshell.py\u001b[0m in \u001b[0;36mrun_cell_magic\u001b[0;34m(self, magic_name, line, cell)\u001b[0m\n\u001b[1;32m   2115\u001b[0m             \u001b[0mmagic_arg_s\u001b[0m \u001b[0;34m=\u001b[0m \u001b[0mself\u001b[0m\u001b[0;34m.\u001b[0m\u001b[0mvar_expand\u001b[0m\u001b[0;34m(\u001b[0m\u001b[0mline\u001b[0m\u001b[0;34m,\u001b[0m \u001b[0mstack_depth\u001b[0m\u001b[0;34m)\u001b[0m\u001b[0;34m\u001b[0m\u001b[0;34m\u001b[0m\u001b[0m\n\u001b[1;32m   2116\u001b[0m             \u001b[0;32mwith\u001b[0m \u001b[0mself\u001b[0m\u001b[0;34m.\u001b[0m\u001b[0mbuiltin_trap\u001b[0m\u001b[0;34m:\u001b[0m\u001b[0;34m\u001b[0m\u001b[0;34m\u001b[0m\u001b[0m\n\u001b[0;32m-> 2117\u001b[0;31m                 \u001b[0mresult\u001b[0m \u001b[0;34m=\u001b[0m \u001b[0mfn\u001b[0m\u001b[0;34m(\u001b[0m\u001b[0mmagic_arg_s\u001b[0m\u001b[0;34m,\u001b[0m \u001b[0mcell\u001b[0m\u001b[0;34m)\u001b[0m\u001b[0;34m\u001b[0m\u001b[0;34m\u001b[0m\u001b[0m\n\u001b[0m\u001b[1;32m   2118\u001b[0m             \u001b[0;32mreturn\u001b[0m \u001b[0mresult\u001b[0m\u001b[0;34m\u001b[0m\u001b[0;34m\u001b[0m\u001b[0m\n\u001b[1;32m   2119\u001b[0m \u001b[0;34m\u001b[0m\u001b[0m\n",
            "\u001b[0;32m/usr/local/lib/python3.7/dist-packages/google/colab/_system_commands.py\u001b[0m in \u001b[0;36m_shell_cell_magic\u001b[0;34m(args, cmd)\u001b[0m\n\u001b[1;32m    111\u001b[0m   \u001b[0mresult\u001b[0m \u001b[0;34m=\u001b[0m \u001b[0m_run_command\u001b[0m\u001b[0;34m(\u001b[0m\u001b[0mcmd\u001b[0m\u001b[0;34m,\u001b[0m \u001b[0mclear_streamed_output\u001b[0m\u001b[0;34m=\u001b[0m\u001b[0;32mFalse\u001b[0m\u001b[0;34m)\u001b[0m\u001b[0;34m\u001b[0m\u001b[0;34m\u001b[0m\u001b[0m\n\u001b[1;32m    112\u001b[0m   \u001b[0;32mif\u001b[0m \u001b[0;32mnot\u001b[0m \u001b[0mparsed_args\u001b[0m\u001b[0;34m.\u001b[0m\u001b[0mignore_errors\u001b[0m\u001b[0;34m:\u001b[0m\u001b[0;34m\u001b[0m\u001b[0;34m\u001b[0m\u001b[0m\n\u001b[0;32m--> 113\u001b[0;31m     \u001b[0mresult\u001b[0m\u001b[0;34m.\u001b[0m\u001b[0mcheck_returncode\u001b[0m\u001b[0;34m(\u001b[0m\u001b[0;34m)\u001b[0m\u001b[0;34m\u001b[0m\u001b[0;34m\u001b[0m\u001b[0m\n\u001b[0m\u001b[1;32m    114\u001b[0m   \u001b[0;32mreturn\u001b[0m \u001b[0mresult\u001b[0m\u001b[0;34m\u001b[0m\u001b[0;34m\u001b[0m\u001b[0m\n\u001b[1;32m    115\u001b[0m \u001b[0;34m\u001b[0m\u001b[0m\n",
            "\u001b[0;32m/usr/local/lib/python3.7/dist-packages/google/colab/_system_commands.py\u001b[0m in \u001b[0;36mcheck_returncode\u001b[0;34m(self)\u001b[0m\n\u001b[1;32m    137\u001b[0m     \u001b[0;32mif\u001b[0m \u001b[0mself\u001b[0m\u001b[0;34m.\u001b[0m\u001b[0mreturncode\u001b[0m\u001b[0;34m:\u001b[0m\u001b[0;34m\u001b[0m\u001b[0;34m\u001b[0m\u001b[0m\n\u001b[1;32m    138\u001b[0m       raise subprocess.CalledProcessError(\n\u001b[0;32m--> 139\u001b[0;31m           returncode=self.returncode, cmd=self.args, output=self.output)\n\u001b[0m\u001b[1;32m    140\u001b[0m \u001b[0;34m\u001b[0m\u001b[0m\n\u001b[1;32m    141\u001b[0m   \u001b[0;32mdef\u001b[0m \u001b[0m_repr_pretty_\u001b[0m\u001b[0;34m(\u001b[0m\u001b[0mself\u001b[0m\u001b[0;34m,\u001b[0m \u001b[0mp\u001b[0m\u001b[0;34m,\u001b[0m \u001b[0mcycle\u001b[0m\u001b[0;34m)\u001b[0m\u001b[0;34m:\u001b[0m  \u001b[0;31m# pylint:disable=unused-argument\u001b[0m\u001b[0;34m\u001b[0m\u001b[0;34m\u001b[0m\u001b[0m\n",
            "\u001b[0;31mCalledProcessError\u001b[0m: Command 'set -x\ndockerd -b none --iptables=0 -l warn &\nfor i in $(seq 5); do [ ! -S \"/var/run/docker.sock\" ] && sleep 2 || break; done\ndocker info\ndocker network ls\ndocker build -f dockerfile -t tutorial .' returned non-zero exit status 1."
          ]
        }
      ]
    },
    {
      "cell_type": "code",
      "metadata": {
        "id": "VsyCZ-guT4aC"
      },
      "source": [
        "slgsdgfg"
      ],
      "execution_count": null,
      "outputs": []
    }
  ]
}