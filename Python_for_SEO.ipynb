{
  "nbformat": 4,
  "nbformat_minor": 0,
  "metadata": {
    "colab": {
      "name": "Python for SEO.ipynb",
      "provenance": [],
      "collapsed_sections": [],
      "toc_visible": true,
      "include_colab_link": true
    },
    "kernelspec": {
      "name": "python3",
      "display_name": "Python 3"
    }
  },
  "cells": [
    {
      "cell_type": "markdown",
      "metadata": {
        "id": "view-in-github",
        "colab_type": "text"
      },
      "source": [
        "<a href=\"https://colab.research.google.com/github/sayan0506/Face-Recognition-pipeline-using-SOTA-ArcFace/blob/main/Python_for_SEO.ipynb\" target=\"_parent\"><img src=\"https://colab.research.google.com/assets/colab-badge.svg\" alt=\"Open In Colab\"/></a>"
      ]
    },
    {
      "cell_type": "markdown",
      "metadata": {
        "id": "fIpoojalU9T2"
      },
      "source": [
        "# **Using Python and TensorFlow for SEO**"
      ]
    },
    {
      "cell_type": "markdown",
      "metadata": {
        "id": "wWvOaVoAXKbh"
      },
      "source": [
        "Search Engine Optimization is a hard game. Google is the big player and the algorithm they use to rank a website for any given search term is a closely guarded secret. SEO optimization is a multi-billion dollar game, there are numerous companies out there providing services to millions of business to give them a competitive advantage in the SERPs to beat their competition and obtain more client.\n",
        "\n",
        "Websites such as [algoroo.com](https://algoroo.com) can track Google SERP changes and indicate whether Google has updated their ranking algorithm with at least some accuracy. There is an enormous amount of data to go through to break down why certain websites have gained or lost rank but with TensorFlow, it's possible to sift through the data and find patterns.\n",
        "\n",
        "We can take this one step further and determine why certain websites have gained or lost rankings for certain terms. Through Machine Learning we can as accurately as possible determine which on-page and off page SEO tactics are working to rank any website for a given term. Also, we can quickly learn and adapt once a new algorithm change hits the SERPs.\n",
        "\n",
        "Recently I stumbled upon an agency specializing in SEO in Sydney called [Pixel Marketing](https://pxm.com.au). They have a very intriguing SEO optimization tool you can view here [https://pxm.com.au/seo-analyzer/](https://pxm.com.au/seo-analyzer/). After running through a couple websites you can see just how enormous the data collected just to analyze one website is.\n",
        "\n",
        "If we scale a tool like this and use it to track the top 100 results in Google for the most searched keywords, store and collect all the on and off page data for each website, then use TensorFlow to find the similarities between the websites which have gained rank and lost rank we can have a competitive advantage to the competition.\n",
        "\n",
        "Let's assume all the data that is stored by a tool like this is in a MySQL database. Firstly let's install a Python and TensorFlow environment on a VPS so that it can quietly churn away finding the patterns from our dataset. We will also use [Docker](https://www.docker.com/why-docker) for portability."
      ]
    },
    {
      "cell_type": "markdown",
      "metadata": {
        "id": "6J8LSVAJoSf3"
      },
      "source": [
        "## Installing Docker, Python 3 and TensorFlow"
      ]
    },
    {
      "cell_type": "markdown",
      "metadata": {
        "id": "-fEGGt3jq4Tj"
      },
      "source": [
        "We will be running a linux machine, you can use any provider but for this tutorial we will be using Digital Ocean. For testing purposes we can just use a simple $5 per month [droplet](https://www.digitalocean.com/pricing/). We will be using the Ubuntu image from the droplet management panel.\n",
        "\n",
        "Once the droplet has spun up with our Ubuntu image we will SSH into it to install the required packages. First we will intall Docker so we can download the pre installed PIP and python container. We are using Ubuntu 18.04 in this example.\n",
        "\n",
        "First lets update all the packages to the latest ones with the following command."
      ]
    },
    {
      "cell_type": "code",
      "metadata": {
        "id": "RbL5mjMgvkCt",
        "colab": {
          "base_uri": "https://localhost:8080/"
        },
        "outputId": "ee28b3ed-3696-4c29-e4f4-0ce854e19fb0"
      },
      "source": [
        "!sudo apt update"
      ],
      "execution_count": 2,
      "outputs": [
        {
          "output_type": "stream",
          "text": [
            "\u001b[33m\r0% [Working]\u001b[0m\r            \rGet:1 http://security.ubuntu.com/ubuntu bionic-security InRelease [88.7 kB]\n",
            "\u001b[33m\r0% [Connecting to archive.ubuntu.com (91.189.88.142)] [1 InRelease 14.2 kB/88.7\u001b[0m\r                                                                               \rGet:2 https://cloud.r-project.org/bin/linux/ubuntu bionic-cran40/ InRelease [3,626 B]\n",
            "Ign:3 https://developer.download.nvidia.com/compute/cuda/repos/ubuntu1804/x86_64  InRelease\n",
            "Ign:4 https://developer.download.nvidia.com/compute/machine-learning/repos/ubuntu1804/x86_64  InRelease\n",
            "Get:5 http://ppa.launchpad.net/c2d4u.team/c2d4u4.0+/ubuntu bionic InRelease [15.9 kB]\n",
            "Get:6 https://developer.download.nvidia.com/compute/cuda/repos/ubuntu1804/x86_64  Release [697 B]\n",
            "Hit:7 https://developer.download.nvidia.com/compute/machine-learning/repos/ubuntu1804/x86_64  Release\n",
            "Hit:8 http://archive.ubuntu.com/ubuntu bionic InRelease\n",
            "Get:9 https://developer.download.nvidia.com/compute/cuda/repos/ubuntu1804/x86_64  Release.gpg [836 B]\n",
            "Get:10 https://cloud.r-project.org/bin/linux/ubuntu bionic-cran40/ Packages [60.9 kB]\n",
            "Get:11 http://archive.ubuntu.com/ubuntu bionic-updates InRelease [88.7 kB]\n",
            "Get:12 http://security.ubuntu.com/ubuntu bionic-security/restricted amd64 Packages [423 kB]\n",
            "Hit:13 http://ppa.launchpad.net/cran/libgit2/ubuntu bionic InRelease\n",
            "Get:15 http://security.ubuntu.com/ubuntu bionic-security/universe amd64 Packages [1,413 kB]\n",
            "Get:16 http://security.ubuntu.com/ubuntu bionic-security/main amd64 Packages [2,152 kB]\n",
            "Hit:17 http://ppa.launchpad.net/deadsnakes/ppa/ubuntu bionic InRelease\n",
            "Get:18 http://archive.ubuntu.com/ubuntu bionic-backports InRelease [74.6 kB]\n",
            "Ign:19 https://developer.download.nvidia.com/compute/cuda/repos/ubuntu1804/x86_64  Packages\n",
            "Get:20 http://ppa.launchpad.net/graphics-drivers/ppa/ubuntu bionic InRelease [21.3 kB]\n",
            "Get:19 https://developer.download.nvidia.com/compute/cuda/repos/ubuntu1804/x86_64  Packages [798 kB]\n",
            "Get:21 http://ppa.launchpad.net/c2d4u.team/c2d4u4.0+/ubuntu bionic/main Sources [1,770 kB]\n",
            "Get:22 http://archive.ubuntu.com/ubuntu bionic-updates/main amd64 Packages [2,584 kB]\n",
            "Get:23 http://archive.ubuntu.com/ubuntu bionic-updates/universe amd64 Packages [2,184 kB]\n",
            "Get:24 http://archive.ubuntu.com/ubuntu bionic-updates/restricted amd64 Packages [452 kB]\n",
            "Get:25 http://ppa.launchpad.net/c2d4u.team/c2d4u4.0+/ubuntu bionic/main amd64 Packages [906 kB]\n",
            "Get:26 http://ppa.launchpad.net/graphics-drivers/ppa/ubuntu bionic/main amd64 Packages [41.5 kB]\n",
            "Fetched 13.1 MB in 3s (4,308 kB/s)\n",
            "Reading package lists... Done\n",
            "Building dependency tree       \n",
            "Reading state information... Done\n",
            "87 packages can be upgraded. Run 'apt list --upgradable' to see them.\n"
          ],
          "name": "stdout"
        }
      ]
    },
    {
      "cell_type": "markdown",
      "metadata": {
        "id": "6vdmf9C2voTa"
      },
      "source": [
        "Now we want to install some  prerequisite packages which will let us use HTTPS over apt."
      ]
    },
    {
      "cell_type": "code",
      "metadata": {
        "id": "e9htmZ-zv-M6",
        "colab": {
          "base_uri": "https://localhost:8080/"
        },
        "outputId": "0e461de9-2b38-4511-eaea-45c9b186f26e"
      },
      "source": [
        "!sudo apt install apt-transport-https ca-certificates curl software-properties-common"
      ],
      "execution_count": 3,
      "outputs": [
        {
          "output_type": "stream",
          "text": [
            "Reading package lists... Done\n",
            "Building dependency tree       \n",
            "Reading state information... Done\n",
            "ca-certificates is already the newest version (20210119~18.04.1).\n",
            "curl is already the newest version (7.58.0-2ubuntu3.13).\n",
            "software-properties-common is already the newest version (0.96.24.32.14).\n",
            "The following package was automatically installed and is no longer required:\n",
            "  libnvidia-common-460\n",
            "Use 'sudo apt autoremove' to remove it.\n",
            "The following NEW packages will be installed:\n",
            "  apt-transport-https\n",
            "0 upgraded, 1 newly installed, 0 to remove and 87 not upgraded.\n",
            "Need to get 1,692 B of archives.\n",
            "After this operation, 154 kB of additional disk space will be used.\n",
            "Get:1 http://archive.ubuntu.com/ubuntu bionic-updates/universe amd64 apt-transport-https all 1.6.13 [1,692 B]\n",
            "Fetched 1,692 B in 0s (7,253 B/s)\n",
            "debconf: unable to initialize frontend: Dialog\n",
            "debconf: (No usable dialog-like program is installed, so the dialog based frontend cannot be used. at /usr/share/perl5/Debconf/FrontEnd/Dialog.pm line 76, <> line 1.)\n",
            "debconf: falling back to frontend: Readline\n",
            "debconf: unable to initialize frontend: Readline\n",
            "debconf: (This frontend requires a controlling tty.)\n",
            "debconf: falling back to frontend: Teletype\n",
            "dpkg-preconfigure: unable to re-open stdin: \n",
            "Selecting previously unselected package apt-transport-https.\n",
            "(Reading database ... 160706 files and directories currently installed.)\n",
            "Preparing to unpack .../apt-transport-https_1.6.13_all.deb ...\n",
            "Unpacking apt-transport-https (1.6.13) ...\n",
            "Setting up apt-transport-https (1.6.13) ...\n"
          ],
          "name": "stdout"
        }
      ]
    },
    {
      "cell_type": "markdown",
      "metadata": {
        "id": "_DGGnjQzwAgR"
      },
      "source": [
        "After that we will add the GPG key for the official Docker repository to the system."
      ]
    },
    {
      "cell_type": "code",
      "metadata": {
        "id": "eCRpmzItwH09",
        "colab": {
          "base_uri": "https://localhost:8080/"
        },
        "outputId": "f7e85c22-3695-48ed-c919-4f343c9e6e1c"
      },
      "source": [
        "!curl -fsSL https://download.docker.com/linux/ubuntu/gpg | sudo apt-key add -"
      ],
      "execution_count": 4,
      "outputs": [
        {
          "output_type": "stream",
          "text": [
            "OK\n"
          ],
          "name": "stdout"
        }
      ]
    },
    {
      "cell_type": "markdown",
      "metadata": {
        "id": "JPZm3dlHwKFc"
      },
      "source": [
        "We will need to add the Docker repository to our APT sources:"
      ]
    },
    {
      "cell_type": "code",
      "metadata": {
        "id": "9jAq80YPwQ38",
        "colab": {
          "base_uri": "https://localhost:8080/"
        },
        "outputId": "d649150a-2ffc-4935-8b3c-1ce9ad57837a"
      },
      "source": [
        "!sudo add-apt-repository \"deb [arch=amd64] https://download.docker.com/linux/ubuntu bionic stable\""
      ],
      "execution_count": 5,
      "outputs": [
        {
          "output_type": "stream",
          "text": [
            "\r0% [Working]\r            \rHit:1 http://security.ubuntu.com/ubuntu bionic-security InRelease\n",
            "\r0% [Connecting to archive.ubuntu.com (91.189.88.142)] [Connected to cloud.r-pro\r                                                                               \rGet:2 https://download.docker.com/linux/ubuntu bionic InRelease [64.4 kB]\n",
            "Hit:3 https://cloud.r-project.org/bin/linux/ubuntu bionic-cran40/ InRelease\n",
            "Ign:4 https://developer.download.nvidia.com/compute/cuda/repos/ubuntu1804/x86_64  InRelease\n",
            "Ign:5 https://developer.download.nvidia.com/compute/machine-learning/repos/ubuntu1804/x86_64  InRelease\n",
            "Hit:6 http://ppa.launchpad.net/c2d4u.team/c2d4u4.0+/ubuntu bionic InRelease\n",
            "Hit:7 https://developer.download.nvidia.com/compute/cuda/repos/ubuntu1804/x86_64  Release\n",
            "Hit:8 https://developer.download.nvidia.com/compute/machine-learning/repos/ubuntu1804/x86_64  Release\n",
            "Hit:9 http://archive.ubuntu.com/ubuntu bionic InRelease\n",
            "Hit:10 http://archive.ubuntu.com/ubuntu bionic-updates InRelease\n",
            "Get:11 https://download.docker.com/linux/ubuntu bionic/stable amd64 Packages [20.6 kB]\n",
            "Hit:12 http://ppa.launchpad.net/cran/libgit2/ubuntu bionic InRelease\n",
            "Hit:13 http://archive.ubuntu.com/ubuntu bionic-backports InRelease\n",
            "Hit:15 http://ppa.launchpad.net/deadsnakes/ppa/ubuntu bionic InRelease\n",
            "Hit:17 http://ppa.launchpad.net/graphics-drivers/ppa/ubuntu bionic InRelease\n",
            "Fetched 85.1 kB in 1s (71.1 kB/s)\n",
            "Reading package lists... Done\n"
          ],
          "name": "stdout"
        }
      ]
    },
    {
      "cell_type": "markdown",
      "metadata": {
        "id": "Vf5oXIURwYMk"
      },
      "source": [
        "Next lets update the package database with our newly added Docker package repo."
      ]
    },
    {
      "cell_type": "code",
      "metadata": {
        "id": "jNsJAeLhwew5",
        "colab": {
          "base_uri": "https://localhost:8080/"
        },
        "outputId": "e0cb17cd-04bb-4440-d72a-4d51948bfe61"
      },
      "source": [
        "!sudo apt update"
      ],
      "execution_count": 6,
      "outputs": [
        {
          "output_type": "stream",
          "text": [
            "\u001b[33m\r0% [Working]\u001b[0m\r            \rHit:1 https://download.docker.com/linux/ubuntu bionic InRelease\n",
            "\u001b[33m\r0% [Connecting to archive.ubuntu.com (91.189.88.142)] [Connecting to security.u\u001b[0m\r                                                                               \rHit:2 https://cloud.r-project.org/bin/linux/ubuntu bionic-cran40/ InRelease\n",
            "Ign:3 https://developer.download.nvidia.com/compute/cuda/repos/ubuntu1804/x86_64  InRelease\n",
            "Hit:4 http://security.ubuntu.com/ubuntu bionic-security InRelease\n",
            "Ign:5 https://developer.download.nvidia.com/compute/machine-learning/repos/ubuntu1804/x86_64  InRelease\n",
            "Hit:6 http://ppa.launchpad.net/c2d4u.team/c2d4u4.0+/ubuntu bionic InRelease\n",
            "Hit:7 https://developer.download.nvidia.com/compute/cuda/repos/ubuntu1804/x86_64  Release\n",
            "Hit:8 https://developer.download.nvidia.com/compute/machine-learning/repos/ubuntu1804/x86_64  Release\n",
            "Hit:9 http://archive.ubuntu.com/ubuntu bionic InRelease\n",
            "Hit:10 http://archive.ubuntu.com/ubuntu bionic-updates InRelease\n",
            "Hit:11 http://ppa.launchpad.net/cran/libgit2/ubuntu bionic InRelease\n",
            "Hit:12 http://archive.ubuntu.com/ubuntu bionic-backports InRelease\n",
            "Hit:14 http://ppa.launchpad.net/deadsnakes/ppa/ubuntu bionic InRelease\n",
            "Hit:16 http://ppa.launchpad.net/graphics-drivers/ppa/ubuntu bionic InRelease\n",
            "Reading package lists... Done\n",
            "Building dependency tree       \n",
            "Reading state information... Done\n",
            "87 packages can be upgraded. Run 'apt list --upgradable' to see them.\n"
          ],
          "name": "stdout"
        }
      ]
    },
    {
      "cell_type": "markdown",
      "metadata": {
        "id": "_BGRycakwhXD"
      },
      "source": [
        "Finally lets install docker with the below command:"
      ]
    },
    {
      "cell_type": "code",
      "metadata": {
        "id": "9zp-VmLsws2r",
        "colab": {
          "base_uri": "https://localhost:8080/"
        },
        "outputId": "609d755b-2792-4f91-8efe-15adfbbf6be1"
      },
      "source": [
        "!sudo apt install docker-ce"
      ],
      "execution_count": 7,
      "outputs": [
        {
          "output_type": "stream",
          "text": [
            "Reading package lists... Done\n",
            "Building dependency tree       \n",
            "Reading state information... Done\n",
            "The following package was automatically installed and is no longer required:\n",
            "  libnvidia-common-460\n",
            "Use 'sudo apt autoremove' to remove it.\n",
            "The following additional packages will be installed:\n",
            "  apparmor containerd.io docker-ce-cli docker-ce-rootless-extras\n",
            "  docker-scan-plugin iptables libip6tc0 libiptc0 libmnl0\n",
            "  libnetfilter-conntrack3 libnfnetlink0 libxtables12 pigz\n",
            "Suggested packages:\n",
            "  apparmor-profiles-extra apparmor-utils aufs-tools cgroupfs-mount\n",
            "  | cgroup-lite\n",
            "Recommended packages:\n",
            "  slirp4netns\n",
            "The following NEW packages will be installed:\n",
            "  apparmor containerd.io docker-ce docker-ce-cli docker-ce-rootless-extras\n",
            "  docker-scan-plugin iptables libip6tc0 libiptc0 libmnl0\n",
            "  libnetfilter-conntrack3 libnfnetlink0 libxtables12 pigz\n",
            "0 upgraded, 14 newly installed, 0 to remove and 87 not upgraded.\n",
            "Need to get 108 MB of archives.\n",
            "After this operation, 469 MB of additional disk space will be used.\n",
            "Get:1 https://download.docker.com/linux/ubuntu bionic/stable amd64 containerd.io amd64 1.4.6-1 [28.3 MB]\n",
            "Get:2 http://archive.ubuntu.com/ubuntu bionic/main amd64 libnfnetlink0 amd64 1.0.1-3 [13.3 kB]\n",
            "Get:3 http://archive.ubuntu.com/ubuntu bionic/universe amd64 pigz amd64 2.4-1 [57.4 kB]\n",
            "Get:4 http://archive.ubuntu.com/ubuntu bionic/main amd64 libmnl0 amd64 1.0.4-2 [12.3 kB]\n",
            "Get:5 http://archive.ubuntu.com/ubuntu bionic/main amd64 libxtables12 amd64 1.6.1-2ubuntu2 [27.9 kB]\n",
            "Get:6 http://archive.ubuntu.com/ubuntu bionic-updates/main amd64 apparmor amd64 2.12-4ubuntu5.1 [487 kB]\n",
            "Get:7 https://download.docker.com/linux/ubuntu bionic/stable amd64 docker-ce-cli amd64 5:20.10.6~3-0~ubuntu-bionic [41.4 MB]\n",
            "Get:8 http://archive.ubuntu.com/ubuntu bionic/main amd64 libip6tc0 amd64 1.6.1-2ubuntu2 [19.9 kB]\n",
            "Get:9 http://archive.ubuntu.com/ubuntu bionic/main amd64 libiptc0 amd64 1.6.1-2ubuntu2 [9,308 B]\n",
            "Get:10 http://archive.ubuntu.com/ubuntu bionic/main amd64 libnetfilter-conntrack3 amd64 1.0.6-2 [37.8 kB]\n",
            "Get:11 http://archive.ubuntu.com/ubuntu bionic/main amd64 iptables amd64 1.6.1-2ubuntu2 [269 kB]\n",
            "Get:12 https://download.docker.com/linux/ubuntu bionic/stable amd64 docker-ce amd64 5:20.10.6~3-0~ubuntu-bionic [24.8 MB]\n",
            "Get:13 https://download.docker.com/linux/ubuntu bionic/stable amd64 docker-ce-rootless-extras amd64 5:20.10.6~3-0~ubuntu-bionic [9,067 kB]\n",
            "Get:14 https://download.docker.com/linux/ubuntu bionic/stable amd64 docker-scan-plugin amd64 0.7.0~ubuntu-bionic [3,884 kB]\n",
            "Fetched 108 MB in 2s (46.1 MB/s)\n",
            "debconf: unable to initialize frontend: Dialog\n",
            "debconf: (No usable dialog-like program is installed, so the dialog based frontend cannot be used. at /usr/share/perl5/Debconf/FrontEnd/Dialog.pm line 76, <> line 14.)\n",
            "debconf: falling back to frontend: Readline\n",
            "debconf: unable to initialize frontend: Readline\n",
            "debconf: (This frontend requires a controlling tty.)\n",
            "debconf: falling back to frontend: Teletype\n",
            "dpkg-preconfigure: unable to re-open stdin: \n",
            "Selecting previously unselected package libnfnetlink0:amd64.\n",
            "(Reading database ... 160710 files and directories currently installed.)\n",
            "Preparing to unpack .../00-libnfnetlink0_1.0.1-3_amd64.deb ...\n",
            "Unpacking libnfnetlink0:amd64 (1.0.1-3) ...\n",
            "Selecting previously unselected package pigz.\n",
            "Preparing to unpack .../01-pigz_2.4-1_amd64.deb ...\n",
            "Unpacking pigz (2.4-1) ...\n",
            "Selecting previously unselected package libmnl0:amd64.\n",
            "Preparing to unpack .../02-libmnl0_1.0.4-2_amd64.deb ...\n",
            "Unpacking libmnl0:amd64 (1.0.4-2) ...\n",
            "Selecting previously unselected package libxtables12:amd64.\n",
            "Preparing to unpack .../03-libxtables12_1.6.1-2ubuntu2_amd64.deb ...\n",
            "Unpacking libxtables12:amd64 (1.6.1-2ubuntu2) ...\n",
            "Selecting previously unselected package apparmor.\n",
            "Preparing to unpack .../04-apparmor_2.12-4ubuntu5.1_amd64.deb ...\n",
            "Unpacking apparmor (2.12-4ubuntu5.1) ...\n",
            "Selecting previously unselected package libip6tc0:amd64.\n",
            "Preparing to unpack .../05-libip6tc0_1.6.1-2ubuntu2_amd64.deb ...\n",
            "Unpacking libip6tc0:amd64 (1.6.1-2ubuntu2) ...\n",
            "Selecting previously unselected package libiptc0:amd64.\n",
            "Preparing to unpack .../06-libiptc0_1.6.1-2ubuntu2_amd64.deb ...\n",
            "Unpacking libiptc0:amd64 (1.6.1-2ubuntu2) ...\n",
            "Selecting previously unselected package libnetfilter-conntrack3:amd64.\n",
            "Preparing to unpack .../07-libnetfilter-conntrack3_1.0.6-2_amd64.deb ...\n",
            "Unpacking libnetfilter-conntrack3:amd64 (1.0.6-2) ...\n",
            "Selecting previously unselected package iptables.\n",
            "Preparing to unpack .../08-iptables_1.6.1-2ubuntu2_amd64.deb ...\n",
            "Unpacking iptables (1.6.1-2ubuntu2) ...\n",
            "Selecting previously unselected package containerd.io.\n",
            "Preparing to unpack .../09-containerd.io_1.4.6-1_amd64.deb ...\n",
            "Unpacking containerd.io (1.4.6-1) ...\n",
            "Selecting previously unselected package docker-ce-cli.\n",
            "Preparing to unpack .../10-docker-ce-cli_5%3a20.10.6~3-0~ubuntu-bionic_amd64.deb ...\n",
            "Unpacking docker-ce-cli (5:20.10.6~3-0~ubuntu-bionic) ...\n",
            "Selecting previously unselected package docker-ce.\n",
            "Preparing to unpack .../11-docker-ce_5%3a20.10.6~3-0~ubuntu-bionic_amd64.deb ...\n",
            "Unpacking docker-ce (5:20.10.6~3-0~ubuntu-bionic) ...\n",
            "Selecting previously unselected package docker-ce-rootless-extras.\n",
            "Preparing to unpack .../12-docker-ce-rootless-extras_5%3a20.10.6~3-0~ubuntu-bionic_amd64.deb ...\n",
            "Unpacking docker-ce-rootless-extras (5:20.10.6~3-0~ubuntu-bionic) ...\n",
            "Selecting previously unselected package docker-scan-plugin.\n",
            "Preparing to unpack .../13-docker-scan-plugin_0.7.0~ubuntu-bionic_amd64.deb ...\n",
            "Unpacking docker-scan-plugin (0.7.0~ubuntu-bionic) ...\n",
            "Setting up containerd.io (1.4.6-1) ...\n",
            "Created symlink /etc/systemd/system/multi-user.target.wants/containerd.service → /lib/systemd/system/containerd.service.\n",
            "Setting up docker-ce-rootless-extras (5:20.10.6~3-0~ubuntu-bionic) ...\n",
            "Setting up docker-scan-plugin (0.7.0~ubuntu-bionic) ...\n",
            "Setting up libiptc0:amd64 (1.6.1-2ubuntu2) ...\n",
            "Setting up apparmor (2.12-4ubuntu5.1) ...\n",
            "debconf: unable to initialize frontend: Dialog\n",
            "debconf: (No usable dialog-like program is installed, so the dialog based frontend cannot be used. at /usr/share/perl5/Debconf/FrontEnd/Dialog.pm line 76.)\n",
            "debconf: falling back to frontend: Readline\n",
            "Created symlink /etc/systemd/system/sysinit.target.wants/apparmor.service → /lib/systemd/system/apparmor.service.\n",
            "Setting up libxtables12:amd64 (1.6.1-2ubuntu2) ...\n",
            "Setting up libnfnetlink0:amd64 (1.0.1-3) ...\n",
            "Setting up docker-ce-cli (5:20.10.6~3-0~ubuntu-bionic) ...\n",
            "Setting up libmnl0:amd64 (1.0.4-2) ...\n",
            "Setting up pigz (2.4-1) ...\n",
            "Setting up libip6tc0:amd64 (1.6.1-2ubuntu2) ...\n",
            "Setting up libnetfilter-conntrack3:amd64 (1.0.6-2) ...\n",
            "Setting up iptables (1.6.1-2ubuntu2) ...\n",
            "Setting up docker-ce (5:20.10.6~3-0~ubuntu-bionic) ...\n",
            "Created symlink /etc/systemd/system/multi-user.target.wants/docker.service → /lib/systemd/system/docker.service.\n",
            "Created symlink /etc/systemd/system/sockets.target.wants/docker.socket → /lib/systemd/system/docker.socket.\n",
            "invoke-rc.d: could not determine current runlevel\n",
            "invoke-rc.d: policy-rc.d denied execution of start.\n",
            "Processing triggers for systemd (237-3ubuntu10.47) ...\n",
            "Processing triggers for man-db (2.8.3-2ubuntu0.1) ...\n",
            "Processing triggers for libc-bin (2.27-3ubuntu1.2) ...\n",
            "/sbin/ldconfig.real: /usr/local/lib/python3.7/dist-packages/ideep4py/lib/libmkldnn.so.0 is not a symbolic link\n",
            "\n"
          ],
          "name": "stdout"
        }
      ]
    },
    {
      "cell_type": "markdown",
      "metadata": {
        "id": "FmXJptVEwueb"
      },
      "source": [
        "Now lets check that docker is running. "
      ]
    },
    {
      "cell_type": "code",
      "metadata": {
        "id": "57i-lr5qNVIS",
        "outputId": "cb7c4b27-98e5-48d1-b0e5-71cad83378b8",
        "colab": {
          "base_uri": "https://localhost:8080/"
        }
      },
      "source": [
        "!sudo service docker start"
      ],
      "execution_count": 14,
      "outputs": [
        {
          "output_type": "stream",
          "text": [
            " * Starting Docker: docker\n",
            "   ...done.\n"
          ],
          "name": "stdout"
        }
      ]
    },
    {
      "cell_type": "code",
      "metadata": {
        "id": "bbIB0_awNfeK",
        "outputId": "ed65cc0a-e9ed-4d50-bd7a-bdae19d5146d",
        "colab": {
          "base_uri": "https://localhost:8080/"
        }
      },
      "source": [
        "!sudo systemctl enable docker"
      ],
      "execution_count": 17,
      "outputs": [
        {
          "output_type": "stream",
          "text": [
            "Synchronizing state of docker.service with SysV service script with /lib/systemd/systemd-sysv-install.\n",
            "Executing: /lib/systemd/systemd-sysv-install enable docker\n"
          ],
          "name": "stdout"
        }
      ]
    },
    {
      "cell_type": "code",
      "metadata": {
        "id": "ZvW1R7VyMvDe",
        "outputId": "5579e1eb-5a0f-4e8e-fa93-31de321759de",
        "colab": {
          "base_uri": "https://localhost:8080/"
        }
      },
      "source": [
        "!sudo service redis-server start"
      ],
      "execution_count": 9,
      "outputs": [
        {
          "output_type": "stream",
          "text": [
            "redis-server: unrecognized service\n"
          ],
          "name": "stdout"
        }
      ]
    },
    {
      "cell_type": "code",
      "metadata": {
        "id": "7cqkwpdMOVmd",
        "outputId": "ebb7c6c3-b60a-4813-8fac-b909e12781c2",
        "colab": {
          "base_uri": "https://localhost:8080/"
        }
      },
      "source": [
        "!service openvas start"
      ],
      "execution_count": 20,
      "outputs": [
        {
          "output_type": "stream",
          "text": [
            "openvas: unrecognized service\n"
          ],
          "name": "stdout"
        }
      ]
    },
    {
      "cell_type": "code",
      "metadata": {
        "id": "hNDwVbq0NGKv",
        "outputId": "0d316b47-5f34-4a2b-eb66-287f3e21df76",
        "colab": {
          "base_uri": "https://localhost:8080/"
        }
      },
      "source": [
        "!sudo /etc/init.d/docker start"
      ],
      "execution_count": 10,
      "outputs": [
        {
          "output_type": "stream",
          "text": [
            " * Starting Docker: docker\n",
            "   ...done.\n"
          ],
          "name": "stdout"
        }
      ]
    },
    {
      "cell_type": "code",
      "metadata": {
        "id": "2HXwOXNiw1tO"
      },
      "source": [
        "!wget -q -c -nc https://bin.equinox.io/c/4VmDzA7iaHb/ngrok-stable-linux-amd64.zip"
      ],
      "execution_count": 21,
      "outputs": []
    },
    {
      "cell_type": "code",
      "metadata": {
        "id": "NKlG1soLOtgj"
      },
      "source": [
        "!unzip -qq -n ngrok-stable-linux-amd64.zip"
      ],
      "execution_count": 22,
      "outputs": []
    },
    {
      "cell_type": "code",
      "metadata": {
        "id": "MMXHxcswOzUU",
        "outputId": "4b1b54e4-cd2b-4de3-ff62-9a3492418a05",
        "colab": {
          "base_uri": "https://localhost:8080/"
        }
      },
      "source": [
        "!apt-get install -qq -o=Dpkg::Use-Pty=0 openssh-server pwgen > /dev/null"
      ],
      "execution_count": 23,
      "outputs": [
        {
          "output_type": "stream",
          "text": [
            "\n",
            "Creating config file /etc/ssh/sshd_config with new version\n",
            "Creating SSH2 RSA key; this may take some time ...\n",
            "2048 SHA256:Yj4N0UxyCmBFSbpHOgEpsUtdLTj5dq2hxnDj8Uz/y4A root@2035b4c66579 (RSA)\n",
            "Creating SSH2 ECDSA key; this may take some time ...\n",
            "256 SHA256:Sk6vawC0zZfyX99jbI1F5d7NgzyifkJaJyUgobDFO3Y root@2035b4c66579 (ECDSA)\n",
            "Creating SSH2 ED25519 key; this may take some time ...\n",
            "256 SHA256:LwPVsu/jhhwnYFPUy/2E9ynQ3UmTyy9h8l869pzwiJM root@2035b4c66579 (ED25519)\n",
            "Created symlink /etc/systemd/system/sshd.service → /lib/systemd/system/ssh.service.\n",
            "Created symlink /etc/systemd/system/multi-user.target.wants/ssh.service → /lib/systemd/system/ssh.service.\n",
            "invoke-rc.d: could not determine current runlevel\n",
            "invoke-rc.d: policy-rc.d denied execution of start.\n"
          ],
          "name": "stdout"
        }
      ]
    },
    {
      "cell_type": "code",
      "metadata": {
        "id": "rJTA2ysLO47O"
      },
      "source": [
        "!echo root:$1234 | chpasswd"
      ],
      "execution_count": 24,
      "outputs": []
    },
    {
      "cell_type": "code",
      "metadata": {
        "id": "k13QWwOaPBi8"
      },
      "source": [
        "!mkdir -p /var/run/sshd"
      ],
      "execution_count": 25,
      "outputs": []
    },
    {
      "cell_type": "code",
      "metadata": {
        "id": "zr0pZZfKPEyW"
      },
      "source": [
        "!echo “PermitRootLogin yes” >> /etc/ssh/sshd_config"
      ],
      "execution_count": 26,
      "outputs": []
    },
    {
      "cell_type": "code",
      "metadata": {
        "id": "mx2YVDGWPGpS"
      },
      "source": [
        "!echo “PasswordAuthentication yes” >> /etc/ssh/sshd_config"
      ],
      "execution_count": 27,
      "outputs": []
    },
    {
      "cell_type": "code",
      "metadata": {
        "id": "P32i8C7TPKp4"
      },
      "source": [
        "!echo “LD_LIBRARY_PATH=/usr/lib64-nvidia” >> /root/.bashrc"
      ],
      "execution_count": 28,
      "outputs": []
    },
    {
      "cell_type": "code",
      "metadata": {
        "id": "P38EQJrdPRec"
      },
      "source": [
        "!echo “export LD_LIBRARY_PATH” >> /root/.bashrc"
      ],
      "execution_count": 29,
      "outputs": []
    },
    {
      "cell_type": "code",
      "metadata": {
        "id": "91USyQpIPTBq",
        "outputId": "be4f147c-7d23-4874-9195-57038796ed61",
        "colab": {
          "base_uri": "https://localhost:8080/"
        }
      },
      "source": [
        "!curl -s http://localhost:4040/api/tunnels | python3 -c \\"
      ],
      "execution_count": 32,
      "outputs": [
        {
          "output_type": "stream",
          "text": [
            "Argument expected for the -c option\n",
            "usage: python3 [option] ... [-c cmd | -m mod | file | -] [arg] ...\n",
            "Try `python -h' for more information.\n"
          ],
          "name": "stdout"
        }
      ]
    },
    {
      "cell_type": "markdown",
      "metadata": {
        "id": "PaeX7h1rw8K3"
      },
      "source": [
        "The output from the command should look similar to the one below"
      ]
    },
    {
      "cell_type": "code",
      "metadata": {
        "id": "DjwRuO50w_-q"
      },
      "source": [
        "Output\n",
        "● docker.service - Docker Application Container Engine\n",
        "   Loaded: loaded (/lib/systemd/system/docker.service; enabled; vendor preset: enabled)\n",
        "   Active: active (running) since Tue 2019-01-01 19:22:114 UTC; 1min 25s ago\n",
        "     Docs: https://docs.docker.com\n",
        " Main PID: 10096 (dockerd)\n",
        "    Tasks: 16\n",
        "   CGroup: /system.slice/docker.service\n",
        "           ├─10096 /usr/bin/dockerd -H fd://\n",
        "           └─10113 docker-containerd --config /var/run/docker/containerd/containerd.toml"
      ],
      "execution_count": null,
      "outputs": []
    },
    {
      "cell_type": "markdown",
      "metadata": {
        "id": "X22ur1PrxQYN"
      },
      "source": [
        "Once we have verified everything is installed and running correctly we can simply run the following command to install the TensorFlow Docker image:"
      ]
    },
    {
      "cell_type": "code",
      "metadata": {
        "id": "8FgZuli4xoF6",
        "colab": {
          "base_uri": "https://localhost:8080/"
        },
        "outputId": "a13c4fe4-9886-4fec-a005-b29ced41653b"
      },
      "source": [
        "!docker run -it -p 8888:8888 gcr.io/tensorflow/tensorflow"
      ],
      "execution_count": 19,
      "outputs": [
        {
          "output_type": "stream",
          "text": [
            "docker: Cannot connect to the Docker daemon at unix:///var/run/docker.sock. Is the docker daemon running?.\n",
            "See 'docker run --help'.\n"
          ],
          "name": "stdout"
        }
      ]
    },
    {
      "cell_type": "code",
      "metadata": {
        "id": "gkFkgHeuQPBd",
        "outputId": "3125df5f-fc3d-4928-cc31-858335955443",
        "colab": {
          "base_uri": "https://localhost:8080/"
        }
      },
      "source": [
        "!apt-get -qq install docker.io"
      ],
      "execution_count": 33,
      "outputs": [
        {
          "output_type": "stream",
          "text": [
            "E: Unable to correct problems, you have held broken packages.\n"
          ],
          "name": "stdout"
        }
      ]
    },
    {
      "cell_type": "markdown",
      "metadata": {
        "id": "8u-O46-uW7_j"
      },
      "source": [
        "Once installed we can move onto the next step."
      ]
    }
  ]
}