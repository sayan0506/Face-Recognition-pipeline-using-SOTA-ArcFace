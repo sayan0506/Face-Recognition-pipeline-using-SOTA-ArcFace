{
  "nbformat": 4,
  "nbformat_minor": 0,
  "metadata": {
    "colab": {
      "name": "Face_recognition_using_arcface.ipynb",
      "provenance": [],
      "collapsed_sections": [],
      "toc_visible": true,
      "include_colab_link": true
    },
    "kernelspec": {
      "name": "python3",
      "display_name": "Python 3"
    },
    "language_info": {
      "name": "python"
    },
    "accelerator": "GPU"
  },
  "cells": [
    {
      "cell_type": "markdown",
      "metadata": {
        "id": "view-in-github",
        "colab_type": "text"
      },
      "source": [
        "<a href=\"https://colab.research.google.com/github/sayan0506/Face-Recognition-pipeline-using-SOTA-ArcFace/blob/main/Face_recognition_using_arcface.ipynb\" target=\"_parent\"><img src=\"https://colab.research.google.com/assets/colab-badge.svg\" alt=\"Open In Colab\"/></a>"
      ]
    },
    {
      "cell_type": "markdown",
      "metadata": {
        "id": "_XeOuxgY_2eK"
      },
      "source": [
        "# **Face recognition Pipeline design using arcface**\n",
        "\n",
        "This notebook is inspired from the paper [ArcFace: Additive Angular Margin Loss for Deep Face Recognition](https://arxiv.org/pdf/1801.07698v3.pdf)\n",
        "\n",
        "Git repo: [Insightface_Pytorch](https://github.com/TreB1eN/InsightFace_Pytorch)"
      ]
    },
    {
      "cell_type": "markdown",
      "metadata": {
        "id": "OIXqdxd086ho"
      },
      "source": [
        "**Install Dependencies**"
      ]
    },
    {
      "cell_type": "code",
      "metadata": {
        "colab": {
          "base_uri": "https://localhost:8080/"
        },
        "id": "6uxoiSwdlf4j",
        "outputId": "f40e8182-722c-44cf-fd29-3d70965ade81"
      },
      "source": [
        "# install tensorboardX\n",
        "!pip install tensorboardX"
      ],
      "execution_count": 1,
      "outputs": [
        {
          "output_type": "stream",
          "text": [
            "Collecting tensorboardX\n",
            "\u001b[?25l  Downloading https://files.pythonhosted.org/packages/07/84/46421bd3e0e89a92682b1a38b40efc22dafb6d8e3d947e4ceefd4a5fabc7/tensorboardX-2.2-py2.py3-none-any.whl (120kB)\n",
            "\r\u001b[K     |██▊                             | 10kB 19.8MB/s eta 0:00:01\r\u001b[K     |█████▍                          | 20kB 14.7MB/s eta 0:00:01\r\u001b[K     |████████▏                       | 30kB 9.4MB/s eta 0:00:01\r\u001b[K     |██████████▉                     | 40kB 8.1MB/s eta 0:00:01\r\u001b[K     |█████████████▋                  | 51kB 5.2MB/s eta 0:00:01\r\u001b[K     |████████████████▎               | 61kB 6.1MB/s eta 0:00:01\r\u001b[K     |███████████████████             | 71kB 6.1MB/s eta 0:00:01\r\u001b[K     |█████████████████████▊          | 81kB 6.5MB/s eta 0:00:01\r\u001b[K     |████████████████████████▌       | 92kB 6.3MB/s eta 0:00:01\r\u001b[K     |███████████████████████████▏    | 102kB 6.7MB/s eta 0:00:01\r\u001b[K     |██████████████████████████████  | 112kB 6.7MB/s eta 0:00:01\r\u001b[K     |████████████████████████████████| 122kB 6.7MB/s \n",
            "\u001b[?25hRequirement already satisfied: numpy in /usr/local/lib/python3.7/dist-packages (from tensorboardX) (1.19.5)\n",
            "Requirement already satisfied: protobuf>=3.8.0 in /usr/local/lib/python3.7/dist-packages (from tensorboardX) (3.12.4)\n",
            "Requirement already satisfied: six>=1.9 in /usr/local/lib/python3.7/dist-packages (from protobuf>=3.8.0->tensorboardX) (1.15.0)\n",
            "Requirement already satisfied: setuptools in /usr/local/lib/python3.7/dist-packages (from protobuf>=3.8.0->tensorboardX) (56.1.0)\n",
            "Installing collected packages: tensorboardX\n",
            "Successfully installed tensorboardX-2.2\n"
          ],
          "name": "stdout"
        }
      ]
    },
    {
      "cell_type": "markdown",
      "metadata": {
        "id": "OjyoPUOu2w9V"
      },
      "source": [
        "## **Mount Drive**\n",
        "\n",
        "Drive: [link](hazrasayan2021@gmail.com)"
      ]
    },
    {
      "cell_type": "code",
      "metadata": {
        "colab": {
          "base_uri": "https://localhost:8080/"
        },
        "id": "wf6bQ1-22sV4",
        "outputId": "98e294a0-d78d-4e9b-9f00-c8e582d0b402"
      },
      "source": [
        "from google.colab import drive\n",
        "\n",
        "drive.mount('/content/gdrive/')"
      ],
      "execution_count": 2,
      "outputs": [
        {
          "output_type": "stream",
          "text": [
            "Mounted at /content/gdrive/\n"
          ],
          "name": "stdout"
        }
      ]
    },
    {
      "cell_type": "markdown",
      "metadata": {
        "id": "axuU73KwA3cC"
      },
      "source": [
        "## **Import Dependencies**"
      ]
    },
    {
      "cell_type": "code",
      "metadata": {
        "id": "Db0Lbuh2FBik"
      },
      "source": [
        "from pathlib import Path\n",
        "import numpy as np\n",
        "import cv2\n",
        "import os\n",
        "import pandas as pd\n",
        "from matplotlib import pyplot as plt\n",
        "import seaborn as sns\n",
        "from sklearn.model_selection import train_test_split\n",
        "\n",
        "# data pipeline\n",
        "# helps to create dict where, use keys as atribute\n",
        "from easydict import EasyDict as edict\n",
        "\n",
        "from torchvision import transforms as trans\n",
        "from torchvision.datasets import ImageFolder\n",
        "from PIL import Image, ImageFile, ImageDraw\n",
        "from torch.utils.data import Dataset, DataLoader\n",
        "\n",
        "# ensures loading truncated images \n",
        "ImageFile.LOAD_TRUNCATED_IMAGES = True\n",
        "\n",
        "# model build\n",
        "from torch.nn import Linear, Conv2d, BatchNorm1d, BatchNorm2d, PReLU, ReLU, Sigmoid, Dropout2d, Dropout, AvgPool2d, MaxPool2d, AdaptiveAvgPool2d, Sequential, Module, Parameter\n",
        "import torch.nn.functional as F\n",
        "import torch\n",
        "from collections import namedtuple\n",
        "import math\n",
        "import pdb\n",
        "\n",
        "# model training\n",
        "from tensorboardX import SummaryWriter\n",
        "from torch import optim\n",
        "from gdrive.MyDrive.arcface import model\n",
        "from tqdm import tqdm\n",
        "from torch.nn import CrossEntropyLoss"
      ],
      "execution_count": 3,
      "outputs": []
    },
    {
      "cell_type": "markdown",
      "metadata": {
        "id": "v5FmbF9u8BqH"
      },
      "source": [
        "## **Environment Setup**"
      ]
    },
    {
      "cell_type": "markdown",
      "metadata": {
        "id": "Dw_kTVAt8S9U"
      },
      "source": [
        "**Check GPU utilization**"
      ]
    },
    {
      "cell_type": "code",
      "metadata": {
        "id": "ngOSBUwqLY7M"
      },
      "source": [
        "#!export CUDA_VISIBLE_DEVICES=\"\""
      ],
      "execution_count": 4,
      "outputs": []
    },
    {
      "cell_type": "code",
      "metadata": {
        "colab": {
          "base_uri": "https://localhost:8080/"
        },
        "id": "ggMZ047Z8BId",
        "outputId": "5a70cba8-305d-4ca3-9f7c-2f718e265e98"
      },
      "source": [
        "device = torch.device('cuda:0' if torch.cuda.is_available() else 'cpu')\n",
        "print(f'Running on device: {device}')"
      ],
      "execution_count": 5,
      "outputs": [
        {
          "output_type": "stream",
          "text": [
            "Running on device: cuda:0\n"
          ],
          "name": "stdout"
        }
      ]
    },
    {
      "cell_type": "code",
      "metadata": {
        "colab": {
          "base_uri": "https://localhost:8080/"
        },
        "id": "s7e38u2g8muB",
        "outputId": "84b2ea9f-9334-4046-afbf-5b709067208e"
      },
      "source": [
        "print(f'Device info\\n{torch.cuda.get_device_properties(0)}')"
      ],
      "execution_count": 6,
      "outputs": [
        {
          "output_type": "stream",
          "text": [
            "Device info\n",
            "_CudaDeviceProperties(name='Tesla P100-PCIE-16GB', major=6, minor=0, total_memory=16280MB, multi_processor_count=56)\n"
          ],
          "name": "stdout"
        }
      ]
    },
    {
      "cell_type": "markdown",
      "metadata": {
        "id": "lclnCGEuaLaI"
      },
      "source": [
        "## **Dataset Load and Train-Valid-Test**\n",
        "\n",
        "Load the avengers face dataset\n",
        "* Source: [Kaggle](https://www.kaggle.com/rawatjitesh/avengers-face-recognition)\n",
        "* Drive link: [Dataset](https://drive.google.com/drive/folders/1VYuEXVOzUtd7fOaaLv7oW4YwGYbvh80w?usp=sharing)"
      ]
    },
    {
      "cell_type": "markdown",
      "metadata": {
        "id": "3AhUFYdbLcpQ"
      },
      "source": [
        "**Defining Configuration Dictionary, which will contain the important metadata regarding the ML pipeline**"
      ]
    },
    {
      "cell_type": "code",
      "metadata": {
        "id": "cK2Y2s80LnMr"
      },
      "source": [
        "# config edict dictionary initialize\n",
        "config = edict()"
      ],
      "execution_count": 7,
      "outputs": []
    },
    {
      "cell_type": "code",
      "metadata": {
        "id": "K8qzf3Ijgyql"
      },
      "source": [
        "# configure device\n",
        "config.device = device"
      ],
      "execution_count": 8,
      "outputs": []
    },
    {
      "cell_type": "code",
      "metadata": {
        "id": "ZiOnY2VjZaUl"
      },
      "source": [
        "# avengers face dataset path\n",
        "dataset_path = \"/content/gdrive/MyDrive/Kaggle Avengers face dataset/Marvels_face_dataset\"\n",
        "# add dataset path to config\n",
        "config.imgs_folder = dataset_path"
      ],
      "execution_count": 9,
      "outputs": []
    },
    {
      "cell_type": "markdown",
      "metadata": {
        "id": "zvy-wZOcAK03"
      },
      "source": [
        "#### **Data Analysis**"
      ]
    },
    {
      "cell_type": "code",
      "metadata": {
        "colab": {
          "base_uri": "https://localhost:8080/"
        },
        "id": "q-fm_Wvz6psa",
        "outputId": "92d613d8-b8e9-499d-8bd6-09ac69c7fba9"
      },
      "source": [
        "# identity list\n",
        "identity_list = ['chris_evans', 'chris_hemsworth', 'mark_ruffalo', 'robert_downey_jr', 'scarlett_johansson']\n",
        "# identity path\n",
        "identity_path = [os.path.join(config.imgs_folder, identity) for identity in identity_list]\n",
        "\n",
        "print(f'Identity Paths\\n{identity_path}')"
      ],
      "execution_count": 10,
      "outputs": [
        {
          "output_type": "stream",
          "text": [
            "Identity Paths\n",
            "['/content/gdrive/MyDrive/Kaggle Avengers face dataset/Marvels_face_dataset/chris_evans', '/content/gdrive/MyDrive/Kaggle Avengers face dataset/Marvels_face_dataset/chris_hemsworth', '/content/gdrive/MyDrive/Kaggle Avengers face dataset/Marvels_face_dataset/mark_ruffalo', '/content/gdrive/MyDrive/Kaggle Avengers face dataset/Marvels_face_dataset/robert_downey_jr', '/content/gdrive/MyDrive/Kaggle Avengers face dataset/Marvels_face_dataset/scarlett_johansson']\n"
          ],
          "name": "stdout"
        }
      ]
    },
    {
      "cell_type": "markdown",
      "metadata": {
        "id": "UKdkROhJDncm"
      },
      "source": [
        "**Define image and label dataframe for analysis**"
      ]
    },
    {
      "cell_type": "code",
      "metadata": {
        "id": "pLWkvMXFDrQB"
      },
      "source": [
        "# image dataframe\n",
        "img_df = pd.DataFrame(columns = ['Image', 'Label'])\n",
        "\n",
        "# label dataframe\n",
        "label_df = pd.DataFrame(columns = identity_list)"
      ],
      "execution_count": 11,
      "outputs": []
    },
    {
      "cell_type": "markdown",
      "metadata": {
        "id": "8rN_bmw2ETn0"
      },
      "source": [
        "**Fetching info**"
      ]
    },
    {
      "cell_type": "code",
      "metadata": {
        "colab": {
          "base_uri": "https://localhost:8080/"
        },
        "id": "UnQCNfZwBItE",
        "outputId": "a4bde194-f5cf-40ce-e339-4e548a028817"
      },
      "source": [
        "\n",
        "print('\\n[INFO] Loading images ...')\n",
        "# total sample count\n",
        "sample_count = 0\n",
        "for sr, id_path in enumerate(identity_path):\n",
        "  print(f'[INFO] Processing {identity_list[sr]}')\n",
        "  sample_list = os.listdir(id_path)\n",
        "\n",
        "  for id_sample in sample_list:\n",
        "    # removing the .DS_store files from list, which contains the folder infos\n",
        "    if id_sample == '.DS_store':\n",
        "      sample_list.remove(id_sample)\n",
        "  # categorical count\n",
        "  count = 0\n",
        "  for id_sample in sample_list:\n",
        "    id_sample_path = os.path.join(id_path, id_sample)\n",
        "    if id_sample_path.endswith(\".jpg\") == True or id_sample_path.endswith(\".JPG\") == True or id_sample_path.endswith(\".png\") == True or id_sample_path.endswith(\".PNG\") == True:\n",
        "      img_df.loc[sample_count,'Image'], img_df.loc[sample_count,'Label'] = id_sample, identity_list[sr]\n",
        "      #self.img_df.loc[sample_count,'Shape'] = img.shape\n",
        "      count += 1\n",
        "      sample_count += 1\n",
        "\n",
        "  label_df.loc[0, identity_list[sr]] = count\n",
        "  print(count)\n",
        "  # checks whether all the samples are loaded successfully or not to img_df\n",
        "  assert len(sample_list) == count\n",
        "\n",
        "print(f'Data distribution of different identities\\n{label_df}')\n",
        "print(f'Image dataframe\\n{img_df}')"
      ],
      "execution_count": 12,
      "outputs": [
        {
          "output_type": "stream",
          "text": [
            "\n",
            "[INFO] Loading images ...\n",
            "[INFO] Processing chris_evans\n",
            "50\n",
            "[INFO] Processing chris_hemsworth\n",
            "53\n",
            "[INFO] Processing mark_ruffalo\n",
            "66\n",
            "[INFO] Processing robert_downey_jr\n",
            "51\n",
            "[INFO] Processing scarlett_johansson\n",
            "54\n",
            "Data distribution of different identities\n",
            "  chris_evans chris_hemsworth mark_ruffalo robert_downey_jr scarlett_johansson\n",
            "0          50              53           66               51                 54\n",
            "Image dataframe\n",
            "                        Image               Label\n",
            "0           chris_evans34.png         chris_evans\n",
            "1           chris_evans32.png         chris_evans\n",
            "2            chris_evans6.png         chris_evans\n",
            "3           chris_evans47.png         chris_evans\n",
            "4           chris_evans13.png         chris_evans\n",
            "..                        ...                 ...\n",
            "269  scarlett_johansson54.png  scarlett_johansson\n",
            "270  scarlett_johansson52.png  scarlett_johansson\n",
            "271   scarlett_johansson9.png  scarlett_johansson\n",
            "272  scarlett_johansson53.png  scarlett_johansson\n",
            "273   scarlett_johansson5.png  scarlett_johansson\n",
            "\n",
            "[274 rows x 2 columns]\n"
          ],
          "name": "stdout"
        }
      ]
    },
    {
      "cell_type": "markdown",
      "metadata": {
        "id": "4G3rNq_-HtJu"
      },
      "source": [
        "**Target Distribution Visualize**"
      ]
    },
    {
      "cell_type": "code",
      "metadata": {
        "colab": {
          "base_uri": "https://localhost:8080/",
          "height": 339
        },
        "id": "59ZlJqebHkMo",
        "outputId": "0e9fb91b-256e-4aab-e4ac-b358c6e94572"
      },
      "source": [
        "def distribution_vis(counts_series, label):\n",
        "  '''\n",
        "  Target distribution\n",
        "  '''\n",
        "  fig = plt.figure(figsize = (15,5))\n",
        "  sns.barplot(x = counts_series.index, y = counts_series.values)\n",
        "  plt.title(label, fontsize = 16)\n",
        "\n",
        "# returns pandas series with classes as keys and count as values\n",
        "target_counts = img_df['Label'].value_counts()\n",
        "\n",
        "# vis distribution\n",
        "distribution_vis(target_counts, label = 'Target Distribution of Different Identities')"
      ],
      "execution_count": 13,
      "outputs": [
        {
          "output_type": "display_data",
          "data": {
            "image/png": "[encoded data removed]",
            "text/plain": [
              "<Figure size 1080x360 with 1 Axes>"
            ]
          },
          "metadata": {
            "tags": [],
            "needs_background": "light"
          }
        }
      ]
    },
    {
      "cell_type": "markdown",
      "metadata": {
        "id": "ZRD5BkYmLnGD"
      },
      "source": [
        "#### **Train-Validation-Test Split**\n",
        "\n",
        "We are taking train, valid, test ratio as - [0.9:0.05:0.05]"
      ]
    },
    {
      "cell_type": "code",
      "metadata": {
        "id": "n-GhvFdoK65K"
      },
      "source": [
        "# validation split\n",
        "val_ratio = 0.10\n",
        "# test split\n",
        "test_ratio = 0.5\n",
        "\n",
        "# image_ids\n",
        "img_ids = img_df.loc[:,'Image']\n",
        "\n",
        "# image_ids\n",
        "label_ids = img_df.loc[:,'Label']"
      ],
      "execution_count": 14,
      "outputs": []
    },
    {
      "cell_type": "markdown",
      "metadata": {
        "id": "noFE78bzMoEl"
      },
      "source": [
        "**Defining train, validation, test dataframe**"
      ]
    },
    {
      "cell_type": "code",
      "metadata": {
        "id": "kgX_LRwXMMZX"
      },
      "source": [
        "# train df\n",
        "train_df = pd.DataFrame(columns=['Image','Label'])\n",
        "# validation main df\n",
        "valid_main_df = pd.DataFrame(columns=['Image','Label'])\n",
        "# validation df\n",
        "valid_df = pd.DataFrame(columns=['Image','Label'])\n",
        "# test df\n",
        "test_df = pd.DataFrame(columns=['Image','Label'])"
      ],
      "execution_count": 15,
      "outputs": []
    },
    {
      "cell_type": "markdown",
      "metadata": {
        "id": "rD6zGbgvgsWf"
      },
      "source": [
        "**Train-Valid_main Split**"
      ]
    },
    {
      "cell_type": "code",
      "metadata": {
        "id": "zcDAyc9LNAxE"
      },
      "source": [
        "train_df['Image'], valid_main_df['Image'], train_df['Label'], valid_main_df['Label'] = train_test_split(img_ids, label_ids,\n",
        "                                                                                                      test_size = val_ratio,\n",
        "                                                                                                      random_state = 28,\n",
        "                                                                                                      stratify = label_ids,\n",
        "                                                                                                      shuffle = True\n",
        "                                                                                                      )"
      ],
      "execution_count": 16,
      "outputs": []
    },
    {
      "cell_type": "markdown",
      "metadata": {
        "id": "II8MqO20gx4z"
      },
      "source": [
        "**Validation-Test Split**"
      ]
    },
    {
      "cell_type": "code",
      "metadata": {
        "id": "KV9TSidogiWo"
      },
      "source": [
        "valid_df['Image'], test_df['Image'], valid_df['Label'], test_df['Label'] = train_test_split(valid_main_df['Image'], valid_main_df['Label'],\n",
        "                                                                                                      test_size = test_ratio,\n",
        "                                                                                                      random_state = 28,\n",
        "                                                                                                      stratify = valid_main_df['Label'],\n",
        "                                                                                                      shuffle = True\n",
        "                                                                                                      )"
      ],
      "execution_count": 17,
      "outputs": []
    },
    {
      "cell_type": "code",
      "metadata": {
        "colab": {
          "base_uri": "https://localhost:8080/"
        },
        "id": "GwEyIVAFhpgt",
        "outputId": "85878cae-b95c-478c-e67e-003d7d1dac9f"
      },
      "source": [
        "print(f'Train dataframe shape {train_df.shape}')\n",
        "print(f'Validation dataframe shape {valid_df.shape}')\n",
        "print(f'Test dataframe shape {test_df.shape}')"
      ],
      "execution_count": 18,
      "outputs": [
        {
          "output_type": "stream",
          "text": [
            "Train dataframe shape (246, 2)\n",
            "Validation dataframe shape (14, 2)\n",
            "Test dataframe shape (14, 2)\n"
          ],
          "name": "stdout"
        }
      ]
    },
    {
      "cell_type": "markdown",
      "metadata": {
        "id": "P4YN4hoGiwKN"
      },
      "source": [
        "**STratification Check**"
      ]
    },
    {
      "cell_type": "code",
      "metadata": {
        "id": "_gK5QX7XlL3K"
      },
      "source": [
        "def distribution_vis_check(train, valid, test):\n",
        "  '''\n",
        "  Target distribution\n",
        "  '''\n",
        "  xdf = [train.index, valid.index, test.index]\n",
        "  ydf = [train.values, valid.values, test.values]\n",
        "  label = ['Train Distribution', 'Validation Distribution', 'Test Distribution'] \n",
        "  fig = plt.figure(figsize = (20,5))\n",
        "  for i in range(len(xdf)):\n",
        "    fig.add_subplot(1, len(xdf), i+1)\n",
        "    sns.barplot(x = xdf[i], y = ydf[i])\n",
        "    plt.xlabel(label[i], fontsize = 16)\n"
      ],
      "execution_count": 19,
      "outputs": []
    },
    {
      "cell_type": "markdown",
      "metadata": {
        "id": "-nH_GMhZnSu1"
      },
      "source": [
        "**Startifiction check using the df**"
      ]
    },
    {
      "cell_type": "code",
      "metadata": {
        "colab": {
          "base_uri": "https://localhost:8080/"
        },
        "id": "FgR9VspOm-fu",
        "outputId": "b3e07438-1a47-4f03-c642-ec014670dc58"
      },
      "source": [
        "print(train_df['Label'].value_counts())\n",
        "print(valid_df['Label'].value_counts())\n",
        "print(test_df['Label'].value_counts())"
      ],
      "execution_count": 20,
      "outputs": [
        {
          "output_type": "stream",
          "text": [
            "mark_ruffalo          59\n",
            "scarlett_johansson    48\n",
            "chris_hemsworth       48\n",
            "robert_downey_jr      46\n",
            "chris_evans           45\n",
            "Name: Label, dtype: int64\n",
            "mark_ruffalo          4\n",
            "chris_evans           3\n",
            "scarlett_johansson    3\n",
            "chris_hemsworth       2\n",
            "robert_downey_jr      2\n",
            "Name: Label, dtype: int64\n",
            "mark_ruffalo          3\n",
            "chris_hemsworth       3\n",
            "robert_downey_jr      3\n",
            "scarlett_johansson    3\n",
            "chris_evans           2\n",
            "Name: Label, dtype: int64\n"
          ],
          "name": "stdout"
        }
      ]
    },
    {
      "cell_type": "markdown",
      "metadata": {
        "id": "_n5Jt2PanWc5"
      },
      "source": [
        "**Startification CHek Visualize**"
      ]
    },
    {
      "cell_type": "code",
      "metadata": {
        "colab": {
          "base_uri": "https://localhost:8080/",
          "height": 282
        },
        "id": "lMRNw2PmivwL",
        "outputId": "9594e38a-ea3d-4a0d-f488-4ca4bafe9ef0"
      },
      "source": [
        "distribution_vis_check(train_df['Label'].value_counts(), valid_df['Label'].value_counts(), test_df['Label'].value_counts())"
      ],
      "execution_count": 21,
      "outputs": [
        {
          "output_type": "display_data",
          "data": {
            "image/png": "[encoded data removed]",
            "text/plain": [
              "<Figure size 1440x360 with 3 Axes>"
            ]
          },
          "metadata": {
            "tags": [],
            "needs_background": "light"
          }
        }
      ]
    },
    {
      "cell_type": "markdown",
      "metadata": {
        "id": "LII73a7UnZvy"
      },
      "source": [
        "**From all the above analysis, the data train-valid-test split is stratified**"
      ]
    },
    {
      "cell_type": "markdown",
      "metadata": {
        "id": "LNJavgNxzf2i"
      },
      "source": [
        "#### **Face Extraction**\n",
        "\n",
        "For face detection in the images we are using pre-trained Joint Face Detection and Alignment using Multi-task Cascaded Convolutional Networks.\n",
        "\n",
        "[Reference paper](https://arxiv.org/abs/1604.02878)\n",
        "\n",
        "Git clone facenet_pytorch, which consists MTCNN face detector\n",
        "\n",
        "[Git repo](https://github.com/timesler/facenet-pytorch)\n",
        "\n"
      ]
    },
    {
      "cell_type": "code",
      "metadata": {
        "colab": {
          "base_uri": "https://localhost:8080/"
        },
        "id": "RH9h3cOj02-M",
        "outputId": "81de6048-dba6-4204-a488-948d71baeab0"
      },
      "source": [
        "!git clone https://github.com/timesler/facenet-pytorch"
      ],
      "execution_count": 22,
      "outputs": [
        {
          "output_type": "stream",
          "text": [
            "Cloning into 'facenet-pytorch'...\n",
            "remote: Enumerating objects: 1264, done.\u001b[K\n",
            "remote: Counting objects: 100% (29/29), done.\u001b[K\n",
            "remote: Compressing objects: 100% (27/27), done.\u001b[K\n",
            "remote: Total 1264 (delta 11), reused 8 (delta 2), pack-reused 1235\u001b[K\n",
            "Receiving objects: 100% (1264/1264), 22.89 MiB | 44.39 MiB/s, done.\n",
            "Resolving deltas: 100% (613/613), done.\n"
          ],
          "name": "stdout"
        }
      ]
    },
    {
      "cell_type": "markdown",
      "metadata": {
        "id": "M0zgBYsP1ZLn"
      },
      "source": [
        "**Rename folder to \"facenet_pytorch\", as python module does not accept name containing \"-\"**"
      ]
    },
    {
      "cell_type": "code",
      "metadata": {
        "id": "BB6-V4fo1lTC"
      },
      "source": [
        "os.rename('facenet-pytorch', 'facenet_pytorch')"
      ],
      "execution_count": 23,
      "outputs": []
    },
    {
      "cell_type": "markdown",
      "metadata": {
        "id": "Iqd5I8Iz1Oll"
      },
      "source": [
        "**Import Dependencies for MTCNN face detector**"
      ]
    },
    {
      "cell_type": "code",
      "metadata": {
        "id": "WTK4YkJzrFKU"
      },
      "source": [
        "from facenet_pytorch.models.mtcnn import MTCNN"
      ],
      "execution_count": 24,
      "outputs": []
    },
    {
      "cell_type": "markdown",
      "metadata": {
        "id": "nyQgrI1H2WzC"
      },
      "source": [
        "**Define MTCNN module**\n",
        "\n",
        "Default params shown for illustration, but not needed. Note that, since MTCNN is a collection of neural nets and other code, the device must be passed in the following way to enable copying of objects when needed internally."
      ]
    },
    {
      "cell_type": "code",
      "metadata": {
        "id": "4YRfQygP2Rmz"
      },
      "source": [
        "# face detector object\n",
        "# using default reshaped face size = (160,160)\n",
        "mtcnn = MTCNN(\n",
        "    image_size=160, margin=0, min_face_size=20,\n",
        "    thresholds=[0.6, 0.7, 0.7], factor=0.709, post_process=True,\n",
        "    device=config.device\n",
        ")"
      ],
      "execution_count": 25,
      "outputs": []
    },
    {
      "cell_type": "markdown",
      "metadata": {
        "id": "Rco966hR4ERJ"
      },
      "source": [
        "**Demo Detection**"
      ]
    },
    {
      "cell_type": "code",
      "metadata": {
        "colab": {
          "base_uri": "https://localhost:8080/",
          "height": 319
        },
        "id": "nVuP-QB44HWq",
        "outputId": "a21cc564-8f58-4dd9-ebd8-093a231e3419"
      },
      "source": [
        "sample_img = 'robert_downey_jr9.png' \n",
        "\n",
        "# read using PIL library, else ImagDraw will not work here\n",
        "img = Image.open(os.path.join(config.imgs_folder, 'robert_downey_jr', sample_img))\n",
        "\n",
        "# detect faces\n",
        "boxes, prob = mtcnn.detect(img)\n",
        "\n",
        "# draw faces\n",
        "img_draw = img.copy()\n",
        "\n",
        "# define draw object to draw on the image\n",
        "draw = ImageDraw.Draw(img_draw)\n",
        "for box in boxes:\n",
        "  draw.rectangle(box.tolist(), outline = (255,0,0), width = 2)\n",
        "print(f'face count in the sample is {len(boxes)} with confidence {prob[0]*100}%')\n",
        "\n",
        "print('\\nDone Detection')\n",
        "\n",
        "plt.imshow(img_draw)\n",
        "plt.show()"
      ],
      "execution_count": 26,
      "outputs": [
        {
          "output_type": "stream",
          "text": [
            "face count in the sample is 1 with confidence 99.45905208587646%\n",
            "\n",
            "Done Detection\n"
          ],
          "name": "stdout"
        },
        {
          "output_type": "display_data",
          "data": {
            "image/png": "[encoded data removed]",
            "text/plain": [
              "<Figure size 432x288 with 1 Axes>"
            ]
          },
          "metadata": {
            "tags": [],
            "needs_background": "light"
          }
        }
      ]
    },
    {
      "cell_type": "markdown",
      "metadata": {
        "id": "COLHeYaD6hm2"
      },
      "source": [
        "## **Create Torch Dataset**"
      ]
    },
    {
      "cell_type": "markdown",
      "metadata": {
        "id": "yZcH2SnP5cjZ"
      },
      "source": [
        "**Configure input image size**"
      ]
    },
    {
      "cell_type": "code",
      "metadata": {
        "id": "FDKDbUb66w0e"
      },
      "source": [
        "config.input_size = (112,112)"
      ],
      "execution_count": 27,
      "outputs": []
    },
    {
      "cell_type": "markdown",
      "metadata": {
        "id": "C9vWGJ8F4ihv"
      },
      "source": [
        "**Define custom FcaeDataset class to obtain samples from train, valid, test dataframe**"
      ]
    },
    {
      "cell_type": "code",
      "metadata": {
        "id": "3bX9hj4z4g3b"
      },
      "source": [
        "class FaceDataset(Dataset):\n",
        "  def __init__(self, df, root_dir, identity_list, transform = None):\n",
        "    self.df = df\n",
        "    self.dir = root_dir\n",
        "    self.transform = transform\n",
        "    self.identity = identity_list\n",
        "  \n",
        "  def __len__(self):\n",
        "    return self.df.shape[0]\n",
        "\n",
        "  def __getitem__(self, idx):\n",
        "    if torch.is_tensor(idx):\n",
        "      idx = idx.tolist()\n",
        "    img_name = os.path.join(self.dir, self.df['Label'].iloc[idx], self.df['Image'].iloc[idx])\n",
        "    sample = [Image.open(img_name), int(self.identity.index(self.df['Label'].iloc[idx]))]\n",
        "\n",
        "    if self.transform:\n",
        "      sample[0] = self.transform(sample[0])\n",
        "    \n",
        "    sample = tuple(sample)\n",
        "\n",
        "    return sample\n"
      ],
      "execution_count": 28,
      "outputs": []
    },
    {
      "cell_type": "markdown",
      "metadata": {
        "id": "-kwgg10PXMKV"
      },
      "source": [
        "**Configure Identity list, train_dataframe, valid_dataframe, test_dataframe**"
      ]
    },
    {
      "cell_type": "code",
      "metadata": {
        "id": "ufu5BTVc46tV"
      },
      "source": [
        "config.identity = identity_list\n",
        "config.train_df = train_df\n",
        "config.valid_df = valid_df\n",
        "config.test_df = test_df"
      ],
      "execution_count": 29,
      "outputs": []
    },
    {
      "cell_type": "markdown",
      "metadata": {
        "id": "Z7DPAzmdYBp-"
      },
      "source": [
        "**Define and configure transform for train, valid, test**\n",
        "\n",
        "Define same transform for train, valid, test using torcgvision transform"
      ]
    },
    {
      "cell_type": "code",
      "metadata": {
        "id": "lNly7E2HYGog"
      },
      "source": [
        "# configure transform\n",
        "config.transform = trans.Compose([\n",
        "                                   trans.RandomHorizontalFlip(), # random horizonttal flip of faces\n",
        "                                   trans.ToTensor(), # convert img to torch tensor\n",
        "                                   trans.Normalize([0.5,0.5,0.5], [0.5,0.5,0.5]), # normalize\n",
        "                                   trans.Resize(config.input_size, interpolation=trans.InterpolationMode.BICUBIC)\n",
        "  ])"
      ],
      "execution_count": 30,
      "outputs": []
    },
    {
      "cell_type": "markdown",
      "metadata": {
        "id": "liiAB1D0dT3Y"
      },
      "source": [
        "**Create train dataset from the train dataframe**"
      ]
    },
    {
      "cell_type": "code",
      "metadata": {
        "id": "o0C2fG76cmxd"
      },
      "source": [
        "def get_dataset(config, df):\n",
        "  # fetch and transform the images using torchvision transforms to create dataset\n",
        "  # from the image folder\n",
        "  ds = FaceDataset(df, config.imgs_folder, config.identity, transform= config.transform)\n",
        "  class_num = len(config.identity) # total class is the index of last folder + 1\n",
        "  return ds, class_num\n",
        "\n",
        "# create train dataset\n",
        "train_ds, train_class_num = get_dataset(config, config.train_df)"
      ],
      "execution_count": 31,
      "outputs": []
    },
    {
      "cell_type": "code",
      "metadata": {
        "id": "rnlqL1Rx6CfT"
      },
      "source": [
        "targets = [train_ds.identity.index(id) for id in train_ds.identity]"
      ],
      "execution_count": 32,
      "outputs": []
    },
    {
      "cell_type": "code",
      "metadata": {
        "colab": {
          "base_uri": "https://localhost:8080/"
        },
        "id": "gj8afp7beqOY",
        "outputId": "682303e2-67a5-424c-fecd-10ce969bad42"
      },
      "source": [
        "print(f'Train Dataset info {train_ds},\\ncontains {train_class_num} different identities!')\n",
        "print(f'Classes available in the dataset \\n{train_ds.identity},\\nhaving class ids {targets} respectively!')\n",
        "print(f'Length of the dataset {len(train_ds)}')"
      ],
      "execution_count": 33,
      "outputs": [
        {
          "output_type": "stream",
          "text": [
            "Train Dataset info <__main__.FaceDataset object at 0x7fe679113450>,\n",
            "contains 5 different identities!\n",
            "Classes available in the dataset \n",
            "['chris_evans', 'chris_hemsworth', 'mark_ruffalo', 'robert_downey_jr', 'scarlett_johansson'],\n",
            "having class ids [0, 1, 2, 3, 4] respectively!\n",
            "Length of the dataset 246\n"
          ],
          "name": "stdout"
        }
      ]
    },
    {
      "cell_type": "markdown",
      "metadata": {
        "id": "87qRuZ67Y_G-"
      },
      "source": [
        "**Create validation dataset from the validation dataframe**"
      ]
    },
    {
      "cell_type": "code",
      "metadata": {
        "id": "NSNTKAtoXrKt"
      },
      "source": [
        "# create validation dataset\n",
        "valid_ds, valid_class_num = get_dataset(config, config.valid_df)"
      ],
      "execution_count": 34,
      "outputs": []
    },
    {
      "cell_type": "code",
      "metadata": {
        "colab": {
          "base_uri": "https://localhost:8080/"
        },
        "id": "NpiW8UczZ_Ax",
        "outputId": "42a49cb2-436e-4727-d142-905eafbd5d73"
      },
      "source": [
        "print(f'Validation Dataset info {valid_ds},\\ncontains {valid_class_num} different identities!')\n",
        "print(f'Classes available in the dataset \\n{valid_ds.identity},\\nhaving class ids {targets} respectively!')\n",
        "print(f'Length of the dataset {len(valid_ds)}')"
      ],
      "execution_count": 35,
      "outputs": [
        {
          "output_type": "stream",
          "text": [
            "Validation Dataset info <__main__.FaceDataset object at 0x7fe678e1dd10>,\n",
            "contains 5 different identities!\n",
            "Classes available in the dataset \n",
            "['chris_evans', 'chris_hemsworth', 'mark_ruffalo', 'robert_downey_jr', 'scarlett_johansson'],\n",
            "having class ids [0, 1, 2, 3, 4] respectively!\n",
            "Length of the dataset 14\n"
          ],
          "name": "stdout"
        }
      ]
    },
    {
      "cell_type": "markdown",
      "metadata": {
        "id": "gEteRCFAajHB"
      },
      "source": [
        "**Create test dataset from the validation dataframe**"
      ]
    },
    {
      "cell_type": "code",
      "metadata": {
        "id": "GjscEyj1aryr"
      },
      "source": [
        "# create test dataset\n",
        "test_ds, test_class_num = get_dataset(config, config.test_df)"
      ],
      "execution_count": 36,
      "outputs": []
    },
    {
      "cell_type": "code",
      "metadata": {
        "colab": {
          "base_uri": "https://localhost:8080/"
        },
        "id": "VZyats5KbNRO",
        "outputId": "be416723-4f43-4c1f-c954-872d5c1e537a"
      },
      "source": [
        "print(f'Test Dataset info {test_ds},\\ncontains {test_class_num} different identities!')\n",
        "print(f'Classes available in the dataset \\n{test_ds.identity},\\nhaving class ids {targets} respectively!')\n",
        "print(f'Length of the dataset {len(test_ds)}')"
      ],
      "execution_count": 37,
      "outputs": [
        {
          "output_type": "stream",
          "text": [
            "Test Dataset info <__main__.FaceDataset object at 0x7fe678e0b310>,\n",
            "contains 5 different identities!\n",
            "Classes available in the dataset \n",
            "['chris_evans', 'chris_hemsworth', 'mark_ruffalo', 'robert_downey_jr', 'scarlett_johansson'],\n",
            "having class ids [0, 1, 2, 3, 4] respectively!\n",
            "Length of the dataset 14\n"
          ],
          "name": "stdout"
        }
      ]
    },
    {
      "cell_type": "markdown",
      "metadata": {
        "id": "d26FsmHbHmrd"
      },
      "source": [
        "#### **Define Pytorch DataLoader**\n",
        "\n",
        "Define the data_loader function, where we can pass dataset mode(as 'vgg' or 'ms1m') through configuration dictionary.\n"
      ]
    },
    {
      "cell_type": "code",
      "metadata": {
        "id": "GAw9Q3NUfLaN"
      },
      "source": [
        "# define the train_loader function, where we can pass dataset mode(as 'vgg' or 'ms1m') through configuration dictionary\n",
        "def get_data_loader(ds, class_num, config):\n",
        "  if config.data_mode in ['ms1m','vgg']:\n",
        "    # create train_loader, by deafult shuffles the datapoints\n",
        "    data_loader = DataLoader(ds, batch_size=config.batch_size, shuffle = True, pin_memory = config.pin_memory,\n",
        "                              num_workers = config.num_workers)\n",
        "    return data_loader, class_num"
      ],
      "execution_count": 38,
      "outputs": []
    },
    {
      "cell_type": "markdown",
      "metadata": {
        "id": "xfnaI9XtQIji"
      },
      "source": [
        "**Defining metadata parameters to config**"
      ]
    },
    {
      "cell_type": "code",
      "metadata": {
        "id": "I5S0Vt9ffMhZ"
      },
      "source": [
        "# initializing data_mode as 'ms1m' dataset\n",
        "config.data_mode = 'ms1m'\n",
        "# initializing batch_size to 64\n",
        "config.batch_size = 64\n",
        "# pin_memory status is set to True, which enables to load samples of data to device(GPU), spped-up the training\n",
        "config.pin_memory = True\n",
        "# initializing the number of workers to 3\n",
        "config.num_workers = 3"
      ],
      "execution_count": 39,
      "outputs": []
    },
    {
      "cell_type": "markdown",
      "metadata": {
        "id": "fUZjUs5BRW8q"
      },
      "source": [
        "**Create the train dataloader**"
      ]
    },
    {
      "cell_type": "code",
      "metadata": {
        "colab": {
          "base_uri": "https://localhost:8080/"
        },
        "id": "WObWUDuQRSaX",
        "outputId": "e2e2bc94-6c0a-4b39-b138-2f5428f644cf"
      },
      "source": [
        "train_loader, _ = get_data_loader(train_ds, train_class_num, config)"
      ],
      "execution_count": 40,
      "outputs": [
        {
          "output_type": "stream",
          "text": [
            "/usr/local/lib/python3.7/dist-packages/torch/utils/data/dataloader.py:477: UserWarning: This DataLoader will create 3 worker processes in total. Our suggested max number of worker in current system is 2, which is smaller than what this DataLoader is going to create. Please be aware that excessive worker creation might get DataLoader running slow or even freeze, lower the worker number to avoid potential slowness/freeze if necessary.\n",
            "  cpuset_checked))\n"
          ],
          "name": "stderr"
        }
      ]
    },
    {
      "cell_type": "markdown",
      "metadata": {
        "id": "7ob01B5fdILq"
      },
      "source": [
        "**Create the validation dataloader**"
      ]
    },
    {
      "cell_type": "code",
      "metadata": {
        "colab": {
          "base_uri": "https://localhost:8080/"
        },
        "id": "Fi1AMpq8c4wN",
        "outputId": "746c916e-dcc6-4fd0-be66-be64ba4f72dc"
      },
      "source": [
        "valid_loader, _ = get_data_loader(valid_ds, valid_class_num, config)"
      ],
      "execution_count": 41,
      "outputs": [
        {
          "output_type": "stream",
          "text": [
            "/usr/local/lib/python3.7/dist-packages/torch/utils/data/dataloader.py:477: UserWarning: This DataLoader will create 3 worker processes in total. Our suggested max number of worker in current system is 2, which is smaller than what this DataLoader is going to create. Please be aware that excessive worker creation might get DataLoader running slow or even freeze, lower the worker number to avoid potential slowness/freeze if necessary.\n",
            "  cpuset_checked))\n"
          ],
          "name": "stderr"
        }
      ]
    },
    {
      "cell_type": "markdown",
      "metadata": {
        "id": "Sonm4lxBdMhJ"
      },
      "source": [
        "**Create the test dataloader**"
      ]
    },
    {
      "cell_type": "code",
      "metadata": {
        "colab": {
          "base_uri": "https://localhost:8080/"
        },
        "id": "LhmzbeludAma",
        "outputId": "0e94d786-7801-4ac8-eaed-a0dd427acf03"
      },
      "source": [
        "test_loader, _ = get_data_loader(test_ds, test_class_num, config)"
      ],
      "execution_count": 42,
      "outputs": [
        {
          "output_type": "stream",
          "text": [
            "/usr/local/lib/python3.7/dist-packages/torch/utils/data/dataloader.py:477: UserWarning: This DataLoader will create 3 worker processes in total. Our suggested max number of worker in current system is 2, which is smaller than what this DataLoader is going to create. Please be aware that excessive worker creation might get DataLoader running slow or even freeze, lower the worker number to avoid potential slowness/freeze if necessary.\n",
            "  cpuset_checked))\n"
          ],
          "name": "stderr"
        }
      ]
    },
    {
      "cell_type": "markdown",
      "metadata": {
        "id": "OzlghrVxUq3u"
      },
      "source": [
        "## **ArcFace Model Build**\n",
        "\n",
        "There are Backbone, Mobilefacenet models for generating face embedding. But, We are considering to use only Mobilefacenet, as it's a light-weight model."
      ]
    },
    {
      "cell_type": "markdown",
      "metadata": {
        "id": "F6hs96pOaccd"
      },
      "source": [
        "**Define Flatten Block**"
      ]
    },
    {
      "cell_type": "code",
      "metadata": {
        "id": "i4-X4Sbxaf8u"
      },
      "source": [
        "# flatten block\n",
        "class Flatten(Module):\n",
        "  def forward(self, input):\n",
        "    return input.view(input.size(0), -1)"
      ],
      "execution_count": 43,
      "outputs": []
    },
    {
      "cell_type": "markdown",
      "metadata": {
        "id": "0Fi7MMtgIkG2"
      },
      "source": [
        "**Define L2_norm block**"
      ]
    },
    {
      "cell_type": "code",
      "metadata": {
        "id": "XeQx5QNTIN4c"
      },
      "source": [
        "def l2_norm(input, axis = 1):\n",
        "  norm = torch.norm(input, 2, axis, True)\n",
        "  output = torch.div(input, norm)\n",
        "  return output"
      ],
      "execution_count": 44,
      "outputs": []
    },
    {
      "cell_type": "markdown",
      "metadata": {
        "id": "oLRCOUpxX6wB"
      },
      "source": [
        "**Define a Convolution Block**"
      ]
    },
    {
      "cell_type": "code",
      "metadata": {
        "id": "M1id3S3CSpSF"
      },
      "source": [
        "# defining torch deafult sub-class api\n",
        "# PReLU - Parameterized ReLU used to handle the variations(parameterize activation @ x< 0) in lower level layers \n",
        "class Conv_block(Module):\n",
        "    def __init__(self, in_c, out_c, kernel=(1, 1), stride=(1, 1), padding=(0, 0), groups=1):\n",
        "        super(Conv_block, self).__init__()\n",
        "        self.conv = Conv2d(in_c, out_channels=out_c, kernel_size=kernel, groups=groups, stride=stride, padding=padding, bias=False)\n",
        "        self.bn = BatchNorm2d(out_c)\n",
        "        self.prelu = PReLU(out_c)\n",
        "    \n",
        "    # forward prop\n",
        "    def forward(self, x):\n",
        "        x = self.conv(x)\n",
        "        x = self.bn(x)\n",
        "        x = self.prelu(x)\n",
        "        return x"
      ],
      "execution_count": 45,
      "outputs": []
    },
    {
      "cell_type": "markdown",
      "metadata": {
        "id": "2wcrBYfTY79e"
      },
      "source": [
        "**Define Linear Block**"
      ]
    },
    {
      "cell_type": "code",
      "metadata": {
        "id": "lGq9kN9YYyXO"
      },
      "source": [
        "class Linear_block(Module):\n",
        "    def __init__(self, in_c, out_c, kernel=(1, 1), stride=(1, 1), padding=(0, 0), groups=1):\n",
        "        super(Linear_block, self).__init__()\n",
        "        self.conv = Conv2d(in_c, out_channels=out_c, kernel_size=kernel, groups=groups, stride=stride, padding=padding, bias=False)\n",
        "        self.bn = BatchNorm2d(out_c)\n",
        "    def forward(self, x):\n",
        "        x = self.conv(x)\n",
        "        x = self.bn(x)\n",
        "        return x"
      ],
      "execution_count": 46,
      "outputs": []
    },
    {
      "cell_type": "markdown",
      "metadata": {
        "id": "sa74jnIgZyuM"
      },
      "source": [
        "**Define Depthwise Seperable Convolution Block**"
      ]
    },
    {
      "cell_type": "code",
      "metadata": {
        "id": "q7k3cgZaZC_-"
      },
      "source": [
        "class Depth_Wise(Module):\n",
        "     def __init__(self, in_c, out_c, residual = False, kernel=(3, 3), stride=(2, 2), padding=(1, 1), groups=1):\n",
        "        super(Depth_Wise, self).__init__()\n",
        "        self.conv = Conv_block(in_c, out_c=groups, kernel=(1, 1), padding=(0, 0), stride=(1, 1))\n",
        "        self.conv_dw = Conv_block(groups, groups, groups=groups, kernel=kernel, padding=padding, stride=stride)\n",
        "        self.project = Linear_block(groups, out_c, kernel=(1, 1), padding=(0, 0), stride=(1, 1))\n",
        "        self.residual = residual\n",
        "     def forward(self, x):\n",
        "        if self.residual:\n",
        "            short_cut = x\n",
        "        x = self.conv(x)\n",
        "        x = self.conv_dw(x)\n",
        "        x = self.project(x)\n",
        "        if self.residual:\n",
        "            output = short_cut + x\n",
        "        else:\n",
        "            output = x\n",
        "        return output"
      ],
      "execution_count": 47,
      "outputs": []
    },
    {
      "cell_type": "markdown",
      "metadata": {
        "id": "df8OKMNGZ7p9"
      },
      "source": [
        "**Define Residual Block**"
      ]
    },
    {
      "cell_type": "code",
      "metadata": {
        "id": "YNmIhnvBZxqS"
      },
      "source": [
        "class Residual(Module):\n",
        "    def __init__(self, c, num_block, groups, kernel=(3, 3), stride=(1, 1), padding=(1, 1)):\n",
        "        super(Residual, self).__init__()\n",
        "        modules = []\n",
        "        for _ in range(num_block):\n",
        "            modules.append(Depth_Wise(c, c, residual=True, kernel=kernel, padding=padding, stride=stride, groups=groups))\n",
        "        self.model = Sequential(*modules)\n",
        "    def forward(self, x):\n",
        "        return self.model(x)"
      ],
      "execution_count": 48,
      "outputs": []
    },
    {
      "cell_type": "markdown",
      "metadata": {
        "id": "Uzu8yy5tb3Jw"
      },
      "source": [
        "\n",
        "**Define the embedding-size in the config**"
      ]
    },
    {
      "cell_type": "code",
      "metadata": {
        "id": "HLl1sgxwb8sf"
      },
      "source": [
        "config.embedding_size = 512"
      ],
      "execution_count": 49,
      "outputs": []
    },
    {
      "cell_type": "markdown",
      "metadata": {
        "id": "3G8j98wDaEqv"
      },
      "source": [
        "#### **Define Mobilefacenet Model**"
      ]
    },
    {
      "cell_type": "code",
      "metadata": {
        "id": "GJxyMSbtZ-oS"
      },
      "source": [
        "class MobileFaceNet(Module):\n",
        "    def __init__(self, embedding_size):\n",
        "        super(MobileFaceNet, self).__init__()\n",
        "        self.conv1 = Conv_block(3, 64, kernel=(3, 3), stride=(2, 2), padding=(1, 1))\n",
        "        self.conv2_dw = Conv_block(64, 64, kernel=(3, 3), stride=(1, 1), padding=(1, 1), groups=64)\n",
        "        self.conv_23 = Depth_Wise(64, 64, kernel=(3, 3), stride=(2, 2), padding=(1, 1), groups=128)\n",
        "        self.conv_3 = Residual(64, num_block=4, groups=128, kernel=(3, 3), stride=(1, 1), padding=(1, 1))\n",
        "        self.conv_34 = Depth_Wise(64, 128, kernel=(3, 3), stride=(2, 2), padding=(1, 1), groups=256)\n",
        "        self.conv_4 = Residual(128, num_block=6, groups=256, kernel=(3, 3), stride=(1, 1), padding=(1, 1))\n",
        "        self.conv_45 = Depth_Wise(128, 128, kernel=(3, 3), stride=(2, 2), padding=(1, 1), groups=512)\n",
        "        self.conv_5 = Residual(128, num_block=2, groups=256, kernel=(3, 3), stride=(1, 1), padding=(1, 1))\n",
        "        self.conv_6_sep = Conv_block(128, 512, kernel=(1, 1), stride=(1, 1), padding=(0, 0))\n",
        "        self.conv_6_dw = Linear_block(512, 512, groups=512, kernel=(7,7), stride=(1, 1), padding=(0, 0))\n",
        "        self.conv_6_flatten = Flatten()\n",
        "        self.linear = Linear(512, embedding_size, bias=False)\n",
        "        self.bn = BatchNorm1d(embedding_size)\n",
        "    \n",
        "    def forward(self, x):\n",
        "        out = self.conv1(x)\n",
        "\n",
        "        out = self.conv2_dw(out)\n",
        "\n",
        "        out = self.conv_23(out)\n",
        "\n",
        "        out = self.conv_3(out)\n",
        "        \n",
        "        out = self.conv_34(out)\n",
        "\n",
        "        out = self.conv_4(out)\n",
        "\n",
        "        out = self.conv_45(out)\n",
        "\n",
        "        out = self.conv_5(out)\n",
        "\n",
        "        out = self.conv_6_sep(out)\n",
        "\n",
        "        out = self.conv_6_dw(out)\n",
        "\n",
        "        out = self.conv_6_flatten(out)\n",
        "\n",
        "        out = self.linear(out)\n",
        "\n",
        "        out = self.bn(out)\n",
        "        return l2_norm(out)"
      ],
      "execution_count": 50,
      "outputs": []
    },
    {
      "cell_type": "markdown",
      "metadata": {
        "id": "_bUTjMzbbL86"
      },
      "source": [
        "**Initialize the Mobilefacenet model**"
      ]
    },
    {
      "cell_type": "code",
      "metadata": {
        "id": "IkCzWhbnaMVp"
      },
      "source": [
        "# call model object\n",
        "mobilefacenet_model = model.MobileFaceNet(embedding_size= config.embedding_size).to(config.device)\n",
        "\n",
        "#print(f'Model summary:\\n{mobilefacenet_model}')"
      ],
      "execution_count": 51,
      "outputs": []
    },
    {
      "cell_type": "markdown",
      "metadata": {
        "id": "b9UbiBE8cNPZ"
      },
      "source": [
        "#### **Define Arcface Head**\n",
        "\n",
        "Implementation of **additive margin softmax** loss in https://arxiv.org/abs/1801.05599"
      ]
    },
    {
      "cell_type": "code",
      "metadata": {
        "id": "cZE2bicla1Xj"
      },
      "source": [
        "class Arcface(Module):\n",
        "    # implementation of additive margin softmax loss in https://arxiv.org/abs/1801.05599\n",
        "    # total class is set to deafult as the original dataset    \n",
        "    def __init__(self, embedding_size=512, classnum=51332,  s=64., m=0.5):\n",
        "        super(Arcface, self).__init__()\n",
        "        self.classnum = classnum\n",
        "        self.kernel = Parameter(torch.Tensor(embedding_size,classnum))\n",
        "        # initial kernel\n",
        "        self.kernel.data.uniform_(-1, 1).renorm_(2,1,1e-5).mul_(1e5)\n",
        "        self.m = m # the margin value, default is 0.5\n",
        "        self.s = s # scalar value default is 64, see normface https://arxiv.org/abs/1704.06369\n",
        "        self.cos_m = math.cos(m)\n",
        "        self.sin_m = math.sin(m)\n",
        "        self.mm = self.sin_m * m  # issue 1\n",
        "        self.threshold = math.cos(math.pi - m)\n",
        "    def forward(self, embbedings, label):\n",
        "        # weights norm\n",
        "        nB = len(embbedings)\n",
        "        kernel_norm = l2_norm(self.kernel,axis=0)\n",
        "        # cos(theta+m)\n",
        "        cos_theta = torch.mm(embbedings,kernel_norm)\n",
        "#         output = torch.mm(embbedings,kernel_norm)\n",
        "        cos_theta = cos_theta.clamp(-1,1) # for numerical stability\n",
        "        cos_theta_2 = torch.pow(cos_theta, 2)\n",
        "        sin_theta_2 = 1 - cos_theta_2\n",
        "        sin_theta = torch.sqrt(sin_theta_2)\n",
        "        cos_theta_m = (cos_theta * self.cos_m - sin_theta * self.sin_m)\n",
        "        # this condition controls the theta+m should in range [0, pi]\n",
        "        #      0<=theta+m<=pi\n",
        "        #     -m<=theta<=pi-m\n",
        "        cond_v = cos_theta - self.threshold\n",
        "        cond_mask = cond_v <= 0\n",
        "        keep_val = (cos_theta - self.mm) # when theta not in [0,pi], use cosface instead\n",
        "        cos_theta_m[cond_mask] = keep_val[cond_mask]\n",
        "        output = cos_theta * 1.0 # a little bit hacky way to prevent in_place operation on cos_theta\n",
        "        idx_ = torch.arange(0, nB, dtype=torch.long)\n",
        "        output[idx_, label] = cos_theta_m[idx_, label]\n",
        "        output *= self.s # scale up in order to make softmax work, first introduced in normface\n",
        "        return output"
      ],
      "execution_count": 52,
      "outputs": []
    },
    {
      "cell_type": "markdown",
      "metadata": {
        "id": "Gyyovr1kgFV-"
      },
      "source": [
        "## **Model Training**"
      ]
    },
    {
      "cell_type": "markdown",
      "metadata": {
        "id": "B8q3l3NCm4ae"
      },
      "source": [
        "**Define to read bin of parameters**"
      ]
    },
    {
      "cell_type": "code",
      "metadata": {
        "id": "HiqCLQb7mtcr"
      },
      "source": [
        "def seperate_bn_paras(modules):\n",
        "  # if modules is not object or instantiated\n",
        "  if not isinstance(modules, list):\n",
        "    modules = [*modules.modules()]\n",
        "  paras_only_bn = []\n",
        "  paras_wo_bn = []\n",
        "  for layer in modules:\n",
        "    if 'model' in str(layer.__class__):\n",
        "      continue\n",
        "    if 'container' in str(layer.__class__):\n",
        "      continue\n",
        "    else:\n",
        "      if 'batchnorm' in str(layer.__class__):\n",
        "        # takes bin of parameters\n",
        "        paras_only_bn.extend([*layer.parameters()])\n",
        "      else:\n",
        "        paras_wo_bn.extend([*layer.parameters()])\n",
        "  return paras_only_bn, paras_wo_bn\n"
      ],
      "execution_count": 53,
      "outputs": []
    },
    {
      "cell_type": "markdown",
      "metadata": {
        "id": "oQu0fw8W1oYs"
      },
      "source": [
        "**Configure saved model path**"
      ]
    },
    {
      "cell_type": "code",
      "metadata": {
        "id": "JGBsyoq91r_W"
      },
      "source": [
        "config.save_path = 'saved_model'\n",
        "\n",
        "if not os.path.isdir(config.save_path):\n",
        "  os.mkdir(config.save_path)"
      ],
      "execution_count": 54,
      "outputs": []
    },
    {
      "cell_type": "markdown",
      "metadata": {
        "id": "wJpqF3g9gc_4"
      },
      "source": [
        "**Initialize training and define training parameters**"
      ]
    },
    {
      "cell_type": "code",
      "metadata": {
        "id": "yikBZ5mgdJxd"
      },
      "source": [
        "class face_learner(object):\n",
        "  def __init__(self, config, model, train_loader, train_class_num, inference = False):\n",
        "    print(f'Configureation-\\n{config}')\n",
        "    # if we want to load MobileFcaenet model\n",
        "    if config.use_mobilefacenet:\n",
        "      # model already loaded to device\n",
        "      self.model = model\n",
        "      print('MobilefaceNet model generated!')\n",
        "    else:\n",
        "      print('Load the different model!')\n",
        "    \n",
        "    # defines the milestones where, the lr_scheduler will act\n",
        "    self.milestones = config.milestones\n",
        "    self.val_loader, self.val_class_num = valid_loader, valid_class_num\n",
        "    self.loader, self.class_num = train_loader, train_class_num\n",
        "\n",
        "    # helps to log summary of training using TensorboardX\n",
        "    #self.writer = SummaryWriter(config.log_path)\n",
        "    self.step = 0\n",
        "    self.head = Arcface(embedding_size=config.embedding_size, classnum=self.class_num).to(device)\n",
        "\n",
        "    print('Two model heads generated!')\n",
        "\n",
        "    paras_only_bn, paras_wo_bn = seperate_bn_paras(self.model)   \n",
        "    #print(len(paras_only_bn))\n",
        "    #print(len(paras_wo_bn))\n",
        "    # define optimizer for mobilefacenet\n",
        "    if config.use_mobilefacenet:\n",
        "      self.optimizer = optim.SGD([\n",
        "                                  {'params': paras_wo_bn[:-1], 'weight_decay': 4e-05},# weight decay for the params\n",
        "                                  {'params': [paras_wo_bn[-1]] + [self.head.kernel], 'weight_decay': 4e-04},\n",
        "                                  {'params': paras_only_bn}\n",
        "      ], lr = config.lr, momentum = config.momentum)\n",
        "    \n",
        "    else:\n",
        "      self.optimizer = optim.SGD([\n",
        "                                  {'params': paras_wo_bn + [self.head.kernel], 'weight_decay': 5e-04},\n",
        "                                  {'params': paras_only_bn}\n",
        "      ], lr = config.lr, momentum = config.momentum)\n",
        "  \n",
        "    print(self.optimizer)\n",
        "    \n",
        "    print('Optimizers generated')\n",
        "    # log loss to every (len of loader//100) step\n",
        "    self.board_loss_every = len(self.loader)//100\n",
        "    # evaluate every (len of loader//10) step\n",
        "    self.evaluate_every = len(self.loader)//10\n",
        "    # save after (len(loader)//5) step\n",
        "    self.save_every = len(self.loader)//5\n",
        "    \n",
        "  # lr scheduler\n",
        "  def schedule_lr(self):\n",
        "    for params in self.optimizer.param_groups:\n",
        "      params['lr']/=10\n",
        "    print(self.optimizer)\n",
        "\n",
        "  # save state of the model\n",
        "  def save_state(self, config, loss, model_only = False):\n",
        "    # save to model to config path\n",
        "    save_path = config.save_path\n",
        "\n",
        "    torch.save(\n",
        "        self.model.state_dict(), os.path.join(save_path, \n",
        "        f'model_step_{self.step}_loss_{loss}.path'))\n",
        "    \n",
        "    if not model_only:\n",
        "      torch.save(\n",
        "          self.head.state_dict(), os.path.join(save_path, f'head_step_{self.step}_loss_{loss}.path')\n",
        "      )\n",
        "\n",
        "      torch.save(\n",
        "          self.optimizer.state_dict(), os.path.join(save_path,\n",
        "                                                    f'optimizer_step_{self.step}_loss_{loss}.path')\n",
        "      )\n",
        "  \n",
        "    self.save_validated_model = tuple([os.path.join(save_path, f'model_step_{self.step}_loss_{loss}.path'),\n",
        "                             os.path.join(save_path, f'head_step_{self.step}_loss_{loss}.path'),\n",
        "                             os.path.join(save_path, f'optimizer_step_{self.step}_loss_{loss}.path')])\n",
        "\n",
        "  # load the state from saved model\n",
        "  def load_state(self, config, fixed_str, from_save_folder = False, model_only = False):\n",
        "    if from_save_folder:\n",
        "      load_save_path = config.pretrained_save_path\n",
        "    else:\n",
        "      load_save_path = config.model_path\n",
        "    self.model.load_state_dict(torch.load(os.path.join(load_save_path,'model_{}'.format(fixed_str))))\n",
        "    if not model_only:\n",
        "      self.head.load_state_dict(torch.load(os.path.join(load_save_path,'head_{}'.format(fixed_str))))\n",
        "      self.optimizer.load_state_dict(torch.load(os.path.join(load_save_path,'optimizer_{}'.format(fixed_str))))\n"
      ],
      "execution_count": 55,
      "outputs": []
    },
    {
      "cell_type": "markdown",
      "metadata": {
        "id": "ioODXmgHxG3n"
      },
      "source": [
        "**Configure metadata for training**"
      ]
    },
    {
      "cell_type": "code",
      "metadata": {
        "id": "6teOQS_mxGer"
      },
      "source": [
        "# define work_space \n",
        "config.work_path = Path('work_space/')\n",
        "\n",
        "# create work_space path, if not existed\n",
        "if not os.path.isdir(config.work_path):\n",
        "  os.mkdir(config.work_path)\n",
        "\n",
        "# configure logpath\n",
        "config.log_path = config.work_path/'log'\n",
        "\n",
        "# create log path, if not existed\n",
        "#if not os.path.isdir(config.work_path/'log'):\n",
        "#  os.mkdir(config.work_path/'log')\n",
        "\n",
        "# configure mobilefacenet status\n",
        "config.use_mobilefacenet = True\n",
        "\n",
        "# configure milestones\n",
        "config.milestones = [12,15,18]\n",
        "\n",
        "# configure momentum\n",
        "config.momentum = 0.9\n",
        "\n",
        "# configure learning rate\n",
        "config.lr = 1e-03\n",
        "\n",
        "# loss fn\n",
        "config.ce_loss = CrossEntropyLoss()"
      ],
      "execution_count": 56,
      "outputs": []
    },
    {
      "cell_type": "markdown",
      "metadata": {
        "id": "kkQeDTrUtZg-"
      },
      "source": [
        "**Configure pre-trained model path**"
      ]
    },
    {
      "cell_type": "code",
      "metadata": {
        "id": "DOFmhFPotiCg"
      },
      "source": [
        "# mobilefacenet load model path\n",
        "config.pretrained_save_path = '/content'"
      ],
      "execution_count": 57,
      "outputs": []
    },
    {
      "cell_type": "markdown",
      "metadata": {
        "id": "GBbgVDQCwz3n"
      },
      "source": [
        "#### **Define Model Train**"
      ]
    },
    {
      "cell_type": "code",
      "metadata": {
        "id": "Z9NZKzkHomwF"
      },
      "source": [
        "def train(config, epochs):\n",
        "  learner = face_learner(config, mobilefacenet_model, train_loader, train_class_num)\n",
        "  # load the mobilefacenet model\n",
        "  learner.load_state(config, 'mobilefacenet.pth', from_save_folder = True, model_only = True)\n",
        "  print('Mobilenet pre-trained loaded successfully!')\n",
        "  learner.model.train()\n",
        "  running_loss = 0\n",
        "  # stores loss of each step\n",
        "  loss_bank = []\n",
        "  for e in range(epochs):\n",
        "    print('epoch {} started'.format(e))\n",
        "    # at each milestone learning rate is changes according to the scheduler\n",
        "    if e == learner.milestones[0]:\n",
        "        learner.schedule_lr()\n",
        "    if e == learner.milestones[1]:\n",
        "        learner.schedule_lr()      \n",
        "    if e == learner.milestones[2]:\n",
        "        learner.schedule_lr()                                 \n",
        "    \n",
        "    for imgs, labels in tqdm(iter(learner.loader)):\n",
        "        imgs = imgs.to(config.device)\n",
        "        labels = labels.to(config.device)\n",
        "        learner.optimizer.zero_grad()\n",
        "        embeddings = learner.model(imgs)\n",
        "        thetas = learner.head(embeddings, labels)\n",
        "        loss = config.ce_loss(thetas, labels)\n",
        "        loss.backward()\n",
        "        running_loss += loss.item()\n",
        "        learner.optimizer.step()\n",
        "        learner.step += 1\n",
        "        print(f'Train Loss of step {learner.step} is  {loss}')\n",
        "        \n",
        "        val_loss = 0\n",
        "        # create validation loss\n",
        "        for val_imgs, val_labels in tqdm(iter(learner.val_loader)):\n",
        "          val_imgs = val_imgs.to(config.device)\n",
        "          val_labels = val_labels.to(config.device)\n",
        "          learner.optimizer.zero_grad()\n",
        "          val_embeddings = learner.model(val_imgs)\n",
        "          val_thetas = learner.head(val_embeddings, val_labels)\n",
        "          val_loss += config.ce_loss(val_thetas, val_labels)\n",
        "          \n",
        "        print(f'Validation Loss of step {learner.step} is {val_loss}')\n",
        "\n",
        "        if len(loss_bank):\n",
        "          if loss_bank[-1]>val_loss:\n",
        "            learner.save_state(config, val_loss)\n",
        "            print(f'Saving model at epoch {e}, step {learner.step}') \n",
        "            loss_bank = [] \n",
        "            \n",
        "            # if current validation loss is min, then store it, else don't store\n",
        "            loss_bank.append(val_loss)\n",
        "\n",
        "        else:\n",
        "          loss_bank.append(val_loss)\n",
        "\n",
        "  print(f'\\nMin validation loss - {loss_bank[0]}')    \n",
        "  print(f'\\nBest model based on validation data result - {learner.save_validated_model}')\n",
        "  config.best_model = learner.save_validated_model            \n",
        "        "
      ],
      "execution_count": 68,
      "outputs": []
    },
    {
      "cell_type": "markdown",
      "metadata": {
        "id": "CcuThgZ5i6He"
      },
      "source": [
        "**Model Training**"
      ]
    },
    {
      "cell_type": "code",
      "metadata": {
        "colab": {
          "base_uri": "https://localhost:8080/"
        },
        "id": "vC08M0c-zlNQ",
        "outputId": "99ccfa01-e92d-4b57-82c4-95fa9ae81e5b"
      },
      "source": [
        "train(config, epochs = 20)"
      ],
      "execution_count": 66,
      "outputs": [
        {
          "output_type": "stream",
          "text": [
            "Configureation-\n",
            "{'device': device(type='cuda', index=0), 'imgs_folder': '/content/gdrive/MyDrive/Kaggle Avengers face dataset/Marvels_face_dataset', 'input_size': [112, 112], 'identity': ['chris_evans', 'chris_hemsworth', 'mark_ruffalo', 'robert_downey_jr', 'scarlett_johansson'], 'train_df':                         Image               Label\n",
            "46          chris_evans24.png         chris_evans\n",
            "242   scarlett_johansson4.png  scarlett_johansson\n",
            "224  scarlett_johansson23.png  scarlett_johansson\n",
            "188     robert_downey_jr5.png    robert_downey_jr\n",
            "260  scarlett_johansson24.png  scarlett_johansson\n",
            "..                        ...                 ...\n",
            "49           chris_evans4.png         chris_evans\n",
            "184    robert_downey_jr37.png    robert_downey_jr\n",
            "17          chris_evans14.png         chris_evans\n",
            "218     robert_downey_jr7.png    robert_downey_jr\n",
            "147        mark_ruffalo47.png        mark_ruffalo\n",
            "\n",
            "[246 rows x 2 columns], 'valid_df':                         Image               Label\n",
            "5           chris_evans48.png         chris_evans\n",
            "249  scarlett_johansson44.png  scarlett_johansson\n",
            "101      chris_hemsworth6.png     chris_hemsworth\n",
            "32          chris_evans17.png         chris_evans\n",
            "256  scarlett_johansson28.png  scarlett_johansson\n",
            "231   scarlett_johansson1.png  scarlett_johansson\n",
            "205     robert_downey_jr2.png    robert_downey_jr\n",
            "120        mark_ruffalo27.png        mark_ruffalo\n",
            "187    robert_downey_jr23.png    robert_downey_jr\n",
            "146        mark_ruffalo53.png        mark_ruffalo\n",
            "67      chris_hemsworth19.png     chris_hemsworth\n",
            "160        mark_ruffalo51.png        mark_ruffalo\n",
            "149        mark_ruffalo54.png        mark_ruffalo\n",
            "1           chris_evans32.png         chris_evans, 'test_df':                         Image               Label\n",
            "232  scarlett_johansson36.png  scarlett_johansson\n",
            "244  scarlett_johansson35.png  scarlett_johansson\n",
            "174    robert_downey_jr12.png    robert_downey_jr\n",
            "141        mark_ruffalo42.png        mark_ruffalo\n",
            "140         mark_ruffalo2.png        mark_ruffalo\n",
            "143         mark_ruffalo7.png        mark_ruffalo\n",
            "22           chris_evans7.png         chris_evans\n",
            "52      chris_hemsworth10.png     chris_hemsworth\n",
            "211    robert_downey_jr17.png    robert_downey_jr\n",
            "3           chris_evans47.png         chris_evans\n",
            "60      chris_hemsworth25.png     chris_hemsworth\n",
            "175    robert_downey_jr40.png    robert_downey_jr\n",
            "233  scarlett_johansson10.png  scarlett_johansson\n",
            "102     chris_hemsworth39.png     chris_hemsworth, 'transform': Compose(\n",
            "    RandomHorizontalFlip(p=0.5)\n",
            "    ToTensor()\n",
            "    Normalize(mean=[0.5, 0.5, 0.5], std=[0.5, 0.5, 0.5])\n",
            "    Resize(size=[112, 112], interpolation=bicubic)\n",
            "), 'data_mode': 'ms1m', 'batch_size': 64, 'pin_memory': True, 'num_workers': 3, 'embedding_size': 512, 'save_path': 'saved_model', 'work_path': PosixPath('work_space'), 'log_path': PosixPath('work_space/log'), 'use_mobilefacenet': True, 'milestones': [12, 15, 18], 'momentum': 0.9, 'lr': 0.001, 'ce_loss': CrossEntropyLoss(), 'pretrained_save_path': '/content'}\n",
            "MobilefaceNet model generated!\n",
            "Two model heads generated!\n",
            "SGD (\n",
            "Parameter Group 0\n",
            "    dampening: 0\n",
            "    lr: 0.001\n",
            "    momentum: 0.9\n",
            "    nesterov: False\n",
            "    weight_decay: 4e-05\n",
            "\n",
            "Parameter Group 1\n",
            "    dampening: 0\n",
            "    lr: 0.001\n",
            "    momentum: 0.9\n",
            "    nesterov: False\n",
            "    weight_decay: 0.0004\n",
            "\n",
            "Parameter Group 2\n",
            "    dampening: 0\n",
            "    lr: 0.001\n",
            "    momentum: 0.9\n",
            "    nesterov: False\n",
            "    weight_decay: 0\n",
            ")\n",
            "Optimizers generated\n",
            "Mobilenet pre-trained loaded successfully!\n",
            "epoch 0 started\n"
          ],
          "name": "stdout"
        },
        {
          "output_type": "stream",
          "text": [
            "/usr/local/lib/python3.7/dist-packages/torch/utils/data/dataloader.py:477: UserWarning: This DataLoader will create 3 worker processes in total. Our suggested max number of worker in current system is 2, which is smaller than what this DataLoader is going to create. Please be aware that excessive worker creation might get DataLoader running slow or even freeze, lower the worker number to avoid potential slowness/freeze if necessary.\n",
            "  cpuset_checked))\n",
            "  0%|          | 0/4 [00:00<?, ?it/s]"
          ],
          "name": "stderr"
        },
        {
          "output_type": "stream",
          "text": [
            "Train Loss of step 1 is  34.53255844116211\n"
          ],
          "name": "stdout"
        },
        {
          "output_type": "stream",
          "text": [
            "\n",
            "  0%|          | 0/1 [00:00<?, ?it/s]\u001b[A\n",
            "100%|██████████| 1/1 [00:00<00:00,  3.90it/s]\n",
            " 25%|██▌       | 1/4 [00:18<00:55, 18.44s/it]"
          ],
          "name": "stderr"
        },
        {
          "output_type": "stream",
          "text": [
            "Validation Loss of step 1 is 32.5806999206543\n",
            "Train Loss of step 2 is  33.21546936035156\n"
          ],
          "name": "stdout"
        },
        {
          "output_type": "stream",
          "text": [
            "\n",
            "  0%|          | 0/1 [00:00<?, ?it/s]\u001b[A\n",
            "100%|██████████| 1/1 [00:00<00:00,  3.99it/s]\n",
            " 50%|█████     | 2/4 [00:18<00:26, 13.06s/it]"
          ],
          "name": "stderr"
        },
        {
          "output_type": "stream",
          "text": [
            "Validation Loss of step 2 is 31.112516403198242\n",
            "Saving model at epoch 0, step 2\n",
            "Train Loss of step 3 is  31.451507568359375\n"
          ],
          "name": "stdout"
        },
        {
          "output_type": "stream",
          "text": [
            "\n",
            "  0%|          | 0/1 [00:00<?, ?it/s]\u001b[A\n",
            "100%|██████████| 1/1 [00:00<00:00,  3.46it/s]\n",
            " 75%|███████▌  | 3/4 [00:19<00:09,  9.29s/it]"
          ],
          "name": "stderr"
        },
        {
          "output_type": "stream",
          "text": [
            "Validation Loss of step 3 is 29.18086814880371\n",
            "Saving model at epoch 0, step 3\n",
            "Train Loss of step 4 is  29.91007423400879\n"
          ],
          "name": "stdout"
        },
        {
          "output_type": "stream",
          "text": [
            "\n",
            "  0%|          | 0/1 [00:00<?, ?it/s]\u001b[A\n",
            "100%|██████████| 1/1 [00:00<00:00,  4.09it/s]\n",
            "100%|██████████| 4/4 [00:33<00:00,  8.26s/it]"
          ],
          "name": "stderr"
        },
        {
          "output_type": "stream",
          "text": [
            "Validation Loss of step 4 is 26.2310733795166\n",
            "Saving model at epoch 0, step 4\n",
            "epoch 1 started\n"
          ],
          "name": "stdout"
        },
        {
          "output_type": "stream",
          "text": [
            "\n",
            "  0%|          | 0/4 [00:00<?, ?it/s]"
          ],
          "name": "stderr"
        },
        {
          "output_type": "stream",
          "text": [
            "Train Loss of step 5 is  25.6253662109375\n"
          ],
          "name": "stdout"
        },
        {
          "output_type": "stream",
          "text": [
            "\n",
            "  0%|          | 0/1 [00:00<?, ?it/s]\u001b[A\n",
            "100%|██████████| 1/1 [00:00<00:00,  2.74it/s]\n",
            " 25%|██▌       | 1/4 [00:01<00:05,  1.93s/it]"
          ],
          "name": "stderr"
        },
        {
          "output_type": "stream",
          "text": [
            "Validation Loss of step 5 is 23.758190155029297\n",
            "Saving model at epoch 1, step 5\n",
            "Train Loss of step 6 is  22.518232345581055\n"
          ],
          "name": "stdout"
        },
        {
          "output_type": "stream",
          "text": [
            "\n",
            "  0%|          | 0/1 [00:00<?, ?it/s]\u001b[A\n",
            "100%|██████████| 1/1 [00:00<00:00,  4.01it/s]\n",
            " 50%|█████     | 2/4 [00:02<00:02,  1.49s/it]"
          ],
          "name": "stderr"
        },
        {
          "output_type": "stream",
          "text": [
            "Validation Loss of step 6 is 20.229122161865234\n",
            "Saving model at epoch 1, step 6\n",
            "Train Loss of step 7 is  18.701461791992188\n"
          ],
          "name": "stdout"
        },
        {
          "output_type": "stream",
          "text": [
            "\n",
            "  0%|          | 0/1 [00:00<?, ?it/s]\u001b[A\n",
            "100%|██████████| 1/1 [00:00<00:00,  3.54it/s]\n",
            " 75%|███████▌  | 3/4 [00:02<00:01,  1.20s/it]"
          ],
          "name": "stderr"
        },
        {
          "output_type": "stream",
          "text": [
            "Validation Loss of step 7 is 17.51957893371582\n",
            "Saving model at epoch 1, step 7\n",
            "Train Loss of step 8 is  15.340415954589844\n"
          ],
          "name": "stdout"
        },
        {
          "output_type": "stream",
          "text": [
            "\n",
            "  0%|          | 0/1 [00:00<?, ?it/s]\u001b[A\n",
            "100%|██████████| 1/1 [00:00<00:00,  3.82it/s]\n",
            "100%|██████████| 4/4 [00:03<00:00,  1.17it/s]"
          ],
          "name": "stderr"
        },
        {
          "output_type": "stream",
          "text": [
            "Validation Loss of step 8 is 14.080931663513184\n",
            "Saving model at epoch 1, step 8\n",
            "epoch 2 started\n"
          ],
          "name": "stdout"
        },
        {
          "output_type": "stream",
          "text": [
            "\n",
            "  0%|          | 0/4 [00:00<?, ?it/s]"
          ],
          "name": "stderr"
        },
        {
          "output_type": "stream",
          "text": [
            "Train Loss of step 9 is  10.635951042175293\n"
          ],
          "name": "stdout"
        },
        {
          "output_type": "stream",
          "text": [
            "\n",
            "  0%|          | 0/1 [00:00<?, ?it/s]\u001b[A\n",
            "100%|██████████| 1/1 [00:00<00:00,  1.97it/s]\n",
            " 25%|██▌       | 1/4 [00:01<00:05,  1.93s/it]"
          ],
          "name": "stderr"
        },
        {
          "output_type": "stream",
          "text": [
            "Validation Loss of step 9 is 11.62201976776123\n",
            "Saving model at epoch 2, step 9\n",
            "Train Loss of step 10 is  7.53221321105957\n"
          ],
          "name": "stdout"
        },
        {
          "output_type": "stream",
          "text": [
            "\n",
            "  0%|          | 0/1 [00:00<?, ?it/s]\u001b[A\n",
            "100%|██████████| 1/1 [00:00<00:00,  3.83it/s]\n",
            " 50%|█████     | 2/4 [00:02<00:02,  1.49s/it]"
          ],
          "name": "stderr"
        },
        {
          "output_type": "stream",
          "text": [
            "Validation Loss of step 10 is 9.574736595153809\n",
            "Saving model at epoch 2, step 10\n",
            "Train Loss of step 11 is  5.775552749633789\n"
          ],
          "name": "stdout"
        },
        {
          "output_type": "stream",
          "text": [
            "\n",
            "  0%|          | 0/1 [00:00<?, ?it/s]\u001b[A\n",
            "100%|██████████| 1/1 [00:00<00:00,  3.81it/s]\n",
            " 75%|███████▌  | 3/4 [00:02<00:01,  1.19s/it]"
          ],
          "name": "stderr"
        },
        {
          "output_type": "stream",
          "text": [
            "Validation Loss of step 11 is 7.400628089904785\n",
            "Saving model at epoch 2, step 11\n",
            "Train Loss of step 12 is  5.832921981811523\n"
          ],
          "name": "stdout"
        },
        {
          "output_type": "stream",
          "text": [
            "\n",
            "  0%|          | 0/1 [00:00<?, ?it/s]\u001b[A\n",
            "100%|██████████| 1/1 [00:00<00:00,  3.96it/s]\n",
            "100%|██████████| 4/4 [00:03<00:00,  1.18it/s]"
          ],
          "name": "stderr"
        },
        {
          "output_type": "stream",
          "text": [
            "Validation Loss of step 12 is 5.973239421844482\n",
            "Saving model at epoch 2, step 12\n",
            "epoch 3 started\n"
          ],
          "name": "stdout"
        },
        {
          "output_type": "stream",
          "text": [
            "\n",
            "  0%|          | 0/4 [00:00<?, ?it/s]"
          ],
          "name": "stderr"
        },
        {
          "output_type": "stream",
          "text": [
            "Train Loss of step 13 is  3.3592634201049805\n"
          ],
          "name": "stdout"
        },
        {
          "output_type": "stream",
          "text": [
            "\n",
            "  0%|          | 0/1 [00:00<?, ?it/s]\u001b[A\n",
            "100%|██████████| 1/1 [00:00<00:00,  2.22it/s]\n",
            " 25%|██▌       | 1/4 [00:01<00:05,  1.80s/it]"
          ],
          "name": "stderr"
        },
        {
          "output_type": "stream",
          "text": [
            "Validation Loss of step 13 is 6.370728492736816\n",
            "Train Loss of step 14 is  1.5662565231323242\n"
          ],
          "name": "stdout"
        },
        {
          "output_type": "stream",
          "text": [
            "\n",
            "  0%|          | 0/1 [00:00<?, ?it/s]\u001b[A\n",
            "100%|██████████| 1/1 [00:00<00:00,  3.11it/s]\n",
            " 50%|█████     | 2/4 [00:02<00:02,  1.44s/it]"
          ],
          "name": "stderr"
        },
        {
          "output_type": "stream",
          "text": [
            "Validation Loss of step 14 is 3.914362668991089\n",
            "Saving model at epoch 3, step 14\n",
            "Train Loss of step 15 is  1.363006830215454\n"
          ],
          "name": "stdout"
        },
        {
          "output_type": "stream",
          "text": [
            "\n",
            "  0%|          | 0/1 [00:00<?, ?it/s]\u001b[A\n",
            "100%|██████████| 1/1 [00:00<00:00,  3.86it/s]\n",
            " 75%|███████▌  | 3/4 [00:02<00:01,  1.15s/it]"
          ],
          "name": "stderr"
        },
        {
          "output_type": "stream",
          "text": [
            "Validation Loss of step 15 is 2.9691498279571533\n",
            "Saving model at epoch 3, step 15\n",
            "Train Loss of step 16 is  0.6753172278404236\n"
          ],
          "name": "stdout"
        },
        {
          "output_type": "stream",
          "text": [
            "\n",
            "  0%|          | 0/1 [00:00<?, ?it/s]\u001b[A\n",
            "100%|██████████| 1/1 [00:00<00:00,  4.10it/s]\n",
            "100%|██████████| 4/4 [00:03<00:00,  1.20it/s]"
          ],
          "name": "stderr"
        },
        {
          "output_type": "stream",
          "text": [
            "Validation Loss of step 16 is 3.3387210369110107\n",
            "epoch 4 started\n"
          ],
          "name": "stdout"
        },
        {
          "output_type": "stream",
          "text": [
            "\n",
            "  0%|          | 0/4 [00:00<?, ?it/s]"
          ],
          "name": "stderr"
        },
        {
          "output_type": "stream",
          "text": [
            "Train Loss of step 17 is  0.5993761420249939\n"
          ],
          "name": "stdout"
        },
        {
          "output_type": "stream",
          "text": [
            "\n",
            "  0%|          | 0/1 [00:00<?, ?it/s]\u001b[A\n",
            "100%|██████████| 1/1 [00:00<00:00,  2.55it/s]\n",
            " 25%|██▌       | 1/4 [00:02<00:06,  2.00s/it]"
          ],
          "name": "stderr"
        },
        {
          "output_type": "stream",
          "text": [
            "Validation Loss of step 17 is 2.5418717861175537\n",
            "Saving model at epoch 4, step 17\n",
            "Train Loss of step 18 is  0.5183834433555603\n"
          ],
          "name": "stdout"
        },
        {
          "output_type": "stream",
          "text": [
            "\n",
            "  0%|          | 0/1 [00:00<?, ?it/s]\u001b[A\n",
            "100%|██████████| 1/1 [00:00<00:00,  3.81it/s]\n",
            " 50%|█████     | 2/4 [00:02<00:03,  1.55s/it]"
          ],
          "name": "stderr"
        },
        {
          "output_type": "stream",
          "text": [
            "Validation Loss of step 18 is 2.5224077701568604\n",
            "Saving model at epoch 4, step 18\n",
            "Train Loss of step 19 is  0.9798662066459656\n"
          ],
          "name": "stdout"
        },
        {
          "output_type": "stream",
          "text": [
            "\n",
            "  0%|          | 0/1 [00:00<?, ?it/s]\u001b[A\n",
            "100%|██████████| 1/1 [00:00<00:00,  3.95it/s]\n",
            " 75%|███████▌  | 3/4 [00:02<00:01,  1.22s/it]"
          ],
          "name": "stderr"
        },
        {
          "output_type": "stream",
          "text": [
            "Validation Loss of step 19 is 1.9279016256332397\n",
            "Saving model at epoch 4, step 19\n",
            "Train Loss of step 20 is  0.35764065384864807\n"
          ],
          "name": "stdout"
        },
        {
          "output_type": "stream",
          "text": [
            "\n",
            "  0%|          | 0/1 [00:00<?, ?it/s]\u001b[A\n",
            "100%|██████████| 1/1 [00:00<00:00,  3.95it/s]\n",
            "100%|██████████| 4/4 [00:03<00:00,  1.17it/s]"
          ],
          "name": "stderr"
        },
        {
          "output_type": "stream",
          "text": [
            "Validation Loss of step 20 is 2.9348530769348145\n",
            "epoch 5 started\n"
          ],
          "name": "stdout"
        },
        {
          "output_type": "stream",
          "text": [
            "\n",
            "  0%|          | 0/4 [00:00<?, ?it/s]"
          ],
          "name": "stderr"
        },
        {
          "output_type": "stream",
          "text": [
            "Train Loss of step 21 is  0.0025354628451168537\n"
          ],
          "name": "stdout"
        },
        {
          "output_type": "stream",
          "text": [
            "\n",
            "  0%|          | 0/1 [00:00<?, ?it/s]\u001b[A\n",
            "100%|██████████| 1/1 [00:00<00:00,  2.42it/s]\n",
            " 25%|██▌       | 1/4 [00:01<00:05,  1.94s/it]"
          ],
          "name": "stderr"
        },
        {
          "output_type": "stream",
          "text": [
            "Validation Loss of step 21 is 2.38371205329895\n",
            "Train Loss of step 22 is  0.11629508435726166\n"
          ],
          "name": "stdout"
        },
        {
          "output_type": "stream",
          "text": [
            "\n",
            "  0%|          | 0/1 [00:00<?, ?it/s]\u001b[A\n",
            "100%|██████████| 1/1 [00:00<00:00,  4.10it/s]\n",
            " 50%|█████     | 2/4 [00:02<00:02,  1.49s/it]"
          ],
          "name": "stderr"
        },
        {
          "output_type": "stream",
          "text": [
            "Validation Loss of step 22 is 1.6075748205184937\n",
            "Saving model at epoch 5, step 22\n",
            "Train Loss of step 23 is  0.06460989266633987\n"
          ],
          "name": "stdout"
        },
        {
          "output_type": "stream",
          "text": [
            "\n",
            "  0%|          | 0/1 [00:00<?, ?it/s]\u001b[A\n",
            "100%|██████████| 1/1 [00:00<00:00,  3.86it/s]\n",
            " 75%|███████▌  | 3/4 [00:02<00:01,  1.19s/it]"
          ],
          "name": "stderr"
        },
        {
          "output_type": "stream",
          "text": [
            "Validation Loss of step 23 is 1.1874479055404663\n",
            "Saving model at epoch 5, step 23\n",
            "Train Loss of step 24 is  0.4584815502166748\n"
          ],
          "name": "stdout"
        },
        {
          "output_type": "stream",
          "text": [
            "\n",
            "  0%|          | 0/1 [00:00<?, ?it/s]\u001b[A\n",
            "100%|██████████| 1/1 [00:00<00:00,  3.85it/s]\n",
            "100%|██████████| 4/4 [00:03<00:00,  1.20it/s]"
          ],
          "name": "stderr"
        },
        {
          "output_type": "stream",
          "text": [
            "Validation Loss of step 24 is 1.9914480447769165\n",
            "epoch 6 started\n"
          ],
          "name": "stdout"
        },
        {
          "output_type": "stream",
          "text": [
            "\n",
            "  0%|          | 0/4 [00:00<?, ?it/s]"
          ],
          "name": "stderr"
        },
        {
          "output_type": "stream",
          "text": [
            "Train Loss of step 25 is  0.06997811794281006\n"
          ],
          "name": "stdout"
        },
        {
          "output_type": "stream",
          "text": [
            "\n",
            "  0%|          | 0/1 [00:00<?, ?it/s]\u001b[A\n",
            "100%|██████████| 1/1 [00:00<00:00,  2.66it/s]\n",
            " 25%|██▌       | 1/4 [00:01<00:05,  2.00s/it]"
          ],
          "name": "stderr"
        },
        {
          "output_type": "stream",
          "text": [
            "Validation Loss of step 25 is 1.3906126022338867\n",
            "Train Loss of step 26 is  0.04211460053920746\n"
          ],
          "name": "stdout"
        },
        {
          "output_type": "stream",
          "text": [
            "\n",
            "  0%|          | 0/1 [00:00<?, ?it/s]\u001b[A\n",
            "100%|██████████| 1/1 [00:00<00:00,  3.69it/s]\n",
            " 50%|█████     | 2/4 [00:02<00:03,  1.53s/it]"
          ],
          "name": "stderr"
        },
        {
          "output_type": "stream",
          "text": [
            "Validation Loss of step 26 is 1.487074613571167\n",
            "Train Loss of step 27 is  0.000891093397513032\n"
          ],
          "name": "stdout"
        },
        {
          "output_type": "stream",
          "text": [
            "\n",
            "  0%|          | 0/1 [00:00<?, ?it/s]\u001b[A\n",
            "100%|██████████| 1/1 [00:00<00:00,  3.93it/s]\n",
            " 75%|███████▌  | 3/4 [00:02<00:01,  1.20s/it]"
          ],
          "name": "stderr"
        },
        {
          "output_type": "stream",
          "text": [
            "Validation Loss of step 27 is 1.4849441051483154\n",
            "Train Loss of step 28 is  0.27494075894355774\n"
          ],
          "name": "stdout"
        },
        {
          "output_type": "stream",
          "text": [
            "\n",
            "  0%|          | 0/1 [00:00<?, ?it/s]\u001b[A\n",
            "100%|██████████| 1/1 [00:00<00:00,  4.07it/s]\n",
            "100%|██████████| 4/4 [00:03<00:00,  1.21it/s]"
          ],
          "name": "stderr"
        },
        {
          "output_type": "stream",
          "text": [
            "Validation Loss of step 28 is 1.724923849105835\n",
            "epoch 7 started\n"
          ],
          "name": "stdout"
        },
        {
          "output_type": "stream",
          "text": [
            "\n",
            "  0%|          | 0/4 [00:00<?, ?it/s]"
          ],
          "name": "stderr"
        },
        {
          "output_type": "stream",
          "text": [
            "Train Loss of step 29 is  4.1682651499286294e-05\n"
          ],
          "name": "stdout"
        },
        {
          "output_type": "stream",
          "text": [
            "\n",
            "  0%|          | 0/1 [00:00<?, ?it/s]\u001b[A\n",
            "100%|██████████| 1/1 [00:00<00:00,  2.39it/s]\n",
            " 25%|██▌       | 1/4 [00:01<00:05,  1.99s/it]"
          ],
          "name": "stderr"
        },
        {
          "output_type": "stream",
          "text": [
            "Validation Loss of step 29 is 0.6072013974189758\n",
            "Saving model at epoch 7, step 29\n",
            "Train Loss of step 30 is  0.0036591696552932262\n"
          ],
          "name": "stdout"
        },
        {
          "output_type": "stream",
          "text": [
            "\n",
            "  0%|          | 0/1 [00:00<?, ?it/s]\u001b[A\n",
            "100%|██████████| 1/1 [00:00<00:00,  3.86it/s]\n",
            " 50%|█████     | 2/4 [00:02<00:03,  1.52s/it]"
          ],
          "name": "stderr"
        },
        {
          "output_type": "stream",
          "text": [
            "Validation Loss of step 30 is 1.8606529235839844\n",
            "Train Loss of step 31 is  0.1250867247581482\n"
          ],
          "name": "stdout"
        },
        {
          "output_type": "stream",
          "text": [
            "\n",
            "  0%|          | 0/1 [00:00<?, ?it/s]\u001b[A\n",
            "100%|██████████| 1/1 [00:00<00:00,  3.96it/s]\n",
            " 75%|███████▌  | 3/4 [00:02<00:01,  1.19s/it]"
          ],
          "name": "stderr"
        },
        {
          "output_type": "stream",
          "text": [
            "Validation Loss of step 31 is 0.6308210492134094\n",
            "Train Loss of step 32 is  0.0002576765837147832\n"
          ],
          "name": "stdout"
        },
        {
          "output_type": "stream",
          "text": [
            "\n",
            "  0%|          | 0/1 [00:00<?, ?it/s]\u001b[A\n",
            "100%|██████████| 1/1 [00:00<00:00,  3.67it/s]\n",
            "100%|██████████| 4/4 [00:03<00:00,  1.20it/s]"
          ],
          "name": "stderr"
        },
        {
          "output_type": "stream",
          "text": [
            "Validation Loss of step 32 is 1.7667683362960815\n",
            "epoch 8 started\n"
          ],
          "name": "stdout"
        },
        {
          "output_type": "stream",
          "text": [
            "\n",
            "  0%|          | 0/4 [00:00<?, ?it/s]"
          ],
          "name": "stderr"
        },
        {
          "output_type": "stream",
          "text": [
            "Train Loss of step 33 is  0.03700356185436249\n"
          ],
          "name": "stdout"
        },
        {
          "output_type": "stream",
          "text": [
            "\n",
            "  0%|          | 0/1 [00:00<?, ?it/s]\u001b[A\n",
            "100%|██████████| 1/1 [00:00<00:00,  1.93it/s]\n",
            " 25%|██▌       | 1/4 [00:01<00:05,  1.71s/it]"
          ],
          "name": "stderr"
        },
        {
          "output_type": "stream",
          "text": [
            "Validation Loss of step 33 is 1.6814314126968384\n",
            "Train Loss of step 34 is  1.2255948149686446e-06\n"
          ],
          "name": "stdout"
        },
        {
          "output_type": "stream",
          "text": [
            "\n",
            "  0%|          | 0/1 [00:00<?, ?it/s]\u001b[A\n",
            "100%|██████████| 1/1 [00:00<00:00,  2.99it/s]\n",
            " 50%|█████     | 2/4 [00:02<00:02,  1.38s/it]"
          ],
          "name": "stderr"
        },
        {
          "output_type": "stream",
          "text": [
            "Validation Loss of step 34 is 0.42632824182510376\n",
            "Saving model at epoch 8, step 34\n",
            "Train Loss of step 35 is  1.0594922059681267e-05\n"
          ],
          "name": "stdout"
        },
        {
          "output_type": "stream",
          "text": [
            "\n",
            "  0%|          | 0/1 [00:00<?, ?it/s]\u001b[A\n",
            "100%|██████████| 1/1 [00:00<00:00,  3.72it/s]\n",
            " 75%|███████▌  | 3/4 [00:02<00:01,  1.09s/it]"
          ],
          "name": "stderr"
        },
        {
          "output_type": "stream",
          "text": [
            "Validation Loss of step 35 is 0.8536733388900757\n",
            "Train Loss of step 36 is  3.377586210717709e-07\n"
          ],
          "name": "stdout"
        },
        {
          "output_type": "stream",
          "text": [
            "\n",
            "  0%|          | 0/1 [00:00<?, ?it/s]\u001b[A\n",
            "100%|██████████| 1/1 [00:00<00:00,  3.90it/s]\n",
            "100%|██████████| 4/4 [00:03<00:00,  1.25it/s]"
          ],
          "name": "stderr"
        },
        {
          "output_type": "stream",
          "text": [
            "Validation Loss of step 36 is 1.2986031770706177\n",
            "epoch 9 started\n"
          ],
          "name": "stdout"
        },
        {
          "output_type": "stream",
          "text": [
            "\n",
            "  0%|          | 0/4 [00:00<?, ?it/s]"
          ],
          "name": "stderr"
        },
        {
          "output_type": "stream",
          "text": [
            "Train Loss of step 37 is  0.04245641082525253\n"
          ],
          "name": "stdout"
        },
        {
          "output_type": "stream",
          "text": [
            "\n",
            "  0%|          | 0/1 [00:00<?, ?it/s]\u001b[A\n",
            "100%|██████████| 1/1 [00:00<00:00,  2.65it/s]\n",
            " 25%|██▌       | 1/4 [00:01<00:05,  1.82s/it]"
          ],
          "name": "stderr"
        },
        {
          "output_type": "stream",
          "text": [
            "Validation Loss of step 37 is 0.4866894781589508\n",
            "Train Loss of step 38 is  0.0003908751532435417\n"
          ],
          "name": "stdout"
        },
        {
          "output_type": "stream",
          "text": [
            "\n",
            "  0%|          | 0/1 [00:00<?, ?it/s]\u001b[A\n",
            "100%|██████████| 1/1 [00:00<00:00,  3.86it/s]\n",
            " 50%|█████     | 2/4 [00:02<00:02,  1.41s/it]"
          ],
          "name": "stderr"
        },
        {
          "output_type": "stream",
          "text": [
            "Validation Loss of step 38 is 0.7436680197715759\n",
            "Train Loss of step 39 is  7.077906047925353e-07\n"
          ],
          "name": "stdout"
        },
        {
          "output_type": "stream",
          "text": [
            "\n",
            "  0%|          | 0/1 [00:00<?, ?it/s]\u001b[A\n",
            "100%|██████████| 1/1 [00:00<00:00,  3.88it/s]\n",
            " 75%|███████▌  | 3/4 [00:02<00:01,  1.11s/it]"
          ],
          "name": "stderr"
        },
        {
          "output_type": "stream",
          "text": [
            "Validation Loss of step 39 is 2.252817392349243\n",
            "Train Loss of step 40 is  3.954668136429973e-05\n"
          ],
          "name": "stdout"
        },
        {
          "output_type": "stream",
          "text": [
            "\n",
            "  0%|          | 0/1 [00:00<?, ?it/s]\u001b[A\n",
            "100%|██████████| 1/1 [00:00<00:00,  3.96it/s]\n",
            "100%|██████████| 4/4 [00:03<00:00,  1.26it/s]"
          ],
          "name": "stderr"
        },
        {
          "output_type": "stream",
          "text": [
            "Validation Loss of step 40 is 0.9423857927322388\n",
            "epoch 10 started\n"
          ],
          "name": "stdout"
        },
        {
          "output_type": "stream",
          "text": [
            "\n",
            "  0%|          | 0/4 [00:00<?, ?it/s]"
          ],
          "name": "stderr"
        },
        {
          "output_type": "stream",
          "text": [
            "Train Loss of step 41 is  8.890220669854898e-06\n"
          ],
          "name": "stdout"
        },
        {
          "output_type": "stream",
          "text": [
            "\n",
            "  0%|          | 0/1 [00:00<?, ?it/s]\u001b[A\n",
            "100%|██████████| 1/1 [00:00<00:00,  2.80it/s]\n",
            " 25%|██▌       | 1/4 [00:01<00:05,  1.86s/it]"
          ],
          "name": "stderr"
        },
        {
          "output_type": "stream",
          "text": [
            "Validation Loss of step 41 is 1.7219734191894531\n",
            "Train Loss of step 42 is  0.0006789066828787327\n"
          ],
          "name": "stdout"
        },
        {
          "output_type": "stream",
          "text": [
            "\n",
            "  0%|          | 0/1 [00:00<?, ?it/s]\u001b[A\n",
            "100%|██████████| 1/1 [00:00<00:00,  3.91it/s]\n",
            " 50%|█████     | 2/4 [00:02<00:02,  1.44s/it]"
          ],
          "name": "stderr"
        },
        {
          "output_type": "stream",
          "text": [
            "Validation Loss of step 42 is 0.4778316915035248\n",
            "Train Loss of step 43 is  0.04233480244874954\n"
          ],
          "name": "stdout"
        },
        {
          "output_type": "stream",
          "text": [
            "\n",
            "  0%|          | 0/1 [00:00<?, ?it/s]\u001b[A\n",
            "100%|██████████| 1/1 [00:00<00:00,  3.82it/s]\n",
            " 75%|███████▌  | 3/4 [00:02<00:01,  1.14s/it]"
          ],
          "name": "stderr"
        },
        {
          "output_type": "stream",
          "text": [
            "Validation Loss of step 43 is 1.175379991531372\n",
            "Train Loss of step 44 is  1.3117370144755114e-05\n"
          ],
          "name": "stdout"
        },
        {
          "output_type": "stream",
          "text": [
            "\n",
            "  0%|          | 0/1 [00:00<?, ?it/s]\u001b[A\n",
            "100%|██████████| 1/1 [00:00<00:00,  3.78it/s]\n",
            "100%|██████████| 4/4 [00:03<00:00,  1.24it/s]"
          ],
          "name": "stderr"
        },
        {
          "output_type": "stream",
          "text": [
            "Validation Loss of step 44 is 0.6572645902633667\n",
            "epoch 11 started\n"
          ],
          "name": "stdout"
        },
        {
          "output_type": "stream",
          "text": [
            "\n",
            "  0%|          | 0/4 [00:00<?, ?it/s]"
          ],
          "name": "stderr"
        },
        {
          "output_type": "stream",
          "text": [
            "Train Loss of step 45 is  0.12732365727424622\n"
          ],
          "name": "stdout"
        },
        {
          "output_type": "stream",
          "text": [
            "\n",
            "  0%|          | 0/1 [00:00<?, ?it/s]\u001b[A\n",
            "100%|██████████| 1/1 [00:00<00:00,  2.32it/s]\n",
            " 25%|██▌       | 1/4 [00:01<00:05,  1.78s/it]"
          ],
          "name": "stderr"
        },
        {
          "output_type": "stream",
          "text": [
            "Validation Loss of step 45 is 0.5131180286407471\n",
            "Train Loss of step 46 is  0.0005540685961022973\n"
          ],
          "name": "stdout"
        },
        {
          "output_type": "stream",
          "text": [
            "\n",
            "  0%|          | 0/1 [00:00<?, ?it/s]\u001b[A\n",
            "100%|██████████| 1/1 [00:00<00:00,  3.24it/s]\n",
            " 50%|█████     | 2/4 [00:02<00:02,  1.39s/it]"
          ],
          "name": "stderr"
        },
        {
          "output_type": "stream",
          "text": [
            "Validation Loss of step 46 is 0.7074950933456421\n",
            "Train Loss of step 47 is  1.5701768916187575e-06\n"
          ],
          "name": "stdout"
        },
        {
          "output_type": "stream",
          "text": [
            "\n",
            "  0%|          | 0/1 [00:00<?, ?it/s]\u001b[A\n",
            "100%|██████████| 1/1 [00:00<00:00,  3.88it/s]\n",
            " 75%|███████▌  | 3/4 [00:02<00:01,  1.10s/it]"
          ],
          "name": "stderr"
        },
        {
          "output_type": "stream",
          "text": [
            "Validation Loss of step 47 is 1.5750625133514404\n",
            "Train Loss of step 48 is  0.0009979763999581337\n"
          ],
          "name": "stdout"
        },
        {
          "output_type": "stream",
          "text": [
            "\n",
            "  0%|          | 0/1 [00:00<?, ?it/s]\u001b[A\n",
            "100%|██████████| 1/1 [00:00<00:00,  3.92it/s]\n",
            "100%|██████████| 4/4 [00:03<00:00,  1.25it/s]"
          ],
          "name": "stderr"
        },
        {
          "output_type": "stream",
          "text": [
            "Validation Loss of step 48 is 1.4334392547607422\n",
            "epoch 12 started\n",
            "SGD (\n",
            "Parameter Group 0\n",
            "    dampening: 0\n",
            "    lr: 0.0001\n",
            "    momentum: 0.9\n",
            "    nesterov: False\n",
            "    weight_decay: 4e-05\n",
            "\n",
            "Parameter Group 1\n",
            "    dampening: 0\n",
            "    lr: 0.0001\n",
            "    momentum: 0.9\n",
            "    nesterov: False\n",
            "    weight_decay: 0.0004\n",
            "\n",
            "Parameter Group 2\n",
            "    dampening: 0\n",
            "    lr: 0.0001\n",
            "    momentum: 0.9\n",
            "    nesterov: False\n",
            "    weight_decay: 0\n",
            ")\n"
          ],
          "name": "stdout"
        },
        {
          "output_type": "stream",
          "text": [
            "\n",
            "  0%|          | 0/4 [00:00<?, ?it/s]"
          ],
          "name": "stderr"
        },
        {
          "output_type": "stream",
          "text": [
            "Train Loss of step 49 is  0.17662394046783447\n"
          ],
          "name": "stdout"
        },
        {
          "output_type": "stream",
          "text": [
            "\n",
            "  0%|          | 0/1 [00:00<?, ?it/s]\u001b[A\n",
            "100%|██████████| 1/1 [00:00<00:00,  2.73it/s]\n",
            " 25%|██▌       | 1/4 [00:01<00:05,  1.94s/it]"
          ],
          "name": "stderr"
        },
        {
          "output_type": "stream",
          "text": [
            "Validation Loss of step 49 is 0.6702814698219299\n",
            "Train Loss of step 50 is  0.013297409750521183\n"
          ],
          "name": "stdout"
        },
        {
          "output_type": "stream",
          "text": [
            "\n",
            "  0%|          | 0/1 [00:00<?, ?it/s]\u001b[A\n",
            "100%|██████████| 1/1 [00:00<00:00,  3.91it/s]\n",
            " 50%|█████     | 2/4 [00:02<00:02,  1.49s/it]"
          ],
          "name": "stderr"
        },
        {
          "output_type": "stream",
          "text": [
            "Validation Loss of step 50 is 1.5024107694625854\n",
            "Train Loss of step 51 is  1.154988603957463e-05\n"
          ],
          "name": "stdout"
        },
        {
          "output_type": "stream",
          "text": [
            "\n",
            "  0%|          | 0/1 [00:00<?, ?it/s]\u001b[A\n",
            "100%|██████████| 1/1 [00:00<00:00,  3.92it/s]\n",
            " 75%|███████▌  | 3/4 [00:02<00:01,  1.17s/it]"
          ],
          "name": "stderr"
        },
        {
          "output_type": "stream",
          "text": [
            "Validation Loss of step 51 is 1.588944435119629\n",
            "Train Loss of step 52 is  2.8698434562102193e-07\n"
          ],
          "name": "stdout"
        },
        {
          "output_type": "stream",
          "text": [
            "\n",
            "  0%|          | 0/1 [00:00<?, ?it/s]\u001b[A\n",
            "100%|██████████| 1/1 [00:00<00:00,  3.87it/s]\n",
            "100%|██████████| 4/4 [00:03<00:00,  1.22it/s]"
          ],
          "name": "stderr"
        },
        {
          "output_type": "stream",
          "text": [
            "Validation Loss of step 52 is 0.6864823698997498\n",
            "epoch 13 started\n"
          ],
          "name": "stdout"
        },
        {
          "output_type": "stream",
          "text": [
            "\n",
            "  0%|          | 0/4 [00:00<?, ?it/s]"
          ],
          "name": "stderr"
        },
        {
          "output_type": "stream",
          "text": [
            "Train Loss of step 53 is  8.687849185662344e-05\n"
          ],
          "name": "stdout"
        },
        {
          "output_type": "stream",
          "text": [
            "\n",
            "  0%|          | 0/1 [00:00<?, ?it/s]\u001b[A\n",
            "100%|██████████| 1/1 [00:00<00:00,  2.00it/s]\n",
            " 25%|██▌       | 1/4 [00:01<00:05,  1.82s/it]"
          ],
          "name": "stderr"
        },
        {
          "output_type": "stream",
          "text": [
            "Validation Loss of step 53 is 0.8235654830932617\n",
            "Train Loss of step 54 is  0.0004321700253058225\n"
          ],
          "name": "stdout"
        },
        {
          "output_type": "stream",
          "text": [
            "\n",
            "  0%|          | 0/1 [00:00<?, ?it/s]\u001b[A\n",
            "100%|██████████| 1/1 [00:00<00:00,  3.66it/s]\n",
            " 50%|█████     | 2/4 [00:02<00:02,  1.44s/it]"
          ],
          "name": "stderr"
        },
        {
          "output_type": "stream",
          "text": [
            "Validation Loss of step 54 is 0.32615312933921814\n",
            "Saving model at epoch 13, step 54\n",
            "Train Loss of step 55 is  4.474678644328378e-05\n"
          ],
          "name": "stdout"
        },
        {
          "output_type": "stream",
          "text": [
            "\n",
            "  0%|          | 0/1 [00:00<?, ?it/s]\u001b[A\n",
            "100%|██████████| 1/1 [00:00<00:00,  3.71it/s]\n",
            " 75%|███████▌  | 3/4 [00:02<00:01,  1.13s/it]"
          ],
          "name": "stderr"
        },
        {
          "output_type": "stream",
          "text": [
            "Validation Loss of step 55 is 2.0100553035736084\n",
            "Train Loss of step 56 is  6.471505002991762e-06\n"
          ],
          "name": "stdout"
        },
        {
          "output_type": "stream",
          "text": [
            "\n",
            "  0%|          | 0/1 [00:00<?, ?it/s]\u001b[A\n",
            "100%|██████████| 1/1 [00:00<00:00,  3.72it/s]\n",
            "100%|██████████| 4/4 [00:03<00:00,  1.22it/s]"
          ],
          "name": "stderr"
        },
        {
          "output_type": "stream",
          "text": [
            "Validation Loss of step 56 is 1.4092695713043213\n",
            "epoch 14 started\n"
          ],
          "name": "stdout"
        },
        {
          "output_type": "stream",
          "text": [
            "\n",
            "  0%|          | 0/4 [00:00<?, ?it/s]"
          ],
          "name": "stderr"
        },
        {
          "output_type": "stream",
          "text": [
            "Train Loss of step 57 is  1.2460882317100186e-06\n"
          ],
          "name": "stdout"
        },
        {
          "output_type": "stream",
          "text": [
            "\n",
            "  0%|          | 0/1 [00:00<?, ?it/s]\u001b[A\n",
            "100%|██████████| 1/1 [00:00<00:00,  2.00it/s]\n",
            " 25%|██▌       | 1/4 [00:01<00:05,  1.97s/it]"
          ],
          "name": "stderr"
        },
        {
          "output_type": "stream",
          "text": [
            "Validation Loss of step 57 is 1.5913658142089844\n",
            "Train Loss of step 58 is  0.0002719182812143117\n"
          ],
          "name": "stdout"
        },
        {
          "output_type": "stream",
          "text": [
            "\n",
            "  0%|          | 0/1 [00:00<?, ?it/s]\u001b[A\n",
            "100%|██████████| 1/1 [00:00<00:00,  3.87it/s]\n",
            " 50%|█████     | 2/4 [00:02<00:03,  1.51s/it]"
          ],
          "name": "stderr"
        },
        {
          "output_type": "stream",
          "text": [
            "Validation Loss of step 58 is 1.6403446197509766\n",
            "Train Loss of step 59 is  0.00024463506997562945\n"
          ],
          "name": "stdout"
        },
        {
          "output_type": "stream",
          "text": [
            "\n",
            "  0%|          | 0/1 [00:00<?, ?it/s]\u001b[A\n",
            "100%|██████████| 1/1 [00:00<00:00,  3.83it/s]\n",
            " 75%|███████▌  | 3/4 [00:02<00:01,  1.18s/it]"
          ],
          "name": "stderr"
        },
        {
          "output_type": "stream",
          "text": [
            "Validation Loss of step 59 is 1.158493161201477\n",
            "Train Loss of step 60 is  0.006615769118070602\n"
          ],
          "name": "stdout"
        },
        {
          "output_type": "stream",
          "text": [
            "\n",
            "  0%|          | 0/1 [00:00<?, ?it/s]\u001b[A\n",
            "100%|██████████| 1/1 [00:00<00:00,  3.83it/s]\n",
            "100%|██████████| 4/4 [00:03<00:00,  1.21it/s]"
          ],
          "name": "stderr"
        },
        {
          "output_type": "stream",
          "text": [
            "Validation Loss of step 60 is 1.8062480688095093\n",
            "epoch 15 started\n",
            "SGD (\n",
            "Parameter Group 0\n",
            "    dampening: 0\n",
            "    lr: 1e-05\n",
            "    momentum: 0.9\n",
            "    nesterov: False\n",
            "    weight_decay: 4e-05\n",
            "\n",
            "Parameter Group 1\n",
            "    dampening: 0\n",
            "    lr: 1e-05\n",
            "    momentum: 0.9\n",
            "    nesterov: False\n",
            "    weight_decay: 0.0004\n",
            "\n",
            "Parameter Group 2\n",
            "    dampening: 0\n",
            "    lr: 1e-05\n",
            "    momentum: 0.9\n",
            "    nesterov: False\n",
            "    weight_decay: 0\n",
            ")\n"
          ],
          "name": "stdout"
        },
        {
          "output_type": "stream",
          "text": [
            "\n",
            "  0%|          | 0/4 [00:00<?, ?it/s]"
          ],
          "name": "stderr"
        },
        {
          "output_type": "stream",
          "text": [
            "Train Loss of step 61 is  4.50464322057087e-05\n"
          ],
          "name": "stdout"
        },
        {
          "output_type": "stream",
          "text": [
            "\n",
            "  0%|          | 0/1 [00:00<?, ?it/s]\u001b[A\n",
            "100%|██████████| 1/1 [00:00<00:00,  2.64it/s]\n",
            " 25%|██▌       | 1/4 [00:01<00:05,  1.78s/it]"
          ],
          "name": "stderr"
        },
        {
          "output_type": "stream",
          "text": [
            "Validation Loss of step 61 is 0.6355973482131958\n",
            "Train Loss of step 62 is  0.00015528890071436763\n"
          ],
          "name": "stdout"
        },
        {
          "output_type": "stream",
          "text": [
            "\n",
            "  0%|          | 0/1 [00:00<?, ?it/s]\u001b[A\n",
            "100%|██████████| 1/1 [00:00<00:00,  3.16it/s]\n",
            " 50%|█████     | 2/4 [00:02<00:02,  1.41s/it]"
          ],
          "name": "stderr"
        },
        {
          "output_type": "stream",
          "text": [
            "Validation Loss of step 62 is 1.160771131515503\n",
            "Train Loss of step 63 is  1.9780040929617826e-06\n"
          ],
          "name": "stdout"
        },
        {
          "output_type": "stream",
          "text": [
            "\n",
            "  0%|          | 0/1 [00:00<?, ?it/s]\u001b[A\n",
            "100%|██████████| 1/1 [00:00<00:00,  4.04it/s]\n",
            " 75%|███████▌  | 3/4 [00:02<00:01,  1.11s/it]"
          ],
          "name": "stderr"
        },
        {
          "output_type": "stream",
          "text": [
            "Validation Loss of step 63 is 1.4575191736221313\n",
            "Train Loss of step 64 is  3.7261543184285983e-06\n"
          ],
          "name": "stdout"
        },
        {
          "output_type": "stream",
          "text": [
            "\n",
            "  0%|          | 0/1 [00:00<?, ?it/s]\u001b[A\n",
            "100%|██████████| 1/1 [00:00<00:00,  3.71it/s]\n",
            "100%|██████████| 4/4 [00:03<00:00,  1.23it/s]"
          ],
          "name": "stderr"
        },
        {
          "output_type": "stream",
          "text": [
            "Validation Loss of step 64 is 0.9759466052055359\n",
            "epoch 16 started\n"
          ],
          "name": "stdout"
        },
        {
          "output_type": "stream",
          "text": [
            "\n",
            "  0%|          | 0/4 [00:00<?, ?it/s]"
          ],
          "name": "stderr"
        },
        {
          "output_type": "stream",
          "text": [
            "Train Loss of step 65 is  0.04980463907122612\n"
          ],
          "name": "stdout"
        },
        {
          "output_type": "stream",
          "text": [
            "\n",
            "  0%|          | 0/1 [00:00<?, ?it/s]\u001b[A\n",
            "100%|██████████| 1/1 [00:00<00:00,  2.35it/s]\n",
            " 25%|██▌       | 1/4 [00:01<00:05,  1.82s/it]"
          ],
          "name": "stderr"
        },
        {
          "output_type": "stream",
          "text": [
            "Validation Loss of step 65 is 0.8663520812988281\n",
            "Train Loss of step 66 is  2.9259574603202054e-06\n"
          ],
          "name": "stdout"
        },
        {
          "output_type": "stream",
          "text": [
            "\n",
            "  0%|          | 0/1 [00:00<?, ?it/s]\u001b[A\n",
            "100%|██████████| 1/1 [00:00<00:00,  3.78it/s]\n",
            " 50%|█████     | 2/4 [00:02<00:02,  1.41s/it]"
          ],
          "name": "stderr"
        },
        {
          "output_type": "stream",
          "text": [
            "Validation Loss of step 66 is 0.9948189854621887\n",
            "Train Loss of step 67 is  2.458677386130148e-07\n"
          ],
          "name": "stdout"
        },
        {
          "output_type": "stream",
          "text": [
            "\n",
            "  0%|          | 0/1 [00:00<?, ?it/s]\u001b[A\n",
            "100%|██████████| 1/1 [00:00<00:00,  3.81it/s]\n",
            " 75%|███████▌  | 3/4 [00:02<00:01,  1.12s/it]"
          ],
          "name": "stderr"
        },
        {
          "output_type": "stream",
          "text": [
            "Validation Loss of step 67 is 1.2222957611083984\n",
            "Train Loss of step 68 is  0.00804489478468895\n"
          ],
          "name": "stdout"
        },
        {
          "output_type": "stream",
          "text": [
            "\n",
            "  0%|          | 0/1 [00:00<?, ?it/s]\u001b[A\n",
            "100%|██████████| 1/1 [00:00<00:00,  3.73it/s]\n",
            "100%|██████████| 4/4 [00:03<00:00,  1.25it/s]"
          ],
          "name": "stderr"
        },
        {
          "output_type": "stream",
          "text": [
            "Validation Loss of step 68 is 1.8900963068008423\n",
            "epoch 17 started\n"
          ],
          "name": "stdout"
        },
        {
          "output_type": "stream",
          "text": [
            "\n",
            "  0%|          | 0/4 [00:00<?, ?it/s]"
          ],
          "name": "stderr"
        },
        {
          "output_type": "stream",
          "text": [
            "Train Loss of step 69 is  3.9660932088736445e-05\n"
          ],
          "name": "stdout"
        },
        {
          "output_type": "stream",
          "text": [
            "\n",
            "  0%|          | 0/1 [00:00<?, ?it/s]\u001b[A\n",
            "100%|██████████| 1/1 [00:00<00:00,  2.57it/s]\n",
            " 25%|██▌       | 1/4 [00:01<00:05,  1.91s/it]"
          ],
          "name": "stderr"
        },
        {
          "output_type": "stream",
          "text": [
            "Validation Loss of step 69 is 2.2310404777526855\n",
            "Train Loss of step 70 is  1.456567019886279e-06\n"
          ],
          "name": "stdout"
        },
        {
          "output_type": "stream",
          "text": [
            "\n",
            "  0%|          | 0/1 [00:00<?, ?it/s]\u001b[A\n",
            "100%|██████████| 1/1 [00:00<00:00,  3.99it/s]\n",
            " 50%|█████     | 2/4 [00:02<00:02,  1.47s/it]"
          ],
          "name": "stderr"
        },
        {
          "output_type": "stream",
          "text": [
            "Validation Loss of step 70 is 1.9027248620986938\n",
            "Train Loss of step 71 is  1.2162784059910337e-06\n"
          ],
          "name": "stdout"
        },
        {
          "output_type": "stream",
          "text": [
            "\n",
            "  0%|          | 0/1 [00:00<?, ?it/s]\u001b[A\n",
            "100%|██████████| 1/1 [00:00<00:00,  3.77it/s]\n",
            " 75%|███████▌  | 3/4 [00:02<00:01,  1.16s/it]"
          ],
          "name": "stderr"
        },
        {
          "output_type": "stream",
          "text": [
            "Validation Loss of step 71 is 0.6583355069160461\n",
            "Train Loss of step 72 is  0.016132976859807968\n"
          ],
          "name": "stdout"
        },
        {
          "output_type": "stream",
          "text": [
            "\n",
            "  0%|          | 0/1 [00:00<?, ?it/s]\u001b[A\n",
            "100%|██████████| 1/1 [00:00<00:00,  3.77it/s]\n",
            "100%|██████████| 4/4 [00:03<00:00,  1.22it/s]"
          ],
          "name": "stderr"
        },
        {
          "output_type": "stream",
          "text": [
            "Validation Loss of step 72 is 1.9752362966537476\n",
            "epoch 18 started\n",
            "SGD (\n",
            "Parameter Group 0\n",
            "    dampening: 0\n",
            "    lr: 1.0000000000000002e-06\n",
            "    momentum: 0.9\n",
            "    nesterov: False\n",
            "    weight_decay: 4e-05\n",
            "\n",
            "Parameter Group 1\n",
            "    dampening: 0\n",
            "    lr: 1.0000000000000002e-06\n",
            "    momentum: 0.9\n",
            "    nesterov: False\n",
            "    weight_decay: 0.0004\n",
            "\n",
            "Parameter Group 2\n",
            "    dampening: 0\n",
            "    lr: 1.0000000000000002e-06\n",
            "    momentum: 0.9\n",
            "    nesterov: False\n",
            "    weight_decay: 0\n",
            ")\n"
          ],
          "name": "stdout"
        },
        {
          "output_type": "stream",
          "text": [
            "\n",
            "  0%|          | 0/4 [00:00<?, ?it/s]"
          ],
          "name": "stderr"
        },
        {
          "output_type": "stream",
          "text": [
            "Train Loss of step 73 is  0.0003450860094744712\n"
          ],
          "name": "stdout"
        },
        {
          "output_type": "stream",
          "text": [
            "\n",
            "  0%|          | 0/1 [00:00<?, ?it/s]\u001b[A\n",
            "100%|██████████| 1/1 [00:00<00:00,  2.74it/s]\n",
            " 25%|██▌       | 1/4 [00:01<00:05,  1.89s/it]"
          ],
          "name": "stderr"
        },
        {
          "output_type": "stream",
          "text": [
            "Validation Loss of step 73 is 0.5608310103416443\n",
            "Train Loss of step 74 is  3.017194558196934e-06\n"
          ],
          "name": "stdout"
        },
        {
          "output_type": "stream",
          "text": [
            "\n",
            "  0%|          | 0/1 [00:00<?, ?it/s]\u001b[A\n",
            "100%|██████████| 1/1 [00:00<00:00,  3.83it/s]\n",
            " 50%|█████     | 2/4 [00:02<00:02,  1.46s/it]"
          ],
          "name": "stderr"
        },
        {
          "output_type": "stream",
          "text": [
            "Validation Loss of step 74 is 0.9301897287368774\n",
            "Train Loss of step 75 is  0.009284368716180325\n"
          ],
          "name": "stdout"
        },
        {
          "output_type": "stream",
          "text": [
            "\n",
            "  0%|          | 0/1 [00:00<?, ?it/s]\u001b[A\n",
            "100%|██████████| 1/1 [00:00<00:00,  3.88it/s]\n",
            " 75%|███████▌  | 3/4 [00:02<00:01,  1.15s/it]"
          ],
          "name": "stderr"
        },
        {
          "output_type": "stream",
          "text": [
            "Validation Loss of step 75 is 1.9423936605453491\n",
            "Train Loss of step 76 is  5.809929007227765e-06\n"
          ],
          "name": "stdout"
        },
        {
          "output_type": "stream",
          "text": [
            "\n",
            "  0%|          | 0/1 [00:00<?, ?it/s]\u001b[A\n",
            "100%|██████████| 1/1 [00:00<00:00,  3.84it/s]\n",
            "100%|██████████| 4/4 [00:03<00:00,  1.22it/s]"
          ],
          "name": "stderr"
        },
        {
          "output_type": "stream",
          "text": [
            "Validation Loss of step 76 is 0.8995507955551147\n",
            "epoch 19 started\n"
          ],
          "name": "stdout"
        },
        {
          "output_type": "stream",
          "text": [
            "\n",
            "  0%|          | 0/4 [00:00<?, ?it/s]"
          ],
          "name": "stderr"
        },
        {
          "output_type": "stream",
          "text": [
            "Train Loss of step 77 is  3.2782219250293565e-07\n"
          ],
          "name": "stdout"
        },
        {
          "output_type": "stream",
          "text": [
            "\n",
            "  0%|          | 0/1 [00:00<?, ?it/s]\u001b[A\n",
            "100%|██████████| 1/1 [00:00<00:00,  2.02it/s]\n",
            " 25%|██▌       | 1/4 [00:01<00:05,  1.76s/it]"
          ],
          "name": "stderr"
        },
        {
          "output_type": "stream",
          "text": [
            "Validation Loss of step 77 is 1.8663861751556396\n",
            "Train Loss of step 78 is  4.078676283825189e-06\n"
          ],
          "name": "stdout"
        },
        {
          "output_type": "stream",
          "text": [
            "\n",
            "  0%|          | 0/1 [00:00<?, ?it/s]\u001b[A\n",
            "100%|██████████| 1/1 [00:00<00:00,  3.02it/s]\n",
            " 50%|█████     | 2/4 [00:02<00:02,  1.39s/it]"
          ],
          "name": "stderr"
        },
        {
          "output_type": "stream",
          "text": [
            "Validation Loss of step 78 is 2.082960367202759\n",
            "Train Loss of step 79 is  0.00018399328109808266\n"
          ],
          "name": "stdout"
        },
        {
          "output_type": "stream",
          "text": [
            "\n",
            "  0%|          | 0/1 [00:00<?, ?it/s]\u001b[A\n",
            "100%|██████████| 1/1 [00:00<00:00,  4.04it/s]\n",
            " 75%|███████▌  | 3/4 [00:02<00:01,  1.10s/it]"
          ],
          "name": "stderr"
        },
        {
          "output_type": "stream",
          "text": [
            "Validation Loss of step 79 is 0.5650665163993835\n",
            "Train Loss of step 80 is  0.00040568679105490446\n"
          ],
          "name": "stdout"
        },
        {
          "output_type": "stream",
          "text": [
            "\n",
            "  0%|          | 0/1 [00:00<?, ?it/s]\u001b[A\n",
            "100%|██████████| 1/1 [00:00<00:00,  3.80it/s]\n",
            "100%|██████████| 4/4 [00:03<00:00,  1.25it/s]"
          ],
          "name": "stderr"
        },
        {
          "output_type": "stream",
          "text": [
            "Validation Loss of step 80 is 0.9052141308784485\n",
            "\n",
            "Min validation loss - 0.32615312933921814\n",
            "\n",
            "Best model based on validation data result - ('saved_model/model_step_54_loss_0.32615312933921814.path', 'saved_model/head_step_54_loss_0.32615312933921814.path', 'saved_model/optimizer_step_54_loss_0.32615312933921814.path')\n"
          ],
          "name": "stdout"
        },
        {
          "output_type": "stream",
          "text": [
            "\n"
          ],
          "name": "stderr"
        }
      ]
    },
    {
      "cell_type": "markdown",
      "metadata": {
        "id": "sMLLsM5IymRZ"
      },
      "source": [
        "## **Testing Model Performance on Test Data**"
      ]
    },
    {
      "cell_type": "markdown",
      "metadata": {
        "id": "4YLk3vgMyud_"
      },
      "source": [
        "For testing we first create encoding of the validation data, and then using test data we will try to recognize the faces of test data to evaluate the model test accuracy"
      ]
    },
    {
      "cell_type": "markdown",
      "metadata": {
        "id": "eEvjiPmJ8iid"
      },
      "source": [
        "**Define face learner for inference test**"
      ]
    },
    {
      "cell_type": "code",
      "metadata": {
        "colab": {
          "base_uri": "https://localhost:8080/"
        },
        "id": "ufKKE8wdUi0t",
        "outputId": "0a72efb7-b30f-4d70-a53e-fc778036dba4"
      },
      "source": [
        "config.best_model[0]"
      ],
      "execution_count": 67,
      "outputs": [
        {
          "output_type": "execute_result",
          "data": {
            "text/plain": [
              "['saved_model/model_step_54_loss_0.32615312933921814.path',\n",
              " 'saved_model/head_step_54_loss_0.32615312933921814.path',\n",
              " 'saved_model/optimizer_step_54_loss_0.32615312933921814.path']"
            ]
          },
          "metadata": {
            "tags": []
          },
          "execution_count": 67
        }
      ]
    },
    {
      "cell_type": "markdown",
      "metadata": {
        "id": "BUbJ53u7Ve2Z"
      },
      "source": [
        "**Define face_learner for inference**"
      ]
    },
    {
      "cell_type": "code",
      "metadata": {
        "id": "gUycQ9NS6whq"
      },
      "source": [
        "class inference_face_learner(object):\n",
        "  def __init__(self, config, model, data_loader, data_class_num):\n",
        "    #print(f'Configureation-\\n{config}')\n",
        "    # if we want to load MobileFcaenet model\n",
        "    if config.use_mobilefacenet:\n",
        "      # model already loaded to device\n",
        "      self.model = model\n",
        "      self.load_state(config)\n",
        "      print('MobilefaceNet model loaded!')\n",
        "    else:\n",
        "      print('Load different model!')\n",
        "\n",
        "  def load_state(self, config):\n",
        "    self.model.load_state_dict(torch.load(config.best_model[0]))\n"
      ],
      "execution_count": 71,
      "outputs": []
    },
    {
      "cell_type": "code",
      "metadata": {
        "colab": {
          "base_uri": "https://localhost:8080/"
        },
        "id": "gWOieQug5wJJ",
        "outputId": "5f2edbe7-b2ff-4129-9eb3-7f6f46c86303"
      },
      "source": [
        "# load the model for inference/test\n",
        "inference_learner = inference_face_learner(config, mobilefacenet_model, valid_loader, valid_class_num)"
      ],
      "execution_count": 72,
      "outputs": [
        {
          "output_type": "stream",
          "text": [
            "MobilefaceNet model loaded!\n"
          ],
          "name": "stdout"
        }
      ]
    },
    {
      "cell_type": "code",
      "metadata": {
        "id": "wfNnRpGgqb9P"
      },
      "source": [
        "def gen_embedding(data_loader, model):\n",
        "  \n",
        "  # stores list of actual label, embedding pair\n",
        "  embedding_pair = []\n",
        "  for imgs, labels in tqdm(iter(valid_loader)):\n",
        "      imgs = imgs.to(config.device)\n",
        "      inference_model = model\n",
        "      embeddings = inference_model(imgs)\n",
        "  \n",
        "  # merging labels to them\n",
        "  for i, label in enumerate(labels):\n",
        "    pair = tuple(list([embeddings[i], label]))\n",
        "    embedding_pair.append(pair)\n",
        "  \n",
        "  return embedding_pair"
      ],
      "execution_count": 73,
      "outputs": []
    },
    {
      "cell_type": "markdown",
      "metadata": {
        "id": "Z6waginh9dzt"
      },
      "source": [
        "**Generate source embedding using validation data**"
      ]
    },
    {
      "cell_type": "code",
      "metadata": {
        "colab": {
          "base_uri": "https://localhost:8080/"
        },
        "id": "tlU33KVo5cul",
        "outputId": "19528daa-113e-4bdc-a5b8-947c4d0df772"
      },
      "source": [
        "src_embed_pair = gen_embedding(valid_loader, inference_learner.model)"
      ],
      "execution_count": 74,
      "outputs": [
        {
          "output_type": "stream",
          "text": [
            "/usr/local/lib/python3.7/dist-packages/torch/utils/data/dataloader.py:477: UserWarning: This DataLoader will create 3 worker processes in total. Our suggested max number of worker in current system is 2, which is smaller than what this DataLoader is going to create. Please be aware that excessive worker creation might get DataLoader running slow or even freeze, lower the worker number to avoid potential slowness/freeze if necessary.\n",
            "  cpuset_checked))\n",
            "100%|██████████| 1/1 [00:00<00:00,  3.71it/s]\n"
          ],
          "name": "stderr"
        }
      ]
    },
    {
      "cell_type": "markdown",
      "metadata": {
        "id": "3Wo_vdNoIKVN"
      },
      "source": [
        "**Generate destination embedding based on test_data**"
      ]
    },
    {
      "cell_type": "code",
      "metadata": {
        "colab": {
          "base_uri": "https://localhost:8080/"
        },
        "id": "zpj_Tmu_7nTt",
        "outputId": "a0019ce8-986b-4e31-ad93-53c70e86fe25"
      },
      "source": [
        "dst_embed_pair = gen_embedding(test_loader, inference_learner.model)"
      ],
      "execution_count": 75,
      "outputs": [
        {
          "output_type": "stream",
          "text": [
            "/usr/local/lib/python3.7/dist-packages/torch/utils/data/dataloader.py:477: UserWarning: This DataLoader will create 3 worker processes in total. Our suggested max number of worker in current system is 2, which is smaller than what this DataLoader is going to create. Please be aware that excessive worker creation might get DataLoader running slow or even freeze, lower the worker number to avoid potential slowness/freeze if necessary.\n",
            "  cpuset_checked))\n",
            "100%|██████████| 1/1 [00:00<00:00,  4.07it/s]\n"
          ],
          "name": "stderr"
        }
      ]
    },
    {
      "cell_type": "markdown",
      "metadata": {
        "id": "BfgOKLuTPF2q"
      },
      "source": [
        "#### **Test evaluation**\n",
        "\n",
        "Here we are considering threshold to the deafult value = 1.65, in future for large data, we can pick a threshold based on threshold distribution for validation data, or more adaptive threshold selection method"
      ]
    },
    {
      "cell_type": "markdown",
      "metadata": {
        "id": "FAOfYMVdPSnM"
      },
      "source": [
        "**Configure threshold**"
      ]
    },
    {
      "cell_type": "code",
      "metadata": {
        "id": "ZHpy2GWbPXVQ"
      },
      "source": [
        "config.threshold = 1.65"
      ],
      "execution_count": 76,
      "outputs": []
    },
    {
      "cell_type": "markdown",
      "metadata": {
        "id": "7KL7k6knPuMW"
      },
      "source": [
        "**Inference Check**"
      ]
    },
    {
      "cell_type": "code",
      "metadata": {
        "id": "2ZM_AOGp71QU"
      },
      "source": [
        "def inference_result(src_embed_pair, dst_embed_pair, config):\n",
        "  result = []\n",
        "  # traverse through all the test enchoding pair\n",
        "  for embed, label in dst_embed_pair:\n",
        "    dist = []\n",
        "    # calculate dist between validation and test embeddings\n",
        "    for val_embed, val_label in src_embed_pair:\n",
        "      diff = val_embed - embed\n",
        "      dist.append(torch.sum(torch.pow(diff, 2)))\n",
        "    \n",
        "    # checks the index whose dist is minimum\n",
        "    if np.min(dist) < config.threshold:\n",
        "      min_idx = np.argmin(dist)\n",
        "      result.append(int(src_embed_pair[min_idx][1] == label))\n",
        "\n",
        "    else:\n",
        "      result.append(0)\n",
        "  \n",
        "  print(f'Test performance accuracy {(np.sum(result)/len(result))*100}%')"
      ],
      "execution_count": 77,
      "outputs": []
    },
    {
      "cell_type": "code",
      "metadata": {
        "colab": {
          "base_uri": "https://localhost:8080/"
        },
        "id": "wgtBApUb_7C1",
        "outputId": "4fdd7314-da9b-4173-ded3-de32bb9f8595"
      },
      "source": [
        "inference_result(src_embed_pair, dst_embed_pair, config)"
      ],
      "execution_count": 78,
      "outputs": [
        {
          "output_type": "stream",
          "text": [
            "Test performance accuracy 100.0%\n"
          ],
          "name": "stdout"
        }
      ]
    }
  ]
}