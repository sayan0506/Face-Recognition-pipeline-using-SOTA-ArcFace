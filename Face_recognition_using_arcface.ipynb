{
  "nbformat": 4,
  "nbformat_minor": 0,
  "metadata": {
    "colab": {
      "name": "Face_recognition_using_arcface.ipynb",
      "provenance": [],
      "collapsed_sections": [],
      "authorship_tag": "ABX9TyP7t9eA5XQnzBjAXuyn+lr8",
      "include_colab_link": true
    },
    "kernelspec": {
      "name": "python3",
      "display_name": "Python 3"
    },
    "language_info": {
      "name": "python"
    }
  },
  "cells": [
    {
      "cell_type": "markdown",
      "metadata": {
        "id": "view-in-github",
        "colab_type": "text"
      },
      "source": [
        "<a href=\"https://colab.research.google.com/github/sayan0506/Face-Recognition-pipeline-using-SOTA-ArcFace/blob/main/Face_recognition_using_arcface.ipynb\" target=\"_parent\"><img src=\"https://colab.research.google.com/assets/colab-badge.svg\" alt=\"Open In Colab\"/></a>"
      ]
    },
    {
      "cell_type": "markdown",
      "metadata": {
        "id": "_XeOuxgY_2eK"
      },
      "source": [
        "# **Face recognition Pipeline design using arcface**\n",
        "\n",
        "This notebook is inspired from the paper [ArcFace: Additive Angular Margin Loss for Deep Face Recognition](https://arxiv.org/pdf/1801.07698v3.pdf)\n",
        "\n",
        "Git repo: [Insightface_Pytorch](https://github.com/TreB1eN/InsightFace_Pytorch)"
      ]
    },
    {
      "cell_type": "markdown",
      "metadata": {
        "id": "axuU73KwA3cC"
      },
      "source": [
        "## **Import Dependencies**"
      ]
    },
    {
      "cell_type": "code",
      "metadata": {
        "id": "Db0Lbuh2FBik"
      },
      "source": [
        "from pathlib import Path\n",
        "import numpy as np\n",
        "import cv2\n",
        "\n",
        "# data pipeline\n",
        "# helps to create dict where, use keys as atribute\n",
        "from easydict import EasyDict as edict\n",
        "\n",
        "from torchvision import transforms as trans\n",
        "from torchvision.datasets import ImageFolder\n",
        "from PIL import Image, ImageFile\n",
        "from torch.utils.data import Dataset, DataLoader\n",
        "\n",
        "# ensures loading truncated images \n",
        "ImageFile.LOAD_TRUNCATED_IMAGES = True\n",
        "\n",
        "# model build\n",
        "from torch.nn import Linear, Conv2d, BatchNorm1d, BatchNorm2d, PReLU, ReLU, Sigmoid, Dropout2d, Dropout, AvgPool2d, MaxPool2d, AdaptiveAvgPool2d, Sequential, Module, Parameter\n",
        "import torch.nn.functional as F\n",
        "import torch\n",
        "from collections import namedtuple\n",
        "import math\n",
        "import pdb"
      ],
      "execution_count": 47,
      "outputs": []
    },
    {
      "cell_type": "markdown",
      "metadata": {
        "id": "rh4XQrH2ZNJk"
      },
      "source": [
        "## **Mount Drive**"
      ]
    },
    {
      "cell_type": "code",
      "metadata": {
        "colab": {
          "base_uri": "https://localhost:8080/"
        },
        "id": "VLIwEiZwFGcW",
        "outputId": "40ca6dd9-0e32-4af4-ef0d-98969af680f1"
      },
      "source": [
        "from google.colab import drive\n",
        "\n",
        "drive.mount('/content/gdrive/')"
      ],
      "execution_count": 2,
      "outputs": [
        {
          "output_type": "stream",
          "text": [
            "Mounted at /content/gdrive/\n"
          ],
          "name": "stdout"
        }
      ]
    },
    {
      "cell_type": "markdown",
      "metadata": {
        "id": "lclnCGEuaLaI"
      },
      "source": [
        "## **Dataset Load**\n",
        "\n",
        "Load the avengers face dataset\n",
        "* Source: [Kaggle](https://www.kaggle.com/rawatjitesh/avengers-face-recognition)\n",
        "* Drive link: [Dataset](https://drive.google.com/drive/folders/1VYuEXVOzUtd7fOaaLv7oW4YwGYbvh80w?usp=sharing)"
      ]
    },
    {
      "cell_type": "markdown",
      "metadata": {
        "id": "3AhUFYdbLcpQ"
      },
      "source": [
        "**Defining Configuration Dictionary, which will contain the important metadata regarding the ML pipeline**"
      ]
    },
    {
      "cell_type": "code",
      "metadata": {
        "id": "cK2Y2s80LnMr"
      },
      "source": [
        "# config edict dictionary initialize\n",
        "config = edict()"
      ],
      "execution_count": 28,
      "outputs": []
    },
    {
      "cell_type": "code",
      "metadata": {
        "id": "ZiOnY2VjZaUl"
      },
      "source": [
        "# avengers face dataset path\n",
        "dataset_path = \"/content/gdrive/MyDrive/Kaggle Avengers face dataset/Marvels_face_dataset\"\n",
        "# add dataset path to config\n",
        "config.imgs_folder = dataset_path"
      ],
      "execution_count": 29,
      "outputs": []
    },
    {
      "cell_type": "markdown",
      "metadata": {
        "id": "liiAB1D0dT3Y"
      },
      "source": [
        "**Create train dataset from the folder**"
      ]
    },
    {
      "cell_type": "code",
      "metadata": {
        "id": "o0C2fG76cmxd"
      },
      "source": [
        "def get_train_dataset(imgs_folder):\n",
        "  # create torchvision transforms object for train data\n",
        "  train_transform = trans.Compose([\n",
        "                                   trans.RandomHorizontalFlip(), # random horizonttal flip of faces\n",
        "                                   trans.ToTensor(), # convert img to torch tensor\n",
        "                                   trans.Normalize([0.5,0.5,0.5], [0.5,0.5,0.5]) # normalize\n",
        "  ])\n",
        "  \n",
        "  # fetch and transform the images using torchvision transforms to create dataset\n",
        "  # from the image folder\n",
        "  ds = ImageFolder(imgs_folder, train_transform)\n",
        "  class_num = ds[-1][1] + 1 # total class is the index of last folder + 1\n",
        "  return ds, class_num\n",
        "\n",
        "# create train dataset\n",
        "train_ds, train_class_num = get_train_dataset(config.imgs_folder)"
      ],
      "execution_count": 30,
      "outputs": []
    },
    {
      "cell_type": "code",
      "metadata": {
        "colab": {
          "base_uri": "https://localhost:8080/"
        },
        "id": "gj8afp7beqOY",
        "outputId": "ac41ad88-2298-48fd-d95b-c9ebd8715a47"
      },
      "source": [
        "print(f'Train Dataset info {train_ds},\\ncontains {train_class_num} different identities!')\n",
        "print(f'Classes available in the dataset \\n{train_ds.classes},\\nhaving class ids {set(train_ds.targets)} respectively!')"
      ],
      "execution_count": 31,
      "outputs": [
        {
          "output_type": "stream",
          "text": [
            "Train Dataset info Dataset ImageFolder\n",
            "    Number of datapoints: 274\n",
            "    Root location: /content/gdrive/MyDrive/Kaggle Avengers face dataset/Marvels_face_dataset\n",
            "    StandardTransform\n",
            "Transform: Compose(\n",
            "               RandomHorizontalFlip(p=0.5)\n",
            "               ToTensor()\n",
            "               Normalize(mean=[0.5, 0.5, 0.5], std=[0.5, 0.5, 0.5])\n",
            "           ),\n",
            "contains 5 different identities!\n",
            "Classes available in the dataset \n",
            "['chris_evans', 'chris_hemsworth', 'mark_ruffalo', 'robert_downey_jr', 'scarlett_johansson'],\n",
            "having class ids {0, 1, 2, 3, 4} respectively!\n"
          ],
          "name": "stdout"
        }
      ]
    },
    {
      "cell_type": "markdown",
      "metadata": {
        "id": "d26FsmHbHmrd"
      },
      "source": [
        "#### **Define Pytorch DataLoader**\n",
        "\n",
        "Define the train_loader function, where we can pass dataset mode(as 'vgg' or 'ms1m') through configuration dictionary.\n"
      ]
    },
    {
      "cell_type": "code",
      "metadata": {
        "id": "GAw9Q3NUfLaN"
      },
      "source": [
        "# define the train_loader function, where we can pass dataset mode(as 'vgg' or 'ms1m') through configuration dictionary\n",
        "def get_train_loader(ds, class_num, config):\n",
        "  if config.data_mode in ['ms1m','vgg']:\n",
        "    # create train_loader, by deafult shuffles the datapoints\n",
        "    train_loader = DataLoader(ds, batch_size=config.batch_size, shuffle = True, pin_memory = config.pin_memory,\n",
        "                              num_workers = config.num_workers)\n",
        "    return train_loader, train_class_num"
      ],
      "execution_count": 40,
      "outputs": []
    },
    {
      "cell_type": "markdown",
      "metadata": {
        "id": "xfnaI9XtQIji"
      },
      "source": [
        "**Defining metadata parameters to config**"
      ]
    },
    {
      "cell_type": "code",
      "metadata": {
        "id": "I5S0Vt9ffMhZ"
      },
      "source": [
        "# initializing data_mode as 'ms1m' dataset\n",
        "config.data_mode = 'ms1m'\n",
        "# initializing batch_size to 64\n",
        "config.batch_size = 64\n",
        "# pin_memory status is set to True, which enables to load samples of data to device(GPU), spped-up the training\n",
        "config.pin_memory = True\n",
        "# initializing the number of workers to 4\n",
        "config.num_workers = 4"
      ],
      "execution_count": 41,
      "outputs": []
    },
    {
      "cell_type": "markdown",
      "metadata": {
        "id": "fUZjUs5BRW8q"
      },
      "source": [
        "**Create the train dataloader**"
      ]
    },
    {
      "cell_type": "code",
      "metadata": {
        "colab": {
          "base_uri": "https://localhost:8080/"
        },
        "id": "WObWUDuQRSaX",
        "outputId": "4c9825e9-4abc-41da-c582-78354c2af620"
      },
      "source": [
        "train_loader, _ = get_train_loader(train_ds, train_class_num, config)"
      ],
      "execution_count": 43,
      "outputs": [
        {
          "output_type": "stream",
          "text": [
            "/usr/local/lib/python3.7/dist-packages/torch/utils/data/dataloader.py:477: UserWarning: This DataLoader will create 4 worker processes in total. Our suggested max number of worker in current system is 2, which is smaller than what this DataLoader is going to create. Please be aware that excessive worker creation might get DataLoader running slow or even freeze, lower the worker number to avoid potential slowness/freeze if necessary.\n",
            "  cpuset_checked))\n"
          ],
          "name": "stderr"
        }
      ]
    },
    {
      "cell_type": "markdown",
      "metadata": {
        "id": "OzlghrVxUq3u"
      },
      "source": [
        "## **ArcFace Model Build**\n",
        "\n",
        "There are Backbone, Mobilefacenet models for generating face embedding. But, We are considering to use only Mobilefacenet, as it's a light-weight model."
      ]
    },
    {
      "cell_type": "markdown",
      "metadata": {
        "id": "F6hs96pOaccd"
      },
      "source": [
        "**Define Flatten Block**"
      ]
    },
    {
      "cell_type": "code",
      "metadata": {
        "id": "i4-X4Sbxaf8u"
      },
      "source": [
        "class Flatten(Module):\n",
        "  def forward(self, input):\n",
        "    return input.view(input.size(0), -1)"
      ],
      "execution_count": 55,
      "outputs": []
    },
    {
      "cell_type": "markdown",
      "metadata": {
        "id": "oLRCOUpxX6wB"
      },
      "source": [
        "**Define a Convolution Block**"
      ]
    },
    {
      "cell_type": "code",
      "metadata": {
        "id": "M1id3S3CSpSF"
      },
      "source": [
        "# defining torch deafult sub-class api\n",
        "# PReLU - Parameterized ReLU used to handle the variations(parameterize activation @ x< 0) in lower level layers \n",
        "class Conv_block(Module):\n",
        "    def __init__(self, in_c, out_c, kernel=(1, 1), stride=(1, 1), padding=(0, 0), groups=1):\n",
        "        super(Conv_block, self).__init__()\n",
        "        self.conv = Conv2d(in_c, out_channels=out_c, kernel_size=kernel, groups=groups, stride=stride, padding=padding, bias=False)\n",
        "        self.bn = BatchNorm2d(out_c)\n",
        "        self.prelu = PReLU(out_c)\n",
        "    \n",
        "    # forward prop\n",
        "    def forward(self, x):\n",
        "        x = self.conv(x)\n",
        "        x = self.bn(x)\n",
        "        x = self.prelu(x)\n",
        "        return x"
      ],
      "execution_count": 48,
      "outputs": []
    },
    {
      "cell_type": "markdown",
      "metadata": {
        "id": "2wcrBYfTY79e"
      },
      "source": [
        "**Define Linear Block**"
      ]
    },
    {
      "cell_type": "code",
      "metadata": {
        "id": "lGq9kN9YYyXO"
      },
      "source": [
        "class Linear_block(Module):\n",
        "    def __init__(self, in_c, out_c, kernel=(1, 1), stride=(1, 1), padding=(0, 0), groups=1):\n",
        "        super(Linear_block, self).__init__()\n",
        "        self.conv = Conv2d(in_c, out_channels=out_c, kernel_size=kernel, groups=groups, stride=stride, padding=padding, bias=False)\n",
        "        self.bn = BatchNorm2d(out_c)\n",
        "    def forward(self, x):\n",
        "        x = self.conv(x)\n",
        "        x = self.bn(x)\n",
        "        return x"
      ],
      "execution_count": 49,
      "outputs": []
    },
    {
      "cell_type": "markdown",
      "metadata": {
        "id": "sa74jnIgZyuM"
      },
      "source": [
        "**Define Depthwise Seperable Convolution Block**"
      ]
    },
    {
      "cell_type": "code",
      "metadata": {
        "id": "q7k3cgZaZC_-"
      },
      "source": [
        "class Depth_Wise(Module):\n",
        "     def __init__(self, in_c, out_c, residual = False, kernel=(3, 3), stride=(2, 2), padding=(1, 1), groups=1):\n",
        "        super(Depth_Wise, self).__init__()\n",
        "        self.conv = Conv_block(in_c, out_c=groups, kernel=(1, 1), padding=(0, 0), stride=(1, 1))\n",
        "        self.conv_dw = Conv_block(groups, groups, groups=groups, kernel=kernel, padding=padding, stride=stride)\n",
        "        self.project = Linear_block(groups, out_c, kernel=(1, 1), padding=(0, 0), stride=(1, 1))\n",
        "        self.residual = residual\n",
        "     def forward(self, x):\n",
        "        if self.residual:\n",
        "            short_cut = x\n",
        "        x = self.conv(x)\n",
        "        x = self.conv_dw(x)\n",
        "        x = self.project(x)\n",
        "        if self.residual:\n",
        "            output = short_cut + x\n",
        "        else:\n",
        "            output = x\n",
        "        return output"
      ],
      "execution_count": 50,
      "outputs": []
    },
    {
      "cell_type": "markdown",
      "metadata": {
        "id": "df8OKMNGZ7p9"
      },
      "source": [
        "**Define Residual Block**"
      ]
    },
    {
      "cell_type": "code",
      "metadata": {
        "id": "YNmIhnvBZxqS"
      },
      "source": [
        "class Residual(Module):\n",
        "    def __init__(self, c, num_block, groups, kernel=(3, 3), stride=(1, 1), padding=(1, 1)):\n",
        "        super(Residual, self).__init__()\n",
        "        modules = []\n",
        "        for _ in range(num_block):\n",
        "            modules.append(Depth_Wise(c, c, residual=True, kernel=kernel, padding=padding, stride=stride, groups=groups))\n",
        "        self.model = Sequential(*modules)\n",
        "    def forward(self, x):\n",
        "        return self.model(x)"
      ],
      "execution_count": 51,
      "outputs": []
    },
    {
      "cell_type": "markdown",
      "metadata": {
        "id": "3G8j98wDaEqv"
      },
      "source": [
        "#### **Define Mobilefacenet Model**"
      ]
    },
    {
      "cell_type": "code",
      "metadata": {
        "id": "GJxyMSbtZ-oS"
      },
      "source": [
        "class MobileFaceNet(Module):\n",
        "    def __init__(self, embedding_size):\n",
        "        super(MobileFaceNet, self).__init__()\n",
        "        self.conv1 = Conv_block(3, 64, kernel=(3, 3), stride=(2, 2), padding=(1, 1))\n",
        "        self.conv2_dw = Conv_block(64, 64, kernel=(3, 3), stride=(1, 1), padding=(1, 1), groups=64)\n",
        "        self.conv_23 = Depth_Wise(64, 64, kernel=(3, 3), stride=(2, 2), padding=(1, 1), groups=128)\n",
        "        self.conv_3 = Residual(64, num_block=4, groups=128, kernel=(3, 3), stride=(1, 1), padding=(1, 1))\n",
        "        self.conv_34 = Depth_Wise(64, 128, kernel=(3, 3), stride=(2, 2), padding=(1, 1), groups=256)\n",
        "        self.conv_4 = Residual(128, num_block=6, groups=256, kernel=(3, 3), stride=(1, 1), padding=(1, 1))\n",
        "        self.conv_45 = Depth_Wise(128, 128, kernel=(3, 3), stride=(2, 2), padding=(1, 1), groups=512)\n",
        "        self.conv_5 = Residual(128, num_block=2, groups=256, kernel=(3, 3), stride=(1, 1), padding=(1, 1))\n",
        "        self.conv_6_sep = Conv_block(128, 512, kernel=(1, 1), stride=(1, 1), padding=(0, 0))\n",
        "        self.conv_6_dw = Linear_block(512, 512, groups=512, kernel=(7,7), stride=(1, 1), padding=(0, 0))\n",
        "        self.conv_6_flatten = Flatten()\n",
        "        self.linear = Linear(512, embedding_size, bias=False)\n",
        "        self.bn = BatchNorm1d(embedding_size)\n",
        "    \n",
        "    def forward(self, x):\n",
        "        out = self.conv1(x)\n",
        "\n",
        "        out = self.conv2_dw(out)\n",
        "\n",
        "        out = self.conv_23(out)\n",
        "\n",
        "        out = self.conv_3(out)\n",
        "        \n",
        "        out = self.conv_34(out)\n",
        "\n",
        "        out = self.conv_4(out)\n",
        "\n",
        "        out = self.conv_45(out)\n",
        "\n",
        "        out = self.conv_5(out)\n",
        "\n",
        "        out = self.conv_6_sep(out)\n",
        "\n",
        "        out = self.conv_6_dw(out)\n",
        "\n",
        "        out = self.conv_6_flatten(out)\n",
        "\n",
        "        out = self.linear(out)\n",
        "\n",
        "        out = self.bn(out)\n",
        "        return l2_norm(out)"
      ],
      "execution_count": 56,
      "outputs": []
    },
    {
      "cell_type": "markdown",
      "metadata": {
        "id": "_bUTjMzbbL86"
      },
      "source": [
        "**Initialize the Mobilefacenet model**"
      ]
    },
    {
      "cell_type": "code",
      "metadata": {
        "colab": {
          "base_uri": "https://localhost:8080/"
        },
        "id": "IkCzWhbnaMVp",
        "outputId": "fa9d61ce-8fbc-46fd-8af8-cb47bec06191"
      },
      "source": [
        "# call model object\n",
        "mobilefacenet_model = MobileFaceNet(512)\n",
        "\n",
        "print(f'Model summary:\\n{mobilefacenet_model}')"
      ],
      "execution_count": 59,
      "outputs": [
        {
          "output_type": "stream",
          "text": [
            "Model summary:\n",
            "MobileFaceNet(\n",
            "  (conv1): Conv_block(\n",
            "    (conv): Conv2d(3, 64, kernel_size=(3, 3), stride=(2, 2), padding=(1, 1), bias=False)\n",
            "    (bn): BatchNorm2d(64, eps=1e-05, momentum=0.1, affine=True, track_running_stats=True)\n",
            "    (prelu): PReLU(num_parameters=64)\n",
            "  )\n",
            "  (conv2_dw): Conv_block(\n",
            "    (conv): Conv2d(64, 64, kernel_size=(3, 3), stride=(1, 1), padding=(1, 1), groups=64, bias=False)\n",
            "    (bn): BatchNorm2d(64, eps=1e-05, momentum=0.1, affine=True, track_running_stats=True)\n",
            "    (prelu): PReLU(num_parameters=64)\n",
            "  )\n",
            "  (conv_23): Depth_Wise(\n",
            "    (conv): Conv_block(\n",
            "      (conv): Conv2d(64, 128, kernel_size=(1, 1), stride=(1, 1), bias=False)\n",
            "      (bn): BatchNorm2d(128, eps=1e-05, momentum=0.1, affine=True, track_running_stats=True)\n",
            "      (prelu): PReLU(num_parameters=128)\n",
            "    )\n",
            "    (conv_dw): Conv_block(\n",
            "      (conv): Conv2d(128, 128, kernel_size=(3, 3), stride=(2, 2), padding=(1, 1), groups=128, bias=False)\n",
            "      (bn): BatchNorm2d(128, eps=1e-05, momentum=0.1, affine=True, track_running_stats=True)\n",
            "      (prelu): PReLU(num_parameters=128)\n",
            "    )\n",
            "    (project): Linear_block(\n",
            "      (conv): Conv2d(128, 64, kernel_size=(1, 1), stride=(1, 1), bias=False)\n",
            "      (bn): BatchNorm2d(64, eps=1e-05, momentum=0.1, affine=True, track_running_stats=True)\n",
            "    )\n",
            "  )\n",
            "  (conv_3): Residual(\n",
            "    (model): Sequential(\n",
            "      (0): Depth_Wise(\n",
            "        (conv): Conv_block(\n",
            "          (conv): Conv2d(64, 128, kernel_size=(1, 1), stride=(1, 1), bias=False)\n",
            "          (bn): BatchNorm2d(128, eps=1e-05, momentum=0.1, affine=True, track_running_stats=True)\n",
            "          (prelu): PReLU(num_parameters=128)\n",
            "        )\n",
            "        (conv_dw): Conv_block(\n",
            "          (conv): Conv2d(128, 128, kernel_size=(3, 3), stride=(1, 1), padding=(1, 1), groups=128, bias=False)\n",
            "          (bn): BatchNorm2d(128, eps=1e-05, momentum=0.1, affine=True, track_running_stats=True)\n",
            "          (prelu): PReLU(num_parameters=128)\n",
            "        )\n",
            "        (project): Linear_block(\n",
            "          (conv): Conv2d(128, 64, kernel_size=(1, 1), stride=(1, 1), bias=False)\n",
            "          (bn): BatchNorm2d(64, eps=1e-05, momentum=0.1, affine=True, track_running_stats=True)\n",
            "        )\n",
            "      )\n",
            "      (1): Depth_Wise(\n",
            "        (conv): Conv_block(\n",
            "          (conv): Conv2d(64, 128, kernel_size=(1, 1), stride=(1, 1), bias=False)\n",
            "          (bn): BatchNorm2d(128, eps=1e-05, momentum=0.1, affine=True, track_running_stats=True)\n",
            "          (prelu): PReLU(num_parameters=128)\n",
            "        )\n",
            "        (conv_dw): Conv_block(\n",
            "          (conv): Conv2d(128, 128, kernel_size=(3, 3), stride=(1, 1), padding=(1, 1), groups=128, bias=False)\n",
            "          (bn): BatchNorm2d(128, eps=1e-05, momentum=0.1, affine=True, track_running_stats=True)\n",
            "          (prelu): PReLU(num_parameters=128)\n",
            "        )\n",
            "        (project): Linear_block(\n",
            "          (conv): Conv2d(128, 64, kernel_size=(1, 1), stride=(1, 1), bias=False)\n",
            "          (bn): BatchNorm2d(64, eps=1e-05, momentum=0.1, affine=True, track_running_stats=True)\n",
            "        )\n",
            "      )\n",
            "      (2): Depth_Wise(\n",
            "        (conv): Conv_block(\n",
            "          (conv): Conv2d(64, 128, kernel_size=(1, 1), stride=(1, 1), bias=False)\n",
            "          (bn): BatchNorm2d(128, eps=1e-05, momentum=0.1, affine=True, track_running_stats=True)\n",
            "          (prelu): PReLU(num_parameters=128)\n",
            "        )\n",
            "        (conv_dw): Conv_block(\n",
            "          (conv): Conv2d(128, 128, kernel_size=(3, 3), stride=(1, 1), padding=(1, 1), groups=128, bias=False)\n",
            "          (bn): BatchNorm2d(128, eps=1e-05, momentum=0.1, affine=True, track_running_stats=True)\n",
            "          (prelu): PReLU(num_parameters=128)\n",
            "        )\n",
            "        (project): Linear_block(\n",
            "          (conv): Conv2d(128, 64, kernel_size=(1, 1), stride=(1, 1), bias=False)\n",
            "          (bn): BatchNorm2d(64, eps=1e-05, momentum=0.1, affine=True, track_running_stats=True)\n",
            "        )\n",
            "      )\n",
            "      (3): Depth_Wise(\n",
            "        (conv): Conv_block(\n",
            "          (conv): Conv2d(64, 128, kernel_size=(1, 1), stride=(1, 1), bias=False)\n",
            "          (bn): BatchNorm2d(128, eps=1e-05, momentum=0.1, affine=True, track_running_stats=True)\n",
            "          (prelu): PReLU(num_parameters=128)\n",
            "        )\n",
            "        (conv_dw): Conv_block(\n",
            "          (conv): Conv2d(128, 128, kernel_size=(3, 3), stride=(1, 1), padding=(1, 1), groups=128, bias=False)\n",
            "          (bn): BatchNorm2d(128, eps=1e-05, momentum=0.1, affine=True, track_running_stats=True)\n",
            "          (prelu): PReLU(num_parameters=128)\n",
            "        )\n",
            "        (project): Linear_block(\n",
            "          (conv): Conv2d(128, 64, kernel_size=(1, 1), stride=(1, 1), bias=False)\n",
            "          (bn): BatchNorm2d(64, eps=1e-05, momentum=0.1, affine=True, track_running_stats=True)\n",
            "        )\n",
            "      )\n",
            "    )\n",
            "  )\n",
            "  (conv_34): Depth_Wise(\n",
            "    (conv): Conv_block(\n",
            "      (conv): Conv2d(64, 256, kernel_size=(1, 1), stride=(1, 1), bias=False)\n",
            "      (bn): BatchNorm2d(256, eps=1e-05, momentum=0.1, affine=True, track_running_stats=True)\n",
            "      (prelu): PReLU(num_parameters=256)\n",
            "    )\n",
            "    (conv_dw): Conv_block(\n",
            "      (conv): Conv2d(256, 256, kernel_size=(3, 3), stride=(2, 2), padding=(1, 1), groups=256, bias=False)\n",
            "      (bn): BatchNorm2d(256, eps=1e-05, momentum=0.1, affine=True, track_running_stats=True)\n",
            "      (prelu): PReLU(num_parameters=256)\n",
            "    )\n",
            "    (project): Linear_block(\n",
            "      (conv): Conv2d(256, 128, kernel_size=(1, 1), stride=(1, 1), bias=False)\n",
            "      (bn): BatchNorm2d(128, eps=1e-05, momentum=0.1, affine=True, track_running_stats=True)\n",
            "    )\n",
            "  )\n",
            "  (conv_4): Residual(\n",
            "    (model): Sequential(\n",
            "      (0): Depth_Wise(\n",
            "        (conv): Conv_block(\n",
            "          (conv): Conv2d(128, 256, kernel_size=(1, 1), stride=(1, 1), bias=False)\n",
            "          (bn): BatchNorm2d(256, eps=1e-05, momentum=0.1, affine=True, track_running_stats=True)\n",
            "          (prelu): PReLU(num_parameters=256)\n",
            "        )\n",
            "        (conv_dw): Conv_block(\n",
            "          (conv): Conv2d(256, 256, kernel_size=(3, 3), stride=(1, 1), padding=(1, 1), groups=256, bias=False)\n",
            "          (bn): BatchNorm2d(256, eps=1e-05, momentum=0.1, affine=True, track_running_stats=True)\n",
            "          (prelu): PReLU(num_parameters=256)\n",
            "        )\n",
            "        (project): Linear_block(\n",
            "          (conv): Conv2d(256, 128, kernel_size=(1, 1), stride=(1, 1), bias=False)\n",
            "          (bn): BatchNorm2d(128, eps=1e-05, momentum=0.1, affine=True, track_running_stats=True)\n",
            "        )\n",
            "      )\n",
            "      (1): Depth_Wise(\n",
            "        (conv): Conv_block(\n",
            "          (conv): Conv2d(128, 256, kernel_size=(1, 1), stride=(1, 1), bias=False)\n",
            "          (bn): BatchNorm2d(256, eps=1e-05, momentum=0.1, affine=True, track_running_stats=True)\n",
            "          (prelu): PReLU(num_parameters=256)\n",
            "        )\n",
            "        (conv_dw): Conv_block(\n",
            "          (conv): Conv2d(256, 256, kernel_size=(3, 3), stride=(1, 1), padding=(1, 1), groups=256, bias=False)\n",
            "          (bn): BatchNorm2d(256, eps=1e-05, momentum=0.1, affine=True, track_running_stats=True)\n",
            "          (prelu): PReLU(num_parameters=256)\n",
            "        )\n",
            "        (project): Linear_block(\n",
            "          (conv): Conv2d(256, 128, kernel_size=(1, 1), stride=(1, 1), bias=False)\n",
            "          (bn): BatchNorm2d(128, eps=1e-05, momentum=0.1, affine=True, track_running_stats=True)\n",
            "        )\n",
            "      )\n",
            "      (2): Depth_Wise(\n",
            "        (conv): Conv_block(\n",
            "          (conv): Conv2d(128, 256, kernel_size=(1, 1), stride=(1, 1), bias=False)\n",
            "          (bn): BatchNorm2d(256, eps=1e-05, momentum=0.1, affine=True, track_running_stats=True)\n",
            "          (prelu): PReLU(num_parameters=256)\n",
            "        )\n",
            "        (conv_dw): Conv_block(\n",
            "          (conv): Conv2d(256, 256, kernel_size=(3, 3), stride=(1, 1), padding=(1, 1), groups=256, bias=False)\n",
            "          (bn): BatchNorm2d(256, eps=1e-05, momentum=0.1, affine=True, track_running_stats=True)\n",
            "          (prelu): PReLU(num_parameters=256)\n",
            "        )\n",
            "        (project): Linear_block(\n",
            "          (conv): Conv2d(256, 128, kernel_size=(1, 1), stride=(1, 1), bias=False)\n",
            "          (bn): BatchNorm2d(128, eps=1e-05, momentum=0.1, affine=True, track_running_stats=True)\n",
            "        )\n",
            "      )\n",
            "      (3): Depth_Wise(\n",
            "        (conv): Conv_block(\n",
            "          (conv): Conv2d(128, 256, kernel_size=(1, 1), stride=(1, 1), bias=False)\n",
            "          (bn): BatchNorm2d(256, eps=1e-05, momentum=0.1, affine=True, track_running_stats=True)\n",
            "          (prelu): PReLU(num_parameters=256)\n",
            "        )\n",
            "        (conv_dw): Conv_block(\n",
            "          (conv): Conv2d(256, 256, kernel_size=(3, 3), stride=(1, 1), padding=(1, 1), groups=256, bias=False)\n",
            "          (bn): BatchNorm2d(256, eps=1e-05, momentum=0.1, affine=True, track_running_stats=True)\n",
            "          (prelu): PReLU(num_parameters=256)\n",
            "        )\n",
            "        (project): Linear_block(\n",
            "          (conv): Conv2d(256, 128, kernel_size=(1, 1), stride=(1, 1), bias=False)\n",
            "          (bn): BatchNorm2d(128, eps=1e-05, momentum=0.1, affine=True, track_running_stats=True)\n",
            "        )\n",
            "      )\n",
            "      (4): Depth_Wise(\n",
            "        (conv): Conv_block(\n",
            "          (conv): Conv2d(128, 256, kernel_size=(1, 1), stride=(1, 1), bias=False)\n",
            "          (bn): BatchNorm2d(256, eps=1e-05, momentum=0.1, affine=True, track_running_stats=True)\n",
            "          (prelu): PReLU(num_parameters=256)\n",
            "        )\n",
            "        (conv_dw): Conv_block(\n",
            "          (conv): Conv2d(256, 256, kernel_size=(3, 3), stride=(1, 1), padding=(1, 1), groups=256, bias=False)\n",
            "          (bn): BatchNorm2d(256, eps=1e-05, momentum=0.1, affine=True, track_running_stats=True)\n",
            "          (prelu): PReLU(num_parameters=256)\n",
            "        )\n",
            "        (project): Linear_block(\n",
            "          (conv): Conv2d(256, 128, kernel_size=(1, 1), stride=(1, 1), bias=False)\n",
            "          (bn): BatchNorm2d(128, eps=1e-05, momentum=0.1, affine=True, track_running_stats=True)\n",
            "        )\n",
            "      )\n",
            "      (5): Depth_Wise(\n",
            "        (conv): Conv_block(\n",
            "          (conv): Conv2d(128, 256, kernel_size=(1, 1), stride=(1, 1), bias=False)\n",
            "          (bn): BatchNorm2d(256, eps=1e-05, momentum=0.1, affine=True, track_running_stats=True)\n",
            "          (prelu): PReLU(num_parameters=256)\n",
            "        )\n",
            "        (conv_dw): Conv_block(\n",
            "          (conv): Conv2d(256, 256, kernel_size=(3, 3), stride=(1, 1), padding=(1, 1), groups=256, bias=False)\n",
            "          (bn): BatchNorm2d(256, eps=1e-05, momentum=0.1, affine=True, track_running_stats=True)\n",
            "          (prelu): PReLU(num_parameters=256)\n",
            "        )\n",
            "        (project): Linear_block(\n",
            "          (conv): Conv2d(256, 128, kernel_size=(1, 1), stride=(1, 1), bias=False)\n",
            "          (bn): BatchNorm2d(128, eps=1e-05, momentum=0.1, affine=True, track_running_stats=True)\n",
            "        )\n",
            "      )\n",
            "    )\n",
            "  )\n",
            "  (conv_45): Depth_Wise(\n",
            "    (conv): Conv_block(\n",
            "      (conv): Conv2d(128, 512, kernel_size=(1, 1), stride=(1, 1), bias=False)\n",
            "      (bn): BatchNorm2d(512, eps=1e-05, momentum=0.1, affine=True, track_running_stats=True)\n",
            "      (prelu): PReLU(num_parameters=512)\n",
            "    )\n",
            "    (conv_dw): Conv_block(\n",
            "      (conv): Conv2d(512, 512, kernel_size=(3, 3), stride=(2, 2), padding=(1, 1), groups=512, bias=False)\n",
            "      (bn): BatchNorm2d(512, eps=1e-05, momentum=0.1, affine=True, track_running_stats=True)\n",
            "      (prelu): PReLU(num_parameters=512)\n",
            "    )\n",
            "    (project): Linear_block(\n",
            "      (conv): Conv2d(512, 128, kernel_size=(1, 1), stride=(1, 1), bias=False)\n",
            "      (bn): BatchNorm2d(128, eps=1e-05, momentum=0.1, affine=True, track_running_stats=True)\n",
            "    )\n",
            "  )\n",
            "  (conv_5): Residual(\n",
            "    (model): Sequential(\n",
            "      (0): Depth_Wise(\n",
            "        (conv): Conv_block(\n",
            "          (conv): Conv2d(128, 256, kernel_size=(1, 1), stride=(1, 1), bias=False)\n",
            "          (bn): BatchNorm2d(256, eps=1e-05, momentum=0.1, affine=True, track_running_stats=True)\n",
            "          (prelu): PReLU(num_parameters=256)\n",
            "        )\n",
            "        (conv_dw): Conv_block(\n",
            "          (conv): Conv2d(256, 256, kernel_size=(3, 3), stride=(1, 1), padding=(1, 1), groups=256, bias=False)\n",
            "          (bn): BatchNorm2d(256, eps=1e-05, momentum=0.1, affine=True, track_running_stats=True)\n",
            "          (prelu): PReLU(num_parameters=256)\n",
            "        )\n",
            "        (project): Linear_block(\n",
            "          (conv): Conv2d(256, 128, kernel_size=(1, 1), stride=(1, 1), bias=False)\n",
            "          (bn): BatchNorm2d(128, eps=1e-05, momentum=0.1, affine=True, track_running_stats=True)\n",
            "        )\n",
            "      )\n",
            "      (1): Depth_Wise(\n",
            "        (conv): Conv_block(\n",
            "          (conv): Conv2d(128, 256, kernel_size=(1, 1), stride=(1, 1), bias=False)\n",
            "          (bn): BatchNorm2d(256, eps=1e-05, momentum=0.1, affine=True, track_running_stats=True)\n",
            "          (prelu): PReLU(num_parameters=256)\n",
            "        )\n",
            "        (conv_dw): Conv_block(\n",
            "          (conv): Conv2d(256, 256, kernel_size=(3, 3), stride=(1, 1), padding=(1, 1), groups=256, bias=False)\n",
            "          (bn): BatchNorm2d(256, eps=1e-05, momentum=0.1, affine=True, track_running_stats=True)\n",
            "          (prelu): PReLU(num_parameters=256)\n",
            "        )\n",
            "        (project): Linear_block(\n",
            "          (conv): Conv2d(256, 128, kernel_size=(1, 1), stride=(1, 1), bias=False)\n",
            "          (bn): BatchNorm2d(128, eps=1e-05, momentum=0.1, affine=True, track_running_stats=True)\n",
            "        )\n",
            "      )\n",
            "    )\n",
            "  )\n",
            "  (conv_6_sep): Conv_block(\n",
            "    (conv): Conv2d(128, 512, kernel_size=(1, 1), stride=(1, 1), bias=False)\n",
            "    (bn): BatchNorm2d(512, eps=1e-05, momentum=0.1, affine=True, track_running_stats=True)\n",
            "    (prelu): PReLU(num_parameters=512)\n",
            "  )\n",
            "  (conv_6_dw): Linear_block(\n",
            "    (conv): Conv2d(512, 512, kernel_size=(7, 7), stride=(1, 1), groups=512, bias=False)\n",
            "    (bn): BatchNorm2d(512, eps=1e-05, momentum=0.1, affine=True, track_running_stats=True)\n",
            "  )\n",
            "  (conv_6_flatten): Flatten()\n",
            "  (linear): Linear(in_features=512, out_features=512, bias=False)\n",
            "  (bn): BatchNorm1d(512, eps=1e-05, momentum=0.1, affine=True, track_running_stats=True)\n",
            ")\n"
          ],
          "name": "stdout"
        }
      ]
    },
    {
      "cell_type": "code",
      "metadata": {
        "id": "cZE2bicla1Xj"
      },
      "source": [
        ""
      ],
      "execution_count": null,
      "outputs": []
    }
  ]
}