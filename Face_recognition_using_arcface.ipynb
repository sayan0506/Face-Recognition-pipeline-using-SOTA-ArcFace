{
  "nbformat": 4,
  "nbformat_minor": 0,
  "metadata": {
    "colab": {
      "name": "Face_recognition_using_arcface.ipynb",
      "provenance": [],
      "collapsed_sections": [],
      "toc_visible": true,
      "include_colab_link": true
    },
    "kernelspec": {
      "name": "python3",
      "display_name": "Python 3"
    },
    "language_info": {
      "name": "python"
    },
    "accelerator": "GPU"
  },
  "cells": [
    {
      "cell_type": "markdown",
      "metadata": {
        "id": "view-in-github",
        "colab_type": "text"
      },
      "source": [
        "<a href=\"https://colab.research.google.com/github/sayan0506/Face-Recognition-pipeline-using-SOTA-ArcFace/blob/main/Face_recognition_using_arcface.ipynb\" target=\"_parent\"><img src=\"https://colab.research.google.com/assets/colab-badge.svg\" alt=\"Open In Colab\"/></a>"
      ]
    },
    {
      "cell_type": "markdown",
      "metadata": {
        "id": "_XeOuxgY_2eK"
      },
      "source": [
        "# **Face recognition Pipeline design using arcface**\n",
        "\n",
        "This notebook is inspired from the paper [ArcFace: Additive Angular Margin Loss for Deep Face Recognition](https://arxiv.org/pdf/1801.07698v3.pdf)\n",
        "\n",
        "Git repo: [Insightface_Pytorch](https://github.com/TreB1eN/InsightFace_Pytorch)"
      ]
    },
    {
      "cell_type": "markdown",
      "metadata": {
        "id": "OIXqdxd086ho"
      },
      "source": [
        "**Install Dependencies**"
      ]
    },
    {
      "cell_type": "code",
      "metadata": {
        "colab": {
          "base_uri": "https://localhost:8080/"
        },
        "id": "6uxoiSwdlf4j",
        "outputId": "61ffd4fc-effd-4e2d-f121-08a46fe6d7f2"
      },
      "source": [
        "# install tensorboardX\n",
        "!pip install tensorboardX"
      ],
      "execution_count": 1,
      "outputs": [
        {
          "output_type": "stream",
          "text": [
            "Collecting tensorboardX\n",
            "\u001b[?25l  Downloading https://files.pythonhosted.org/packages/07/84/46421bd3e0e89a92682b1a38b40efc22dafb6d8e3d947e4ceefd4a5fabc7/tensorboardX-2.2-py2.py3-none-any.whl (120kB)\n",
            "\r\u001b[K     |██▊                             | 10kB 22.0MB/s eta 0:00:01\r\u001b[K     |█████▍                          | 20kB 27.0MB/s eta 0:00:01\r\u001b[K     |████████▏                       | 30kB 28.8MB/s eta 0:00:01\r\u001b[K     |██████████▉                     | 40kB 30.8MB/s eta 0:00:01\r\u001b[K     |█████████████▋                  | 51kB 29.5MB/s eta 0:00:01\r\u001b[K     |████████████████▎               | 61kB 30.2MB/s eta 0:00:01\r\u001b[K     |███████████████████             | 71kB 30.4MB/s eta 0:00:01\r\u001b[K     |█████████████████████▊          | 81kB 31.5MB/s eta 0:00:01\r\u001b[K     |████████████████████████▌       | 92kB 33.0MB/s eta 0:00:01\r\u001b[K     |███████████████████████████▏    | 102kB 34.4MB/s eta 0:00:01\r\u001b[K     |██████████████████████████████  | 112kB 34.4MB/s eta 0:00:01\r\u001b[K     |████████████████████████████████| 122kB 34.4MB/s \n",
            "\u001b[?25hRequirement already satisfied: protobuf>=3.8.0 in /usr/local/lib/python3.7/dist-packages (from tensorboardX) (3.12.4)\n",
            "Requirement already satisfied: numpy in /usr/local/lib/python3.7/dist-packages (from tensorboardX) (1.19.5)\n",
            "Requirement already satisfied: setuptools in /usr/local/lib/python3.7/dist-packages (from protobuf>=3.8.0->tensorboardX) (56.1.0)\n",
            "Requirement already satisfied: six>=1.9 in /usr/local/lib/python3.7/dist-packages (from protobuf>=3.8.0->tensorboardX) (1.15.0)\n",
            "Installing collected packages: tensorboardX\n",
            "Successfully installed tensorboardX-2.2\n"
          ],
          "name": "stdout"
        }
      ]
    },
    {
      "cell_type": "markdown",
      "metadata": {
        "id": "OjyoPUOu2w9V"
      },
      "source": [
        "## **Mount Drive**\n",
        "\n",
        "Drive: [link](hazrasayan2021@gmail.com)"
      ]
    },
    {
      "cell_type": "code",
      "metadata": {
        "colab": {
          "base_uri": "https://localhost:8080/"
        },
        "id": "wf6bQ1-22sV4",
        "outputId": "b636ed81-f12b-4088-b798-e38e3d706c3d"
      },
      "source": [
        "from google.colab import drive\n",
        "\n",
        "drive.mount('/content/gdrive/')"
      ],
      "execution_count": 2,
      "outputs": [
        {
          "output_type": "stream",
          "text": [
            "Mounted at /content/gdrive/\n"
          ],
          "name": "stdout"
        }
      ]
    },
    {
      "cell_type": "markdown",
      "metadata": {
        "id": "axuU73KwA3cC"
      },
      "source": [
        "## **Import Dependencies**"
      ]
    },
    {
      "cell_type": "code",
      "metadata": {
        "id": "Db0Lbuh2FBik"
      },
      "source": [
        "from pathlib import Path\n",
        "import numpy as np\n",
        "import cv2\n",
        "import os\n",
        "import pandas as pd\n",
        "from matplotlib import pyplot as plt\n",
        "import seaborn as sns\n",
        "from sklearn.model_selection import train_test_split\n",
        "\n",
        "# data pipeline\n",
        "# helps to create dict where, use keys as atribute\n",
        "from easydict import EasyDict as edict\n",
        "\n",
        "from torchvision import transforms as trans\n",
        "from torchvision.datasets import ImageFolder\n",
        "from PIL import Image, ImageFile, ImageDraw\n",
        "from torch.utils.data import Dataset, DataLoader\n",
        "\n",
        "# ensures loading truncated images \n",
        "ImageFile.LOAD_TRUNCATED_IMAGES = True\n",
        "\n",
        "# model build\n",
        "from torch.nn import Linear, Conv2d, BatchNorm1d, BatchNorm2d, PReLU, ReLU, Sigmoid, Dropout2d, Dropout, AvgPool2d, MaxPool2d, AdaptiveAvgPool2d, Sequential, Module, Parameter\n",
        "import torch.nn.functional as F\n",
        "import torch\n",
        "from collections import namedtuple\n",
        "import math\n",
        "import pdb\n",
        "\n",
        "# model training\n",
        "from tensorboardX import SummaryWriter\n",
        "from torch import optim\n",
        "from gdrive.MyDrive.arcface import model\n",
        "from tqdm import tqdm\n",
        "from torch.nn import CrossEntropyLoss"
      ],
      "execution_count": 3,
      "outputs": []
    },
    {
      "cell_type": "markdown",
      "metadata": {
        "id": "v5FmbF9u8BqH"
      },
      "source": [
        "## **Environment Setup**"
      ]
    },
    {
      "cell_type": "markdown",
      "metadata": {
        "id": "Dw_kTVAt8S9U"
      },
      "source": [
        "**Check GPU utilization**"
      ]
    },
    {
      "cell_type": "code",
      "metadata": {
        "id": "ngOSBUwqLY7M"
      },
      "source": [
        "#!export CUDA_VISIBLE_DEVICES=\"\""
      ],
      "execution_count": 6,
      "outputs": []
    },
    {
      "cell_type": "code",
      "metadata": {
        "colab": {
          "base_uri": "https://localhost:8080/"
        },
        "id": "ggMZ047Z8BId",
        "outputId": "5908cee1-0e58-4b97-b610-c12b757055e7"
      },
      "source": [
        "device = torch.device('cuda:0' if torch.cuda.is_available() else 'cpu')\n",
        "print(f'Running on device: {device}')"
      ],
      "execution_count": 7,
      "outputs": [
        {
          "output_type": "stream",
          "text": [
            "Running on device: cuda:0\n"
          ],
          "name": "stdout"
        }
      ]
    },
    {
      "cell_type": "code",
      "metadata": {
        "colab": {
          "base_uri": "https://localhost:8080/"
        },
        "id": "s7e38u2g8muB",
        "outputId": "bfbae0a9-fda4-4076-cecd-b960da1bfb9c"
      },
      "source": [
        "print(f'Device info\\n{torch.cuda.get_device_properties(0)}')"
      ],
      "execution_count": 8,
      "outputs": [
        {
          "output_type": "stream",
          "text": [
            "Device info\n",
            "_CudaDeviceProperties(name='Tesla T4', major=7, minor=5, total_memory=15109MB, multi_processor_count=40)\n"
          ],
          "name": "stdout"
        }
      ]
    },
    {
      "cell_type": "markdown",
      "metadata": {
        "id": "lclnCGEuaLaI"
      },
      "source": [
        "## **Dataset Load and Train-Valid-Test**\n",
        "\n",
        "Load the avengers face dataset\n",
        "* Source: [Kaggle](https://www.kaggle.com/rawatjitesh/avengers-face-recognition)\n",
        "* Drive link: [Dataset](https://drive.google.com/drive/folders/1VYuEXVOzUtd7fOaaLv7oW4YwGYbvh80w?usp=sharing)"
      ]
    },
    {
      "cell_type": "markdown",
      "metadata": {
        "id": "3AhUFYdbLcpQ"
      },
      "source": [
        "**Defining Configuration Dictionary, which will contain the important metadata regarding the ML pipeline**"
      ]
    },
    {
      "cell_type": "code",
      "metadata": {
        "id": "cK2Y2s80LnMr"
      },
      "source": [
        "# config edict dictionary initialize\n",
        "config = edict()"
      ],
      "execution_count": 9,
      "outputs": []
    },
    {
      "cell_type": "code",
      "metadata": {
        "id": "K8qzf3Ijgyql"
      },
      "source": [
        "# configure device\n",
        "config.device = device"
      ],
      "execution_count": 10,
      "outputs": []
    },
    {
      "cell_type": "code",
      "metadata": {
        "id": "ZiOnY2VjZaUl"
      },
      "source": [
        "# avengers face dataset path\n",
        "dataset_path = \"/content/gdrive/MyDrive/Kaggle Avengers face dataset/Marvels_face_dataset\"\n",
        "# add dataset path to config\n",
        "config.imgs_folder = dataset_path"
      ],
      "execution_count": 11,
      "outputs": []
    },
    {
      "cell_type": "markdown",
      "metadata": {
        "id": "zvy-wZOcAK03"
      },
      "source": [
        "#### **Data Analysis**"
      ]
    },
    {
      "cell_type": "code",
      "metadata": {
        "colab": {
          "base_uri": "https://localhost:8080/"
        },
        "id": "q-fm_Wvz6psa",
        "outputId": "15a49557-26f4-440e-eba3-800cc42300ab"
      },
      "source": [
        "# identity list\n",
        "identity_list = ['chris_evans', 'chris_hemsworth', 'mark_ruffalo', 'robert_downey_jr', 'scarlett_johansson']\n",
        "# identity path\n",
        "identity_path = [os.path.join(config.imgs_folder, identity) for identity in identity_list]\n",
        "\n",
        "print(f'Identity Paths\\n{identity_path}')"
      ],
      "execution_count": 12,
      "outputs": [
        {
          "output_type": "stream",
          "text": [
            "Identity Paths\n",
            "['/content/gdrive/MyDrive/Kaggle Avengers face dataset/Marvels_face_dataset/chris_evans', '/content/gdrive/MyDrive/Kaggle Avengers face dataset/Marvels_face_dataset/chris_hemsworth', '/content/gdrive/MyDrive/Kaggle Avengers face dataset/Marvels_face_dataset/mark_ruffalo', '/content/gdrive/MyDrive/Kaggle Avengers face dataset/Marvels_face_dataset/robert_downey_jr', '/content/gdrive/MyDrive/Kaggle Avengers face dataset/Marvels_face_dataset/scarlett_johansson']\n"
          ],
          "name": "stdout"
        }
      ]
    },
    {
      "cell_type": "markdown",
      "metadata": {
        "id": "UKdkROhJDncm"
      },
      "source": [
        "**Define image and label dataframe for analysis**"
      ]
    },
    {
      "cell_type": "code",
      "metadata": {
        "id": "pLWkvMXFDrQB"
      },
      "source": [
        "# image dataframe\n",
        "img_df = pd.DataFrame(columns = ['Image', 'Label'])\n",
        "\n",
        "# label dataframe\n",
        "label_df = pd.DataFrame(columns = identity_list)"
      ],
      "execution_count": 13,
      "outputs": []
    },
    {
      "cell_type": "markdown",
      "metadata": {
        "id": "8rN_bmw2ETn0"
      },
      "source": [
        "**Fetching info**"
      ]
    },
    {
      "cell_type": "code",
      "metadata": {
        "colab": {
          "base_uri": "https://localhost:8080/"
        },
        "id": "UnQCNfZwBItE",
        "outputId": "2c557669-cdd2-450a-91ed-a20623aa570b"
      },
      "source": [
        "\n",
        "print('\\n[INFO] Loading images ...')\n",
        "# total sample count\n",
        "sample_count = 0\n",
        "for sr, id_path in enumerate(identity_path):\n",
        "  print(f'[INFO] Processing {identity_list[sr]}')\n",
        "  sample_list = os.listdir(id_path)\n",
        "\n",
        "  for id_sample in sample_list:\n",
        "    # removing the .DS_store files from list, which contains the folder infos\n",
        "    if id_sample == '.DS_store':\n",
        "      sample_list.remove(id_sample)\n",
        "  # categorical count\n",
        "  count = 0\n",
        "  for id_sample in sample_list:\n",
        "    id_sample_path = os.path.join(id_path, id_sample)\n",
        "    if id_sample_path.endswith(\".jpg\") == True or id_sample_path.endswith(\".JPG\") == True or id_sample_path.endswith(\".png\") == True or id_sample_path.endswith(\".PNG\") == True:\n",
        "      img_df.loc[sample_count,'Image'], img_df.loc[sample_count,'Label'] = id_sample, identity_list[sr]\n",
        "      #self.img_df.loc[sample_count,'Shape'] = img.shape\n",
        "      count += 1\n",
        "      sample_count += 1\n",
        "\n",
        "  label_df.loc[0, identity_list[sr]] = count\n",
        "  print(count)\n",
        "  # checks whether all the samples are loaded successfully or not to img_df\n",
        "  assert len(sample_list) == count\n",
        "\n",
        "print(f'Data distribution of different identities\\n{label_df}')\n",
        "print(f'Image dataframe\\n{img_df}')"
      ],
      "execution_count": 14,
      "outputs": [
        {
          "output_type": "stream",
          "text": [
            "\n",
            "[INFO] Loading images ...\n",
            "[INFO] Processing chris_evans\n",
            "50\n",
            "[INFO] Processing chris_hemsworth\n",
            "53\n",
            "[INFO] Processing mark_ruffalo\n",
            "66\n",
            "[INFO] Processing robert_downey_jr\n",
            "51\n",
            "[INFO] Processing scarlett_johansson\n",
            "54\n",
            "Data distribution of different identities\n",
            "  chris_evans chris_hemsworth mark_ruffalo robert_downey_jr scarlett_johansson\n",
            "0          50              53           66               51                 54\n",
            "Image dataframe\n",
            "                        Image               Label\n",
            "0           chris_evans34.png         chris_evans\n",
            "1           chris_evans32.png         chris_evans\n",
            "2            chris_evans6.png         chris_evans\n",
            "3           chris_evans47.png         chris_evans\n",
            "4           chris_evans13.png         chris_evans\n",
            "..                        ...                 ...\n",
            "269  scarlett_johansson54.png  scarlett_johansson\n",
            "270  scarlett_johansson52.png  scarlett_johansson\n",
            "271   scarlett_johansson9.png  scarlett_johansson\n",
            "272  scarlett_johansson53.png  scarlett_johansson\n",
            "273   scarlett_johansson5.png  scarlett_johansson\n",
            "\n",
            "[274 rows x 2 columns]\n"
          ],
          "name": "stdout"
        }
      ]
    },
    {
      "cell_type": "markdown",
      "metadata": {
        "id": "4G3rNq_-HtJu"
      },
      "source": [
        "**Target Distribution Visualize**"
      ]
    },
    {
      "cell_type": "code",
      "metadata": {
        "colab": {
          "base_uri": "https://localhost:8080/",
          "height": 339
        },
        "id": "59ZlJqebHkMo",
        "outputId": "c56341d6-d154-45fa-e006-2312c05a70ff"
      },
      "source": [
        "def distribution_vis(counts_series, label):\n",
        "  '''\n",
        "  Target distribution\n",
        "  '''\n",
        "  fig = plt.figure(figsize = (15,5))\n",
        "  sns.barplot(x = counts_series.index, y = counts_series.values)\n",
        "  plt.title(label, fontsize = 16)\n",
        "\n",
        "# returns pandas series with classes as keys and count as values\n",
        "target_counts = img_df['Label'].value_counts()\n",
        "\n",
        "# vis distribution\n",
        "distribution_vis(target_counts, label = 'Target Distribution of Different Identities')"
      ],
      "execution_count": 15,
      "outputs": [
        {
          "output_type": "display_data",
          "data": {
            "image/png": "[encoded data removed]",
            "text/plain": [
              "<Figure size 1080x360 with 1 Axes>"
            ]
          },
          "metadata": {
            "tags": [],
            "needs_background": "light"
          }
        }
      ]
    },
    {
      "cell_type": "markdown",
      "metadata": {
        "id": "ZRD5BkYmLnGD"
      },
      "source": [
        "#### **Train-Validation-Test Split**\n",
        "\n",
        "We are taking train, valid, test ratio as - [0.9:0.05:0.05]"
      ]
    },
    {
      "cell_type": "code",
      "metadata": {
        "id": "n-GhvFdoK65K"
      },
      "source": [
        "# validation split\n",
        "val_ratio = 0.10\n",
        "# test split\n",
        "test_ratio = 0.5\n",
        "\n",
        "# image_ids\n",
        "img_ids = img_df.loc[:,'Image']\n",
        "\n",
        "# image_ids\n",
        "label_ids = img_df.loc[:,'Label']"
      ],
      "execution_count": 16,
      "outputs": []
    },
    {
      "cell_type": "markdown",
      "metadata": {
        "id": "noFE78bzMoEl"
      },
      "source": [
        "**Defining train, validation, test dataframe**"
      ]
    },
    {
      "cell_type": "code",
      "metadata": {
        "id": "kgX_LRwXMMZX"
      },
      "source": [
        "# train df\n",
        "train_df = pd.DataFrame(columns=['Image','Label'])\n",
        "# validation main df\n",
        "valid_main_df = pd.DataFrame(columns=['Image','Label'])\n",
        "# validation df\n",
        "valid_df = pd.DataFrame(columns=['Image','Label'])\n",
        "# test df\n",
        "test_df = pd.DataFrame(columns=['Image','Label'])"
      ],
      "execution_count": 17,
      "outputs": []
    },
    {
      "cell_type": "markdown",
      "metadata": {
        "id": "rD6zGbgvgsWf"
      },
      "source": [
        "**Train-Valid_main Split**"
      ]
    },
    {
      "cell_type": "code",
      "metadata": {
        "id": "zcDAyc9LNAxE"
      },
      "source": [
        "train_df['Image'], valid_main_df['Image'], train_df['Label'], valid_main_df['Label'] = train_test_split(img_ids, label_ids,\n",
        "                                                                                                      test_size = val_ratio,\n",
        "                                                                                                      random_state = 28,\n",
        "                                                                                                      stratify = label_ids,\n",
        "                                                                                                      shuffle = True\n",
        "                                                                                                      )"
      ],
      "execution_count": 18,
      "outputs": []
    },
    {
      "cell_type": "markdown",
      "metadata": {
        "id": "II8MqO20gx4z"
      },
      "source": [
        "**Validation-Test Split**"
      ]
    },
    {
      "cell_type": "code",
      "metadata": {
        "id": "KV9TSidogiWo"
      },
      "source": [
        "valid_df['Image'], test_df['Image'], valid_df['Label'], test_df['Label'] = train_test_split(valid_main_df['Image'], valid_main_df['Label'],\n",
        "                                                                                                      test_size = test_ratio,\n",
        "                                                                                                      random_state = 28,\n",
        "                                                                                                      stratify = valid_main_df['Label'],\n",
        "                                                                                                      shuffle = True\n",
        "                                                                                                      )"
      ],
      "execution_count": 19,
      "outputs": []
    },
    {
      "cell_type": "code",
      "metadata": {
        "colab": {
          "base_uri": "https://localhost:8080/"
        },
        "id": "GwEyIVAFhpgt",
        "outputId": "be5b6c00-7556-42b8-e020-6b2966c538c8"
      },
      "source": [
        "print(f'Train dataframe shape {train_df.shape}')\n",
        "print(f'Validation dataframe shape {valid_df.shape}')\n",
        "print(f'Test dataframe shape {test_df.shape}')"
      ],
      "execution_count": 20,
      "outputs": [
        {
          "output_type": "stream",
          "text": [
            "Train dataframe shape (246, 2)\n",
            "Validation dataframe shape (14, 2)\n",
            "Test dataframe shape (14, 2)\n"
          ],
          "name": "stdout"
        }
      ]
    },
    {
      "cell_type": "markdown",
      "metadata": {
        "id": "P4YN4hoGiwKN"
      },
      "source": [
        "**STratification Check**"
      ]
    },
    {
      "cell_type": "code",
      "metadata": {
        "id": "_gK5QX7XlL3K"
      },
      "source": [
        "def distribution_vis_check(train, valid, test):\n",
        "  '''\n",
        "  Target distribution\n",
        "  '''\n",
        "  xdf = [train.index, valid.index, test.index]\n",
        "  ydf = [train.values, valid.values, test.values]\n",
        "  label = ['Train Distribution', 'Validation Distribution', 'Test Distribution'] \n",
        "  fig = plt.figure(figsize = (20,5))\n",
        "  for i in range(len(xdf)):\n",
        "    fig.add_subplot(1, len(xdf), i+1)\n",
        "    sns.barplot(x = xdf[i], y = ydf[i])\n",
        "    plt.xlabel(label[i], fontsize = 16)\n"
      ],
      "execution_count": 21,
      "outputs": []
    },
    {
      "cell_type": "markdown",
      "metadata": {
        "id": "-nH_GMhZnSu1"
      },
      "source": [
        "**Startifiction check using the df**"
      ]
    },
    {
      "cell_type": "code",
      "metadata": {
        "colab": {
          "base_uri": "https://localhost:8080/"
        },
        "id": "FgR9VspOm-fu",
        "outputId": "02c22688-713e-43af-9c54-31fece3ae134"
      },
      "source": [
        "print(train_df['Label'].value_counts())\n",
        "print(valid_df['Label'].value_counts())\n",
        "print(test_df['Label'].value_counts())"
      ],
      "execution_count": 22,
      "outputs": [
        {
          "output_type": "stream",
          "text": [
            "mark_ruffalo          59\n",
            "chris_hemsworth       48\n",
            "scarlett_johansson    48\n",
            "robert_downey_jr      46\n",
            "chris_evans           45\n",
            "Name: Label, dtype: int64\n",
            "mark_ruffalo          4\n",
            "chris_evans           3\n",
            "scarlett_johansson    3\n",
            "robert_downey_jr      2\n",
            "chris_hemsworth       2\n",
            "Name: Label, dtype: int64\n",
            "robert_downey_jr      3\n",
            "scarlett_johansson    3\n",
            "chris_hemsworth       3\n",
            "mark_ruffalo          3\n",
            "chris_evans           2\n",
            "Name: Label, dtype: int64\n"
          ],
          "name": "stdout"
        }
      ]
    },
    {
      "cell_type": "markdown",
      "metadata": {
        "id": "_n5Jt2PanWc5"
      },
      "source": [
        "**Startification CHek Visualize**"
      ]
    },
    {
      "cell_type": "code",
      "metadata": {
        "colab": {
          "base_uri": "https://localhost:8080/",
          "height": 340
        },
        "id": "lMRNw2PmivwL",
        "outputId": "3c3ab536-71ef-4508-ff90-8819df69cb57"
      },
      "source": [
        "distribution_vis_check(train_df['Label'].value_counts(), valid_df['Label'].value_counts(), test_df['Label'].value_counts())"
      ],
      "execution_count": 23,
      "outputs": [
        {
          "output_type": "display_data",
          "data": {
            "image/png": "[encoded data removed]",
            "text/plain": [
              "<Figure size 1440x360 with 3 Axes>"
            ]
          },
          "metadata": {
            "tags": [],
            "needs_background": "light"
          }
        }
      ]
    },
    {
      "cell_type": "markdown",
      "metadata": {
        "id": "LII73a7UnZvy"
      },
      "source": [
        "**From all the above analysis, the data train-valid-test split is stratified**"
      ]
    },
    {
      "cell_type": "markdown",
      "metadata": {
        "id": "LNJavgNxzf2i"
      },
      "source": [
        "#### **Face Extraction**\n",
        "\n",
        "For face detection in the images we are using pre-trained Joint Face Detection and Alignment using Multi-task Cascaded Convolutional Networks.\n",
        "\n",
        "[Reference paper](https://arxiv.org/abs/1604.02878)\n",
        "\n",
        "Git clone facenet_pytorch, which consists MTCNN face detector\n",
        "\n",
        "[Git repo](https://github.com/timesler/facenet-pytorch)\n",
        "\n"
      ]
    },
    {
      "cell_type": "code",
      "metadata": {
        "colab": {
          "base_uri": "https://localhost:8080/"
        },
        "id": "RH9h3cOj02-M",
        "outputId": "91bceb46-2a8e-44c4-a915-ebee459dc317"
      },
      "source": [
        "!git clone https://github.com/timesler/facenet-pytorch"
      ],
      "execution_count": 24,
      "outputs": [
        {
          "output_type": "stream",
          "text": [
            "Cloning into 'facenet-pytorch'...\n",
            "remote: Enumerating objects: 1264, done.\u001b[K\n",
            "remote: Counting objects: 100% (29/29), done.\u001b[K\n",
            "remote: Compressing objects: 100% (27/27), done.\u001b[K\n",
            "remote: Total 1264 (delta 11), reused 7 (delta 2), pack-reused 1235\u001b[K\n",
            "Receiving objects: 100% (1264/1264), 22.89 MiB | 46.14 MiB/s, done.\n",
            "Resolving deltas: 100% (613/613), done.\n"
          ],
          "name": "stdout"
        }
      ]
    },
    {
      "cell_type": "markdown",
      "metadata": {
        "id": "M0zgBYsP1ZLn"
      },
      "source": [
        "**Rename folder to \"facenet_pytorch\", as python module does not accept name containing \"-\"**"
      ]
    },
    {
      "cell_type": "code",
      "metadata": {
        "id": "BB6-V4fo1lTC"
      },
      "source": [
        "os.rename('facenet-pytorch', 'facenet_pytorch')"
      ],
      "execution_count": 25,
      "outputs": []
    },
    {
      "cell_type": "markdown",
      "metadata": {
        "id": "Iqd5I8Iz1Oll"
      },
      "source": [
        "**Import Dependencies for MTCNN face detector**"
      ]
    },
    {
      "cell_type": "code",
      "metadata": {
        "id": "WTK4YkJzrFKU"
      },
      "source": [
        "from facenet_pytorch.models.mtcnn import MTCNN"
      ],
      "execution_count": 26,
      "outputs": []
    },
    {
      "cell_type": "markdown",
      "metadata": {
        "id": "nyQgrI1H2WzC"
      },
      "source": [
        "**Define MTCNN module**\n",
        "\n",
        "Default params shown for illustration, but not needed. Note that, since MTCNN is a collection of neural nets and other code, the device must be passed in the following way to enable copying of objects when needed internally."
      ]
    },
    {
      "cell_type": "code",
      "metadata": {
        "id": "4YRfQygP2Rmz"
      },
      "source": [
        "# face detector object\n",
        "# using default reshaped face size = (160,160)\n",
        "mtcnn = MTCNN(\n",
        "    image_size=160, margin=0, min_face_size=20,\n",
        "    thresholds=[0.6, 0.7, 0.7], factor=0.709, post_process=True,\n",
        "    device=config.device\n",
        ")"
      ],
      "execution_count": 27,
      "outputs": []
    },
    {
      "cell_type": "markdown",
      "metadata": {
        "id": "Rco966hR4ERJ"
      },
      "source": [
        "**Demo Detection**"
      ]
    },
    {
      "cell_type": "code",
      "metadata": {
        "colab": {
          "base_uri": "https://localhost:8080/",
          "height": 319
        },
        "id": "nVuP-QB44HWq",
        "outputId": "abcca3f3-67c3-4075-d7d3-d88ac4cfa8e2"
      },
      "source": [
        "sample_img = 'robert_downey_jr9.png' \n",
        "\n",
        "# read using PIL library, else ImagDraw will not work here\n",
        "img = Image.open(os.path.join(config.imgs_folder, 'robert_downey_jr', sample_img))\n",
        "\n",
        "# detect faces\n",
        "boxes, prob = mtcnn.detect(img)\n",
        "\n",
        "# draw faces\n",
        "img_draw = img.copy()\n",
        "\n",
        "# define draw object to draw on the image\n",
        "draw = ImageDraw.Draw(img_draw)\n",
        "for box in boxes:\n",
        "  draw.rectangle(box.tolist(), outline = (255,0,0), width = 2)\n",
        "print(f'face count in the sample is {len(boxes)} with confidence {prob[0]*100}%')\n",
        "\n",
        "print('\\nDone Detection')\n",
        "\n",
        "plt.imshow(img_draw)\n",
        "plt.show()"
      ],
      "execution_count": 28,
      "outputs": [
        {
          "output_type": "stream",
          "text": [
            "face count in the sample is 1 with confidence 99.45905208587646%\n",
            "\n",
            "Done Detection\n"
          ],
          "name": "stdout"
        },
        {
          "output_type": "display_data",
          "data": {
            "image/png": "[encoded data removed]",
            "text/plain": [
              "<Figure size 432x288 with 1 Axes>"
            ]
          },
          "metadata": {
            "tags": [],
            "needs_background": "light"
          }
        }
      ]
    },
    {
      "cell_type": "markdown",
      "metadata": {
        "id": "COLHeYaD6hm2"
      },
      "source": [
        "## **Create Torch Dataset**"
      ]
    },
    {
      "cell_type": "markdown",
      "metadata": {
        "id": "yZcH2SnP5cjZ"
      },
      "source": [
        "**Configure input image size**"
      ]
    },
    {
      "cell_type": "code",
      "metadata": {
        "id": "FDKDbUb66w0e"
      },
      "source": [
        "config.input_size = (112,112)"
      ],
      "execution_count": 29,
      "outputs": []
    },
    {
      "cell_type": "markdown",
      "metadata": {
        "id": "C9vWGJ8F4ihv"
      },
      "source": [
        "**Define custom FcaeDataset class to obtain samples from train, valid, test dataframe**"
      ]
    },
    {
      "cell_type": "code",
      "metadata": {
        "id": "3bX9hj4z4g3b"
      },
      "source": [
        "class FaceDataset(Dataset):\n",
        "  def __init__(self, df, root_dir, identity_list, transform = None):\n",
        "    self.df = df\n",
        "    self.dir = root_dir\n",
        "    self.transform = transform\n",
        "    self.identity = identity_list\n",
        "  \n",
        "  def __len__(self):\n",
        "    return self.df.shape[0]\n",
        "\n",
        "  def __getitem__(self, idx):\n",
        "    if torch.is_tensor(idx):\n",
        "      idx = idx.tolist()\n",
        "    img_name = os.path.join(self.dir, self.df['Label'].iloc[idx], self.df['Image'].iloc[idx])\n",
        "    sample = [Image.open(img_name), int(self.identity.index(self.df['Label'].iloc[idx]))]\n",
        "\n",
        "    if self.transform:\n",
        "      sample[0] = self.transform(sample[0])\n",
        "    \n",
        "    sample = tuple(sample)\n",
        "\n",
        "    return sample\n"
      ],
      "execution_count": 30,
      "outputs": []
    },
    {
      "cell_type": "markdown",
      "metadata": {
        "id": "-kwgg10PXMKV"
      },
      "source": [
        "**Configure Identity list, train_dataframe, valid_dataframe, test_dataframe**"
      ]
    },
    {
      "cell_type": "code",
      "metadata": {
        "id": "ufu5BTVc46tV"
      },
      "source": [
        "config.identity = identity_list\n",
        "config.train_df = train_df\n",
        "config.valid_df = valid_df\n",
        "config.test_df = test_df"
      ],
      "execution_count": 31,
      "outputs": []
    },
    {
      "cell_type": "markdown",
      "metadata": {
        "id": "Z7DPAzmdYBp-"
      },
      "source": [
        "**Define and configure transform for train, valid, test**\n",
        "\n",
        "Define same transform for train, valid, test using torcgvision transform"
      ]
    },
    {
      "cell_type": "code",
      "metadata": {
        "id": "lNly7E2HYGog"
      },
      "source": [
        "# configure transform\n",
        "config.transform = trans.Compose([\n",
        "                                   trans.RandomHorizontalFlip(), # random horizonttal flip of faces\n",
        "                                   trans.ToTensor(), # convert img to torch tensor\n",
        "                                   trans.Normalize([0.5,0.5,0.5], [0.5,0.5,0.5]), # normalize\n",
        "                                   trans.Resize(config.input_size, interpolation=trans.InterpolationMode.BICUBIC)\n",
        "  ])"
      ],
      "execution_count": 32,
      "outputs": []
    },
    {
      "cell_type": "markdown",
      "metadata": {
        "id": "liiAB1D0dT3Y"
      },
      "source": [
        "**Create train dataset from the train dataframe**"
      ]
    },
    {
      "cell_type": "code",
      "metadata": {
        "id": "o0C2fG76cmxd"
      },
      "source": [
        "def get_dataset(config, df):\n",
        "  # fetch and transform the images using torchvision transforms to create dataset\n",
        "  # from the image folder\n",
        "  ds = FaceDataset(df, config.imgs_folder, config.identity, transform= config.transform)\n",
        "  class_num = len(config.identity) # total class is the index of last folder + 1\n",
        "  return ds, class_num\n",
        "\n",
        "# create train dataset\n",
        "train_ds, train_class_num = get_dataset(config, config.train_df)"
      ],
      "execution_count": 33,
      "outputs": []
    },
    {
      "cell_type": "code",
      "metadata": {
        "id": "rnlqL1Rx6CfT"
      },
      "source": [
        "targets = [train_ds.identity.index(id) for id in train_ds.identity]"
      ],
      "execution_count": 34,
      "outputs": []
    },
    {
      "cell_type": "code",
      "metadata": {
        "colab": {
          "base_uri": "https://localhost:8080/"
        },
        "id": "gj8afp7beqOY",
        "outputId": "d781c4fd-2b28-4161-b298-e85bf3e7bd9d"
      },
      "source": [
        "print(f'Train Dataset info {train_ds},\\ncontains {train_class_num} different identities!')\n",
        "print(f'Classes available in the dataset \\n{train_ds.identity},\\nhaving class ids {targets} respectively!')\n",
        "print(f'Length of the dataset {len(train_ds)}')"
      ],
      "execution_count": 35,
      "outputs": [
        {
          "output_type": "stream",
          "text": [
            "Train Dataset info <__main__.FaceDataset object at 0x7f5aa593db90>,\n",
            "contains 5 different identities!\n",
            "Classes available in the dataset \n",
            "['chris_evans', 'chris_hemsworth', 'mark_ruffalo', 'robert_downey_jr', 'scarlett_johansson'],\n",
            "having class ids [0, 1, 2, 3, 4] respectively!\n",
            "Length of the dataset 246\n"
          ],
          "name": "stdout"
        }
      ]
    },
    {
      "cell_type": "markdown",
      "metadata": {
        "id": "87qRuZ67Y_G-"
      },
      "source": [
        "**Create validation dataset from the validation dataframe**"
      ]
    },
    {
      "cell_type": "code",
      "metadata": {
        "id": "NSNTKAtoXrKt"
      },
      "source": [
        "# create validation dataset\n",
        "valid_ds, valid_class_num = get_dataset(config, config.valid_df)"
      ],
      "execution_count": 36,
      "outputs": []
    },
    {
      "cell_type": "code",
      "metadata": {
        "colab": {
          "base_uri": "https://localhost:8080/"
        },
        "id": "NpiW8UczZ_Ax",
        "outputId": "bba08c7c-0534-4814-ff59-f16aea9bb022"
      },
      "source": [
        "print(f'Validation Dataset info {valid_ds},\\ncontains {valid_class_num} different identities!')\n",
        "print(f'Classes available in the dataset \\n{valid_ds.identity},\\nhaving class ids {targets} respectively!')\n",
        "print(f'Length of the dataset {len(valid_ds)}')"
      ],
      "execution_count": 37,
      "outputs": [
        {
          "output_type": "stream",
          "text": [
            "Validation Dataset info <__main__.FaceDataset object at 0x7f5aa594f150>,\n",
            "contains 5 different identities!\n",
            "Classes available in the dataset \n",
            "['chris_evans', 'chris_hemsworth', 'mark_ruffalo', 'robert_downey_jr', 'scarlett_johansson'],\n",
            "having class ids [0, 1, 2, 3, 4] respectively!\n",
            "Length of the dataset 14\n"
          ],
          "name": "stdout"
        }
      ]
    },
    {
      "cell_type": "markdown",
      "metadata": {
        "id": "gEteRCFAajHB"
      },
      "source": [
        "**Create test dataset from the validation dataframe**"
      ]
    },
    {
      "cell_type": "code",
      "metadata": {
        "id": "GjscEyj1aryr"
      },
      "source": [
        "# create test dataset\n",
        "test_ds, test_class_num = get_dataset(config, config.test_df)"
      ],
      "execution_count": 38,
      "outputs": []
    },
    {
      "cell_type": "code",
      "metadata": {
        "colab": {
          "base_uri": "https://localhost:8080/"
        },
        "id": "VZyats5KbNRO",
        "outputId": "d55b0582-db50-43be-c5a5-1cc16b514a05"
      },
      "source": [
        "print(f'Test Dataset info {test_ds},\\ncontains {test_class_num} different identities!')\n",
        "print(f'Classes available in the dataset \\n{test_ds.identity},\\nhaving class ids {targets} respectively!')\n",
        "print(f'Length of the dataset {len(test_ds)}')"
      ],
      "execution_count": 39,
      "outputs": [
        {
          "output_type": "stream",
          "text": [
            "Test Dataset info <__main__.FaceDataset object at 0x7f5aa5942790>,\n",
            "contains 5 different identities!\n",
            "Classes available in the dataset \n",
            "['chris_evans', 'chris_hemsworth', 'mark_ruffalo', 'robert_downey_jr', 'scarlett_johansson'],\n",
            "having class ids [0, 1, 2, 3, 4] respectively!\n",
            "Length of the dataset 14\n"
          ],
          "name": "stdout"
        }
      ]
    },
    {
      "cell_type": "markdown",
      "metadata": {
        "id": "d26FsmHbHmrd"
      },
      "source": [
        "#### **Define Pytorch DataLoader**\n",
        "\n",
        "Define the data_loader function, where we can pass dataset mode(as 'vgg' or 'ms1m') through configuration dictionary.\n"
      ]
    },
    {
      "cell_type": "code",
      "metadata": {
        "id": "GAw9Q3NUfLaN"
      },
      "source": [
        "# define the train_loader function, where we can pass dataset mode(as 'vgg' or 'ms1m') through configuration dictionary\n",
        "def get_data_loader(ds, class_num, config):\n",
        "  if config.data_mode in ['ms1m','vgg']:\n",
        "    # create train_loader, by deafult shuffles the datapoints\n",
        "    data_loader = DataLoader(ds, batch_size=config.batch_size, shuffle = True, pin_memory = config.pin_memory,\n",
        "                              num_workers = config.num_workers)\n",
        "    return data_loader, class_num"
      ],
      "execution_count": 40,
      "outputs": []
    },
    {
      "cell_type": "markdown",
      "metadata": {
        "id": "xfnaI9XtQIji"
      },
      "source": [
        "**Defining metadata parameters to config**"
      ]
    },
    {
      "cell_type": "code",
      "metadata": {
        "id": "I5S0Vt9ffMhZ"
      },
      "source": [
        "# initializing data_mode as 'ms1m' dataset\n",
        "config.data_mode = 'ms1m'\n",
        "# initializing batch_size to 64\n",
        "config.batch_size = 64\n",
        "# pin_memory status is set to True, which enables to load samples of data to device(GPU), spped-up the training\n",
        "config.pin_memory = True\n",
        "# initializing the number of workers to 3\n",
        "config.num_workers = 3"
      ],
      "execution_count": 41,
      "outputs": []
    },
    {
      "cell_type": "markdown",
      "metadata": {
        "id": "fUZjUs5BRW8q"
      },
      "source": [
        "**Create the train dataloader**"
      ]
    },
    {
      "cell_type": "code",
      "metadata": {
        "colab": {
          "base_uri": "https://localhost:8080/"
        },
        "id": "WObWUDuQRSaX",
        "outputId": "7299eb15-1529-4ad0-84c6-4fc4b5c8b62a"
      },
      "source": [
        "train_loader, _ = get_data_loader(train_ds, train_class_num, config)"
      ],
      "execution_count": 42,
      "outputs": [
        {
          "output_type": "stream",
          "text": [
            "/usr/local/lib/python3.7/dist-packages/torch/utils/data/dataloader.py:477: UserWarning: This DataLoader will create 3 worker processes in total. Our suggested max number of worker in current system is 2, which is smaller than what this DataLoader is going to create. Please be aware that excessive worker creation might get DataLoader running slow or even freeze, lower the worker number to avoid potential slowness/freeze if necessary.\n",
            "  cpuset_checked))\n"
          ],
          "name": "stderr"
        }
      ]
    },
    {
      "cell_type": "markdown",
      "metadata": {
        "id": "7ob01B5fdILq"
      },
      "source": [
        "**Create the validation dataloader**"
      ]
    },
    {
      "cell_type": "code",
      "metadata": {
        "colab": {
          "base_uri": "https://localhost:8080/"
        },
        "id": "Fi1AMpq8c4wN",
        "outputId": "91f939d4-11fe-4366-ba91-524f5d375fed"
      },
      "source": [
        "valid_loader, _ = get_data_loader(valid_ds, valid_class_num, config)"
      ],
      "execution_count": 43,
      "outputs": [
        {
          "output_type": "stream",
          "text": [
            "/usr/local/lib/python3.7/dist-packages/torch/utils/data/dataloader.py:477: UserWarning: This DataLoader will create 3 worker processes in total. Our suggested max number of worker in current system is 2, which is smaller than what this DataLoader is going to create. Please be aware that excessive worker creation might get DataLoader running slow or even freeze, lower the worker number to avoid potential slowness/freeze if necessary.\n",
            "  cpuset_checked))\n"
          ],
          "name": "stderr"
        }
      ]
    },
    {
      "cell_type": "markdown",
      "metadata": {
        "id": "Sonm4lxBdMhJ"
      },
      "source": [
        "**Create the test dataloader**"
      ]
    },
    {
      "cell_type": "code",
      "metadata": {
        "colab": {
          "base_uri": "https://localhost:8080/"
        },
        "id": "LhmzbeludAma",
        "outputId": "05ea4611-d373-4c85-918e-438d384be1dd"
      },
      "source": [
        "test_loader, _ = get_data_loader(test_ds, test_class_num, config)"
      ],
      "execution_count": 44,
      "outputs": [
        {
          "output_type": "stream",
          "text": [
            "/usr/local/lib/python3.7/dist-packages/torch/utils/data/dataloader.py:477: UserWarning: This DataLoader will create 3 worker processes in total. Our suggested max number of worker in current system is 2, which is smaller than what this DataLoader is going to create. Please be aware that excessive worker creation might get DataLoader running slow or even freeze, lower the worker number to avoid potential slowness/freeze if necessary.\n",
            "  cpuset_checked))\n"
          ],
          "name": "stderr"
        }
      ]
    },
    {
      "cell_type": "markdown",
      "metadata": {
        "id": "OzlghrVxUq3u"
      },
      "source": [
        "## **ArcFace Model Build**\n",
        "\n",
        "There are Backbone, Mobilefacenet models for generating face embedding. But, We are considering to use only Mobilefacenet, as it's a light-weight model."
      ]
    },
    {
      "cell_type": "markdown",
      "metadata": {
        "id": "F6hs96pOaccd"
      },
      "source": [
        "**Define Flatten Block**"
      ]
    },
    {
      "cell_type": "code",
      "metadata": {
        "id": "i4-X4Sbxaf8u"
      },
      "source": [
        "# flatten block\n",
        "class Flatten(Module):\n",
        "  def forward(self, input):\n",
        "    return input.view(input.size(0), -1)"
      ],
      "execution_count": 45,
      "outputs": []
    },
    {
      "cell_type": "markdown",
      "metadata": {
        "id": "0Fi7MMtgIkG2"
      },
      "source": [
        "**Define L2_norm block**"
      ]
    },
    {
      "cell_type": "code",
      "metadata": {
        "id": "XeQx5QNTIN4c"
      },
      "source": [
        "def l2_norm(input, axis = 1):\n",
        "  norm = torch.norm(input, 2, axis, True)\n",
        "  output = torch.div(input, norm)\n",
        "  return output"
      ],
      "execution_count": 46,
      "outputs": []
    },
    {
      "cell_type": "markdown",
      "metadata": {
        "id": "oLRCOUpxX6wB"
      },
      "source": [
        "**Define a Convolution Block**"
      ]
    },
    {
      "cell_type": "code",
      "metadata": {
        "id": "M1id3S3CSpSF"
      },
      "source": [
        "# defining torch deafult sub-class api\n",
        "# PReLU - Parameterized ReLU used to handle the variations(parameterize activation @ x< 0) in lower level layers \n",
        "class Conv_block(Module):\n",
        "    def __init__(self, in_c, out_c, kernel=(1, 1), stride=(1, 1), padding=(0, 0), groups=1):\n",
        "        super(Conv_block, self).__init__()\n",
        "        self.conv = Conv2d(in_c, out_channels=out_c, kernel_size=kernel, groups=groups, stride=stride, padding=padding, bias=False)\n",
        "        self.bn = BatchNorm2d(out_c)\n",
        "        self.prelu = PReLU(out_c)\n",
        "    \n",
        "    # forward prop\n",
        "    def forward(self, x):\n",
        "        x = self.conv(x)\n",
        "        x = self.bn(x)\n",
        "        x = self.prelu(x)\n",
        "        return x"
      ],
      "execution_count": 47,
      "outputs": []
    },
    {
      "cell_type": "markdown",
      "metadata": {
        "id": "2wcrBYfTY79e"
      },
      "source": [
        "**Define Linear Block**"
      ]
    },
    {
      "cell_type": "code",
      "metadata": {
        "id": "lGq9kN9YYyXO"
      },
      "source": [
        "class Linear_block(Module):\n",
        "    def __init__(self, in_c, out_c, kernel=(1, 1), stride=(1, 1), padding=(0, 0), groups=1):\n",
        "        super(Linear_block, self).__init__()\n",
        "        self.conv = Conv2d(in_c, out_channels=out_c, kernel_size=kernel, groups=groups, stride=stride, padding=padding, bias=False)\n",
        "        self.bn = BatchNorm2d(out_c)\n",
        "    def forward(self, x):\n",
        "        x = self.conv(x)\n",
        "        x = self.bn(x)\n",
        "        return x"
      ],
      "execution_count": 48,
      "outputs": []
    },
    {
      "cell_type": "markdown",
      "metadata": {
        "id": "sa74jnIgZyuM"
      },
      "source": [
        "**Define Depthwise Seperable Convolution Block**"
      ]
    },
    {
      "cell_type": "code",
      "metadata": {
        "id": "q7k3cgZaZC_-"
      },
      "source": [
        "class Depth_Wise(Module):\n",
        "     def __init__(self, in_c, out_c, residual = False, kernel=(3, 3), stride=(2, 2), padding=(1, 1), groups=1):\n",
        "        super(Depth_Wise, self).__init__()\n",
        "        self.conv = Conv_block(in_c, out_c=groups, kernel=(1, 1), padding=(0, 0), stride=(1, 1))\n",
        "        self.conv_dw = Conv_block(groups, groups, groups=groups, kernel=kernel, padding=padding, stride=stride)\n",
        "        self.project = Linear_block(groups, out_c, kernel=(1, 1), padding=(0, 0), stride=(1, 1))\n",
        "        self.residual = residual\n",
        "     def forward(self, x):\n",
        "        if self.residual:\n",
        "            short_cut = x\n",
        "        x = self.conv(x)\n",
        "        x = self.conv_dw(x)\n",
        "        x = self.project(x)\n",
        "        if self.residual:\n",
        "            output = short_cut + x\n",
        "        else:\n",
        "            output = x\n",
        "        return output"
      ],
      "execution_count": 49,
      "outputs": []
    },
    {
      "cell_type": "markdown",
      "metadata": {
        "id": "df8OKMNGZ7p9"
      },
      "source": [
        "**Define Residual Block**"
      ]
    },
    {
      "cell_type": "code",
      "metadata": {
        "id": "YNmIhnvBZxqS"
      },
      "source": [
        "class Residual(Module):\n",
        "    def __init__(self, c, num_block, groups, kernel=(3, 3), stride=(1, 1), padding=(1, 1)):\n",
        "        super(Residual, self).__init__()\n",
        "        modules = []\n",
        "        for _ in range(num_block):\n",
        "            modules.append(Depth_Wise(c, c, residual=True, kernel=kernel, padding=padding, stride=stride, groups=groups))\n",
        "        self.model = Sequential(*modules)\n",
        "    def forward(self, x):\n",
        "        return self.model(x)"
      ],
      "execution_count": 50,
      "outputs": []
    },
    {
      "cell_type": "markdown",
      "metadata": {
        "id": "Uzu8yy5tb3Jw"
      },
      "source": [
        "\n",
        "**Define the embedding-size in the config**"
      ]
    },
    {
      "cell_type": "code",
      "metadata": {
        "id": "HLl1sgxwb8sf"
      },
      "source": [
        "config.embedding_size = 512"
      ],
      "execution_count": 51,
      "outputs": []
    },
    {
      "cell_type": "markdown",
      "metadata": {
        "id": "3G8j98wDaEqv"
      },
      "source": [
        "#### **Define Mobilefacenet Model**"
      ]
    },
    {
      "cell_type": "code",
      "metadata": {
        "id": "GJxyMSbtZ-oS"
      },
      "source": [
        "class MobileFaceNet(Module):\n",
        "    def __init__(self, embedding_size):\n",
        "        super(MobileFaceNet, self).__init__()\n",
        "        self.conv1 = Conv_block(3, 64, kernel=(3, 3), stride=(2, 2), padding=(1, 1))\n",
        "        self.conv2_dw = Conv_block(64, 64, kernel=(3, 3), stride=(1, 1), padding=(1, 1), groups=64)\n",
        "        self.conv_23 = Depth_Wise(64, 64, kernel=(3, 3), stride=(2, 2), padding=(1, 1), groups=128)\n",
        "        self.conv_3 = Residual(64, num_block=4, groups=128, kernel=(3, 3), stride=(1, 1), padding=(1, 1))\n",
        "        self.conv_34 = Depth_Wise(64, 128, kernel=(3, 3), stride=(2, 2), padding=(1, 1), groups=256)\n",
        "        self.conv_4 = Residual(128, num_block=6, groups=256, kernel=(3, 3), stride=(1, 1), padding=(1, 1))\n",
        "        self.conv_45 = Depth_Wise(128, 128, kernel=(3, 3), stride=(2, 2), padding=(1, 1), groups=512)\n",
        "        self.conv_5 = Residual(128, num_block=2, groups=256, kernel=(3, 3), stride=(1, 1), padding=(1, 1))\n",
        "        self.conv_6_sep = Conv_block(128, 512, kernel=(1, 1), stride=(1, 1), padding=(0, 0))\n",
        "        self.conv_6_dw = Linear_block(512, 512, groups=512, kernel=(7,7), stride=(1, 1), padding=(0, 0))\n",
        "        self.conv_6_flatten = Flatten()\n",
        "        self.linear = Linear(512, embedding_size, bias=False)\n",
        "        self.bn = BatchNorm1d(embedding_size)\n",
        "    \n",
        "    def forward(self, x):\n",
        "        out = self.conv1(x)\n",
        "\n",
        "        out = self.conv2_dw(out)\n",
        "\n",
        "        out = self.conv_23(out)\n",
        "\n",
        "        out = self.conv_3(out)\n",
        "        \n",
        "        out = self.conv_34(out)\n",
        "\n",
        "        out = self.conv_4(out)\n",
        "\n",
        "        out = self.conv_45(out)\n",
        "\n",
        "        out = self.conv_5(out)\n",
        "\n",
        "        out = self.conv_6_sep(out)\n",
        "\n",
        "        out = self.conv_6_dw(out)\n",
        "\n",
        "        out = self.conv_6_flatten(out)\n",
        "\n",
        "        out = self.linear(out)\n",
        "\n",
        "        out = self.bn(out)\n",
        "        return l2_norm(out)"
      ],
      "execution_count": 52,
      "outputs": []
    },
    {
      "cell_type": "markdown",
      "metadata": {
        "id": "_bUTjMzbbL86"
      },
      "source": [
        "**Initialize the Mobilefacenet model**"
      ]
    },
    {
      "cell_type": "code",
      "metadata": {
        "id": "IkCzWhbnaMVp"
      },
      "source": [
        "# call model object\n",
        "mobilefacenet_model = model.MobileFaceNet(embedding_size= config.embedding_size).to(config.device)\n",
        "\n",
        "#print(f'Model summary:\\n{mobilefacenet_model}')"
      ],
      "execution_count": 53,
      "outputs": []
    },
    {
      "cell_type": "markdown",
      "metadata": {
        "id": "b9UbiBE8cNPZ"
      },
      "source": [
        "#### **Define Arcface Head**\n",
        "\n",
        "Implementation of **additive margin softmax** loss in https://arxiv.org/abs/1801.05599"
      ]
    },
    {
      "cell_type": "code",
      "metadata": {
        "id": "cZE2bicla1Xj"
      },
      "source": [
        "class Arcface(Module):\n",
        "    # implementation of additive margin softmax loss in https://arxiv.org/abs/1801.05599\n",
        "    # total class is set to deafult as the original dataset    \n",
        "    def __init__(self, embedding_size=512, classnum=51332,  s=64., m=0.5):\n",
        "        super(Arcface, self).__init__()\n",
        "        self.classnum = classnum\n",
        "        self.kernel = Parameter(torch.Tensor(embedding_size,classnum))\n",
        "        # initial kernel\n",
        "        self.kernel.data.uniform_(-1, 1).renorm_(2,1,1e-5).mul_(1e5)\n",
        "        self.m = m # the margin value, default is 0.5\n",
        "        self.s = s # scalar value default is 64, see normface https://arxiv.org/abs/1704.06369\n",
        "        self.cos_m = math.cos(m)\n",
        "        self.sin_m = math.sin(m)\n",
        "        self.mm = self.sin_m * m  # issue 1\n",
        "        self.threshold = math.cos(math.pi - m)\n",
        "    def forward(self, embbedings, label):\n",
        "        # weights norm\n",
        "        nB = len(embbedings)\n",
        "        kernel_norm = l2_norm(self.kernel,axis=0)\n",
        "        # cos(theta+m)\n",
        "        cos_theta = torch.mm(embbedings,kernel_norm)\n",
        "#         output = torch.mm(embbedings,kernel_norm)\n",
        "        cos_theta = cos_theta.clamp(-1,1) # for numerical stability\n",
        "        cos_theta_2 = torch.pow(cos_theta, 2)\n",
        "        sin_theta_2 = 1 - cos_theta_2\n",
        "        sin_theta = torch.sqrt(sin_theta_2)\n",
        "        cos_theta_m = (cos_theta * self.cos_m - sin_theta * self.sin_m)\n",
        "        # this condition controls the theta+m should in range [0, pi]\n",
        "        #      0<=theta+m<=pi\n",
        "        #     -m<=theta<=pi-m\n",
        "        cond_v = cos_theta - self.threshold\n",
        "        cond_mask = cond_v <= 0\n",
        "        keep_val = (cos_theta - self.mm) # when theta not in [0,pi], use cosface instead\n",
        "        cos_theta_m[cond_mask] = keep_val[cond_mask]\n",
        "        output = cos_theta * 1.0 # a little bit hacky way to prevent in_place operation on cos_theta\n",
        "        idx_ = torch.arange(0, nB, dtype=torch.long)\n",
        "        output[idx_, label] = cos_theta_m[idx_, label]\n",
        "        output *= self.s # scale up in order to make softmax work, first introduced in normface\n",
        "        return output"
      ],
      "execution_count": 54,
      "outputs": []
    },
    {
      "cell_type": "markdown",
      "metadata": {
        "id": "Gyyovr1kgFV-"
      },
      "source": [
        "## **Model Training**"
      ]
    },
    {
      "cell_type": "markdown",
      "metadata": {
        "id": "B8q3l3NCm4ae"
      },
      "source": [
        "**Define to read bin of parameters**"
      ]
    },
    {
      "cell_type": "code",
      "metadata": {
        "id": "HiqCLQb7mtcr"
      },
      "source": [
        "def seperate_bn_paras(modules):\n",
        "  # if modules is not object or instantiated\n",
        "  if not isinstance(modules, list):\n",
        "    modules = [*modules.modules()]\n",
        "  paras_only_bn = []\n",
        "  paras_wo_bn = []\n",
        "  for layer in modules:\n",
        "    if 'model' in str(layer.__class__):\n",
        "      continue\n",
        "    if 'container' in str(layer.__class__):\n",
        "      continue\n",
        "    else:\n",
        "      if 'batchnorm' in str(layer.__class__):\n",
        "        # takes bin of parameters\n",
        "        paras_only_bn.extend([*layer.parameters()])\n",
        "      else:\n",
        "        paras_wo_bn.extend([*layer.parameters()])\n",
        "  return paras_only_bn, paras_wo_bn\n"
      ],
      "execution_count": 55,
      "outputs": []
    },
    {
      "cell_type": "markdown",
      "metadata": {
        "id": "oQu0fw8W1oYs"
      },
      "source": [
        "**Configure saved model path**"
      ]
    },
    {
      "cell_type": "code",
      "metadata": {
        "id": "JGBsyoq91r_W"
      },
      "source": [
        "config.save_path = 'saved_model'\n",
        "\n",
        "if not os.path.isdir(config.save_path):\n",
        "  os.mkdir(config.save_path)"
      ],
      "execution_count": 56,
      "outputs": []
    },
    {
      "cell_type": "markdown",
      "metadata": {
        "id": "wJpqF3g9gc_4"
      },
      "source": [
        "**Initialize training and define training parameters**"
      ]
    },
    {
      "cell_type": "code",
      "metadata": {
        "id": "yikBZ5mgdJxd"
      },
      "source": [
        "class face_learner(object):\n",
        "  def __init__(self, config, model, train_loader, train_class_num, inference = False):\n",
        "    print(f'Configureation-\\n{config}')\n",
        "    # if we want to load MobileFcaenet model\n",
        "    if config.use_mobilefacenet:\n",
        "      # model already loaded to device\n",
        "      self.model = model\n",
        "      print('MobilefaceNet model generated!')\n",
        "    else:\n",
        "      print('Load the different model!')\n",
        "    \n",
        "    # defines the milestones where, the lr_scheduler will act\n",
        "    self.milestones = config.milestones\n",
        "    self.val_loader, self.val_class_num = valid_loader, valid_class_num\n",
        "    self.loader, self.class_num = train_loader, train_class_num\n",
        "\n",
        "    # helps to log summary of training using TensorboardX\n",
        "    #self.writer = SummaryWriter(config.log_path)\n",
        "    self.step = 0\n",
        "    self.head = Arcface(embedding_size=config.embedding_size, classnum=self.class_num).to(device)\n",
        "\n",
        "    print('Two model heads generated!')\n",
        "\n",
        "    paras_only_bn, paras_wo_bn = seperate_bn_paras(self.model)   \n",
        "    #print(len(paras_only_bn))\n",
        "    #print(len(paras_wo_bn))\n",
        "    # define optimizer for mobilefacenet\n",
        "    if config.use_mobilefacenet:\n",
        "      self.optimizer = optim.SGD([\n",
        "                                  {'params': paras_wo_bn[:-1], 'weight_decay': 4e-05},# weight decay for the params\n",
        "                                  {'params': [paras_wo_bn[-1]] + [self.head.kernel], 'weight_decay': 4e-04},\n",
        "                                  {'params': paras_only_bn}\n",
        "      ], lr = config.lr, momentum = config.momentum)\n",
        "    \n",
        "    else:\n",
        "      self.optimizer = optim.SGD([\n",
        "                                  {'params': paras_wo_bn + [self.head.kernel], 'weight_decay': 5e-04},\n",
        "                                  {'params': paras_only_bn}\n",
        "      ], lr = config.lr, momentum = config.momentum)\n",
        "  \n",
        "    print(self.optimizer)\n",
        "    \n",
        "    print('Optimizers generated')\n",
        "    # log loss to every (len of loader//100) step\n",
        "    self.board_loss_every = len(self.loader)//100\n",
        "    # evaluate every (len of loader//10) step\n",
        "    self.evaluate_every = len(self.loader)//10\n",
        "    # save after (len(loader)//5) step\n",
        "    self.save_every = len(self.loader)//5\n",
        "    \n",
        "  # lr scheduler\n",
        "  def schedule_lr(self):\n",
        "    for params in self.optimizer.param_groups:\n",
        "      params['lr']/=10\n",
        "    print(self.optimizer)\n",
        "\n",
        "  # save state of the model\n",
        "  def save_state(self, config, loss, model_only = False):\n",
        "    # save to model to config path\n",
        "    save_path = config.save_path\n",
        "\n",
        "    torch.save(\n",
        "        self.model.state_dict(), os.path.join(save_path, \n",
        "        f'model_step_{self.step}_loss_{loss}.path'))\n",
        "    \n",
        "    if not model_only:\n",
        "      torch.save(\n",
        "          self.head.state_dict(), os.path.join(save_path, f'head_step_{self.step}_loss_{loss}.path')\n",
        "      )\n",
        "\n",
        "      torch.save(\n",
        "          self.optimizer.state_dict(), os.path.join(save_path,\n",
        "                                                    f'optimizer_step_{self.step}_loss_{loss}.path')\n",
        "      )\n",
        "\n",
        "  # load the state from saved model\n",
        "  def load_state(self, config, fixed_str, from_save_folder = False, model_only = False):\n",
        "    if from_save_folder:\n",
        "      load_save_path = config.save_path\n",
        "    else:\n",
        "      load_save_path = config.model_path\n",
        "    self.model.load_state_dict(torch.load(save_path/'model_{}'.format(fixed_str)))\n",
        "    if not model_only:\n",
        "      self.head.load_state_dict(torch.load(save_path/'head_{}'.format(fixed_str)))\n",
        "      self.optimizer.load_state_dict(torch.load(save_path/'optimizer_{}'.format(fixed_str)))\n"
      ],
      "execution_count": 90,
      "outputs": []
    },
    {
      "cell_type": "markdown",
      "metadata": {
        "id": "ioODXmgHxG3n"
      },
      "source": [
        "**Configure metadata for training**"
      ]
    },
    {
      "cell_type": "code",
      "metadata": {
        "id": "6teOQS_mxGer"
      },
      "source": [
        "# define work_space \n",
        "config.work_path = Path('work_space/')\n",
        "\n",
        "# create work_space path, if not existed\n",
        "if not os.path.isdir(config.work_path):\n",
        "  os.mkdir(config.work_path)\n",
        "\n",
        "# configure logpath\n",
        "config.log_path = config.work_path/'log'\n",
        "\n",
        "# create log path, if not existed\n",
        "#if not os.path.isdir(config.work_path/'log'):\n",
        "#  os.mkdir(config.work_path/'log')\n",
        "\n",
        "# configure mobilefacenet status\n",
        "config.use_mobilefacenet = True\n",
        "\n",
        "# configure milestones\n",
        "config.milestones = [12,15,18]\n",
        "\n",
        "# configure momentum\n",
        "config.momentum = 0.9\n",
        "\n",
        "# configure learning rate\n",
        "config.lr = 1e-03\n",
        "\n",
        "# loss fn\n",
        "config.ce_loss = CrossEntropyLoss()"
      ],
      "execution_count": 80,
      "outputs": []
    },
    {
      "cell_type": "markdown",
      "metadata": {
        "id": "GBbgVDQCwz3n"
      },
      "source": [
        "#### **Define Model Train**"
      ]
    },
    {
      "cell_type": "code",
      "metadata": {
        "id": "Z9NZKzkHomwF"
      },
      "source": [
        "def train(config, epochs):\n",
        "  learner = face_learner(config, mobilefacenet_model, train_loader, train_class_num)\n",
        "  learner.model.train()\n",
        "  running_loss = 0\n",
        "  # stores loss of each step\n",
        "  loss_bank = []\n",
        "  for e in range(epochs):\n",
        "    print('epoch {} started'.format(e))\n",
        "    # at each milestone learning rate is changes according to the scheduler\n",
        "    if e == learner.milestones[0]:\n",
        "        learner.schedule_lr()\n",
        "    if e == learner.milestones[1]:\n",
        "        learner.schedule_lr()      \n",
        "    if e == learner.milestones[2]:\n",
        "        learner.schedule_lr()                                 \n",
        "    \n",
        "    for imgs, labels in tqdm(iter(learner.loader)):\n",
        "        imgs = imgs.to(config.device)\n",
        "        labels = labels.to(config.device)\n",
        "        learner.optimizer.zero_grad()\n",
        "        embeddings = learner.model(imgs)\n",
        "        thetas = learner.head(embeddings, labels)\n",
        "        loss = config.ce_loss(thetas, labels)\n",
        "        loss.backward()\n",
        "        running_loss += loss.item()\n",
        "        learner.optimizer.step()\n",
        "        learner.step += 1\n",
        "        print(f'Train Loss of step {learner.step} is  {loss}')\n",
        "        \n",
        "        val_loss = 0\n",
        "        # create validation loss\n",
        "        for val_imgs, val_labels in tqdm(iter(learner.val_loader)):\n",
        "          val_imgs = val_imgs.to(config.device)\n",
        "          val_labels = val_labels.to(config.device)\n",
        "          learner.optimizer.zero_grad()\n",
        "          val_embeddings = learner.model(val_imgs)\n",
        "          val_thetas = learner.head(val_embeddings, val_labels)\n",
        "          val_loss += config.ce_loss(val_thetas, val_labels)\n",
        "          \n",
        "        print(f'Validation Loss of step {learner.step} is {val_loss}')\n",
        "\n",
        "        if len(loss_bank):\n",
        "          if loss_bank[-1]>val_loss:\n",
        "            learner.save_state(config, val_loss)\n",
        "            print(f'Saving model at epoch {e}, step {learner.step}') \n",
        "            loss_bank = [] \n",
        "            \n",
        "            # if current validation loss is min, then store it, else don't store\n",
        "            loss_bank.append(val_loss)\n",
        "\n",
        "        else:\n",
        "          loss_bank.append(val_loss)\n",
        "\n",
        "        '''\n",
        "        if learner.step % 4 == 0:\n",
        "          if loss[learner]\n",
        "          print('Saving model...')\n",
        "          learner.save_state(config, loss)\n",
        "          running_loss = 0\n",
        "\n",
        "        \n",
        "        if learner.step % learner.board_loss_every == 0 and learner.step != 0:\n",
        "            loss_board = running_loss / learner.board_loss_every\n",
        "            #learner.writer.add_scalar('train_loss', loss_board, self.step)\n",
        "            running_loss = 0.\n",
        "        \n",
        "        \n",
        "        if self.step % self.evaluate_every == 0 and self.step != 0:\n",
        "           # accuracy, best_threshold, roc_curve_tensor = self.evaluate(conf, self.agedb_30, self.agedb_30_issame)\n",
        "            #self.board_val('agedb_30', accuracy, best_threshold, roc_curve_tensor)\n",
        "            accuracy, best_threshold, roc_curve_tensor = self.evaluate(conf, self.lfw, self.lfw_issame)\n",
        "            self.board_val('lfw', accuracy, best_threshold, roc_curve_tensor)\n",
        "            accuracy, best_threshold, roc_curve_tensor = self.evaluate(conf, self.cfp_fp, self.cfp_fp_issame)\n",
        "            self.board_val('cfp_fp', accuracy, best_threshold, roc_curve_tensor)\n",
        "            self.model.train()\n",
        "        '''\n",
        "        #if learner.step % learner.save_every == 0 and learner.step != 0:\n",
        "        #    face_learner.save_state(conf, accuracy)\n",
        "            \n",
        "        "
      ],
      "execution_count": 88,
      "outputs": []
    },
    {
      "cell_type": "code",
      "metadata": {
        "colab": {
          "base_uri": "https://localhost:8080/"
        },
        "id": "vC08M0c-zlNQ",
        "outputId": "5638d65c-e527-47e9-af50-45cfaf2fbda8"
      },
      "source": [
        "train(config, epochs = 20)"
      ],
      "execution_count": 89,
      "outputs": [
        {
          "output_type": "stream",
          "text": [
            "Configureation-\n",
            "{'device': device(type='cuda', index=0), 'imgs_folder': '/content/gdrive/MyDrive/Kaggle Avengers face dataset/Marvels_face_dataset', 'input_size': [112, 112], 'identity': ['chris_evans', 'chris_hemsworth', 'mark_ruffalo', 'robert_downey_jr', 'scarlett_johansson'], 'train_df':                         Image               Label\n",
            "46          chris_evans24.png         chris_evans\n",
            "242   scarlett_johansson4.png  scarlett_johansson\n",
            "224  scarlett_johansson23.png  scarlett_johansson\n",
            "188     robert_downey_jr5.png    robert_downey_jr\n",
            "260  scarlett_johansson24.png  scarlett_johansson\n",
            "..                        ...                 ...\n",
            "49           chris_evans4.png         chris_evans\n",
            "184    robert_downey_jr37.png    robert_downey_jr\n",
            "17          chris_evans14.png         chris_evans\n",
            "218     robert_downey_jr7.png    robert_downey_jr\n",
            "147        mark_ruffalo47.png        mark_ruffalo\n",
            "\n",
            "[246 rows x 2 columns], 'valid_df':                         Image               Label\n",
            "5           chris_evans48.png         chris_evans\n",
            "249  scarlett_johansson44.png  scarlett_johansson\n",
            "101      chris_hemsworth6.png     chris_hemsworth\n",
            "32          chris_evans17.png         chris_evans\n",
            "256  scarlett_johansson28.png  scarlett_johansson\n",
            "231   scarlett_johansson1.png  scarlett_johansson\n",
            "205     robert_downey_jr2.png    robert_downey_jr\n",
            "120        mark_ruffalo27.png        mark_ruffalo\n",
            "187    robert_downey_jr23.png    robert_downey_jr\n",
            "146        mark_ruffalo53.png        mark_ruffalo\n",
            "67      chris_hemsworth19.png     chris_hemsworth\n",
            "160        mark_ruffalo51.png        mark_ruffalo\n",
            "149        mark_ruffalo54.png        mark_ruffalo\n",
            "1           chris_evans32.png         chris_evans, 'test_df':                         Image               Label\n",
            "232  scarlett_johansson36.png  scarlett_johansson\n",
            "244  scarlett_johansson35.png  scarlett_johansson\n",
            "174    robert_downey_jr12.png    robert_downey_jr\n",
            "141        mark_ruffalo42.png        mark_ruffalo\n",
            "140         mark_ruffalo2.png        mark_ruffalo\n",
            "143         mark_ruffalo7.png        mark_ruffalo\n",
            "22           chris_evans7.png         chris_evans\n",
            "52      chris_hemsworth10.png     chris_hemsworth\n",
            "211    robert_downey_jr17.png    robert_downey_jr\n",
            "3           chris_evans47.png         chris_evans\n",
            "60      chris_hemsworth25.png     chris_hemsworth\n",
            "175    robert_downey_jr40.png    robert_downey_jr\n",
            "233  scarlett_johansson10.png  scarlett_johansson\n",
            "102     chris_hemsworth39.png     chris_hemsworth, 'transform': Compose(\n",
            "    RandomHorizontalFlip(p=0.5)\n",
            "    ToTensor()\n",
            "    Normalize(mean=[0.5, 0.5, 0.5], std=[0.5, 0.5, 0.5])\n",
            "    Resize(size=[112, 112], interpolation=bicubic)\n",
            "), 'data_mode': 'ms1m', 'batch_size': 64, 'pin_memory': True, 'num_workers': 3, 'embedding_size': 512, 'save_path': 'saved_model', 'work_path': PosixPath('work_space'), 'log_path': PosixPath('work_space/log'), 'use_mobilefacenet': True, 'milestones': [12, 15, 18], 'momentum': 0.9, 'lr': 0.001, 'ce_loss': CrossEntropyLoss()}\n",
            "MobilefaceNet model generated!\n",
            "Two model heads generated!\n",
            "SGD (\n",
            "Parameter Group 0\n",
            "    dampening: 0\n",
            "    lr: 0.001\n",
            "    momentum: 0.9\n",
            "    nesterov: False\n",
            "    weight_decay: 4e-05\n",
            "\n",
            "Parameter Group 1\n",
            "    dampening: 0\n",
            "    lr: 0.001\n",
            "    momentum: 0.9\n",
            "    nesterov: False\n",
            "    weight_decay: 0.0004\n",
            "\n",
            "Parameter Group 2\n",
            "    dampening: 0\n",
            "    lr: 0.001\n",
            "    momentum: 0.9\n",
            "    nesterov: False\n",
            "    weight_decay: 0\n",
            ")\n",
            "Optimizers generated\n",
            "epoch 0 started\n"
          ],
          "name": "stdout"
        },
        {
          "output_type": "stream",
          "text": [
            "/usr/local/lib/python3.7/dist-packages/torch/utils/data/dataloader.py:477: UserWarning: This DataLoader will create 3 worker processes in total. Our suggested max number of worker in current system is 2, which is smaller than what this DataLoader is going to create. Please be aware that excessive worker creation might get DataLoader running slow or even freeze, lower the worker number to avoid potential slowness/freeze if necessary.\n",
            "  cpuset_checked))\n",
            "  0%|          | 0/4 [00:00<?, ?it/s]"
          ],
          "name": "stderr"
        },
        {
          "output_type": "stream",
          "text": [
            "Train Loss of step 1 is  33.907073974609375\n"
          ],
          "name": "stdout"
        },
        {
          "output_type": "stream",
          "text": [
            "\n",
            "  0%|          | 0/1 [00:00<?, ?it/s]\u001b[A\n",
            "100%|██████████| 1/1 [00:00<00:00,  2.58it/s]\n",
            " 25%|██▌       | 1/4 [00:01<00:05,  1.90s/it]"
          ],
          "name": "stderr"
        },
        {
          "output_type": "stream",
          "text": [
            "Validation Loss of step 1 is 32.691436767578125\n",
            "Train Loss of step 2 is  32.74701690673828\n"
          ],
          "name": "stdout"
        },
        {
          "output_type": "stream",
          "text": [
            "\n",
            "  0%|          | 0/1 [00:00<?, ?it/s]\u001b[A\n",
            "100%|██████████| 1/1 [00:00<00:00,  3.72it/s]\n",
            " 50%|█████     | 2/4 [00:02<00:02,  1.50s/it]"
          ],
          "name": "stderr"
        },
        {
          "output_type": "stream",
          "text": [
            "Validation Loss of step 2 is 30.821752548217773\n",
            "Saving model at epoch 0, step 2\n",
            "Train Loss of step 3 is  30.58941078186035\n"
          ],
          "name": "stdout"
        },
        {
          "output_type": "stream",
          "text": [
            "\n",
            "  0%|          | 0/1 [00:00<?, ?it/s]\u001b[A\n",
            "100%|██████████| 1/1 [00:00<00:00,  3.55it/s]\n",
            " 75%|███████▌  | 3/4 [00:03<00:01,  1.22s/it]"
          ],
          "name": "stderr"
        },
        {
          "output_type": "stream",
          "text": [
            "Validation Loss of step 3 is 30.130374908447266\n",
            "Saving model at epoch 0, step 3\n",
            "Train Loss of step 4 is  28.26951789855957\n"
          ],
          "name": "stdout"
        },
        {
          "output_type": "stream",
          "text": [
            "\n",
            "  0%|          | 0/1 [00:00<?, ?it/s]\u001b[A\n",
            "100%|██████████| 1/1 [00:00<00:00,  3.59it/s]\n",
            "100%|██████████| 4/4 [00:03<00:00,  1.11it/s]"
          ],
          "name": "stderr"
        },
        {
          "output_type": "stream",
          "text": [
            "Validation Loss of step 4 is 28.291074752807617\n",
            "Saving model at epoch 0, step 4\n",
            "epoch 1 started\n"
          ],
          "name": "stdout"
        },
        {
          "output_type": "stream",
          "text": [
            "\n",
            "  0%|          | 0/4 [00:00<?, ?it/s]"
          ],
          "name": "stderr"
        },
        {
          "output_type": "stream",
          "text": [
            "Train Loss of step 5 is  23.248798370361328\n"
          ],
          "name": "stdout"
        },
        {
          "output_type": "stream",
          "text": [
            "\n",
            "  0%|          | 0/1 [00:00<?, ?it/s]\u001b[A\n",
            "100%|██████████| 1/1 [00:00<00:00,  2.56it/s]\n",
            " 25%|██▌       | 1/4 [00:02<00:06,  2.04s/it]"
          ],
          "name": "stderr"
        },
        {
          "output_type": "stream",
          "text": [
            "Validation Loss of step 5 is 26.659902572631836\n",
            "Saving model at epoch 1, step 5\n",
            "Train Loss of step 6 is  19.47403907775879\n"
          ],
          "name": "stdout"
        },
        {
          "output_type": "stream",
          "text": [
            "\n",
            "  0%|          | 0/1 [00:00<?, ?it/s]\u001b[A\n",
            "100%|██████████| 1/1 [00:00<00:00,  3.50it/s]\n",
            " 50%|█████     | 2/4 [00:02<00:03,  1.60s/it]"
          ],
          "name": "stderr"
        },
        {
          "output_type": "stream",
          "text": [
            "Validation Loss of step 6 is 25.609018325805664\n",
            "Saving model at epoch 1, step 6\n",
            "Train Loss of step 7 is  15.098968505859375\n"
          ],
          "name": "stdout"
        },
        {
          "output_type": "stream",
          "text": [
            "\n",
            "  0%|          | 0/1 [00:00<?, ?it/s]\u001b[A\n",
            "100%|██████████| 1/1 [00:00<00:00,  3.79it/s]\n",
            " 75%|███████▌  | 3/4 [00:03<00:01,  1.28s/it]"
          ],
          "name": "stderr"
        },
        {
          "output_type": "stream",
          "text": [
            "Validation Loss of step 7 is 22.424020767211914\n",
            "Saving model at epoch 1, step 7\n",
            "Train Loss of step 8 is  9.187885284423828\n"
          ],
          "name": "stdout"
        },
        {
          "output_type": "stream",
          "text": [
            "\n",
            "  0%|          | 0/1 [00:00<?, ?it/s]\u001b[A\n",
            "100%|██████████| 1/1 [00:00<00:00,  3.70it/s]\n",
            "100%|██████████| 4/4 [00:03<00:00,  1.07it/s]"
          ],
          "name": "stderr"
        },
        {
          "output_type": "stream",
          "text": [
            "Validation Loss of step 8 is 19.780120849609375\n",
            "Saving model at epoch 1, step 8\n",
            "epoch 2 started\n"
          ],
          "name": "stdout"
        },
        {
          "output_type": "stream",
          "text": [
            "\n",
            "  0%|          | 0/4 [00:00<?, ?it/s]"
          ],
          "name": "stderr"
        },
        {
          "output_type": "stream",
          "text": [
            "Train Loss of step 9 is  3.872551202774048\n"
          ],
          "name": "stdout"
        },
        {
          "output_type": "stream",
          "text": [
            "\n",
            "  0%|          | 0/1 [00:00<?, ?it/s]\u001b[A\n",
            "100%|██████████| 1/1 [00:00<00:00,  2.29it/s]\n",
            " 25%|██▌       | 1/4 [00:01<00:05,  1.95s/it]"
          ],
          "name": "stderr"
        },
        {
          "output_type": "stream",
          "text": [
            "Validation Loss of step 9 is 19.54140281677246\n",
            "Saving model at epoch 2, step 9\n",
            "Train Loss of step 10 is  1.2859702110290527\n"
          ],
          "name": "stdout"
        },
        {
          "output_type": "stream",
          "text": [
            "\n",
            "  0%|          | 0/1 [00:00<?, ?it/s]\u001b[A\n",
            "100%|██████████| 1/1 [00:00<00:00,  3.60it/s]\n",
            " 50%|█████     | 2/4 [00:02<00:03,  1.53s/it]"
          ],
          "name": "stderr"
        },
        {
          "output_type": "stream",
          "text": [
            "Validation Loss of step 10 is 18.31382942199707\n",
            "Saving model at epoch 2, step 10\n",
            "Train Loss of step 11 is  0.41379332542419434\n"
          ],
          "name": "stdout"
        },
        {
          "output_type": "stream",
          "text": [
            "\n",
            "  0%|          | 0/1 [00:00<?, ?it/s]\u001b[A\n",
            "100%|██████████| 1/1 [00:00<00:00,  3.75it/s]\n",
            " 75%|███████▌  | 3/4 [00:03<00:01,  1.23s/it]"
          ],
          "name": "stderr"
        },
        {
          "output_type": "stream",
          "text": [
            "Validation Loss of step 11 is 18.172502517700195\n",
            "Saving model at epoch 2, step 11\n",
            "Train Loss of step 12 is  0.05567477270960808\n"
          ],
          "name": "stdout"
        },
        {
          "output_type": "stream",
          "text": [
            "\n",
            "  0%|          | 0/1 [00:00<?, ?it/s]\u001b[A\n",
            "100%|██████████| 1/1 [00:00<00:00,  3.81it/s]\n",
            "100%|██████████| 4/4 [00:03<00:00,  1.10it/s]"
          ],
          "name": "stderr"
        },
        {
          "output_type": "stream",
          "text": [
            "Validation Loss of step 12 is 17.56161880493164\n",
            "Saving model at epoch 2, step 12\n",
            "epoch 3 started\n"
          ],
          "name": "stdout"
        },
        {
          "output_type": "stream",
          "text": [
            "\n",
            "  0%|          | 0/4 [00:00<?, ?it/s]"
          ],
          "name": "stderr"
        },
        {
          "output_type": "stream",
          "text": [
            "Train Loss of step 13 is  0.1171765923500061\n"
          ],
          "name": "stdout"
        },
        {
          "output_type": "stream",
          "text": [
            "\n",
            "  0%|          | 0/1 [00:00<?, ?it/s]\u001b[A\n",
            "100%|██████████| 1/1 [00:00<00:00,  2.66it/s]\n",
            " 25%|██▌       | 1/4 [00:01<00:05,  1.94s/it]"
          ],
          "name": "stderr"
        },
        {
          "output_type": "stream",
          "text": [
            "Validation Loss of step 13 is 18.207841873168945\n",
            "Train Loss of step 14 is  0.09817066788673401\n"
          ],
          "name": "stdout"
        },
        {
          "output_type": "stream",
          "text": [
            "\n",
            "  0%|          | 0/1 [00:00<?, ?it/s]\u001b[A\n",
            "100%|██████████| 1/1 [00:00<00:00,  3.43it/s]\n",
            " 50%|█████     | 2/4 [00:02<00:03,  1.54s/it]"
          ],
          "name": "stderr"
        },
        {
          "output_type": "stream",
          "text": [
            "Validation Loss of step 14 is 17.3758487701416\n",
            "Saving model at epoch 3, step 14\n",
            "Train Loss of step 15 is  0.0006172503926791251\n"
          ],
          "name": "stdout"
        },
        {
          "output_type": "stream",
          "text": [
            "\n",
            "  0%|          | 0/1 [00:00<?, ?it/s]\u001b[A\n",
            "100%|██████████| 1/1 [00:00<00:00,  3.94it/s]\n",
            " 75%|███████▌  | 3/4 [00:03<00:01,  1.23s/it]"
          ],
          "name": "stderr"
        },
        {
          "output_type": "stream",
          "text": [
            "Validation Loss of step 15 is 17.487377166748047\n",
            "Train Loss of step 16 is  3.776696030399762e-05\n"
          ],
          "name": "stdout"
        },
        {
          "output_type": "stream",
          "text": [
            "\n",
            "  0%|          | 0/1 [00:00<?, ?it/s]\u001b[A\n",
            "100%|██████████| 1/1 [00:00<00:00,  3.68it/s]\n",
            "100%|██████████| 4/4 [00:03<00:00,  1.10it/s]"
          ],
          "name": "stderr"
        },
        {
          "output_type": "stream",
          "text": [
            "Validation Loss of step 16 is 15.3731050491333\n",
            "Saving model at epoch 3, step 16\n",
            "epoch 4 started\n"
          ],
          "name": "stdout"
        },
        {
          "output_type": "stream",
          "text": [
            "\n",
            "  0%|          | 0/4 [00:00<?, ?it/s]"
          ],
          "name": "stderr"
        },
        {
          "output_type": "stream",
          "text": [
            "Train Loss of step 17 is  3.278041958765243e-06\n"
          ],
          "name": "stdout"
        },
        {
          "output_type": "stream",
          "text": [
            "\n",
            "  0%|          | 0/1 [00:00<?, ?it/s]\u001b[A\n",
            "100%|██████████| 1/1 [00:00<00:00,  2.57it/s]\n",
            " 25%|██▌       | 1/4 [00:02<00:06,  2.02s/it]"
          ],
          "name": "stderr"
        },
        {
          "output_type": "stream",
          "text": [
            "Validation Loss of step 17 is 13.03270149230957\n",
            "Saving model at epoch 4, step 17\n",
            "Train Loss of step 18 is  0.017144126817584038\n"
          ],
          "name": "stdout"
        },
        {
          "output_type": "stream",
          "text": [
            "\n",
            "  0%|          | 0/1 [00:00<?, ?it/s]\u001b[A\n",
            "100%|██████████| 1/1 [00:00<00:00,  3.72it/s]\n",
            " 50%|█████     | 2/4 [00:02<00:03,  1.56s/it]"
          ],
          "name": "stderr"
        },
        {
          "output_type": "stream",
          "text": [
            "Validation Loss of step 18 is 19.935047149658203\n",
            "Train Loss of step 19 is  0.008757739327847958\n"
          ],
          "name": "stdout"
        },
        {
          "output_type": "stream",
          "text": [
            "\n",
            "  0%|          | 0/1 [00:00<?, ?it/s]\u001b[A\n",
            "100%|██████████| 1/1 [00:00<00:00,  3.53it/s]\n",
            " 75%|███████▌  | 3/4 [00:03<00:01,  1.24s/it]"
          ],
          "name": "stderr"
        },
        {
          "output_type": "stream",
          "text": [
            "Validation Loss of step 19 is 18.081180572509766\n",
            "Train Loss of step 20 is  6.180381205922458e-06\n"
          ],
          "name": "stdout"
        },
        {
          "output_type": "stream",
          "text": [
            "\n",
            "  0%|          | 0/1 [00:00<?, ?it/s]\u001b[A\n",
            "100%|██████████| 1/1 [00:00<00:00,  3.56it/s]\n",
            "100%|██████████| 4/4 [00:03<00:00,  1.13it/s]"
          ],
          "name": "stderr"
        },
        {
          "output_type": "stream",
          "text": [
            "Validation Loss of step 20 is 14.48717212677002\n",
            "epoch 5 started\n"
          ],
          "name": "stdout"
        },
        {
          "output_type": "stream",
          "text": [
            "\n",
            "  0%|          | 0/4 [00:00<?, ?it/s]"
          ],
          "name": "stderr"
        },
        {
          "output_type": "stream",
          "text": [
            "Train Loss of step 21 is  3.5293585824547336e-05\n"
          ],
          "name": "stdout"
        },
        {
          "output_type": "stream",
          "text": [
            "\n",
            "  0%|          | 0/1 [00:00<?, ?it/s]\u001b[A\n",
            "100%|██████████| 1/1 [00:00<00:00,  2.86it/s]\n",
            " 25%|██▌       | 1/4 [00:02<00:06,  2.01s/it]"
          ],
          "name": "stderr"
        },
        {
          "output_type": "stream",
          "text": [
            "Validation Loss of step 21 is 21.81595230102539\n",
            "Train Loss of step 22 is  2.440054913677159e-07\n"
          ],
          "name": "stdout"
        },
        {
          "output_type": "stream",
          "text": [
            "\n",
            "  0%|          | 0/1 [00:00<?, ?it/s]\u001b[A\n",
            "100%|██████████| 1/1 [00:00<00:00,  3.66it/s]\n",
            " 50%|█████     | 2/4 [00:02<00:03,  1.56s/it]"
          ],
          "name": "stderr"
        },
        {
          "output_type": "stream",
          "text": [
            "Validation Loss of step 22 is 18.9705753326416\n",
            "Train Loss of step 23 is  5.445589522423688e-06\n"
          ],
          "name": "stdout"
        },
        {
          "output_type": "stream",
          "text": [
            "\n",
            "  0%|          | 0/1 [00:00<?, ?it/s]\u001b[A\n",
            "100%|██████████| 1/1 [00:00<00:00,  3.57it/s]\n",
            " 75%|███████▌  | 3/4 [00:02<00:01,  1.24s/it]"
          ],
          "name": "stderr"
        },
        {
          "output_type": "stream",
          "text": [
            "Validation Loss of step 23 is 16.70191192626953\n",
            "Train Loss of step 24 is  0.0025744307786226273\n"
          ],
          "name": "stdout"
        },
        {
          "output_type": "stream",
          "text": [
            "\n",
            "  0%|          | 0/1 [00:00<?, ?it/s]\u001b[A\n",
            "100%|██████████| 1/1 [00:00<00:00,  3.86it/s]\n",
            "100%|██████████| 4/4 [00:03<00:00,  1.13it/s]"
          ],
          "name": "stderr"
        },
        {
          "output_type": "stream",
          "text": [
            "Validation Loss of step 24 is 14.754988670349121\n",
            "epoch 6 started\n"
          ],
          "name": "stdout"
        },
        {
          "output_type": "stream",
          "text": [
            "\n",
            "  0%|          | 0/4 [00:00<?, ?it/s]"
          ],
          "name": "stderr"
        },
        {
          "output_type": "stream",
          "text": [
            "Train Loss of step 25 is  0.04553039371967316\n"
          ],
          "name": "stdout"
        },
        {
          "output_type": "stream",
          "text": [
            "\n",
            "  0%|          | 0/1 [00:00<?, ?it/s]\u001b[A\n",
            "100%|██████████| 1/1 [00:00<00:00,  2.58it/s]\n",
            " 25%|██▌       | 1/4 [00:02<00:06,  2.01s/it]"
          ],
          "name": "stderr"
        },
        {
          "output_type": "stream",
          "text": [
            "Validation Loss of step 25 is 18.5693359375\n",
            "Train Loss of step 26 is  1.0989568011154915e-07\n"
          ],
          "name": "stdout"
        },
        {
          "output_type": "stream",
          "text": [
            "\n",
            "  0%|          | 0/1 [00:00<?, ?it/s]\u001b[A\n",
            "100%|██████████| 1/1 [00:00<00:00,  3.72it/s]\n",
            " 50%|█████     | 2/4 [00:02<00:03,  1.56s/it]"
          ],
          "name": "stderr"
        },
        {
          "output_type": "stream",
          "text": [
            "Validation Loss of step 26 is 15.589102745056152\n",
            "Train Loss of step 27 is  0.027050448581576347\n"
          ],
          "name": "stdout"
        },
        {
          "output_type": "stream",
          "text": [
            "\n",
            "  0%|          | 0/1 [00:00<?, ?it/s]\u001b[A\n",
            "100%|██████████| 1/1 [00:00<00:00,  3.61it/s]\n",
            " 75%|███████▌  | 3/4 [00:03<00:01,  1.24s/it]"
          ],
          "name": "stderr"
        },
        {
          "output_type": "stream",
          "text": [
            "Validation Loss of step 27 is 13.882405281066895\n",
            "Train Loss of step 28 is  0.0\n"
          ],
          "name": "stdout"
        },
        {
          "output_type": "stream",
          "text": [
            "\n",
            "  0%|          | 0/1 [00:00<?, ?it/s]\u001b[A\n",
            "100%|██████████| 1/1 [00:00<00:00,  3.61it/s]\n",
            "100%|██████████| 4/4 [00:03<00:00,  1.12it/s]"
          ],
          "name": "stderr"
        },
        {
          "output_type": "stream",
          "text": [
            "Validation Loss of step 28 is 14.482488632202148\n",
            "epoch 7 started\n"
          ],
          "name": "stdout"
        },
        {
          "output_type": "stream",
          "text": [
            "\n",
            "  0%|          | 0/4 [00:00<?, ?it/s]"
          ],
          "name": "stderr"
        },
        {
          "output_type": "stream",
          "text": [
            "Train Loss of step 29 is  0.09263555705547333\n"
          ],
          "name": "stdout"
        },
        {
          "output_type": "stream",
          "text": [
            "\n",
            "  0%|          | 0/1 [00:00<?, ?it/s]\u001b[A\n",
            "100%|██████████| 1/1 [00:00<00:00,  2.56it/s]\n",
            " 25%|██▌       | 1/4 [00:01<00:05,  1.92s/it]"
          ],
          "name": "stderr"
        },
        {
          "output_type": "stream",
          "text": [
            "Validation Loss of step 29 is 14.342580795288086\n",
            "Train Loss of step 30 is  1.9185146982181323e-07\n"
          ],
          "name": "stdout"
        },
        {
          "output_type": "stream",
          "text": [
            "\n",
            "  0%|          | 0/1 [00:00<?, ?it/s]\u001b[A\n",
            "100%|██████████| 1/1 [00:00<00:00,  3.68it/s]\n",
            " 50%|█████     | 2/4 [00:02<00:02,  1.49s/it]"
          ],
          "name": "stderr"
        },
        {
          "output_type": "stream",
          "text": [
            "Validation Loss of step 30 is 16.14792823791504\n",
            "Train Loss of step 31 is  2.644935648277169e-07\n"
          ],
          "name": "stdout"
        },
        {
          "output_type": "stream",
          "text": [
            "\n",
            "  0%|          | 0/1 [00:00<?, ?it/s]\u001b[A\n",
            "100%|██████████| 1/1 [00:00<00:00,  3.86it/s]\n",
            " 75%|███████▌  | 3/4 [00:02<00:01,  1.19s/it]"
          ],
          "name": "stderr"
        },
        {
          "output_type": "stream",
          "text": [
            "Validation Loss of step 31 is 14.241182327270508\n",
            "Train Loss of step 32 is  8.609546853222128e-08\n"
          ],
          "name": "stdout"
        },
        {
          "output_type": "stream",
          "text": [
            "\n",
            "  0%|          | 0/1 [00:00<?, ?it/s]\u001b[A\n",
            "100%|██████████| 1/1 [00:00<00:00,  3.57it/s]\n",
            "100%|██████████| 4/4 [00:03<00:00,  1.16it/s]"
          ],
          "name": "stderr"
        },
        {
          "output_type": "stream",
          "text": [
            "Validation Loss of step 32 is 14.153626441955566\n",
            "epoch 8 started\n"
          ],
          "name": "stdout"
        },
        {
          "output_type": "stream",
          "text": [
            "\n",
            "  0%|          | 0/4 [00:00<?, ?it/s]"
          ],
          "name": "stderr"
        },
        {
          "output_type": "stream",
          "text": [
            "Train Loss of step 33 is  3.827876571449451e-05\n"
          ],
          "name": "stdout"
        },
        {
          "output_type": "stream",
          "text": [
            "\n",
            "  0%|          | 0/1 [00:00<?, ?it/s]\u001b[A\n",
            "100%|██████████| 1/1 [00:00<00:00,  2.54it/s]\n",
            " 25%|██▌       | 1/4 [00:01<00:05,  1.98s/it]"
          ],
          "name": "stderr"
        },
        {
          "output_type": "stream",
          "text": [
            "Validation Loss of step 33 is 18.94852066040039\n",
            "Train Loss of step 34 is  5.356412657420151e-06\n"
          ],
          "name": "stdout"
        },
        {
          "output_type": "stream",
          "text": [
            "\n",
            "  0%|          | 0/1 [00:00<?, ?it/s]\u001b[A\n",
            "100%|██████████| 1/1 [00:00<00:00,  3.75it/s]\n",
            " 50%|█████     | 2/4 [00:02<00:03,  1.54s/it]"
          ],
          "name": "stderr"
        },
        {
          "output_type": "stream",
          "text": [
            "Validation Loss of step 34 is 14.591034889221191\n",
            "Train Loss of step 35 is  1.8626446163239052e-08\n"
          ],
          "name": "stdout"
        },
        {
          "output_type": "stream",
          "text": [
            "\n",
            "  0%|          | 0/1 [00:00<?, ?it/s]\u001b[A\n",
            "100%|██████████| 1/1 [00:00<00:00,  3.61it/s]\n",
            " 75%|███████▌  | 3/4 [00:02<00:01,  1.23s/it]"
          ],
          "name": "stderr"
        },
        {
          "output_type": "stream",
          "text": [
            "Validation Loss of step 35 is 19.947750091552734\n",
            "Train Loss of step 36 is  4.4151584610574446e-09\n"
          ],
          "name": "stdout"
        },
        {
          "output_type": "stream",
          "text": [
            "\n",
            "  0%|          | 0/1 [00:00<?, ?it/s]\u001b[A\n",
            "100%|██████████| 1/1 [00:00<00:00,  3.74it/s]\n",
            "100%|██████████| 4/4 [00:03<00:00,  1.12it/s]"
          ],
          "name": "stderr"
        },
        {
          "output_type": "stream",
          "text": [
            "Validation Loss of step 36 is 10.023812294006348\n",
            "Saving model at epoch 8, step 36\n",
            "epoch 9 started\n"
          ],
          "name": "stdout"
        },
        {
          "output_type": "stream",
          "text": [
            "\n",
            "  0%|          | 0/4 [00:00<?, ?it/s]"
          ],
          "name": "stderr"
        },
        {
          "output_type": "stream",
          "text": [
            "Train Loss of step 37 is  5.026793587603606e-06\n"
          ],
          "name": "stdout"
        },
        {
          "output_type": "stream",
          "text": [
            "\n",
            "  0%|          | 0/1 [00:00<?, ?it/s]\u001b[A\n",
            "100%|██████████| 1/1 [00:00<00:00,  2.66it/s]\n",
            " 25%|██▌       | 1/4 [00:01<00:05,  1.99s/it]"
          ],
          "name": "stderr"
        },
        {
          "output_type": "stream",
          "text": [
            "Validation Loss of step 37 is 15.774577140808105\n",
            "Train Loss of step 38 is  9.482765017310157e-05\n"
          ],
          "name": "stdout"
        },
        {
          "output_type": "stream",
          "text": [
            "\n",
            "  0%|          | 0/1 [00:00<?, ?it/s]\u001b[A\n",
            "100%|██████████| 1/1 [00:00<00:00,  3.71it/s]\n",
            " 50%|█████     | 2/4 [00:02<00:03,  1.55s/it]"
          ],
          "name": "stderr"
        },
        {
          "output_type": "stream",
          "text": [
            "Validation Loss of step 38 is 19.048498153686523\n",
            "Train Loss of step 39 is  4.247225297149271e-05\n"
          ],
          "name": "stdout"
        },
        {
          "output_type": "stream",
          "text": [
            "\n",
            "  0%|          | 0/1 [00:00<?, ?it/s]\u001b[A\n",
            "100%|██████████| 1/1 [00:00<00:00,  3.73it/s]\n",
            " 75%|███████▌  | 3/4 [00:02<00:01,  1.23s/it]"
          ],
          "name": "stderr"
        },
        {
          "output_type": "stream",
          "text": [
            "Validation Loss of step 39 is 17.06312370300293\n",
            "Train Loss of step 40 is  0.0118564423173666\n"
          ],
          "name": "stdout"
        },
        {
          "output_type": "stream",
          "text": [
            "\n",
            "  0%|          | 0/1 [00:00<?, ?it/s]\u001b[A\n",
            "100%|██████████| 1/1 [00:00<00:00,  3.71it/s]\n",
            "100%|██████████| 4/4 [00:03<00:00,  1.14it/s]"
          ],
          "name": "stderr"
        },
        {
          "output_type": "stream",
          "text": [
            "Validation Loss of step 40 is 14.678593635559082\n",
            "epoch 10 started\n"
          ],
          "name": "stdout"
        },
        {
          "output_type": "stream",
          "text": [
            "\n",
            "  0%|          | 0/4 [00:00<?, ?it/s]"
          ],
          "name": "stderr"
        },
        {
          "output_type": "stream",
          "text": [
            "Train Loss of step 41 is  3.725290076417309e-09\n"
          ],
          "name": "stdout"
        },
        {
          "output_type": "stream",
          "text": [
            "\n",
            "  0%|          | 0/1 [00:00<?, ?it/s]\u001b[A\n",
            "100%|██████████| 1/1 [00:00<00:00,  2.08it/s]\n",
            " 25%|██▌       | 1/4 [00:01<00:04,  1.63s/it]"
          ],
          "name": "stderr"
        },
        {
          "output_type": "stream",
          "text": [
            "Validation Loss of step 41 is 17.7066707611084\n",
            "Train Loss of step 42 is  2.1047789289241337e-07\n"
          ],
          "name": "stdout"
        },
        {
          "output_type": "stream",
          "text": [
            "\n",
            "  0%|          | 0/1 [00:00<?, ?it/s]\u001b[A\n",
            "100%|██████████| 1/1 [00:00<00:00,  2.27it/s]\n",
            " 50%|█████     | 2/4 [00:02<00:02,  1.36s/it]"
          ],
          "name": "stderr"
        },
        {
          "output_type": "stream",
          "text": [
            "Validation Loss of step 42 is 16.646390914916992\n",
            "Train Loss of step 43 is  9.257072406398947e-07\n"
          ],
          "name": "stdout"
        },
        {
          "output_type": "stream",
          "text": [
            "\n",
            "  0%|          | 0/1 [00:00<?, ?it/s]\u001b[A\n",
            "100%|██████████| 1/1 [00:00<00:00,  3.41it/s]\n",
            " 75%|███████▌  | 3/4 [00:02<00:01,  1.10s/it]"
          ],
          "name": "stderr"
        },
        {
          "output_type": "stream",
          "text": [
            "Validation Loss of step 43 is 14.150466918945312\n",
            "Train Loss of step 44 is  2.4283357547005835e-08\n"
          ],
          "name": "stdout"
        },
        {
          "output_type": "stream",
          "text": [
            "\n",
            "  0%|          | 0/1 [00:00<?, ?it/s]\u001b[A\n",
            "100%|██████████| 1/1 [00:00<00:00,  3.62it/s]\n",
            "100%|██████████| 4/4 [00:03<00:00,  1.17it/s]"
          ],
          "name": "stderr"
        },
        {
          "output_type": "stream",
          "text": [
            "Validation Loss of step 44 is 15.669244766235352\n",
            "epoch 11 started\n"
          ],
          "name": "stdout"
        },
        {
          "output_type": "stream",
          "text": [
            "\n",
            "  0%|          | 0/4 [00:00<?, ?it/s]"
          ],
          "name": "stderr"
        },
        {
          "output_type": "stream",
          "text": [
            "Train Loss of step 45 is  3.166493556250316e-08\n"
          ],
          "name": "stdout"
        },
        {
          "output_type": "stream",
          "text": [
            "\n",
            "  0%|          | 0/1 [00:00<?, ?it/s]\u001b[A\n",
            "100%|██████████| 1/1 [00:00<00:00,  2.86it/s]\n",
            " 25%|██▌       | 1/4 [00:01<00:05,  1.97s/it]"
          ],
          "name": "stderr"
        },
        {
          "output_type": "stream",
          "text": [
            "Validation Loss of step 45 is 12.715225219726562\n",
            "Train Loss of step 46 is  0.0\n"
          ],
          "name": "stdout"
        },
        {
          "output_type": "stream",
          "text": [
            "\n",
            "  0%|          | 0/1 [00:00<?, ?it/s]\u001b[A\n",
            "100%|██████████| 1/1 [00:00<00:00,  3.75it/s]\n",
            " 50%|█████     | 2/4 [00:02<00:03,  1.52s/it]"
          ],
          "name": "stderr"
        },
        {
          "output_type": "stream",
          "text": [
            "Validation Loss of step 46 is 16.767135620117188\n",
            "Train Loss of step 47 is  3.7625022741849534e-07\n"
          ],
          "name": "stdout"
        },
        {
          "output_type": "stream",
          "text": [
            "\n",
            "  0%|          | 0/1 [00:00<?, ?it/s]\u001b[A\n",
            "100%|██████████| 1/1 [00:00<00:00,  3.71it/s]\n",
            " 75%|███████▌  | 3/4 [00:02<00:01,  1.21s/it]"
          ],
          "name": "stderr"
        },
        {
          "output_type": "stream",
          "text": [
            "Validation Loss of step 47 is 19.386381149291992\n",
            "Train Loss of step 48 is  2.2075792305287223e-09\n"
          ],
          "name": "stdout"
        },
        {
          "output_type": "stream",
          "text": [
            "\n",
            "  0%|          | 0/1 [00:00<?, ?it/s]\u001b[A\n",
            "100%|██████████| 1/1 [00:00<00:00,  3.72it/s]\n",
            "100%|██████████| 4/4 [00:03<00:00,  1.15it/s]"
          ],
          "name": "stderr"
        },
        {
          "output_type": "stream",
          "text": [
            "Validation Loss of step 48 is 14.219259262084961\n",
            "epoch 12 started\n",
            "SGD (\n",
            "Parameter Group 0\n",
            "    dampening: 0\n",
            "    lr: 0.0001\n",
            "    momentum: 0.9\n",
            "    nesterov: False\n",
            "    weight_decay: 4e-05\n",
            "\n",
            "Parameter Group 1\n",
            "    dampening: 0\n",
            "    lr: 0.0001\n",
            "    momentum: 0.9\n",
            "    nesterov: False\n",
            "    weight_decay: 0.0004\n",
            "\n",
            "Parameter Group 2\n",
            "    dampening: 0\n",
            "    lr: 0.0001\n",
            "    momentum: 0.9\n",
            "    nesterov: False\n",
            "    weight_decay: 0\n",
            ")\n"
          ],
          "name": "stdout"
        },
        {
          "output_type": "stream",
          "text": [
            "\n",
            "  0%|          | 0/4 [00:00<?, ?it/s]"
          ],
          "name": "stderr"
        },
        {
          "output_type": "stream",
          "text": [
            "Train Loss of step 49 is  3.16649462206442e-08\n"
          ],
          "name": "stdout"
        },
        {
          "output_type": "stream",
          "text": [
            "\n",
            "  0%|          | 0/1 [00:00<?, ?it/s]\u001b[A\n",
            "100%|██████████| 1/1 [00:00<00:00,  2.77it/s]\n",
            " 25%|██▌       | 1/4 [00:02<00:06,  2.02s/it]"
          ],
          "name": "stderr"
        },
        {
          "output_type": "stream",
          "text": [
            "Validation Loss of step 49 is 13.261429786682129\n",
            "Train Loss of step 50 is  5.736841899306455e-07\n"
          ],
          "name": "stdout"
        },
        {
          "output_type": "stream",
          "text": [
            "\n",
            "  0%|          | 0/1 [00:00<?, ?it/s]\u001b[A\n",
            "100%|██████████| 1/1 [00:00<00:00,  3.74it/s]\n",
            " 50%|█████     | 2/4 [00:02<00:03,  1.57s/it]"
          ],
          "name": "stderr"
        },
        {
          "output_type": "stream",
          "text": [
            "Validation Loss of step 50 is 18.198657989501953\n",
            "Train Loss of step 51 is  7.450578820566989e-09\n"
          ],
          "name": "stdout"
        },
        {
          "output_type": "stream",
          "text": [
            "\n",
            "  0%|          | 0/1 [00:00<?, ?it/s]\u001b[A\n",
            "100%|██████████| 1/1 [00:00<00:00,  3.60it/s]\n",
            " 75%|███████▌  | 3/4 [00:03<00:01,  1.24s/it]"
          ],
          "name": "stderr"
        },
        {
          "output_type": "stream",
          "text": [
            "Validation Loss of step 51 is 16.597158432006836\n",
            "Train Loss of step 52 is  0.00023271699319593608\n"
          ],
          "name": "stdout"
        },
        {
          "output_type": "stream",
          "text": [
            "\n",
            "  0%|          | 0/1 [00:00<?, ?it/s]\u001b[A\n",
            "100%|██████████| 1/1 [00:00<00:00,  3.65it/s]\n",
            "100%|██████████| 4/4 [00:03<00:00,  1.13it/s]"
          ],
          "name": "stderr"
        },
        {
          "output_type": "stream",
          "text": [
            "Validation Loss of step 52 is 10.708102226257324\n",
            "epoch 13 started\n"
          ],
          "name": "stdout"
        },
        {
          "output_type": "stream",
          "text": [
            "\n",
            "  0%|          | 0/4 [00:00<?, ?it/s]"
          ],
          "name": "stderr"
        },
        {
          "output_type": "stream",
          "text": [
            "Train Loss of step 53 is  1.8626450382086546e-09\n"
          ],
          "name": "stdout"
        },
        {
          "output_type": "stream",
          "text": [
            "\n",
            "  0%|          | 0/1 [00:00<?, ?it/s]\u001b[A\n",
            "100%|██████████| 1/1 [00:00<00:00,  2.59it/s]\n",
            " 25%|██▌       | 1/4 [00:01<00:05,  1.81s/it]"
          ],
          "name": "stderr"
        },
        {
          "output_type": "stream",
          "text": [
            "Validation Loss of step 53 is 19.10453224182129\n",
            "Train Loss of step 54 is  3.725290076417309e-09\n"
          ],
          "name": "stdout"
        },
        {
          "output_type": "stream",
          "text": [
            "\n",
            "  0%|          | 0/1 [00:00<?, ?it/s]\u001b[A\n",
            "100%|██████████| 1/1 [00:00<00:00,  3.51it/s]\n",
            " 50%|█████     | 2/4 [00:02<00:02,  1.43s/it]"
          ],
          "name": "stderr"
        },
        {
          "output_type": "stream",
          "text": [
            "Validation Loss of step 54 is 14.250300407409668\n",
            "Train Loss of step 55 is  0.0\n"
          ],
          "name": "stdout"
        },
        {
          "output_type": "stream",
          "text": [
            "\n",
            "  0%|          | 0/1 [00:00<?, ?it/s]\u001b[A\n",
            "100%|██████████| 1/1 [00:00<00:00,  3.57it/s]\n",
            " 75%|███████▌  | 3/4 [00:02<00:01,  1.15s/it]"
          ],
          "name": "stderr"
        },
        {
          "output_type": "stream",
          "text": [
            "Validation Loss of step 55 is 14.89798641204834\n",
            "Train Loss of step 56 is  1.5453050394853562e-08\n"
          ],
          "name": "stdout"
        },
        {
          "output_type": "stream",
          "text": [
            "\n",
            "  0%|          | 0/1 [00:00<?, ?it/s]\u001b[A\n",
            "100%|██████████| 1/1 [00:00<00:00,  3.52it/s]\n",
            "100%|██████████| 4/4 [00:03<00:00,  1.17it/s]"
          ],
          "name": "stderr"
        },
        {
          "output_type": "stream",
          "text": [
            "Validation Loss of step 56 is 16.700672149658203\n",
            "epoch 14 started\n"
          ],
          "name": "stdout"
        },
        {
          "output_type": "stream",
          "text": [
            "\n",
            "  0%|          | 0/4 [00:00<?, ?it/s]"
          ],
          "name": "stderr"
        },
        {
          "output_type": "stream",
          "text": [
            "Train Loss of step 57 is  7.432466372847557e-05\n"
          ],
          "name": "stdout"
        },
        {
          "output_type": "stream",
          "text": [
            "\n",
            "  0%|          | 0/1 [00:00<?, ?it/s]\u001b[A\n",
            "100%|██████████| 1/1 [00:00<00:00,  2.26it/s]\n",
            " 25%|██▌       | 1/4 [00:01<00:05,  1.88s/it]"
          ],
          "name": "stderr"
        },
        {
          "output_type": "stream",
          "text": [
            "Validation Loss of step 57 is 18.077669143676758\n",
            "Train Loss of step 58 is  9.313223081619526e-09\n"
          ],
          "name": "stdout"
        },
        {
          "output_type": "stream",
          "text": [
            "\n",
            "  0%|          | 0/1 [00:00<?, ?it/s]\u001b[A\n",
            "100%|██████████| 1/1 [00:00<00:00,  3.67it/s]\n",
            " 50%|█████     | 2/4 [00:02<00:02,  1.48s/it]"
          ],
          "name": "stderr"
        },
        {
          "output_type": "stream",
          "text": [
            "Validation Loss of step 58 is 9.691527366638184\n",
            "Saving model at epoch 14, step 58\n",
            "Train Loss of step 59 is  0.04374367371201515\n"
          ],
          "name": "stdout"
        },
        {
          "output_type": "stream",
          "text": [
            "\n",
            "  0%|          | 0/1 [00:00<?, ?it/s]\u001b[A\n",
            "100%|██████████| 1/1 [00:00<00:00,  3.76it/s]\n",
            " 75%|███████▌  | 3/4 [00:02<00:01,  1.18s/it]"
          ],
          "name": "stderr"
        },
        {
          "output_type": "stream",
          "text": [
            "Validation Loss of step 59 is 10.888113975524902\n",
            "Train Loss of step 60 is  8.245171920862049e-05\n"
          ],
          "name": "stdout"
        },
        {
          "output_type": "stream",
          "text": [
            "\n",
            "  0%|          | 0/1 [00:00<?, ?it/s]\u001b[A\n",
            "100%|██████████| 1/1 [00:00<00:00,  3.84it/s]\n",
            "100%|██████████| 4/4 [00:03<00:00,  1.16it/s]"
          ],
          "name": "stderr"
        },
        {
          "output_type": "stream",
          "text": [
            "Validation Loss of step 60 is 12.68409538269043\n",
            "epoch 15 started\n",
            "SGD (\n",
            "Parameter Group 0\n",
            "    dampening: 0\n",
            "    lr: 1e-05\n",
            "    momentum: 0.9\n",
            "    nesterov: False\n",
            "    weight_decay: 4e-05\n",
            "\n",
            "Parameter Group 1\n",
            "    dampening: 0\n",
            "    lr: 1e-05\n",
            "    momentum: 0.9\n",
            "    nesterov: False\n",
            "    weight_decay: 0.0004\n",
            "\n",
            "Parameter Group 2\n",
            "    dampening: 0\n",
            "    lr: 1e-05\n",
            "    momentum: 0.9\n",
            "    nesterov: False\n",
            "    weight_decay: 0\n",
            ")\n"
          ],
          "name": "stdout"
        },
        {
          "output_type": "stream",
          "text": [
            "\n",
            "  0%|          | 0/4 [00:00<?, ?it/s]"
          ],
          "name": "stderr"
        },
        {
          "output_type": "stream",
          "text": [
            "Train Loss of step 61 is  0.0\n"
          ],
          "name": "stdout"
        },
        {
          "output_type": "stream",
          "text": [
            "\n",
            "  0%|          | 0/1 [00:00<?, ?it/s]\u001b[A\n",
            "100%|██████████| 1/1 [00:00<00:00,  2.15it/s]\n",
            " 25%|██▌       | 1/4 [00:01<00:05,  1.85s/it]"
          ],
          "name": "stderr"
        },
        {
          "output_type": "stream",
          "text": [
            "Validation Loss of step 61 is 18.8761043548584\n",
            "Train Loss of step 62 is  3.31547312271141e-07\n"
          ],
          "name": "stdout"
        },
        {
          "output_type": "stream",
          "text": [
            "\n",
            "  0%|          | 0/1 [00:00<?, ?it/s]\u001b[A\n",
            "100%|██████████| 1/1 [00:00<00:00,  3.69it/s]\n",
            " 50%|█████     | 2/4 [00:02<00:02,  1.46s/it]"
          ],
          "name": "stderr"
        },
        {
          "output_type": "stream",
          "text": [
            "Validation Loss of step 62 is 15.831222534179688\n",
            "Train Loss of step 63 is  0.09404794126749039\n"
          ],
          "name": "stdout"
        },
        {
          "output_type": "stream",
          "text": [
            "\n",
            "  0%|          | 0/1 [00:00<?, ?it/s]\u001b[A\n",
            "100%|██████████| 1/1 [00:00<00:00,  3.72it/s]\n",
            " 75%|███████▌  | 3/4 [00:02<00:01,  1.17s/it]"
          ],
          "name": "stderr"
        },
        {
          "output_type": "stream",
          "text": [
            "Validation Loss of step 63 is 11.622533798217773\n",
            "Train Loss of step 64 is  2.2075792305287223e-09\n"
          ],
          "name": "stdout"
        },
        {
          "output_type": "stream",
          "text": [
            "\n",
            "  0%|          | 0/1 [00:00<?, ?it/s]\u001b[A\n",
            "100%|██████████| 1/1 [00:00<00:00,  3.51it/s]\n",
            "100%|██████████| 4/4 [00:03<00:00,  1.16it/s]"
          ],
          "name": "stderr"
        },
        {
          "output_type": "stream",
          "text": [
            "Validation Loss of step 64 is 17.317903518676758\n",
            "epoch 16 started\n"
          ],
          "name": "stdout"
        },
        {
          "output_type": "stream",
          "text": [
            "\n",
            "  0%|          | 0/4 [00:00<?, ?it/s]"
          ],
          "name": "stderr"
        },
        {
          "output_type": "stream",
          "text": [
            "Train Loss of step 65 is  1.8626446163239052e-08\n"
          ],
          "name": "stdout"
        },
        {
          "output_type": "stream",
          "text": [
            "\n",
            "  0%|          | 0/1 [00:00<?, ?it/s]\u001b[A\n",
            "100%|██████████| 1/1 [00:00<00:00,  2.43it/s]\n",
            " 25%|██▌       | 1/4 [00:01<00:05,  1.70s/it]"
          ],
          "name": "stderr"
        },
        {
          "output_type": "stream",
          "text": [
            "Validation Loss of step 65 is 18.47568702697754\n",
            "Train Loss of step 66 is  5.587935003603661e-09\n"
          ],
          "name": "stdout"
        },
        {
          "output_type": "stream",
          "text": [
            "\n",
            "  0%|          | 0/1 [00:00<?, ?it/s]\u001b[A\n",
            "100%|██████████| 1/1 [00:00<00:00,  2.69it/s]\n",
            " 50%|█████     | 2/4 [00:02<00:02,  1.38s/it]"
          ],
          "name": "stderr"
        },
        {
          "output_type": "stream",
          "text": [
            "Validation Loss of step 66 is 16.314950942993164\n",
            "Train Loss of step 67 is  9.313223969797946e-09\n"
          ],
          "name": "stdout"
        },
        {
          "output_type": "stream",
          "text": [
            "\n",
            "  0%|          | 0/1 [00:00<?, ?it/s]\u001b[A\n",
            "100%|██████████| 1/1 [00:00<00:00,  3.57it/s]\n",
            " 75%|███████▌  | 3/4 [00:02<00:01,  1.11s/it]"
          ],
          "name": "stderr"
        },
        {
          "output_type": "stream",
          "text": [
            "Validation Loss of step 67 is 14.378317832946777\n",
            "Train Loss of step 68 is  6.181213052514067e-08\n"
          ],
          "name": "stdout"
        },
        {
          "output_type": "stream",
          "text": [
            "\n",
            "  0%|          | 0/1 [00:00<?, ?it/s]\u001b[A\n",
            "100%|██████████| 1/1 [00:00<00:00,  3.74it/s]\n",
            "100%|██████████| 4/4 [00:03<00:00,  1.19it/s]"
          ],
          "name": "stderr"
        },
        {
          "output_type": "stream",
          "text": [
            "Validation Loss of step 68 is 14.842694282531738\n",
            "epoch 17 started\n"
          ],
          "name": "stdout"
        },
        {
          "output_type": "stream",
          "text": [
            "\n",
            "  0%|          | 0/4 [00:00<?, ?it/s]"
          ],
          "name": "stderr"
        },
        {
          "output_type": "stream",
          "text": [
            "Train Loss of step 69 is  0.02367951162159443\n"
          ],
          "name": "stdout"
        },
        {
          "output_type": "stream",
          "text": [
            "\n",
            "  0%|          | 0/1 [00:00<?, ?it/s]\u001b[A\n",
            "100%|██████████| 1/1 [00:00<00:00,  2.23it/s]\n",
            " 25%|██▌       | 1/4 [00:01<00:05,  1.89s/it]"
          ],
          "name": "stderr"
        },
        {
          "output_type": "stream",
          "text": [
            "Validation Loss of step 69 is 11.208864212036133\n",
            "Train Loss of step 70 is  4.284077803617947e-08\n"
          ],
          "name": "stdout"
        },
        {
          "output_type": "stream",
          "text": [
            "\n",
            "  0%|          | 0/1 [00:00<?, ?it/s]\u001b[A\n",
            "100%|██████████| 1/1 [00:00<00:00,  3.42it/s]\n",
            " 50%|█████     | 2/4 [00:02<00:02,  1.49s/it]"
          ],
          "name": "stderr"
        },
        {
          "output_type": "stream",
          "text": [
            "Validation Loss of step 70 is 14.59434700012207\n",
            "Train Loss of step 71 is  1.8626450382086546e-09\n"
          ],
          "name": "stdout"
        },
        {
          "output_type": "stream",
          "text": [
            "\n",
            "  0%|          | 0/1 [00:00<?, ?it/s]\u001b[A\n",
            "100%|██████████| 1/1 [00:00<00:00,  3.54it/s]\n",
            " 75%|███████▌  | 3/4 [00:02<00:01,  1.19s/it]"
          ],
          "name": "stderr"
        },
        {
          "output_type": "stream",
          "text": [
            "Validation Loss of step 71 is 16.147897720336914\n",
            "Train Loss of step 72 is  1.0596367872039991e-07\n"
          ],
          "name": "stdout"
        },
        {
          "output_type": "stream",
          "text": [
            "\n",
            "  0%|          | 0/1 [00:00<?, ?it/s]\u001b[A\n",
            "100%|██████████| 1/1 [00:00<00:00,  3.64it/s]\n",
            "100%|██████████| 4/4 [00:03<00:00,  1.14it/s]"
          ],
          "name": "stderr"
        },
        {
          "output_type": "stream",
          "text": [
            "Validation Loss of step 72 is 13.733110427856445\n",
            "epoch 18 started\n",
            "SGD (\n",
            "Parameter Group 0\n",
            "    dampening: 0\n",
            "    lr: 1.0000000000000002e-06\n",
            "    momentum: 0.9\n",
            "    nesterov: False\n",
            "    weight_decay: 4e-05\n",
            "\n",
            "Parameter Group 1\n",
            "    dampening: 0\n",
            "    lr: 1.0000000000000002e-06\n",
            "    momentum: 0.9\n",
            "    nesterov: False\n",
            "    weight_decay: 0.0004\n",
            "\n",
            "Parameter Group 2\n",
            "    dampening: 0\n",
            "    lr: 1.0000000000000002e-06\n",
            "    momentum: 0.9\n",
            "    nesterov: False\n",
            "    weight_decay: 0\n",
            ")\n"
          ],
          "name": "stdout"
        },
        {
          "output_type": "stream",
          "text": [
            "\n",
            "  0%|          | 0/4 [00:00<?, ?it/s]"
          ],
          "name": "stderr"
        },
        {
          "output_type": "stream",
          "text": [
            "Train Loss of step 73 is  1.1362112672941294e-07\n"
          ],
          "name": "stdout"
        },
        {
          "output_type": "stream",
          "text": [
            "\n",
            "  0%|          | 0/1 [00:00<?, ?it/s]\u001b[A\n",
            "100%|██████████| 1/1 [00:00<00:00,  2.64it/s]\n",
            " 25%|██▌       | 1/4 [00:01<00:05,  1.97s/it]"
          ],
          "name": "stderr"
        },
        {
          "output_type": "stream",
          "text": [
            "Validation Loss of step 73 is 18.05353355407715\n",
            "Train Loss of step 74 is  1.8626450382086546e-09\n"
          ],
          "name": "stdout"
        },
        {
          "output_type": "stream",
          "text": [
            "\n",
            "  0%|          | 0/1 [00:00<?, ?it/s]\u001b[A\n",
            "100%|██████████| 1/1 [00:00<00:00,  3.34it/s]\n",
            " 50%|█████     | 2/4 [00:02<00:03,  1.53s/it]"
          ],
          "name": "stderr"
        },
        {
          "output_type": "stream",
          "text": [
            "Validation Loss of step 74 is 18.15074348449707\n",
            "Train Loss of step 75 is  0.000170051513123326\n"
          ],
          "name": "stdout"
        },
        {
          "output_type": "stream",
          "text": [
            "\n",
            "  0%|          | 0/1 [00:00<?, ?it/s]\u001b[A\n",
            "100%|██████████| 1/1 [00:00<00:00,  3.43it/s]\n",
            " 75%|███████▌  | 3/4 [00:02<00:01,  1.23s/it]"
          ],
          "name": "stderr"
        },
        {
          "output_type": "stream",
          "text": [
            "Validation Loss of step 75 is 15.278250694274902\n",
            "Train Loss of step 76 is  5.96045488521213e-08\n"
          ],
          "name": "stdout"
        },
        {
          "output_type": "stream",
          "text": [
            "\n",
            "  0%|          | 0/1 [00:00<?, ?it/s]\u001b[A\n",
            "100%|██████████| 1/1 [00:00<00:00,  3.60it/s]\n",
            "100%|██████████| 4/4 [00:03<00:00,  1.13it/s]"
          ],
          "name": "stderr"
        },
        {
          "output_type": "stream",
          "text": [
            "Validation Loss of step 76 is 14.530105590820312\n",
            "epoch 19 started\n"
          ],
          "name": "stdout"
        },
        {
          "output_type": "stream",
          "text": [
            "\n",
            "  0%|          | 0/4 [00:00<?, ?it/s]"
          ],
          "name": "stderr"
        },
        {
          "output_type": "stream",
          "text": [
            "Train Loss of step 77 is  3.354273758304771e-06\n"
          ],
          "name": "stdout"
        },
        {
          "output_type": "stream",
          "text": [
            "\n",
            "  0%|          | 0/1 [00:00<?, ?it/s]\u001b[A\n",
            "100%|██████████| 1/1 [00:00<00:00,  2.35it/s]\n",
            " 25%|██▌       | 1/4 [00:01<00:05,  1.88s/it]"
          ],
          "name": "stderr"
        },
        {
          "output_type": "stream",
          "text": [
            "Validation Loss of step 77 is 14.573517799377441\n",
            "Train Loss of step 78 is  3.7438829281200015e-07\n"
          ],
          "name": "stdout"
        },
        {
          "output_type": "stream",
          "text": [
            "\n",
            "  0%|          | 0/1 [00:00<?, ?it/s]\u001b[A\n",
            "100%|██████████| 1/1 [00:00<00:00,  3.59it/s]\n",
            " 50%|█████     | 2/4 [00:02<00:02,  1.48s/it]"
          ],
          "name": "stderr"
        },
        {
          "output_type": "stream",
          "text": [
            "Validation Loss of step 78 is 11.800127029418945\n",
            "Train Loss of step 79 is  0.0\n"
          ],
          "name": "stdout"
        },
        {
          "output_type": "stream",
          "text": [
            "\n",
            "  0%|          | 0/1 [00:00<?, ?it/s]\u001b[A\n",
            "100%|██████████| 1/1 [00:00<00:00,  3.12it/s]\n",
            " 75%|███████▌  | 3/4 [00:03<00:01,  1.22s/it]"
          ],
          "name": "stderr"
        },
        {
          "output_type": "stream",
          "text": [
            "Validation Loss of step 79 is 9.563352584838867\n",
            "Saving model at epoch 19, step 79\n",
            "Train Loss of step 80 is  2.4283362876076353e-08\n"
          ],
          "name": "stdout"
        },
        {
          "output_type": "stream",
          "text": [
            "\n",
            "  0%|          | 0/1 [00:00<?, ?it/s]\u001b[A\n",
            "100%|██████████| 1/1 [00:00<00:00,  3.42it/s]\n",
            "100%|██████████| 4/4 [00:03<00:00,  1.11it/s]"
          ],
          "name": "stderr"
        },
        {
          "output_type": "stream",
          "text": [
            "Validation Loss of step 80 is 16.236162185668945\n"
          ],
          "name": "stdout"
        },
        {
          "output_type": "stream",
          "text": [
            "\n"
          ],
          "name": "stderr"
        }
      ]
    },
    {
      "cell_type": "code",
      "metadata": {
        "id": "Cl__dFdt-W-w"
      },
      "source": [
        "loss_bank = []"
      ],
      "execution_count": 87,
      "outputs": []
    },
    {
      "cell_type": "code",
      "metadata": {
        "colab": {
          "base_uri": "https://localhost:8080/"
        },
        "id": "I9WCuonXF7BY",
        "outputId": "f195990b-bbef-49e6-af2d-26265babf370"
      },
      "source": [
        "if not len(loss_bank):\n",
        "  print('yes')"
      ],
      "execution_count": 72,
      "outputs": [
        {
          "output_type": "stream",
          "text": [
            "yes\n"
          ],
          "name": "stdout"
        }
      ]
    },
    {
      "cell_type": "code",
      "metadata": {
        "id": "VLdeTDD1yLXb"
      },
      "source": [
        "learner.board_loss_every"
      ],
      "execution_count": null,
      "outputs": []
    },
    {
      "cell_type": "code",
      "metadata": {
        "colab": {
          "base_uri": "https://localhost:8080/",
          "height": 180
        },
        "id": "LhSfZi057LZT",
        "outputId": "12103431-151a-4238-8532-735a1aee2de0"
      },
      "source": [
        "img = p\n",
        "mobilefacenet_model()"
      ],
      "execution_count": null,
      "outputs": [
        {
          "output_type": "error",
          "ename": "NameError",
          "evalue": "ignored",
          "traceback": [
            "\u001b[0;31m---------------------------------------------------------------------------\u001b[0m",
            "\u001b[0;31mNameError\u001b[0m                                 Traceback (most recent call last)",
            "\u001b[0;32m<ipython-input-50-bcf72ce9f7ee>\u001b[0m in \u001b[0;36m<module>\u001b[0;34m()\u001b[0m\n\u001b[0;32m----> 1\u001b[0;31m \u001b[0mimg\u001b[0m \u001b[0;34m=\u001b[0m \u001b[0mp\u001b[0m\u001b[0;34m\u001b[0m\u001b[0;34m\u001b[0m\u001b[0m\n\u001b[0m\u001b[1;32m      2\u001b[0m \u001b[0mmobilefacenet_model\u001b[0m\u001b[0;34m(\u001b[0m\u001b[0;34m)\u001b[0m\u001b[0;34m\u001b[0m\u001b[0;34m\u001b[0m\u001b[0m\n",
            "\u001b[0;31mNameError\u001b[0m: name 'p' is not defined"
          ]
        }
      ]
    },
    {
      "cell_type": "code",
      "metadata": {
        "id": "VR-87eZCqAgH"
      },
      "source": [
        "import pickle"
      ],
      "execution_count": null,
      "outputs": []
    },
    {
      "cell_type": "code",
      "metadata": {
        "colab": {
          "base_uri": "https://localhost:8080/",
          "height": 197
        },
        "id": "Gw2SFno9qCEM",
        "outputId": "e962fda5-db95-45bb-c998-a4209d8c7b59"
      },
      "source": [
        "pickle.load(open('/content/gdrive/MyDrive/Kaggle Avengers face dataset/Marvels_face_dataset/chris_evans/chris_evans1.png','rb'),encoding ='bytes')"
      ],
      "execution_count": null,
      "outputs": [
        {
          "output_type": "error",
          "ename": "UnpicklingError",
          "evalue": "ignored",
          "traceback": [
            "\u001b[0;31m---------------------------------------------------------------------------\u001b[0m",
            "\u001b[0;31mUnpicklingError\u001b[0m                           Traceback (most recent call last)",
            "\u001b[0;32m<ipython-input-95-c50fa370baba>\u001b[0m in \u001b[0;36m<module>\u001b[0;34m()\u001b[0m\n\u001b[0;32m----> 1\u001b[0;31m \u001b[0mpickle\u001b[0m\u001b[0;34m.\u001b[0m\u001b[0mload\u001b[0m\u001b[0;34m(\u001b[0m\u001b[0mopen\u001b[0m\u001b[0;34m(\u001b[0m\u001b[0;34m'/content/gdrive/MyDrive/Kaggle Avengers face dataset/Marvels_face_dataset/chris_evans/chris_evans1.png'\u001b[0m\u001b[0;34m,\u001b[0m\u001b[0;34m'rb'\u001b[0m\u001b[0;34m)\u001b[0m\u001b[0;34m,\u001b[0m\u001b[0mencoding\u001b[0m \u001b[0;34m=\u001b[0m\u001b[0;34m'bytes'\u001b[0m\u001b[0;34m)\u001b[0m\u001b[0;34m\u001b[0m\u001b[0;34m\u001b[0m\u001b[0m\n\u001b[0m",
            "\u001b[0;31mUnpicklingError\u001b[0m: A load persistent id instruction was encountered,\nbut no persistent_load function was specified."
          ]
        }
      ]
    },
    {
      "cell_type": "code",
      "metadata": {
        "id": "wfNnRpGgqb9P"
      },
      "source": [
        ""
      ],
      "execution_count": null,
      "outputs": []
    }
  ]
}